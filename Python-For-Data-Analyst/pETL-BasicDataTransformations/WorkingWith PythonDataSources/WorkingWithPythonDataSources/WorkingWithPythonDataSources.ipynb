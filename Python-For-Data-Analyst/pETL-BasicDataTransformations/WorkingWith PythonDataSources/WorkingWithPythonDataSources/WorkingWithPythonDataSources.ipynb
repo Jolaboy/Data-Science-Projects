{
 "cells": [
  {
   "cell_type": "code",
   "execution_count": 1,
   "metadata": {},
   "outputs": [],
   "source": [
    "import numpy as np\n",
    "import petl as etl\n",
    "import pandas as pd"
   ]
  },
  {
   "cell_type": "markdown",
   "metadata": {},
   "source": [
    "second column is engine size , third column is hp"
   ]
  },
  {
   "cell_type": "markdown",
   "metadata": {},
   "source": [
    "https://www.kaggle.com/toramky/automobile-dataset"
   ]
  },
  {
   "cell_type": "code",
   "execution_count": 2,
   "metadata": {},
   "outputs": [],
   "source": [
    "cars = np.array([('audi', 109, 102), \n",
    "                 ('bmw', 108, 101),\n",
    "                 ('chevrolet', 61, 48)],\n",
    "                  dtype='U8, i4, i4')"
   ]
  },
  {
   "cell_type": "code",
   "execution_count": 3,
   "metadata": {},
   "outputs": [],
   "source": [
    "cars_table = etl.fromarray(cars)"
   ]
  },
  {
   "cell_type": "code",
   "execution_count": 8,
   "metadata": {},
   "outputs": [
    {
     "data": {
      "text/html": [
       "<table class='petl'>\n",
       "<thead>\n",
       "<tr>\n",
       "<th>f0</th>\n",
       "<th>f1</th>\n",
       "<th>f2</th>\n",
       "</tr>\n",
       "</thead>\n",
       "<tbody>\n",
       "<tr>\n",
       "<td>audi</td>\n",
       "<td>109</td>\n",
       "<td>102</td>\n",
       "</tr>\n",
       "<tr>\n",
       "<td>bmw</td>\n",
       "<td>108</td>\n",
       "<td>101</td>\n",
       "</tr>\n",
       "<tr>\n",
       "<td>chevrole</td>\n",
       "<td>61</td>\n",
       "<td>48</td>\n",
       "</tr>\n",
       "</tbody>\n",
       "</table>\n"
      ],
      "text/plain": [
       "+------------+-----+-----+\n",
       "| f0         | f1  | f2  |\n",
       "+============+=====+=====+\n",
       "| 'audi'     | 109 | 102 |\n",
       "+------------+-----+-----+\n",
       "| 'bmw'      | 108 | 101 |\n",
       "+------------+-----+-----+\n",
       "| 'chevrole' | 61  | 48  |\n",
       "+------------+-----+-----+"
      ]
     },
     "execution_count": 8,
     "metadata": {},
     "output_type": "execute_result"
    }
   ],
   "source": [
    "cars_table"
   ]
  },
  {
   "cell_type": "code",
   "execution_count": 10,
   "metadata": {},
   "outputs": [
    {
     "data": {
      "text/html": [
       "<table class='petl'>\n",
       "<thead>\n",
       "<tr>\n",
       "<th>Brand</th>\n",
       "<th>Engine Size</th>\n",
       "<th>Horse Power</th>\n",
       "</tr>\n",
       "</thead>\n",
       "<tbody>\n",
       "<tr>\n",
       "<td>audi</td>\n",
       "<td>109</td>\n",
       "<td>102</td>\n",
       "</tr>\n",
       "<tr>\n",
       "<td>bmw</td>\n",
       "<td>108</td>\n",
       "<td>101</td>\n",
       "</tr>\n",
       "<tr>\n",
       "<td>chevrole</td>\n",
       "<td>61</td>\n",
       "<td>48</td>\n",
       "</tr>\n",
       "</tbody>\n",
       "</table>\n"
      ],
      "text/plain": [
       "+------------+-------------+-------------+\n",
       "| Brand      | Engine Size | Horse Power |\n",
       "+============+=============+=============+\n",
       "| 'audi'     | 109         | 102         |\n",
       "+------------+-------------+-------------+\n",
       "| 'bmw'      | 108         | 101         |\n",
       "+------------+-------------+-------------+\n",
       "| 'chevrole' | 61          | 48          |\n",
       "+------------+-------------+-------------+"
      ]
     },
     "execution_count": 10,
     "metadata": {},
     "output_type": "execute_result"
    }
   ],
   "source": [
    "cars_table = etl.setheader(cars_table, ['Brand', 'Engine Size', 'Horse Power'])\n",
    "\n",
    "cars_table"
   ]
  },
  {
   "cell_type": "markdown",
   "metadata": {},
   "source": [
    "Load data from the given table into a numpy structured array"
   ]
  },
  {
   "cell_type": "code",
   "execution_count": 11,
   "metadata": {},
   "outputs": [],
   "source": [
    "car_array = etl.toarray(cars_table)"
   ]
  },
  {
   "cell_type": "code",
   "execution_count": 12,
   "metadata": {},
   "outputs": [
    {
     "data": {
      "text/plain": [
       "array([('audi', 109, 102), ('bmw', 108, 101), ('chevrole',  61,  48)],\n",
       "      dtype=(numpy.record, [('Brand', '<U8'), ('Engine Size', '<i4'), ('Horse Power', '<i4')]))"
      ]
     },
     "execution_count": 12,
     "metadata": {},
     "output_type": "execute_result"
    }
   ],
   "source": [
    "car_array"
   ]
  },
  {
   "cell_type": "code",
   "execution_count": null,
   "metadata": {},
   "outputs": [],
   "source": []
  },
  {
   "cell_type": "markdown",
   "metadata": {},
   "source": [
    "### DataFrames (pandas)"
   ]
  },
  {
   "cell_type": "markdown",
   "metadata": {},
   "source": [
    "https://www.kaggle.com/gauravsharma99/car-mpg/notebooks"
   ]
  },
  {
   "cell_type": "code",
   "execution_count": 13,
   "metadata": {},
   "outputs": [],
   "source": [
    "df = pd.read_csv('./datasets/mpg.csv')"
   ]
  },
  {
   "cell_type": "code",
   "execution_count": 14,
   "metadata": {},
   "outputs": [
    {
     "data": {
      "text/html": [
       "<div>\n",
       "<style scoped>\n",
       "    .dataframe tbody tr th:only-of-type {\n",
       "        vertical-align: middle;\n",
       "    }\n",
       "\n",
       "    .dataframe tbody tr th {\n",
       "        vertical-align: top;\n",
       "    }\n",
       "\n",
       "    .dataframe thead th {\n",
       "        text-align: right;\n",
       "    }\n",
       "</style>\n",
       "<table border=\"1\" class=\"dataframe\">\n",
       "  <thead>\n",
       "    <tr style=\"text-align: right;\">\n",
       "      <th></th>\n",
       "      <th>mpg</th>\n",
       "      <th>cylinders</th>\n",
       "      <th>displacement</th>\n",
       "      <th>horsepower</th>\n",
       "      <th>weight</th>\n",
       "      <th>acceleration</th>\n",
       "      <th>model_year</th>\n",
       "      <th>origin</th>\n",
       "      <th>name</th>\n",
       "    </tr>\n",
       "  </thead>\n",
       "  <tbody>\n",
       "    <tr>\n",
       "      <th>0</th>\n",
       "      <td>18.0</td>\n",
       "      <td>8</td>\n",
       "      <td>307.0</td>\n",
       "      <td>130.0</td>\n",
       "      <td>3504</td>\n",
       "      <td>12.0</td>\n",
       "      <td>70</td>\n",
       "      <td>usa</td>\n",
       "      <td>chevrolet chevelle malibu</td>\n",
       "    </tr>\n",
       "    <tr>\n",
       "      <th>1</th>\n",
       "      <td>15.0</td>\n",
       "      <td>8</td>\n",
       "      <td>350.0</td>\n",
       "      <td>165.0</td>\n",
       "      <td>3693</td>\n",
       "      <td>11.5</td>\n",
       "      <td>70</td>\n",
       "      <td>usa</td>\n",
       "      <td>buick skylark 320</td>\n",
       "    </tr>\n",
       "    <tr>\n",
       "      <th>2</th>\n",
       "      <td>18.0</td>\n",
       "      <td>8</td>\n",
       "      <td>318.0</td>\n",
       "      <td>150.0</td>\n",
       "      <td>3436</td>\n",
       "      <td>11.0</td>\n",
       "      <td>70</td>\n",
       "      <td>usa</td>\n",
       "      <td>plymouth satellite</td>\n",
       "    </tr>\n",
       "    <tr>\n",
       "      <th>3</th>\n",
       "      <td>16.0</td>\n",
       "      <td>8</td>\n",
       "      <td>304.0</td>\n",
       "      <td>150.0</td>\n",
       "      <td>3433</td>\n",
       "      <td>12.0</td>\n",
       "      <td>70</td>\n",
       "      <td>usa</td>\n",
       "      <td>amc rebel sst</td>\n",
       "    </tr>\n",
       "    <tr>\n",
       "      <th>4</th>\n",
       "      <td>17.0</td>\n",
       "      <td>8</td>\n",
       "      <td>302.0</td>\n",
       "      <td>140.0</td>\n",
       "      <td>3449</td>\n",
       "      <td>10.5</td>\n",
       "      <td>70</td>\n",
       "      <td>usa</td>\n",
       "      <td>ford torino</td>\n",
       "    </tr>\n",
       "  </tbody>\n",
       "</table>\n",
       "</div>"
      ],
      "text/plain": [
       "    mpg  cylinders  displacement  horsepower  weight  acceleration  \\\n",
       "0  18.0          8         307.0       130.0    3504          12.0   \n",
       "1  15.0          8         350.0       165.0    3693          11.5   \n",
       "2  18.0          8         318.0       150.0    3436          11.0   \n",
       "3  16.0          8         304.0       150.0    3433          12.0   \n",
       "4  17.0          8         302.0       140.0    3449          10.5   \n",
       "\n",
       "   model_year origin                       name  \n",
       "0          70    usa  chevrolet chevelle malibu  \n",
       "1          70    usa          buick skylark 320  \n",
       "2          70    usa         plymouth satellite  \n",
       "3          70    usa              amc rebel sst  \n",
       "4          70    usa                ford torino  "
      ]
     },
     "execution_count": 14,
     "metadata": {},
     "output_type": "execute_result"
    }
   ],
   "source": [
    "df.head()"
   ]
  },
  {
   "cell_type": "code",
   "execution_count": 15,
   "metadata": {},
   "outputs": [],
   "source": [
    "mpg = etl.fromdataframe(df)"
   ]
  },
  {
   "cell_type": "code",
   "execution_count": 17,
   "metadata": {},
   "outputs": [
    {
     "data": {
      "text/html": [
       "<table class='petl'>\n",
       "<thead>\n",
       "<tr>\n",
       "<th>mpg</th>\n",
       "<th>cylinders</th>\n",
       "<th>displacement</th>\n",
       "<th>horsepower</th>\n",
       "<th>weight</th>\n",
       "<th>acceleration</th>\n",
       "<th>model_year</th>\n",
       "<th>origin</th>\n",
       "<th>name</th>\n",
       "</tr>\n",
       "</thead>\n",
       "<tbody>\n",
       "<tr>\n",
       "<td style='text-align: right'>18.0</td>\n",
       "<td style='text-align: right'>8</td>\n",
       "<td style='text-align: right'>307.0</td>\n",
       "<td style='text-align: right'>130.0</td>\n",
       "<td style='text-align: right'>3504</td>\n",
       "<td style='text-align: right'>12.0</td>\n",
       "<td style='text-align: right'>70</td>\n",
       "<td>usa</td>\n",
       "<td>chevrolet chevelle malibu</td>\n",
       "</tr>\n",
       "<tr>\n",
       "<td style='text-align: right'>15.0</td>\n",
       "<td style='text-align: right'>8</td>\n",
       "<td style='text-align: right'>350.0</td>\n",
       "<td style='text-align: right'>165.0</td>\n",
       "<td style='text-align: right'>3693</td>\n",
       "<td style='text-align: right'>11.5</td>\n",
       "<td style='text-align: right'>70</td>\n",
       "<td>usa</td>\n",
       "<td>buick skylark 320</td>\n",
       "</tr>\n",
       "<tr>\n",
       "<td style='text-align: right'>18.0</td>\n",
       "<td style='text-align: right'>8</td>\n",
       "<td style='text-align: right'>318.0</td>\n",
       "<td style='text-align: right'>150.0</td>\n",
       "<td style='text-align: right'>3436</td>\n",
       "<td style='text-align: right'>11.0</td>\n",
       "<td style='text-align: right'>70</td>\n",
       "<td>usa</td>\n",
       "<td>plymouth satellite</td>\n",
       "</tr>\n",
       "<tr>\n",
       "<td style='text-align: right'>16.0</td>\n",
       "<td style='text-align: right'>8</td>\n",
       "<td style='text-align: right'>304.0</td>\n",
       "<td style='text-align: right'>150.0</td>\n",
       "<td style='text-align: right'>3433</td>\n",
       "<td style='text-align: right'>12.0</td>\n",
       "<td style='text-align: right'>70</td>\n",
       "<td>usa</td>\n",
       "<td>amc rebel sst</td>\n",
       "</tr>\n",
       "<tr>\n",
       "<td style='text-align: right'>17.0</td>\n",
       "<td style='text-align: right'>8</td>\n",
       "<td style='text-align: right'>302.0</td>\n",
       "<td style='text-align: right'>140.0</td>\n",
       "<td style='text-align: right'>3449</td>\n",
       "<td style='text-align: right'>10.5</td>\n",
       "<td style='text-align: right'>70</td>\n",
       "<td>usa</td>\n",
       "<td>ford torino</td>\n",
       "</tr>\n",
       "</tbody>\n",
       "</table>\n",
       "<p><strong>...</strong></p>"
      ]
     },
     "metadata": {},
     "output_type": "display_data"
    }
   ],
   "source": [
    "mpg.display()"
   ]
  },
  {
   "cell_type": "code",
   "execution_count": 18,
   "metadata": {},
   "outputs": [
    {
     "data": {
      "text/plain": [
       "398"
      ]
     },
     "execution_count": 18,
     "metadata": {},
     "output_type": "execute_result"
    }
   ],
   "source": [
    "mpg.nrows()"
   ]
  },
  {
   "cell_type": "markdown",
   "metadata": {},
   "source": [
    "Count the number of values found for each Python type"
   ]
  },
  {
   "cell_type": "code",
   "execution_count": 19,
   "metadata": {},
   "outputs": [
    {
     "data": {
      "text/plain": [
       "Counter({'str': 398})"
      ]
     },
     "execution_count": 19,
     "metadata": {},
     "output_type": "execute_result"
    }
   ],
   "source": [
    "etl.typecounter(mpg, 'name')"
   ]
  },
  {
   "cell_type": "markdown",
   "metadata": {},
   "source": [
    "Count the number of values found for each Python type and return a table mapping class names to counts and frequencies."
   ]
  },
  {
   "cell_type": "code",
   "execution_count": 20,
   "metadata": {},
   "outputs": [
    {
     "data": {
      "text/html": [
       "<table class='petl'>\n",
       "<thead>\n",
       "<tr>\n",
       "<th>type</th>\n",
       "<th>count</th>\n",
       "<th>frequency</th>\n",
       "</tr>\n",
       "</thead>\n",
       "<tbody>\n",
       "<tr>\n",
       "<td>float</td>\n",
       "<td style='text-align: right'>398</td>\n",
       "<td style='text-align: right'>1.0</td>\n",
       "</tr>\n",
       "</tbody>\n",
       "</table>\n"
      ],
      "text/plain": [
       "+---------+-------+-----------+\n",
       "| type    | count | frequency |\n",
       "+=========+=======+===========+\n",
       "| 'float' |   398 |       1.0 |\n",
       "+---------+-------+-----------+"
      ]
     },
     "execution_count": 20,
     "metadata": {},
     "output_type": "execute_result"
    }
   ],
   "source": [
    "etl.typecounts(mpg, 'horsepower')"
   ]
  },
  {
   "cell_type": "code",
   "execution_count": 21,
   "metadata": {},
   "outputs": [
    {
     "data": {
      "text/html": [
       "<table class='petl'>\n",
       "<thead>\n",
       "<tr>\n",
       "<th>Brand</th>\n",
       "<th>Engine Size</th>\n",
       "<th>Horse Power</th>\n",
       "</tr>\n",
       "</thead>\n",
       "<tbody>\n",
       "<tr>\n",
       "<td>audi</td>\n",
       "<td>109</td>\n",
       "<td>102</td>\n",
       "</tr>\n",
       "<tr>\n",
       "<td>bmw</td>\n",
       "<td>108</td>\n",
       "<td>101</td>\n",
       "</tr>\n",
       "<tr>\n",
       "<td>chevrole</td>\n",
       "<td>61</td>\n",
       "<td>48</td>\n",
       "</tr>\n",
       "</tbody>\n",
       "</table>\n"
      ],
      "text/plain": [
       "+------------+-------------+-------------+\n",
       "| Brand      | Engine Size | Horse Power |\n",
       "+============+=============+=============+\n",
       "| 'audi'     | 109         | 102         |\n",
       "+------------+-------------+-------------+\n",
       "| 'bmw'      | 108         | 101         |\n",
       "+------------+-------------+-------------+\n",
       "| 'chevrole' | 61          | 48          |\n",
       "+------------+-------------+-------------+"
      ]
     },
     "execution_count": 21,
     "metadata": {},
     "output_type": "execute_result"
    }
   ],
   "source": [
    "cars_table"
   ]
  },
  {
   "cell_type": "markdown",
   "metadata": {},
   "source": [
    "Load data from the given table into a pandas DataFrame"
   ]
  },
  {
   "cell_type": "code",
   "execution_count": 22,
   "metadata": {},
   "outputs": [],
   "source": [
    "car_df = etl.todataframe(cars_table)"
   ]
  },
  {
   "cell_type": "code",
   "execution_count": 23,
   "metadata": {},
   "outputs": [
    {
     "data": {
      "text/html": [
       "<div>\n",
       "<style scoped>\n",
       "    .dataframe tbody tr th:only-of-type {\n",
       "        vertical-align: middle;\n",
       "    }\n",
       "\n",
       "    .dataframe tbody tr th {\n",
       "        vertical-align: top;\n",
       "    }\n",
       "\n",
       "    .dataframe thead th {\n",
       "        text-align: right;\n",
       "    }\n",
       "</style>\n",
       "<table border=\"1\" class=\"dataframe\">\n",
       "  <thead>\n",
       "    <tr style=\"text-align: right;\">\n",
       "      <th></th>\n",
       "      <th>Brand</th>\n",
       "      <th>Engine Size</th>\n",
       "      <th>Horse Power</th>\n",
       "    </tr>\n",
       "  </thead>\n",
       "  <tbody>\n",
       "    <tr>\n",
       "      <th>0</th>\n",
       "      <td>audi</td>\n",
       "      <td>109</td>\n",
       "      <td>102</td>\n",
       "    </tr>\n",
       "    <tr>\n",
       "      <th>1</th>\n",
       "      <td>bmw</td>\n",
       "      <td>108</td>\n",
       "      <td>101</td>\n",
       "    </tr>\n",
       "    <tr>\n",
       "      <th>2</th>\n",
       "      <td>chevrole</td>\n",
       "      <td>61</td>\n",
       "      <td>48</td>\n",
       "    </tr>\n",
       "  </tbody>\n",
       "</table>\n",
       "</div>"
      ],
      "text/plain": [
       "      Brand  Engine Size  Horse Power\n",
       "0      audi          109          102\n",
       "1       bmw          108          101\n",
       "2  chevrole           61           48"
      ]
     },
     "execution_count": 23,
     "metadata": {},
     "output_type": "execute_result"
    }
   ],
   "source": [
    "car_df.head()"
   ]
  },
  {
   "cell_type": "code",
   "execution_count": null,
   "metadata": {},
   "outputs": [],
   "source": []
  },
  {
   "cell_type": "code",
   "execution_count": null,
   "metadata": {},
   "outputs": [],
   "source": []
  },
  {
   "cell_type": "code",
   "execution_count": null,
   "metadata": {},
   "outputs": [],
   "source": []
  }
 ],
 "metadata": {
  "kernelspec": {
   "display_name": ".venv",
   "language": "python",
   "name": "python3"
  },
  "language_info": {
   "codemirror_mode": {
    "name": "ipython",
    "version": 3
   },
   "file_extension": ".py",
   "mimetype": "text/x-python",
   "name": "python",
   "nbconvert_exporter": "python",
   "pygments_lexer": "ipython3",
   "version": "3.13.1"
  }
 },
 "nbformat": 4,
 "nbformat_minor": 4
}
