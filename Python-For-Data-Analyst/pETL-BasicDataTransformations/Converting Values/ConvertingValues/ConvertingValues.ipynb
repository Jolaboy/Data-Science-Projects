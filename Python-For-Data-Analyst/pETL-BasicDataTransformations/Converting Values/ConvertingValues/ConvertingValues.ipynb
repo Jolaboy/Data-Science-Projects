{
 "cells": [
  {
   "cell_type": "code",
   "execution_count": 1,
   "metadata": {},
   "outputs": [],
   "source": [
    "import pandas as pd\n",
    "import petl as etl"
   ]
  },
  {
   "cell_type": "markdown",
   "metadata": {},
   "source": [
    "https://www.kaggle.com/dgomonov/new-york-city-airbnb-open-data"
   ]
  },
  {
   "cell_type": "code",
   "execution_count": 7,
   "metadata": {},
   "outputs": [],
   "source": [
    "airbnb_data = [['2539', 'Clean & quiet apt home by the park','149', '9'],\n",
    "               ['2595', 'Skylit Midtown Castle',  '225', '45'],\n",
    "               ['3647', 'THE VILLAGE OF HARLEM....NEW YORK !', '150', '0'],\n",
    "               ['3831', 'Cozy Entire Floor of Brownstone', '89', '270'],\n",
    "               ['5022', 'Entire Apt: Spacious Studio/Loft by central park', '80', '9']] "
   ]
  },
  {
   "cell_type": "markdown",
   "metadata": {},
   "source": [
    "#### Push rows down and prepend a header row"
   ]
  },
  {
   "cell_type": "code",
   "execution_count": 8,
   "metadata": {},
   "outputs": [],
   "source": [
    "data = etl.pushheader(airbnb_data, ['id', 'name', 'price','number_of_reviews'])"
   ]
  },
  {
   "cell_type": "code",
   "execution_count": 9,
   "metadata": {},
   "outputs": [
    {
     "data": {
      "text/html": [
       "<table class='petl'>\n",
       "<thead>\n",
       "<tr>\n",
       "<th>id</th>\n",
       "<th>name</th>\n",
       "<th>price</th>\n",
       "<th>number_of_reviews</th>\n",
       "</tr>\n",
       "</thead>\n",
       "<tbody>\n",
       "<tr>\n",
       "<td>2539</td>\n",
       "<td>Clean & quiet apt home by the park</td>\n",
       "<td>149</td>\n",
       "<td>9</td>\n",
       "</tr>\n",
       "<tr>\n",
       "<td>2595</td>\n",
       "<td>Skylit Midtown Castle</td>\n",
       "<td>225</td>\n",
       "<td>45</td>\n",
       "</tr>\n",
       "<tr>\n",
       "<td>3647</td>\n",
       "<td>THE VILLAGE OF HARLEM....NEW YORK !</td>\n",
       "<td>150</td>\n",
       "<td>0</td>\n",
       "</tr>\n",
       "<tr>\n",
       "<td>3831</td>\n",
       "<td>Cozy Entire Floor of Brownstone</td>\n",
       "<td>89</td>\n",
       "<td>270</td>\n",
       "</tr>\n",
       "<tr>\n",
       "<td>5022</td>\n",
       "<td>Entire Apt: Spacious Studio/Loft by central park</td>\n",
       "<td>80</td>\n",
       "<td>9</td>\n",
       "</tr>\n",
       "</tbody>\n",
       "</table>\n"
      ]
     },
     "metadata": {},
     "output_type": "display_data"
    }
   ],
   "source": [
    "data.display()"
   ]
  },
  {
   "cell_type": "markdown",
   "metadata": {},
   "source": [
    "#### Check the type pf the price column"
   ]
  },
  {
   "cell_type": "code",
   "execution_count": 10,
   "metadata": {},
   "outputs": [
    {
     "data": {
      "text/plain": [
       "{'str'}"
      ]
     },
     "execution_count": 10,
     "metadata": {},
     "output_type": "execute_result"
    }
   ],
   "source": [
    "etl.typeset(data, 'price')"
   ]
  },
  {
   "cell_type": "code",
   "execution_count": 12,
   "metadata": {},
   "outputs": [],
   "source": [
    "updated_data = etl.convert(data, 'price', float)"
   ]
  },
  {
   "cell_type": "code",
   "execution_count": 6,
   "metadata": {},
   "outputs": [
    {
     "data": {
      "text/html": [
       "<table class='petl'>\n",
       "<thead>\n",
       "<tr>\n",
       "<th>id</th>\n",
       "<th>name</th>\n",
       "<th>price</th>\n",
       "<th>number_of_reviews</th>\n",
       "</tr>\n",
       "</thead>\n",
       "<tbody>\n",
       "<tr>\n",
       "<td>2539</td>\n",
       "<td>Clean & quiet apt home by the park</td>\n",
       "<td style='text-align: right'>149.0</td>\n",
       "<td>9</td>\n",
       "</tr>\n",
       "<tr>\n",
       "<td>2595</td>\n",
       "<td>Skylit Midtown Castle</td>\n",
       "<td style='text-align: right'>225.0</td>\n",
       "<td>45</td>\n",
       "</tr>\n",
       "<tr>\n",
       "<td>3647</td>\n",
       "<td>THE VILLAGE OF HARLEM....NEW YORK !</td>\n",
       "<td style='text-align: right'>150.0</td>\n",
       "<td>0</td>\n",
       "</tr>\n",
       "<tr>\n",
       "<td>3831</td>\n",
       "<td>Cozy Entire Floor of Brownstone</td>\n",
       "<td style='text-align: right'>89.0</td>\n",
       "<td>270</td>\n",
       "</tr>\n",
       "<tr>\n",
       "<td>5022</td>\n",
       "<td>Entire Apt: Spacious Studio/Loft by central park</td>\n",
       "<td style='text-align: right'>80.0</td>\n",
       "<td>9</td>\n",
       "</tr>\n",
       "</tbody>\n",
       "</table>\n"
      ]
     },
     "metadata": {},
     "output_type": "display_data"
    }
   ],
   "source": [
    "updated_data.display()"
   ]
  },
  {
   "cell_type": "code",
   "execution_count": 13,
   "metadata": {},
   "outputs": [
    {
     "data": {
      "text/plain": [
       "{'float'}"
      ]
     },
     "execution_count": 13,
     "metadata": {},
     "output_type": "execute_result"
    }
   ],
   "source": [
    "etl.typeset(updated_data, 'price')"
   ]
  },
  {
   "cell_type": "markdown",
   "metadata": {},
   "source": [
    "#### Convenience function to convert all field values to numbers where possible."
   ]
  },
  {
   "cell_type": "code",
   "execution_count": 18,
   "metadata": {},
   "outputs": [
    {
     "name": "stdout",
     "output_type": "stream",
     "text": [
      "Type of id is {'str'}\n",
      "Type of name is {'str'}\n",
      "Type of price is {'float'}\n",
      "Type of number_of_reviews is {'str'}\n"
     ]
    }
   ],
   "source": [
    "for column in updated_data.columns():\n",
    "    print(f'Type of {column} is {etl.typeset(updated_data, column)}')"
   ]
  },
  {
   "cell_type": "code",
   "execution_count": 19,
   "metadata": {},
   "outputs": [
    {
     "data": {
      "text/html": [
       "<table class='petl'>\n",
       "<thead>\n",
       "<tr>\n",
       "<th>id</th>\n",
       "<th>name</th>\n",
       "<th>price</th>\n",
       "<th>number_of_reviews</th>\n",
       "</tr>\n",
       "</thead>\n",
       "<tbody>\n",
       "<tr>\n",
       "<td style='text-align: right'>2539</td>\n",
       "<td>Clean & quiet apt home by the park</td>\n",
       "<td style='text-align: right'>149</td>\n",
       "<td style='text-align: right'>9</td>\n",
       "</tr>\n",
       "<tr>\n",
       "<td style='text-align: right'>2595</td>\n",
       "<td>Skylit Midtown Castle</td>\n",
       "<td style='text-align: right'>225</td>\n",
       "<td style='text-align: right'>45</td>\n",
       "</tr>\n",
       "<tr>\n",
       "<td style='text-align: right'>3647</td>\n",
       "<td>THE VILLAGE OF HARLEM....NEW YORK !</td>\n",
       "<td style='text-align: right'>150</td>\n",
       "<td style='text-align: right'>0</td>\n",
       "</tr>\n",
       "<tr>\n",
       "<td style='text-align: right'>3831</td>\n",
       "<td>Cozy Entire Floor of Brownstone</td>\n",
       "<td style='text-align: right'>89</td>\n",
       "<td style='text-align: right'>270</td>\n",
       "</tr>\n",
       "<tr>\n",
       "<td style='text-align: right'>5022</td>\n",
       "<td>Entire Apt: Spacious Studio/Loft by central park</td>\n",
       "<td style='text-align: right'>80</td>\n",
       "<td style='text-align: right'>9</td>\n",
       "</tr>\n",
       "</tbody>\n",
       "</table>\n"
      ]
     },
     "metadata": {},
     "output_type": "display_data"
    }
   ],
   "source": [
    "updated_data = etl.convertnumbers(updated_data)\n",
    "\n",
    "updated_data.display()"
   ]
  },
  {
   "cell_type": "code",
   "execution_count": 20,
   "metadata": {},
   "outputs": [
    {
     "name": "stdout",
     "output_type": "stream",
     "text": [
      "Type of id is {'int'}\n",
      "Type of name is {'str'}\n",
      "Type of price is {'int'}\n",
      "Type of number_of_reviews is {'int'}\n"
     ]
    }
   ],
   "source": [
    "for column in updated_data.columns():\n",
    "    print(f'Type of {column} is {etl.typeset(updated_data, column)}')"
   ]
  },
  {
   "cell_type": "code",
   "execution_count": 21,
   "metadata": {},
   "outputs": [
    {
     "data": {
      "text/html": [
       "<table class='petl'>\n",
       "<thead>\n",
       "<tr>\n",
       "<th>id</th>\n",
       "<th>name</th>\n",
       "<th>price</th>\n",
       "<th>number_of_reviews</th>\n",
       "</tr>\n",
       "</thead>\n",
       "<tbody>\n",
       "<tr>\n",
       "<td style='text-align: right'>2539</td>\n",
       "<td>clean & quiet apt home by the park</td>\n",
       "<td style='text-align: right'>149</td>\n",
       "<td style='text-align: right'>9</td>\n",
       "</tr>\n",
       "<tr>\n",
       "<td style='text-align: right'>2595</td>\n",
       "<td>skylit midtown castle</td>\n",
       "<td style='text-align: right'>225</td>\n",
       "<td style='text-align: right'>45</td>\n",
       "</tr>\n",
       "<tr>\n",
       "<td style='text-align: right'>3647</td>\n",
       "<td>the village of harlem....new york !</td>\n",
       "<td style='text-align: right'>150</td>\n",
       "<td style='text-align: right'>0</td>\n",
       "</tr>\n",
       "<tr>\n",
       "<td style='text-align: right'>3831</td>\n",
       "<td>cozy entire floor of brownstone</td>\n",
       "<td style='text-align: right'>89</td>\n",
       "<td style='text-align: right'>270</td>\n",
       "</tr>\n",
       "<tr>\n",
       "<td style='text-align: right'>5022</td>\n",
       "<td>entire apt: spacious studio/loft by central park</td>\n",
       "<td style='text-align: right'>80</td>\n",
       "<td style='text-align: right'>9</td>\n",
       "</tr>\n",
       "</tbody>\n",
       "</table>\n"
      ]
     },
     "metadata": {},
     "output_type": "display_data"
    }
   ],
   "source": [
    "lower_case_conversion = etl.convert(updated_data, 'name', 'lower')\n",
    "\n",
    "lower_case_conversion.display()"
   ]
  },
  {
   "cell_type": "code",
   "execution_count": 22,
   "metadata": {},
   "outputs": [
    {
     "data": {
      "text/html": [
       "<table class='petl'>\n",
       "<thead>\n",
       "<tr>\n",
       "<th>id</th>\n",
       "<th>name</th>\n",
       "<th>price</th>\n",
       "<th>number_of_reviews</th>\n",
       "</tr>\n",
       "</thead>\n",
       "<tbody>\n",
       "<tr>\n",
       "<td style='text-align: right'>2539</td>\n",
       "<td>clean & quiet apt home by the park</td>\n",
       "<td style='text-align: right'>149</td>\n",
       "<td style='text-align: right'>9</td>\n",
       "</tr>\n",
       "<tr>\n",
       "<td style='text-align: right'>2595</td>\n",
       "<td>skylit midtown castle</td>\n",
       "<td style='text-align: right'>225</td>\n",
       "<td style='text-align: right'>45</td>\n",
       "</tr>\n",
       "<tr>\n",
       "<td style='text-align: right'>3647</td>\n",
       "<td>The Villiage of Harlem</td>\n",
       "<td style='text-align: right'>150</td>\n",
       "<td style='text-align: right'>0</td>\n",
       "</tr>\n",
       "<tr>\n",
       "<td style='text-align: right'>3831</td>\n",
       "<td>cozy entire floor of brownstone</td>\n",
       "<td style='text-align: right'>89</td>\n",
       "<td style='text-align: right'>270</td>\n",
       "</tr>\n",
       "<tr>\n",
       "<td style='text-align: right'>5022</td>\n",
       "<td>entire apt: spacious studio/loft by central park</td>\n",
       "<td style='text-align: right'>80</td>\n",
       "<td style='text-align: right'>9</td>\n",
       "</tr>\n",
       "</tbody>\n",
       "</table>\n"
      ]
     },
     "metadata": {},
     "output_type": "display_data"
    }
   ],
   "source": [
    "updated_data = etl.convert(lower_case_conversion, \n",
    "                           'name', \n",
    "                           'replace',\n",
    "                           'the village of harlem....new york !', \n",
    "                           'The Villiage of Harlem')\n",
    "\n",
    "updated_data.display()"
   ]
  },
  {
   "cell_type": "code",
   "execution_count": 23,
   "metadata": {},
   "outputs": [],
   "source": [
    "update_name = etl.convert(updated_data, \n",
    "                          'name',\n",
    "                          {'clean & quiet apt home by the park' : 'Apt Home by The Park in Brooklyn',\n",
    "                           'skylit midtown castle' : 'Skylit Midtown Castle',\n",
    "                           'cozy entire floor of brownstone' : 'Cozy Entire Floor of Brownstone in Brooklyn'})"
   ]
  },
  {
   "cell_type": "code",
   "execution_count": 24,
   "metadata": {},
   "outputs": [
    {
     "data": {
      "text/html": [
       "<table class='petl'>\n",
       "<thead>\n",
       "<tr>\n",
       "<th>id</th>\n",
       "<th>name</th>\n",
       "<th>price</th>\n",
       "<th>number_of_reviews</th>\n",
       "</tr>\n",
       "</thead>\n",
       "<tbody>\n",
       "<tr>\n",
       "<td style='text-align: right'>2539</td>\n",
       "<td>Apt Home by The Park in Brooklyn</td>\n",
       "<td style='text-align: right'>149</td>\n",
       "<td style='text-align: right'>9</td>\n",
       "</tr>\n",
       "<tr>\n",
       "<td style='text-align: right'>2595</td>\n",
       "<td>Skylit Midtown Castle</td>\n",
       "<td style='text-align: right'>225</td>\n",
       "<td style='text-align: right'>45</td>\n",
       "</tr>\n",
       "<tr>\n",
       "<td style='text-align: right'>3647</td>\n",
       "<td>The Villiage of Harlem</td>\n",
       "<td style='text-align: right'>150</td>\n",
       "<td style='text-align: right'>0</td>\n",
       "</tr>\n",
       "<tr>\n",
       "<td style='text-align: right'>3831</td>\n",
       "<td>Cozy Entire Floor of Brownstone in Brooklyn</td>\n",
       "<td style='text-align: right'>89</td>\n",
       "<td style='text-align: right'>270</td>\n",
       "</tr>\n",
       "<tr>\n",
       "<td style='text-align: right'>5022</td>\n",
       "<td>entire apt: spacious studio/loft by central park</td>\n",
       "<td style='text-align: right'>80</td>\n",
       "<td style='text-align: right'>9</td>\n",
       "</tr>\n",
       "</tbody>\n",
       "</table>\n"
      ]
     },
     "metadata": {},
     "output_type": "display_data"
    }
   ],
   "source": [
    "update_name.display()"
   ]
  },
  {
   "cell_type": "code",
   "execution_count": 25,
   "metadata": {},
   "outputs": [],
   "source": [
    "room_type = ['Private room', \n",
    "             'Entire home/apt', \n",
    "             'Private room',  \n",
    "             'Entire home/apt', \n",
    "             'Entire home/apt' ]"
   ]
  },
  {
   "cell_type": "code",
   "execution_count": 26,
   "metadata": {},
   "outputs": [
    {
     "data": {
      "text/html": [
       "<table class='petl'>\n",
       "<thead>\n",
       "<tr>\n",
       "<th>id</th>\n",
       "<th>name</th>\n",
       "<th>price</th>\n",
       "<th>number_of_reviews</th>\n",
       "<th>room_type</th>\n",
       "</tr>\n",
       "</thead>\n",
       "<tbody>\n",
       "<tr>\n",
       "<td style='text-align: right'>2539</td>\n",
       "<td>Apt Home by The Park in Brooklyn</td>\n",
       "<td style='text-align: right'>149</td>\n",
       "<td style='text-align: right'>9</td>\n",
       "<td>Private room</td>\n",
       "</tr>\n",
       "<tr>\n",
       "<td style='text-align: right'>2595</td>\n",
       "<td>Skylit Midtown Castle</td>\n",
       "<td style='text-align: right'>225</td>\n",
       "<td style='text-align: right'>45</td>\n",
       "<td>Entire home/apt</td>\n",
       "</tr>\n",
       "<tr>\n",
       "<td style='text-align: right'>3647</td>\n",
       "<td>The Villiage of Harlem</td>\n",
       "<td style='text-align: right'>150</td>\n",
       "<td style='text-align: right'>0</td>\n",
       "<td>Private room</td>\n",
       "</tr>\n",
       "<tr>\n",
       "<td style='text-align: right'>3831</td>\n",
       "<td>Cozy Entire Floor of Brownstone in Brooklyn</td>\n",
       "<td style='text-align: right'>89</td>\n",
       "<td style='text-align: right'>270</td>\n",
       "<td>Entire home/apt</td>\n",
       "</tr>\n",
       "<tr>\n",
       "<td style='text-align: right'>5022</td>\n",
       "<td>entire apt: spacious studio/loft by central park</td>\n",
       "<td style='text-align: right'>80</td>\n",
       "<td style='text-align: right'>9</td>\n",
       "<td>Entire home/apt</td>\n",
       "</tr>\n",
       "</tbody>\n",
       "</table>\n"
      ]
     },
     "metadata": {},
     "output_type": "display_data"
    }
   ],
   "source": [
    "data_new = etl.addcolumn(update_name, 'room_type', room_type )\n",
    "\n",
    "data_new.display()"
   ]
  },
  {
   "cell_type": "markdown",
   "metadata": {},
   "source": [
    "#### conversion can be conditional"
   ]
  },
  {
   "cell_type": "code",
   "execution_count": 27,
   "metadata": {},
   "outputs": [],
   "source": [
    "update_prices =  etl.convert(data_new, \n",
    "                             'price', \n",
    "                             lambda v: v * 1.2,\n",
    "                             where = lambda r: r.room_type == 'Entire home/apt')"
   ]
  },
  {
   "cell_type": "code",
   "execution_count": 28,
   "metadata": {},
   "outputs": [
    {
     "data": {
      "text/html": [
       "<table class='petl'>\n",
       "<thead>\n",
       "<tr>\n",
       "<th>id</th>\n",
       "<th>name</th>\n",
       "<th>price</th>\n",
       "<th>number_of_reviews</th>\n",
       "<th>room_type</th>\n",
       "</tr>\n",
       "</thead>\n",
       "<tbody>\n",
       "<tr>\n",
       "<td style='text-align: right'>2539</td>\n",
       "<td>Apt Home by The Park in Brooklyn</td>\n",
       "<td style='text-align: right'>149</td>\n",
       "<td style='text-align: right'>9</td>\n",
       "<td>Private room</td>\n",
       "</tr>\n",
       "<tr>\n",
       "<td style='text-align: right'>2595</td>\n",
       "<td>Skylit Midtown Castle</td>\n",
       "<td style='text-align: right'>270.0</td>\n",
       "<td style='text-align: right'>45</td>\n",
       "<td>Entire home/apt</td>\n",
       "</tr>\n",
       "<tr>\n",
       "<td style='text-align: right'>3647</td>\n",
       "<td>The Villiage of Harlem</td>\n",
       "<td style='text-align: right'>150</td>\n",
       "<td style='text-align: right'>0</td>\n",
       "<td>Private room</td>\n",
       "</tr>\n",
       "<tr>\n",
       "<td style='text-align: right'>3831</td>\n",
       "<td>Cozy Entire Floor of Brownstone in Brooklyn</td>\n",
       "<td style='text-align: right'>106.8</td>\n",
       "<td style='text-align: right'>270</td>\n",
       "<td>Entire home/apt</td>\n",
       "</tr>\n",
       "<tr>\n",
       "<td style='text-align: right'>5022</td>\n",
       "<td>entire apt: spacious studio/loft by central park</td>\n",
       "<td style='text-align: right'>96.0</td>\n",
       "<td style='text-align: right'>9</td>\n",
       "<td>Entire home/apt</td>\n",
       "</tr>\n",
       "</tbody>\n",
       "</table>\n"
      ]
     },
     "metadata": {},
     "output_type": "display_data"
    }
   ],
   "source": [
    "update_prices.display()"
   ]
  },
  {
   "cell_type": "code",
   "execution_count": 29,
   "metadata": {},
   "outputs": [],
   "source": [
    "update_room_type = etl.replace(update_prices, \n",
    "                               'room_type', \n",
    "                               'Entire home/apt', \n",
    "                               'Entire Home')"
   ]
  },
  {
   "cell_type": "code",
   "execution_count": 30,
   "metadata": {},
   "outputs": [
    {
     "data": {
      "text/html": [
       "<table class='petl'>\n",
       "<thead>\n",
       "<tr>\n",
       "<th>id</th>\n",
       "<th>name</th>\n",
       "<th>price</th>\n",
       "<th>number_of_reviews</th>\n",
       "<th>room_type</th>\n",
       "</tr>\n",
       "</thead>\n",
       "<tbody>\n",
       "<tr>\n",
       "<td style='text-align: right'>2539</td>\n",
       "<td>Apt Home by The Park in Brooklyn</td>\n",
       "<td style='text-align: right'>149</td>\n",
       "<td style='text-align: right'>9</td>\n",
       "<td>Private room</td>\n",
       "</tr>\n",
       "<tr>\n",
       "<td style='text-align: right'>2595</td>\n",
       "<td>Skylit Midtown Castle</td>\n",
       "<td style='text-align: right'>270.0</td>\n",
       "<td style='text-align: right'>45</td>\n",
       "<td>Entire Home</td>\n",
       "</tr>\n",
       "<tr>\n",
       "<td style='text-align: right'>3647</td>\n",
       "<td>The Villiage of Harlem</td>\n",
       "<td style='text-align: right'>150</td>\n",
       "<td style='text-align: right'>0</td>\n",
       "<td>Private room</td>\n",
       "</tr>\n",
       "<tr>\n",
       "<td style='text-align: right'>3831</td>\n",
       "<td>Cozy Entire Floor of Brownstone in Brooklyn</td>\n",
       "<td style='text-align: right'>106.8</td>\n",
       "<td style='text-align: right'>270</td>\n",
       "<td>Entire Home</td>\n",
       "</tr>\n",
       "<tr>\n",
       "<td style='text-align: right'>5022</td>\n",
       "<td>entire apt: spacious studio/loft by central park</td>\n",
       "<td style='text-align: right'>96.0</td>\n",
       "<td style='text-align: right'>9</td>\n",
       "<td>Entire Home</td>\n",
       "</tr>\n",
       "</tbody>\n",
       "</table>\n"
      ]
     },
     "metadata": {},
     "output_type": "display_data"
    }
   ],
   "source": [
    "update_room_type.display()"
   ]
  },
  {
   "cell_type": "code",
   "execution_count": 31,
   "metadata": {},
   "outputs": [],
   "source": [
    "format_reviews = etl.format(update_room_type, \n",
    "                            'number_of_reviews', \n",
    "                            'None',\n",
    "                            where = lambda x: x.number_of_reviews == 0)"
   ]
  },
  {
   "cell_type": "code",
   "execution_count": 32,
   "metadata": {},
   "outputs": [
    {
     "data": {
      "text/html": [
       "<table class='petl'>\n",
       "<thead>\n",
       "<tr>\n",
       "<th>id</th>\n",
       "<th>name</th>\n",
       "<th>price</th>\n",
       "<th>number_of_reviews</th>\n",
       "<th>room_type</th>\n",
       "</tr>\n",
       "</thead>\n",
       "<tbody>\n",
       "<tr>\n",
       "<td style='text-align: right'>2539</td>\n",
       "<td>Apt Home by The Park in Brooklyn</td>\n",
       "<td style='text-align: right'>149</td>\n",
       "<td style='text-align: right'>9</td>\n",
       "<td>Private room</td>\n",
       "</tr>\n",
       "<tr>\n",
       "<td style='text-align: right'>2595</td>\n",
       "<td>Skylit Midtown Castle</td>\n",
       "<td style='text-align: right'>270.0</td>\n",
       "<td style='text-align: right'>45</td>\n",
       "<td>Entire Home</td>\n",
       "</tr>\n",
       "<tr>\n",
       "<td style='text-align: right'>3647</td>\n",
       "<td>The Villiage of Harlem</td>\n",
       "<td style='text-align: right'>150</td>\n",
       "<td>None</td>\n",
       "<td>Private room</td>\n",
       "</tr>\n",
       "<tr>\n",
       "<td style='text-align: right'>3831</td>\n",
       "<td>Cozy Entire Floor of Brownstone in Brooklyn</td>\n",
       "<td style='text-align: right'>106.8</td>\n",
       "<td style='text-align: right'>270</td>\n",
       "<td>Entire Home</td>\n",
       "</tr>\n",
       "<tr>\n",
       "<td style='text-align: right'>5022</td>\n",
       "<td>entire apt: spacious studio/loft by central park</td>\n",
       "<td style='text-align: right'>96.0</td>\n",
       "<td style='text-align: right'>9</td>\n",
       "<td>Entire Home</td>\n",
       "</tr>\n",
       "</tbody>\n",
       "</table>\n"
      ]
     },
     "metadata": {},
     "output_type": "display_data"
    }
   ],
   "source": [
    "format_reviews.display()"
   ]
  },
  {
   "cell_type": "code",
   "execution_count": 33,
   "metadata": {},
   "outputs": [],
   "source": [
    "data_nyc = pd.read_csv('./datasets/AB_NYC_2019.csv')"
   ]
  },
  {
   "cell_type": "code",
   "execution_count": 34,
   "metadata": {},
   "outputs": [
    {
     "data": {
      "text/html": [
       "<div>\n",
       "<style scoped>\n",
       "    .dataframe tbody tr th:only-of-type {\n",
       "        vertical-align: middle;\n",
       "    }\n",
       "\n",
       "    .dataframe tbody tr th {\n",
       "        vertical-align: top;\n",
       "    }\n",
       "\n",
       "    .dataframe thead th {\n",
       "        text-align: right;\n",
       "    }\n",
       "</style>\n",
       "<table border=\"1\" class=\"dataframe\">\n",
       "  <thead>\n",
       "    <tr style=\"text-align: right;\">\n",
       "      <th></th>\n",
       "      <th>id</th>\n",
       "      <th>name</th>\n",
       "      <th>host_id</th>\n",
       "      <th>host_name</th>\n",
       "      <th>neighbourhood_group</th>\n",
       "      <th>neighbourhood</th>\n",
       "      <th>latitude</th>\n",
       "      <th>longitude</th>\n",
       "      <th>room_type</th>\n",
       "      <th>price</th>\n",
       "      <th>minimum_nights</th>\n",
       "      <th>number_of_reviews</th>\n",
       "      <th>last_review</th>\n",
       "      <th>reviews_per_month</th>\n",
       "      <th>calculated_host_listings_count</th>\n",
       "      <th>availability_365</th>\n",
       "    </tr>\n",
       "  </thead>\n",
       "  <tbody>\n",
       "    <tr>\n",
       "      <th>0</th>\n",
       "      <td>2539</td>\n",
       "      <td>Clean &amp; quiet apt home by the park</td>\n",
       "      <td>2787</td>\n",
       "      <td>John</td>\n",
       "      <td>Brooklyn</td>\n",
       "      <td>Kensington</td>\n",
       "      <td>40.64749</td>\n",
       "      <td>-73.97237</td>\n",
       "      <td>Private room</td>\n",
       "      <td>149</td>\n",
       "      <td>1</td>\n",
       "      <td>9</td>\n",
       "      <td>19/10/18</td>\n",
       "      <td>0.21</td>\n",
       "      <td>6</td>\n",
       "      <td>365</td>\n",
       "    </tr>\n",
       "    <tr>\n",
       "      <th>1</th>\n",
       "      <td>2595</td>\n",
       "      <td>Skylit Midtown Castle</td>\n",
       "      <td>2845</td>\n",
       "      <td>Jennifer</td>\n",
       "      <td>Manhattan</td>\n",
       "      <td>Midtown</td>\n",
       "      <td>40.75362</td>\n",
       "      <td>-73.98377</td>\n",
       "      <td>Entire home/apt</td>\n",
       "      <td>225</td>\n",
       "      <td>1</td>\n",
       "      <td>45</td>\n",
       "      <td>21/05/19</td>\n",
       "      <td>0.38</td>\n",
       "      <td>2</td>\n",
       "      <td>355</td>\n",
       "    </tr>\n",
       "    <tr>\n",
       "      <th>2</th>\n",
       "      <td>3647</td>\n",
       "      <td>THE VILLAGE OF HARLEM....NEW YORK !</td>\n",
       "      <td>4632</td>\n",
       "      <td>Elisabeth</td>\n",
       "      <td>Manhattan</td>\n",
       "      <td>Harlem</td>\n",
       "      <td>40.80902</td>\n",
       "      <td>-73.94190</td>\n",
       "      <td>Private room</td>\n",
       "      <td>150</td>\n",
       "      <td>3</td>\n",
       "      <td>0</td>\n",
       "      <td>NaN</td>\n",
       "      <td>NaN</td>\n",
       "      <td>1</td>\n",
       "      <td>365</td>\n",
       "    </tr>\n",
       "    <tr>\n",
       "      <th>3</th>\n",
       "      <td>3831</td>\n",
       "      <td>Cozy Entire Floor of Brownstone</td>\n",
       "      <td>4869</td>\n",
       "      <td>LisaRoxanne</td>\n",
       "      <td>Brooklyn</td>\n",
       "      <td>Clinton Hill</td>\n",
       "      <td>40.68514</td>\n",
       "      <td>-73.95976</td>\n",
       "      <td>Entire home/apt</td>\n",
       "      <td>89</td>\n",
       "      <td>1</td>\n",
       "      <td>270</td>\n",
       "      <td>05/07/19</td>\n",
       "      <td>4.64</td>\n",
       "      <td>1</td>\n",
       "      <td>194</td>\n",
       "    </tr>\n",
       "    <tr>\n",
       "      <th>4</th>\n",
       "      <td>5022</td>\n",
       "      <td>Entire Apt: Spacious Studio/Loft by central park</td>\n",
       "      <td>7192</td>\n",
       "      <td>Laura</td>\n",
       "      <td>Manhattan</td>\n",
       "      <td>East Harlem</td>\n",
       "      <td>40.79851</td>\n",
       "      <td>-73.94399</td>\n",
       "      <td>Entire home/apt</td>\n",
       "      <td>80</td>\n",
       "      <td>10</td>\n",
       "      <td>9</td>\n",
       "      <td>19/11/18</td>\n",
       "      <td>0.10</td>\n",
       "      <td>1</td>\n",
       "      <td>0</td>\n",
       "    </tr>\n",
       "  </tbody>\n",
       "</table>\n",
       "</div>"
      ],
      "text/plain": [
       "     id                                              name  host_id  \\\n",
       "0  2539                Clean & quiet apt home by the park     2787   \n",
       "1  2595                             Skylit Midtown Castle     2845   \n",
       "2  3647               THE VILLAGE OF HARLEM....NEW YORK !     4632   \n",
       "3  3831                   Cozy Entire Floor of Brownstone     4869   \n",
       "4  5022  Entire Apt: Spacious Studio/Loft by central park     7192   \n",
       "\n",
       "     host_name neighbourhood_group neighbourhood  latitude  longitude  \\\n",
       "0         John            Brooklyn    Kensington  40.64749  -73.97237   \n",
       "1     Jennifer           Manhattan       Midtown  40.75362  -73.98377   \n",
       "2    Elisabeth           Manhattan        Harlem  40.80902  -73.94190   \n",
       "3  LisaRoxanne            Brooklyn  Clinton Hill  40.68514  -73.95976   \n",
       "4        Laura           Manhattan   East Harlem  40.79851  -73.94399   \n",
       "\n",
       "         room_type  price  minimum_nights  number_of_reviews last_review  \\\n",
       "0     Private room    149               1                  9    19/10/18   \n",
       "1  Entire home/apt    225               1                 45    21/05/19   \n",
       "2     Private room    150               3                  0         NaN   \n",
       "3  Entire home/apt     89               1                270    05/07/19   \n",
       "4  Entire home/apt     80              10                  9    19/11/18   \n",
       "\n",
       "   reviews_per_month  calculated_host_listings_count  availability_365  \n",
       "0               0.21                               6               365  \n",
       "1               0.38                               2               355  \n",
       "2                NaN                               1               365  \n",
       "3               4.64                               1               194  \n",
       "4               0.10                               1                 0  "
      ]
     },
     "execution_count": 34,
     "metadata": {},
     "output_type": "execute_result"
    }
   ],
   "source": [
    "data_nyc.head()"
   ]
  },
  {
   "cell_type": "code",
   "execution_count": 35,
   "metadata": {},
   "outputs": [],
   "source": [
    "data_nyc = etl.fromdataframe(data_nyc)"
   ]
  },
  {
   "cell_type": "code",
   "execution_count": 36,
   "metadata": {},
   "outputs": [
    {
     "data": {
      "text/html": [
       "<table class='petl'>\n",
       "<thead>\n",
       "<tr>\n",
       "<th>id</th>\n",
       "<th>name</th>\n",
       "<th>host_id</th>\n",
       "<th>host_name</th>\n",
       "<th>neighbourhood_group</th>\n",
       "<th>neighbourhood</th>\n",
       "<th>latitude</th>\n",
       "<th>longitude</th>\n",
       "<th>room_type</th>\n",
       "<th>price</th>\n",
       "<th>minimum_nights</th>\n",
       "<th>number_of_reviews</th>\n",
       "<th>last_review</th>\n",
       "<th>reviews_per_month</th>\n",
       "<th>calculated_host_listings_count</th>\n",
       "<th>availability_365</th>\n",
       "</tr>\n",
       "</thead>\n",
       "<tbody>\n",
       "<tr>\n",
       "<td style='text-align: right'>2539</td>\n",
       "<td>Clean & quiet apt home by the park</td>\n",
       "<td style='text-align: right'>2787</td>\n",
       "<td>John</td>\n",
       "<td>Brooklyn</td>\n",
       "<td>Kensington</td>\n",
       "<td style='text-align: right'>40.647490000000005</td>\n",
       "<td style='text-align: right'>-73.97237</td>\n",
       "<td>Private room</td>\n",
       "<td style='text-align: right'>149</td>\n",
       "<td style='text-align: right'>1</td>\n",
       "<td style='text-align: right'>9</td>\n",
       "<td>19/10/18</td>\n",
       "<td style='text-align: right'>0.21</td>\n",
       "<td style='text-align: right'>6</td>\n",
       "<td style='text-align: right'>365</td>\n",
       "</tr>\n",
       "<tr>\n",
       "<td style='text-align: right'>2595</td>\n",
       "<td>Skylit Midtown Castle</td>\n",
       "<td style='text-align: right'>2845</td>\n",
       "<td>Jennifer</td>\n",
       "<td>Manhattan</td>\n",
       "<td>Midtown</td>\n",
       "<td style='text-align: right'>40.75362</td>\n",
       "<td style='text-align: right'>-73.98376999999999</td>\n",
       "<td>Entire home/apt</td>\n",
       "<td style='text-align: right'>225</td>\n",
       "<td style='text-align: right'>1</td>\n",
       "<td style='text-align: right'>45</td>\n",
       "<td>21/05/19</td>\n",
       "<td style='text-align: right'>0.38</td>\n",
       "<td style='text-align: right'>2</td>\n",
       "<td style='text-align: right'>355</td>\n",
       "</tr>\n",
       "<tr>\n",
       "<td style='text-align: right'>3647</td>\n",
       "<td>THE VILLAGE OF HARLEM....NEW YORK !</td>\n",
       "<td style='text-align: right'>4632</td>\n",
       "<td>Elisabeth</td>\n",
       "<td>Manhattan</td>\n",
       "<td>Harlem</td>\n",
       "<td style='text-align: right'>40.809020000000004</td>\n",
       "<td style='text-align: right'>-73.9419</td>\n",
       "<td>Private room</td>\n",
       "<td style='text-align: right'>150</td>\n",
       "<td style='text-align: right'>3</td>\n",
       "<td style='text-align: right'>0</td>\n",
       "<td style='text-align: right'>nan</td>\n",
       "<td style='text-align: right'>nan</td>\n",
       "<td style='text-align: right'>1</td>\n",
       "<td style='text-align: right'>365</td>\n",
       "</tr>\n",
       "<tr>\n",
       "<td style='text-align: right'>3831</td>\n",
       "<td>Cozy Entire Floor of Brownstone</td>\n",
       "<td style='text-align: right'>4869</td>\n",
       "<td>LisaRoxanne</td>\n",
       "<td>Brooklyn</td>\n",
       "<td>Clinton Hill</td>\n",
       "<td style='text-align: right'>40.685140000000004</td>\n",
       "<td style='text-align: right'>-73.95976</td>\n",
       "<td>Entire home/apt</td>\n",
       "<td style='text-align: right'>89</td>\n",
       "<td style='text-align: right'>1</td>\n",
       "<td style='text-align: right'>270</td>\n",
       "<td>05/07/19</td>\n",
       "<td style='text-align: right'>4.64</td>\n",
       "<td style='text-align: right'>1</td>\n",
       "<td style='text-align: right'>194</td>\n",
       "</tr>\n",
       "<tr>\n",
       "<td style='text-align: right'>5022</td>\n",
       "<td>Entire Apt: Spacious Studio/Loft by central park</td>\n",
       "<td style='text-align: right'>7192</td>\n",
       "<td>Laura</td>\n",
       "<td>Manhattan</td>\n",
       "<td>East Harlem</td>\n",
       "<td style='text-align: right'>40.79851</td>\n",
       "<td style='text-align: right'>-73.94399</td>\n",
       "<td>Entire home/apt</td>\n",
       "<td style='text-align: right'>80</td>\n",
       "<td style='text-align: right'>10</td>\n",
       "<td style='text-align: right'>9</td>\n",
       "<td>19/11/18</td>\n",
       "<td style='text-align: right'>0.1</td>\n",
       "<td style='text-align: right'>1</td>\n",
       "<td style='text-align: right'>0</td>\n",
       "</tr>\n",
       "</tbody>\n",
       "</table>\n",
       "<p><strong>...</strong></p>"
      ]
     },
     "metadata": {},
     "output_type": "display_data"
    }
   ],
   "source": [
    "data_nyc.display()"
   ]
  },
  {
   "cell_type": "code",
   "execution_count": 37,
   "metadata": {},
   "outputs": [],
   "source": [
    "update_minimum_nights = etl.interpolate(data_nyc,\n",
    "                                        'minimum_nights',\n",
    "                                        1, \n",
    "                                        where = lambda r: r.minimum_nights == 3)"
   ]
  },
  {
   "cell_type": "code",
   "execution_count": 39,
   "metadata": {},
   "outputs": [
    {
     "data": {
      "text/html": [
       "<table class='petl'>\n",
       "<thead>\n",
       "<tr>\n",
       "<th>id</th>\n",
       "<th>name</th>\n",
       "<th>host_id</th>\n",
       "<th>host_name</th>\n",
       "<th>neighbourhood_group</th>\n",
       "<th>neighbourhood</th>\n",
       "<th>latitude</th>\n",
       "<th>longitude</th>\n",
       "<th>room_type</th>\n",
       "<th>price</th>\n",
       "<th>minimum_nights</th>\n",
       "<th>number_of_reviews</th>\n",
       "<th>last_review</th>\n",
       "<th>reviews_per_month</th>\n",
       "<th>calculated_host_listings_count</th>\n",
       "<th>availability_365</th>\n",
       "</tr>\n",
       "</thead>\n",
       "<tbody>\n",
       "<tr>\n",
       "<td style='text-align: right'>2539</td>\n",
       "<td>Clean & quiet apt home by the park</td>\n",
       "<td style='text-align: right'>2787</td>\n",
       "<td>John</td>\n",
       "<td>Brooklyn</td>\n",
       "<td>Kensington</td>\n",
       "<td style='text-align: right'>40.647490000000005</td>\n",
       "<td style='text-align: right'>-73.97237</td>\n",
       "<td>Private room</td>\n",
       "<td style='text-align: right'>149</td>\n",
       "<td style='text-align: right'>1</td>\n",
       "<td style='text-align: right'>9</td>\n",
       "<td>19/10/18</td>\n",
       "<td style='text-align: right'>0.21</td>\n",
       "<td style='text-align: right'>6</td>\n",
       "<td style='text-align: right'>365</td>\n",
       "</tr>\n",
       "<tr>\n",
       "<td style='text-align: right'>2595</td>\n",
       "<td>Skylit Midtown Castle</td>\n",
       "<td style='text-align: right'>2845</td>\n",
       "<td>Jennifer</td>\n",
       "<td>Manhattan</td>\n",
       "<td>Midtown</td>\n",
       "<td style='text-align: right'>40.75362</td>\n",
       "<td style='text-align: right'>-73.98376999999999</td>\n",
       "<td>Entire home/apt</td>\n",
       "<td style='text-align: right'>225</td>\n",
       "<td style='text-align: right'>1</td>\n",
       "<td style='text-align: right'>45</td>\n",
       "<td>21/05/19</td>\n",
       "<td style='text-align: right'>0.38</td>\n",
       "<td style='text-align: right'>2</td>\n",
       "<td style='text-align: right'>355</td>\n",
       "</tr>\n",
       "<tr>\n",
       "<td style='text-align: right'>3647</td>\n",
       "<td>THE VILLAGE OF HARLEM....NEW YORK !</td>\n",
       "<td style='text-align: right'>4632</td>\n",
       "<td>Elisabeth</td>\n",
       "<td>Manhattan</td>\n",
       "<td>Harlem</td>\n",
       "<td style='text-align: right'>40.809020000000004</td>\n",
       "<td style='text-align: right'>-73.9419</td>\n",
       "<td>Private room</td>\n",
       "<td style='text-align: right'>150</td>\n",
       "<td style='text-align: right'>1</td>\n",
       "<td style='text-align: right'>0</td>\n",
       "<td style='text-align: right'>nan</td>\n",
       "<td style='text-align: right'>nan</td>\n",
       "<td style='text-align: right'>1</td>\n",
       "<td style='text-align: right'>365</td>\n",
       "</tr>\n",
       "<tr>\n",
       "<td style='text-align: right'>3831</td>\n",
       "<td>Cozy Entire Floor of Brownstone</td>\n",
       "<td style='text-align: right'>4869</td>\n",
       "<td>LisaRoxanne</td>\n",
       "<td>Brooklyn</td>\n",
       "<td>Clinton Hill</td>\n",
       "<td style='text-align: right'>40.685140000000004</td>\n",
       "<td style='text-align: right'>-73.95976</td>\n",
       "<td>Entire home/apt</td>\n",
       "<td style='text-align: right'>89</td>\n",
       "<td style='text-align: right'>1</td>\n",
       "<td style='text-align: right'>270</td>\n",
       "<td>05/07/19</td>\n",
       "<td style='text-align: right'>4.64</td>\n",
       "<td style='text-align: right'>1</td>\n",
       "<td style='text-align: right'>194</td>\n",
       "</tr>\n",
       "<tr>\n",
       "<td style='text-align: right'>5022</td>\n",
       "<td>Entire Apt: Spacious Studio/Loft by central park</td>\n",
       "<td style='text-align: right'>7192</td>\n",
       "<td>Laura</td>\n",
       "<td>Manhattan</td>\n",
       "<td>East Harlem</td>\n",
       "<td style='text-align: right'>40.79851</td>\n",
       "<td style='text-align: right'>-73.94399</td>\n",
       "<td>Entire home/apt</td>\n",
       "<td style='text-align: right'>80</td>\n",
       "<td style='text-align: right'>10</td>\n",
       "<td style='text-align: right'>9</td>\n",
       "<td>19/11/18</td>\n",
       "<td style='text-align: right'>0.1</td>\n",
       "<td style='text-align: right'>1</td>\n",
       "<td style='text-align: right'>0</td>\n",
       "</tr>\n",
       "</tbody>\n",
       "</table>\n",
       "<p><strong>...</strong></p>"
      ]
     },
     "metadata": {},
     "output_type": "display_data"
    }
   ],
   "source": [
    "update_minimum_nights.display()"
   ]
  },
  {
   "cell_type": "code",
   "execution_count": 40,
   "metadata": {},
   "outputs": [],
   "source": [
    "update_data = etl.update(update_minimum_nights, \n",
    "                         'availability_365', \n",
    "                         '-',\n",
    "                         where = lambda x: x.availability_365 == 0)"
   ]
  },
  {
   "cell_type": "code",
   "execution_count": 41,
   "metadata": {},
   "outputs": [
    {
     "data": {
      "text/html": [
       "<table class='petl'>\n",
       "<thead>\n",
       "<tr>\n",
       "<th>id</th>\n",
       "<th>name</th>\n",
       "<th>host_id</th>\n",
       "<th>host_name</th>\n",
       "<th>neighbourhood_group</th>\n",
       "<th>neighbourhood</th>\n",
       "<th>latitude</th>\n",
       "<th>longitude</th>\n",
       "<th>room_type</th>\n",
       "<th>price</th>\n",
       "<th>minimum_nights</th>\n",
       "<th>number_of_reviews</th>\n",
       "<th>last_review</th>\n",
       "<th>reviews_per_month</th>\n",
       "<th>calculated_host_listings_count</th>\n",
       "<th>availability_365</th>\n",
       "</tr>\n",
       "</thead>\n",
       "<tbody>\n",
       "<tr>\n",
       "<td style='text-align: right'>2539</td>\n",
       "<td>Clean & quiet apt home by the park</td>\n",
       "<td style='text-align: right'>2787</td>\n",
       "<td>John</td>\n",
       "<td>Brooklyn</td>\n",
       "<td>Kensington</td>\n",
       "<td style='text-align: right'>40.647490000000005</td>\n",
       "<td style='text-align: right'>-73.97237</td>\n",
       "<td>Private room</td>\n",
       "<td style='text-align: right'>149</td>\n",
       "<td style='text-align: right'>1</td>\n",
       "<td style='text-align: right'>9</td>\n",
       "<td>19/10/18</td>\n",
       "<td style='text-align: right'>0.21</td>\n",
       "<td style='text-align: right'>6</td>\n",
       "<td style='text-align: right'>365</td>\n",
       "</tr>\n",
       "<tr>\n",
       "<td style='text-align: right'>2595</td>\n",
       "<td>Skylit Midtown Castle</td>\n",
       "<td style='text-align: right'>2845</td>\n",
       "<td>Jennifer</td>\n",
       "<td>Manhattan</td>\n",
       "<td>Midtown</td>\n",
       "<td style='text-align: right'>40.75362</td>\n",
       "<td style='text-align: right'>-73.98376999999999</td>\n",
       "<td>Entire home/apt</td>\n",
       "<td style='text-align: right'>225</td>\n",
       "<td style='text-align: right'>1</td>\n",
       "<td style='text-align: right'>45</td>\n",
       "<td>21/05/19</td>\n",
       "<td style='text-align: right'>0.38</td>\n",
       "<td style='text-align: right'>2</td>\n",
       "<td style='text-align: right'>355</td>\n",
       "</tr>\n",
       "<tr>\n",
       "<td style='text-align: right'>3647</td>\n",
       "<td>THE VILLAGE OF HARLEM....NEW YORK !</td>\n",
       "<td style='text-align: right'>4632</td>\n",
       "<td>Elisabeth</td>\n",
       "<td>Manhattan</td>\n",
       "<td>Harlem</td>\n",
       "<td style='text-align: right'>40.809020000000004</td>\n",
       "<td style='text-align: right'>-73.9419</td>\n",
       "<td>Private room</td>\n",
       "<td style='text-align: right'>150</td>\n",
       "<td style='text-align: right'>1</td>\n",
       "<td style='text-align: right'>0</td>\n",
       "<td style='text-align: right'>nan</td>\n",
       "<td style='text-align: right'>nan</td>\n",
       "<td style='text-align: right'>1</td>\n",
       "<td style='text-align: right'>365</td>\n",
       "</tr>\n",
       "<tr>\n",
       "<td style='text-align: right'>3831</td>\n",
       "<td>Cozy Entire Floor of Brownstone</td>\n",
       "<td style='text-align: right'>4869</td>\n",
       "<td>LisaRoxanne</td>\n",
       "<td>Brooklyn</td>\n",
       "<td>Clinton Hill</td>\n",
       "<td style='text-align: right'>40.685140000000004</td>\n",
       "<td style='text-align: right'>-73.95976</td>\n",
       "<td>Entire home/apt</td>\n",
       "<td style='text-align: right'>89</td>\n",
       "<td style='text-align: right'>1</td>\n",
       "<td style='text-align: right'>270</td>\n",
       "<td>05/07/19</td>\n",
       "<td style='text-align: right'>4.64</td>\n",
       "<td style='text-align: right'>1</td>\n",
       "<td style='text-align: right'>194</td>\n",
       "</tr>\n",
       "<tr>\n",
       "<td style='text-align: right'>5022</td>\n",
       "<td>Entire Apt: Spacious Studio/Loft by central park</td>\n",
       "<td style='text-align: right'>7192</td>\n",
       "<td>Laura</td>\n",
       "<td>Manhattan</td>\n",
       "<td>East Harlem</td>\n",
       "<td style='text-align: right'>40.79851</td>\n",
       "<td style='text-align: right'>-73.94399</td>\n",
       "<td>Entire home/apt</td>\n",
       "<td style='text-align: right'>80</td>\n",
       "<td style='text-align: right'>10</td>\n",
       "<td style='text-align: right'>9</td>\n",
       "<td>19/11/18</td>\n",
       "<td style='text-align: right'>0.1</td>\n",
       "<td style='text-align: right'>1</td>\n",
       "<td>-</td>\n",
       "</tr>\n",
       "</tbody>\n",
       "</table>\n",
       "<p><strong>...</strong></p>"
      ],
      "text/plain": [
       "+------+----------------------------------------------------+---------+---------------+---------------------+----------------+--------------------+--------------------+-------------------+-------+----------------+-------------------+-------------+-------------------+--------------------------------+------------------+\n",
       "| id   | name                                               | host_id | host_name     | neighbourhood_group | neighbourhood  | latitude           | longitude          | room_type         | price | minimum_nights | number_of_reviews | last_review | reviews_per_month | calculated_host_listings_count | availability_365 |\n",
       "+======+====================================================+=========+===============+=====================+================+====================+====================+===================+=======+================+===================+=============+===================+================================+==================+\n",
       "| 2539 | 'Clean & quiet apt home by the park'               |    2787 | 'John'        | 'Brooklyn'          | 'Kensington'   | 40.647490000000005 |          -73.97237 | 'Private room'    |   149 |              1 |                 9 | '19/10/18'  |              0.21 |                              6 |              365 |\n",
       "+------+----------------------------------------------------+---------+---------------+---------------------+----------------+--------------------+--------------------+-------------------+-------+----------------+-------------------+-------------+-------------------+--------------------------------+------------------+\n",
       "| 2595 | 'Skylit Midtown Castle'                            |    2845 | 'Jennifer'    | 'Manhattan'         | 'Midtown'      |           40.75362 | -73.98376999999999 | 'Entire home/apt' |   225 |              1 |                45 | '21/05/19'  |              0.38 |                              2 |              355 |\n",
       "+------+----------------------------------------------------+---------+---------------+---------------------+----------------+--------------------+--------------------+-------------------+-------+----------------+-------------------+-------------+-------------------+--------------------------------+------------------+\n",
       "| 3647 | 'THE VILLAGE OF HARLEM....NEW YORK !'              |    4632 | 'Elisabeth'   | 'Manhattan'         | 'Harlem'       | 40.809020000000004 |           -73.9419 | 'Private room'    |   150 |              1 |                 0 |         nan |               nan |                              1 |              365 |\n",
       "+------+----------------------------------------------------+---------+---------------+---------------------+----------------+--------------------+--------------------+-------------------+-------+----------------+-------------------+-------------+-------------------+--------------------------------+------------------+\n",
       "| 3831 | 'Cozy Entire Floor of Brownstone'                  |    4869 | 'LisaRoxanne' | 'Brooklyn'          | 'Clinton Hill' | 40.685140000000004 |          -73.95976 | 'Entire home/apt' |    89 |              1 |               270 | '05/07/19'  |              4.64 |                              1 |              194 |\n",
       "+------+----------------------------------------------------+---------+---------------+---------------------+----------------+--------------------+--------------------+-------------------+-------+----------------+-------------------+-------------+-------------------+--------------------------------+------------------+\n",
       "| 5022 | 'Entire Apt: Spacious Studio/Loft by central park' |    7192 | 'Laura'       | 'Manhattan'         | 'East Harlem'  |           40.79851 |          -73.94399 | 'Entire home/apt' |    80 |             10 |                 9 | '19/11/18'  |               0.1 |                              1 | '-'              |\n",
       "+------+----------------------------------------------------+---------+---------------+---------------------+----------------+--------------------+--------------------+-------------------+-------+----------------+-------------------+-------------+-------------------+--------------------------------+------------------+\n",
       "..."
      ]
     },
     "execution_count": 41,
     "metadata": {},
     "output_type": "execute_result"
    }
   ],
   "source": [
    "update_data"
   ]
  },
  {
   "cell_type": "code",
   "execution_count": null,
   "metadata": {},
   "outputs": [],
   "source": []
  },
  {
   "cell_type": "code",
   "execution_count": null,
   "metadata": {},
   "outputs": [],
   "source": []
  },
  {
   "cell_type": "code",
   "execution_count": null,
   "metadata": {},
   "outputs": [],
   "source": []
  },
  {
   "cell_type": "code",
   "execution_count": null,
   "metadata": {},
   "outputs": [],
   "source": []
  },
  {
   "cell_type": "code",
   "execution_count": null,
   "metadata": {},
   "outputs": [],
   "source": []
  },
  {
   "cell_type": "code",
   "execution_count": null,
   "metadata": {},
   "outputs": [],
   "source": []
  },
  {
   "cell_type": "code",
   "execution_count": null,
   "metadata": {},
   "outputs": [],
   "source": []
  },
  {
   "cell_type": "code",
   "execution_count": null,
   "metadata": {},
   "outputs": [],
   "source": []
  },
  {
   "cell_type": "code",
   "execution_count": null,
   "metadata": {},
   "outputs": [],
   "source": []
  },
  {
   "cell_type": "code",
   "execution_count": null,
   "metadata": {},
   "outputs": [],
   "source": []
  }
 ],
 "metadata": {
  "kernelspec": {
   "display_name": "Python 3",
   "language": "python",
   "name": "python3"
  },
  "language_info": {
   "codemirror_mode": {
    "name": "ipython",
    "version": 3
   },
   "file_extension": ".py",
   "mimetype": "text/x-python",
   "name": "python",
   "nbconvert_exporter": "python",
   "pygments_lexer": "ipython3",
   "version": "3.8.3"
  }
 },
 "nbformat": 4,
 "nbformat_minor": 4
}
