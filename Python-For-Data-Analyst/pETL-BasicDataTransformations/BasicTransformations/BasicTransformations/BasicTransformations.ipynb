{
 "cells": [
  {
   "cell_type": "code",
   "execution_count": 1,
   "metadata": {},
   "outputs": [],
   "source": [
    "import pandas as pd \n",
    "import petl as etl"
   ]
  },
  {
   "cell_type": "code",
   "execution_count": 2,
   "metadata": {},
   "outputs": [],
   "source": [
    "employees_finance_info = [['name', 'designation', 'emp_id', 'rating'],\n",
    "                          ['Alice ', 'manager', 23, 9],\n",
    "                          ['Alvin', 'team lead', 18, 7],\n",
    "                          ['Evan', 'executive', 56, 5],\n",
    "                          ['Ben', 'research analyst', 78, 9],\n",
    "                          ['Bill', 'associate', 3884, 4]]"
   ]
  },
  {
   "cell_type": "code",
   "execution_count": 3,
   "metadata": {},
   "outputs": [],
   "source": [
    "employees_analytics_info = [['name', 'designation', 'emp_id', 'rating'],\n",
    "                            ['Lance ', 'business analyst', 32, 8],\n",
    "                            ['Ellen', 'junior data scientist', 546, 9],\n",
    "                            ['Ernie', 'senior data scientist', 7763, 6],\n",
    "                            ['Geoff', 'data analyst', 998, 7]]"
   ]
  },
  {
   "cell_type": "markdown",
   "metadata": {},
   "source": [
    "#### Choose and/or re-order fields\n",
    "\n",
    "We also explore the display, look and see methods which are different ways to view table data"
   ]
  },
  {
   "cell_type": "code",
   "execution_count": 10,
   "metadata": {},
   "outputs": [],
   "source": [
    "employees_name = etl.cut(employees_finance_info, 'name', 'emp_id')"
   ]
  },
  {
   "cell_type": "code",
   "execution_count": 11,
   "metadata": {},
   "outputs": [
    {
     "data": {
      "text/html": [
       "<table class='petl'>\n",
       "<thead>\n",
       "<tr>\n",
       "<th>name</th>\n",
       "<th>emp_id</th>\n",
       "</tr>\n",
       "</thead>\n",
       "<tbody>\n",
       "<tr>\n",
       "<td>Alice </td>\n",
       "<td style='text-align: right'>23</td>\n",
       "</tr>\n",
       "<tr>\n",
       "<td>Alvin</td>\n",
       "<td style='text-align: right'>18</td>\n",
       "</tr>\n",
       "<tr>\n",
       "<td>Evan</td>\n",
       "<td style='text-align: right'>56</td>\n",
       "</tr>\n",
       "<tr>\n",
       "<td>Ben</td>\n",
       "<td style='text-align: right'>78</td>\n",
       "</tr>\n",
       "<tr>\n",
       "<td>Bill</td>\n",
       "<td style='text-align: right'>3884</td>\n",
       "</tr>\n",
       "</tbody>\n",
       "</table>\n"
      ]
     },
     "metadata": {},
     "output_type": "display_data"
    }
   ],
   "source": [
    "employees_name.display()"
   ]
  },
  {
   "cell_type": "code",
   "execution_count": 12,
   "metadata": {},
   "outputs": [],
   "source": [
    "employee_designation = etl.cut(employees_finance_info, 0, 1)"
   ]
  },
  {
   "cell_type": "code",
   "execution_count": 13,
   "metadata": {},
   "outputs": [
    {
     "data": {
      "text/plain": [
       "+----------+--------------------+\n",
       "| name     | designation        |\n",
       "+==========+====================+\n",
       "| 'Alice ' | 'manager'          |\n",
       "+----------+--------------------+\n",
       "| 'Alvin'  | 'team lead'        |\n",
       "+----------+--------------------+\n",
       "| 'Evan'   | 'executive'        |\n",
       "+----------+--------------------+\n",
       "| 'Ben'    | 'research analyst' |\n",
       "+----------+--------------------+\n",
       "| 'Bill'   | 'associate'        |\n",
       "+----------+--------------------+"
      ]
     },
     "execution_count": 13,
     "metadata": {},
     "output_type": "execute_result"
    }
   ],
   "source": [
    "employee_designation.look()"
   ]
  },
  {
   "cell_type": "code",
   "execution_count": 14,
   "metadata": {},
   "outputs": [],
   "source": [
    "analytics_emp_ratings = etl.cut(employees_analytics_info, 0 , 'rating')"
   ]
  },
  {
   "cell_type": "code",
   "execution_count": 15,
   "metadata": {},
   "outputs": [
    {
     "data": {
      "text/plain": [
       "name: 'Lance ', 'Ellen', 'Ernie', 'Geoff'\n",
       "rating: 8, 9, 6, 7"
      ]
     },
     "execution_count": 15,
     "metadata": {},
     "output_type": "execute_result"
    }
   ],
   "source": [
    "analytics_emp_ratings.see()"
   ]
  },
  {
   "cell_type": "markdown",
   "metadata": {},
   "source": [
    "select a range of fields"
   ]
  },
  {
   "cell_type": "code",
   "execution_count": 16,
   "metadata": {},
   "outputs": [
    {
     "data": {
      "text/html": [
       "<table class='petl'>\n",
       "<thead>\n",
       "<tr>\n",
       "<th>name</th>\n",
       "<th>designation</th>\n",
       "</tr>\n",
       "</thead>\n",
       "<tbody>\n",
       "<tr>\n",
       "<td>Lance </td>\n",
       "<td>business analyst</td>\n",
       "</tr>\n",
       "<tr>\n",
       "<td>Ellen</td>\n",
       "<td>junior data scientist</td>\n",
       "</tr>\n",
       "<tr>\n",
       "<td>Ernie</td>\n",
       "<td>senior data scientist</td>\n",
       "</tr>\n",
       "<tr>\n",
       "<td>Geoff</td>\n",
       "<td>data analyst</td>\n",
       "</tr>\n",
       "</tbody>\n",
       "</table>\n"
      ],
      "text/plain": [
       "+----------+-------------------------+\n",
       "| name     | designation             |\n",
       "+==========+=========================+\n",
       "| 'Lance ' | 'business analyst'      |\n",
       "+----------+-------------------------+\n",
       "| 'Ellen'  | 'junior data scientist' |\n",
       "+----------+-------------------------+\n",
       "| 'Ernie'  | 'senior data scientist' |\n",
       "+----------+-------------------------+\n",
       "| 'Geoff'  | 'data analyst'          |\n",
       "+----------+-------------------------+"
      ]
     },
     "execution_count": 16,
     "metadata": {},
     "output_type": "execute_result"
    }
   ],
   "source": [
    "analytics_emp_designation = etl.cut(employees_analytics_info, *range(0, 2))\n",
    "\n",
    "analytics_emp_designation"
   ]
  },
  {
   "cell_type": "code",
   "execution_count": 17,
   "metadata": {},
   "outputs": [
    {
     "data": {
      "text/html": [
       "<table class='petl'>\n",
       "<thead>\n",
       "<tr>\n",
       "<th>designation</th>\n",
       "<th>emp_id</th>\n",
       "<th>rating</th>\n",
       "</tr>\n",
       "</thead>\n",
       "<tbody>\n",
       "<tr>\n",
       "<td>business analyst</td>\n",
       "<td style='text-align: right'>32</td>\n",
       "<td style='text-align: right'>8</td>\n",
       "</tr>\n",
       "<tr>\n",
       "<td>junior data scientist</td>\n",
       "<td style='text-align: right'>546</td>\n",
       "<td style='text-align: right'>9</td>\n",
       "</tr>\n",
       "<tr>\n",
       "<td>senior data scientist</td>\n",
       "<td style='text-align: right'>7763</td>\n",
       "<td style='text-align: right'>6</td>\n",
       "</tr>\n",
       "<tr>\n",
       "<td>data analyst</td>\n",
       "<td style='text-align: right'>998</td>\n",
       "<td style='text-align: right'>7</td>\n",
       "</tr>\n",
       "</tbody>\n",
       "</table>\n"
      ],
      "text/plain": [
       "+-------------------------+--------+--------+\n",
       "| designation             | emp_id | rating |\n",
       "+=========================+========+========+\n",
       "| 'business analyst'      |     32 |      8 |\n",
       "+-------------------------+--------+--------+\n",
       "| 'junior data scientist' |    546 |      9 |\n",
       "+-------------------------+--------+--------+\n",
       "| 'senior data scientist' |   7763 |      6 |\n",
       "+-------------------------+--------+--------+\n",
       "| 'data analyst'          |    998 |      7 |\n",
       "+-------------------------+--------+--------+"
      ]
     },
     "execution_count": 17,
     "metadata": {},
     "output_type": "execute_result"
    }
   ],
   "source": [
    "etl.cut(employees_analytics_info, *range(1, 4))"
   ]
  },
  {
   "cell_type": "markdown",
   "metadata": {},
   "source": [
    "#### Make sure the range specified is not out of bounds\n",
    "This will throw an error"
   ]
  },
  {
   "cell_type": "code",
   "execution_count": 18,
   "metadata": {},
   "outputs": [
    {
     "ename": "FieldSelectionError",
     "evalue": "selection is not a field or valid field index: 4",
     "output_type": "error",
     "traceback": [
      "\u001b[0;31m---------------------------------------------------------------------------\u001b[0m",
      "\u001b[0;31mFieldSelectionError\u001b[0m                       Traceback (most recent call last)",
      "\u001b[0;32m/opt/anaconda3/lib/python3.8/site-packages/IPython/core/formatters.py\u001b[0m in \u001b[0;36m__call__\u001b[0;34m(self, obj)\u001b[0m\n\u001b[1;32m    700\u001b[0m                 \u001b[0mtype_pprinters\u001b[0m\u001b[0;34m=\u001b[0m\u001b[0mself\u001b[0m\u001b[0;34m.\u001b[0m\u001b[0mtype_printers\u001b[0m\u001b[0;34m,\u001b[0m\u001b[0;34m\u001b[0m\u001b[0;34m\u001b[0m\u001b[0m\n\u001b[1;32m    701\u001b[0m                 deferred_pprinters=self.deferred_printers)\n\u001b[0;32m--> 702\u001b[0;31m             \u001b[0mprinter\u001b[0m\u001b[0;34m.\u001b[0m\u001b[0mpretty\u001b[0m\u001b[0;34m(\u001b[0m\u001b[0mobj\u001b[0m\u001b[0;34m)\u001b[0m\u001b[0;34m\u001b[0m\u001b[0;34m\u001b[0m\u001b[0m\n\u001b[0m\u001b[1;32m    703\u001b[0m             \u001b[0mprinter\u001b[0m\u001b[0;34m.\u001b[0m\u001b[0mflush\u001b[0m\u001b[0;34m(\u001b[0m\u001b[0;34m)\u001b[0m\u001b[0;34m\u001b[0m\u001b[0;34m\u001b[0m\u001b[0m\n\u001b[1;32m    704\u001b[0m             \u001b[0;32mreturn\u001b[0m \u001b[0mstream\u001b[0m\u001b[0;34m.\u001b[0m\u001b[0mgetvalue\u001b[0m\u001b[0;34m(\u001b[0m\u001b[0;34m)\u001b[0m\u001b[0;34m\u001b[0m\u001b[0;34m\u001b[0m\u001b[0m\n",
      "\u001b[0;32m/opt/anaconda3/lib/python3.8/site-packages/IPython/lib/pretty.py\u001b[0m in \u001b[0;36mpretty\u001b[0;34m(self, obj)\u001b[0m\n\u001b[1;32m    392\u001b[0m                         \u001b[0;32mif\u001b[0m \u001b[0mcls\u001b[0m \u001b[0;32mis\u001b[0m \u001b[0;32mnot\u001b[0m \u001b[0mobject\u001b[0m\u001b[0;31m \u001b[0m\u001b[0;31m\\\u001b[0m\u001b[0;34m\u001b[0m\u001b[0;34m\u001b[0m\u001b[0m\n\u001b[1;32m    393\u001b[0m                                 \u001b[0;32mand\u001b[0m \u001b[0mcallable\u001b[0m\u001b[0;34m(\u001b[0m\u001b[0mcls\u001b[0m\u001b[0;34m.\u001b[0m\u001b[0m__dict__\u001b[0m\u001b[0;34m.\u001b[0m\u001b[0mget\u001b[0m\u001b[0;34m(\u001b[0m\u001b[0;34m'__repr__'\u001b[0m\u001b[0;34m)\u001b[0m\u001b[0;34m)\u001b[0m\u001b[0;34m:\u001b[0m\u001b[0;34m\u001b[0m\u001b[0;34m\u001b[0m\u001b[0m\n\u001b[0;32m--> 394\u001b[0;31m                             \u001b[0;32mreturn\u001b[0m \u001b[0m_repr_pprint\u001b[0m\u001b[0;34m(\u001b[0m\u001b[0mobj\u001b[0m\u001b[0;34m,\u001b[0m \u001b[0mself\u001b[0m\u001b[0;34m,\u001b[0m \u001b[0mcycle\u001b[0m\u001b[0;34m)\u001b[0m\u001b[0;34m\u001b[0m\u001b[0;34m\u001b[0m\u001b[0m\n\u001b[0m\u001b[1;32m    395\u001b[0m \u001b[0;34m\u001b[0m\u001b[0m\n\u001b[1;32m    396\u001b[0m             \u001b[0;32mreturn\u001b[0m \u001b[0m_default_pprint\u001b[0m\u001b[0;34m(\u001b[0m\u001b[0mobj\u001b[0m\u001b[0;34m,\u001b[0m \u001b[0mself\u001b[0m\u001b[0;34m,\u001b[0m \u001b[0mcycle\u001b[0m\u001b[0;34m)\u001b[0m\u001b[0;34m\u001b[0m\u001b[0;34m\u001b[0m\u001b[0m\n",
      "\u001b[0;32m/opt/anaconda3/lib/python3.8/site-packages/IPython/lib/pretty.py\u001b[0m in \u001b[0;36m_repr_pprint\u001b[0;34m(obj, p, cycle)\u001b[0m\n\u001b[1;32m    698\u001b[0m     \u001b[0;34m\"\"\"A pprint that just redirects to the normal repr function.\"\"\"\u001b[0m\u001b[0;34m\u001b[0m\u001b[0;34m\u001b[0m\u001b[0m\n\u001b[1;32m    699\u001b[0m     \u001b[0;31m# Find newlines and replace them with p.break_()\u001b[0m\u001b[0;34m\u001b[0m\u001b[0;34m\u001b[0m\u001b[0;34m\u001b[0m\u001b[0m\n\u001b[0;32m--> 700\u001b[0;31m     \u001b[0moutput\u001b[0m \u001b[0;34m=\u001b[0m \u001b[0mrepr\u001b[0m\u001b[0;34m(\u001b[0m\u001b[0mobj\u001b[0m\u001b[0;34m)\u001b[0m\u001b[0;34m\u001b[0m\u001b[0;34m\u001b[0m\u001b[0m\n\u001b[0m\u001b[1;32m    701\u001b[0m     \u001b[0mlines\u001b[0m \u001b[0;34m=\u001b[0m \u001b[0moutput\u001b[0m\u001b[0;34m.\u001b[0m\u001b[0msplitlines\u001b[0m\u001b[0;34m(\u001b[0m\u001b[0;34m)\u001b[0m\u001b[0;34m\u001b[0m\u001b[0;34m\u001b[0m\u001b[0m\n\u001b[1;32m    702\u001b[0m     \u001b[0;32mwith\u001b[0m \u001b[0mp\u001b[0m\u001b[0;34m.\u001b[0m\u001b[0mgroup\u001b[0m\u001b[0;34m(\u001b[0m\u001b[0;34m)\u001b[0m\u001b[0;34m:\u001b[0m\u001b[0;34m\u001b[0m\u001b[0;34m\u001b[0m\u001b[0m\n",
      "\u001b[0;32m/opt/anaconda3/lib/python3.8/site-packages/petl/util/vis.py\u001b[0m in \u001b[0;36m_table_repr\u001b[0;34m(table)\u001b[0m\n\u001b[1;32m    133\u001b[0m \u001b[0;34m\u001b[0m\u001b[0m\n\u001b[1;32m    134\u001b[0m \u001b[0;32mdef\u001b[0m \u001b[0m_table_repr\u001b[0m\u001b[0;34m(\u001b[0m\u001b[0mtable\u001b[0m\u001b[0;34m)\u001b[0m\u001b[0;34m:\u001b[0m\u001b[0;34m\u001b[0m\u001b[0;34m\u001b[0m\u001b[0m\n\u001b[0;32m--> 135\u001b[0;31m     \u001b[0;32mreturn\u001b[0m \u001b[0mstr\u001b[0m\u001b[0;34m(\u001b[0m\u001b[0mlook\u001b[0m\u001b[0;34m(\u001b[0m\u001b[0mtable\u001b[0m\u001b[0;34m)\u001b[0m\u001b[0;34m)\u001b[0m\u001b[0;34m\u001b[0m\u001b[0;34m\u001b[0m\u001b[0m\n\u001b[0m\u001b[1;32m    136\u001b[0m \u001b[0;34m\u001b[0m\u001b[0m\n\u001b[1;32m    137\u001b[0m \u001b[0;34m\u001b[0m\u001b[0m\n",
      "\u001b[0;32m/opt/anaconda3/lib/python3.8/site-packages/petl/util/vis.py\u001b[0m in \u001b[0;36m__repr__\u001b[0;34m(self)\u001b[0m\n\u001b[1;32m    102\u001b[0m \u001b[0;34m\u001b[0m\u001b[0m\n\u001b[1;32m    103\u001b[0m         \u001b[0;31m# determine if table overflows limit\u001b[0m\u001b[0;34m\u001b[0m\u001b[0;34m\u001b[0m\u001b[0;34m\u001b[0m\u001b[0m\n\u001b[0;32m--> 104\u001b[0;31m         \u001b[0mtable\u001b[0m\u001b[0;34m,\u001b[0m \u001b[0moverflow\u001b[0m \u001b[0;34m=\u001b[0m \u001b[0m_vis_overflow\u001b[0m\u001b[0;34m(\u001b[0m\u001b[0mself\u001b[0m\u001b[0;34m.\u001b[0m\u001b[0mtable\u001b[0m\u001b[0;34m,\u001b[0m \u001b[0mself\u001b[0m\u001b[0;34m.\u001b[0m\u001b[0mlimit\u001b[0m\u001b[0;34m)\u001b[0m\u001b[0;34m\u001b[0m\u001b[0;34m\u001b[0m\u001b[0m\n\u001b[0m\u001b[1;32m    105\u001b[0m \u001b[0;34m\u001b[0m\u001b[0m\n\u001b[1;32m    106\u001b[0m         \u001b[0;31m# construct output\u001b[0m\u001b[0;34m\u001b[0m\u001b[0;34m\u001b[0m\u001b[0;34m\u001b[0m\u001b[0m\n",
      "\u001b[0;32m/opt/anaconda3/lib/python3.8/site-packages/petl/util/vis.py\u001b[0m in \u001b[0;36m_vis_overflow\u001b[0;34m(table, limit)\u001b[0m\n\u001b[1;32m    526\u001b[0m     \u001b[0;32mif\u001b[0m \u001b[0mlimit\u001b[0m\u001b[0;34m:\u001b[0m\u001b[0;34m\u001b[0m\u001b[0;34m\u001b[0m\u001b[0m\n\u001b[1;32m    527\u001b[0m         \u001b[0;31m# try reading one more than the limit, to see if there are more rows\u001b[0m\u001b[0;34m\u001b[0m\u001b[0;34m\u001b[0m\u001b[0;34m\u001b[0m\u001b[0m\n\u001b[0;32m--> 528\u001b[0;31m         \u001b[0mtable\u001b[0m \u001b[0;34m=\u001b[0m \u001b[0mlist\u001b[0m\u001b[0;34m(\u001b[0m\u001b[0mislice\u001b[0m\u001b[0;34m(\u001b[0m\u001b[0mtable\u001b[0m\u001b[0;34m,\u001b[0m \u001b[0;36m0\u001b[0m\u001b[0;34m,\u001b[0m \u001b[0mlimit\u001b[0m\u001b[0;34m+\u001b[0m\u001b[0;36m2\u001b[0m\u001b[0;34m)\u001b[0m\u001b[0;34m)\u001b[0m\u001b[0;34m\u001b[0m\u001b[0;34m\u001b[0m\u001b[0m\n\u001b[0m\u001b[1;32m    529\u001b[0m         \u001b[0;32mif\u001b[0m \u001b[0mlen\u001b[0m\u001b[0;34m(\u001b[0m\u001b[0mtable\u001b[0m\u001b[0;34m)\u001b[0m \u001b[0;34m>\u001b[0m \u001b[0mlimit\u001b[0m\u001b[0;34m+\u001b[0m\u001b[0;36m1\u001b[0m\u001b[0;34m:\u001b[0m\u001b[0;34m\u001b[0m\u001b[0;34m\u001b[0m\u001b[0m\n\u001b[1;32m    530\u001b[0m             \u001b[0moverflow\u001b[0m \u001b[0;34m=\u001b[0m \u001b[0;32mTrue\u001b[0m\u001b[0;34m\u001b[0m\u001b[0;34m\u001b[0m\u001b[0m\n",
      "\u001b[0;32m/opt/anaconda3/lib/python3.8/site-packages/petl/transform/basics.py\u001b[0m in \u001b[0;36mitercut\u001b[0;34m(source, spec, missing)\u001b[0m\n\u001b[1;32m    132\u001b[0m     \u001b[0;31m# convert field selection into field indices\u001b[0m\u001b[0;34m\u001b[0m\u001b[0;34m\u001b[0m\u001b[0;34m\u001b[0m\u001b[0m\n\u001b[1;32m    133\u001b[0m     \u001b[0mhdr\u001b[0m \u001b[0;34m=\u001b[0m \u001b[0mnext\u001b[0m\u001b[0;34m(\u001b[0m\u001b[0mit\u001b[0m\u001b[0;34m)\u001b[0m\u001b[0;34m\u001b[0m\u001b[0;34m\u001b[0m\u001b[0m\n\u001b[0;32m--> 134\u001b[0;31m     \u001b[0mindices\u001b[0m \u001b[0;34m=\u001b[0m \u001b[0masindices\u001b[0m\u001b[0;34m(\u001b[0m\u001b[0mhdr\u001b[0m\u001b[0;34m,\u001b[0m \u001b[0mspec\u001b[0m\u001b[0;34m)\u001b[0m\u001b[0;34m\u001b[0m\u001b[0;34m\u001b[0m\u001b[0m\n\u001b[0m\u001b[1;32m    135\u001b[0m \u001b[0;34m\u001b[0m\u001b[0m\n\u001b[1;32m    136\u001b[0m     \u001b[0;31m# define a function to transform each row in the source data\u001b[0m\u001b[0;34m\u001b[0m\u001b[0;34m\u001b[0m\u001b[0;34m\u001b[0m\u001b[0m\n",
      "\u001b[0;32m/opt/anaconda3/lib/python3.8/site-packages/petl/util/base.py\u001b[0m in \u001b[0;36masindices\u001b[0;34m(hdr, spec)\u001b[0m\n\u001b[1;32m    295\u001b[0m             \u001b[0mindices\u001b[0m\u001b[0;34m.\u001b[0m\u001b[0mappend\u001b[0m\u001b[0;34m(\u001b[0m\u001b[0mflds\u001b[0m\u001b[0;34m.\u001b[0m\u001b[0mindex\u001b[0m\u001b[0;34m(\u001b[0m\u001b[0ms\u001b[0m\u001b[0;34m)\u001b[0m\u001b[0;34m)\u001b[0m\u001b[0;34m\u001b[0m\u001b[0;34m\u001b[0m\u001b[0m\n\u001b[1;32m    296\u001b[0m         \u001b[0;32melse\u001b[0m\u001b[0;34m:\u001b[0m\u001b[0;34m\u001b[0m\u001b[0;34m\u001b[0m\u001b[0m\n\u001b[0;32m--> 297\u001b[0;31m             \u001b[0;32mraise\u001b[0m \u001b[0mFieldSelectionError\u001b[0m\u001b[0;34m(\u001b[0m\u001b[0ms\u001b[0m\u001b[0;34m)\u001b[0m\u001b[0;34m\u001b[0m\u001b[0;34m\u001b[0m\u001b[0m\n\u001b[0m\u001b[1;32m    298\u001b[0m     \u001b[0;32mreturn\u001b[0m \u001b[0mindices\u001b[0m\u001b[0;34m\u001b[0m\u001b[0;34m\u001b[0m\u001b[0m\n\u001b[1;32m    299\u001b[0m \u001b[0;34m\u001b[0m\u001b[0m\n",
      "\u001b[0;31mFieldSelectionError\u001b[0m: selection is not a field or valid field index: 4"
     ]
    },
    {
     "ename": "FieldSelectionError",
     "evalue": "selection is not a field or valid field index: 4",
     "output_type": "error",
     "traceback": [
      "\u001b[0;31m---------------------------------------------------------------------------\u001b[0m",
      "\u001b[0;31mFieldSelectionError\u001b[0m                       Traceback (most recent call last)",
      "\u001b[0;32m/opt/anaconda3/lib/python3.8/site-packages/IPython/core/formatters.py\u001b[0m in \u001b[0;36m__call__\u001b[0;34m(self, obj)\u001b[0m\n\u001b[1;32m    343\u001b[0m             \u001b[0mmethod\u001b[0m \u001b[0;34m=\u001b[0m \u001b[0mget_real_method\u001b[0m\u001b[0;34m(\u001b[0m\u001b[0mobj\u001b[0m\u001b[0;34m,\u001b[0m \u001b[0mself\u001b[0m\u001b[0;34m.\u001b[0m\u001b[0mprint_method\u001b[0m\u001b[0;34m)\u001b[0m\u001b[0;34m\u001b[0m\u001b[0;34m\u001b[0m\u001b[0m\n\u001b[1;32m    344\u001b[0m             \u001b[0;32mif\u001b[0m \u001b[0mmethod\u001b[0m \u001b[0;32mis\u001b[0m \u001b[0;32mnot\u001b[0m \u001b[0;32mNone\u001b[0m\u001b[0;34m:\u001b[0m\u001b[0;34m\u001b[0m\u001b[0;34m\u001b[0m\u001b[0m\n\u001b[0;32m--> 345\u001b[0;31m                 \u001b[0;32mreturn\u001b[0m \u001b[0mmethod\u001b[0m\u001b[0;34m(\u001b[0m\u001b[0;34m)\u001b[0m\u001b[0;34m\u001b[0m\u001b[0;34m\u001b[0m\u001b[0m\n\u001b[0m\u001b[1;32m    346\u001b[0m             \u001b[0;32mreturn\u001b[0m \u001b[0;32mNone\u001b[0m\u001b[0;34m\u001b[0m\u001b[0;34m\u001b[0m\u001b[0m\n\u001b[1;32m    347\u001b[0m         \u001b[0;32melse\u001b[0m\u001b[0;34m:\u001b[0m\u001b[0;34m\u001b[0m\u001b[0;34m\u001b[0m\u001b[0m\n",
      "\u001b[0;32m/opt/anaconda3/lib/python3.8/site-packages/petl/util/vis.py\u001b[0m in \u001b[0;36m_display_html\u001b[0;34m(table, limit, vrepr, index_header, caption, tr_style, td_styles, encoding, truncate, epilogue)\u001b[0m\n\u001b[1;32m    547\u001b[0m         \u001b[0mencoding\u001b[0m \u001b[0;34m=\u001b[0m \u001b[0mlocale\u001b[0m\u001b[0;34m.\u001b[0m\u001b[0mgetpreferredencoding\u001b[0m\u001b[0;34m(\u001b[0m\u001b[0;34m)\u001b[0m\u001b[0;34m\u001b[0m\u001b[0;34m\u001b[0m\u001b[0m\n\u001b[1;32m    548\u001b[0m \u001b[0;34m\u001b[0m\u001b[0m\n\u001b[0;32m--> 549\u001b[0;31m     \u001b[0mtable\u001b[0m\u001b[0;34m,\u001b[0m \u001b[0moverflow\u001b[0m \u001b[0;34m=\u001b[0m \u001b[0m_vis_overflow\u001b[0m\u001b[0;34m(\u001b[0m\u001b[0mtable\u001b[0m\u001b[0;34m,\u001b[0m \u001b[0mlimit\u001b[0m\u001b[0;34m)\u001b[0m\u001b[0;34m\u001b[0m\u001b[0;34m\u001b[0m\u001b[0m\n\u001b[0m\u001b[1;32m    550\u001b[0m     \u001b[0mbuf\u001b[0m \u001b[0;34m=\u001b[0m \u001b[0mMemorySource\u001b[0m\u001b[0;34m(\u001b[0m\u001b[0;34m)\u001b[0m\u001b[0;34m\u001b[0m\u001b[0;34m\u001b[0m\u001b[0m\n\u001b[1;32m    551\u001b[0m     tohtml(table, buf, encoding=encoding, index_header=index_header,\n",
      "\u001b[0;32m/opt/anaconda3/lib/python3.8/site-packages/petl/util/vis.py\u001b[0m in \u001b[0;36m_vis_overflow\u001b[0;34m(table, limit)\u001b[0m\n\u001b[1;32m    526\u001b[0m     \u001b[0;32mif\u001b[0m \u001b[0mlimit\u001b[0m\u001b[0;34m:\u001b[0m\u001b[0;34m\u001b[0m\u001b[0;34m\u001b[0m\u001b[0m\n\u001b[1;32m    527\u001b[0m         \u001b[0;31m# try reading one more than the limit, to see if there are more rows\u001b[0m\u001b[0;34m\u001b[0m\u001b[0;34m\u001b[0m\u001b[0;34m\u001b[0m\u001b[0m\n\u001b[0;32m--> 528\u001b[0;31m         \u001b[0mtable\u001b[0m \u001b[0;34m=\u001b[0m \u001b[0mlist\u001b[0m\u001b[0;34m(\u001b[0m\u001b[0mislice\u001b[0m\u001b[0;34m(\u001b[0m\u001b[0mtable\u001b[0m\u001b[0;34m,\u001b[0m \u001b[0;36m0\u001b[0m\u001b[0;34m,\u001b[0m \u001b[0mlimit\u001b[0m\u001b[0;34m+\u001b[0m\u001b[0;36m2\u001b[0m\u001b[0;34m)\u001b[0m\u001b[0;34m)\u001b[0m\u001b[0;34m\u001b[0m\u001b[0;34m\u001b[0m\u001b[0m\n\u001b[0m\u001b[1;32m    529\u001b[0m         \u001b[0;32mif\u001b[0m \u001b[0mlen\u001b[0m\u001b[0;34m(\u001b[0m\u001b[0mtable\u001b[0m\u001b[0;34m)\u001b[0m \u001b[0;34m>\u001b[0m \u001b[0mlimit\u001b[0m\u001b[0;34m+\u001b[0m\u001b[0;36m1\u001b[0m\u001b[0;34m:\u001b[0m\u001b[0;34m\u001b[0m\u001b[0;34m\u001b[0m\u001b[0m\n\u001b[1;32m    530\u001b[0m             \u001b[0moverflow\u001b[0m \u001b[0;34m=\u001b[0m \u001b[0;32mTrue\u001b[0m\u001b[0;34m\u001b[0m\u001b[0;34m\u001b[0m\u001b[0m\n",
      "\u001b[0;32m/opt/anaconda3/lib/python3.8/site-packages/petl/transform/basics.py\u001b[0m in \u001b[0;36mitercut\u001b[0;34m(source, spec, missing)\u001b[0m\n\u001b[1;32m    132\u001b[0m     \u001b[0;31m# convert field selection into field indices\u001b[0m\u001b[0;34m\u001b[0m\u001b[0;34m\u001b[0m\u001b[0;34m\u001b[0m\u001b[0m\n\u001b[1;32m    133\u001b[0m     \u001b[0mhdr\u001b[0m \u001b[0;34m=\u001b[0m \u001b[0mnext\u001b[0m\u001b[0;34m(\u001b[0m\u001b[0mit\u001b[0m\u001b[0;34m)\u001b[0m\u001b[0;34m\u001b[0m\u001b[0;34m\u001b[0m\u001b[0m\n\u001b[0;32m--> 134\u001b[0;31m     \u001b[0mindices\u001b[0m \u001b[0;34m=\u001b[0m \u001b[0masindices\u001b[0m\u001b[0;34m(\u001b[0m\u001b[0mhdr\u001b[0m\u001b[0;34m,\u001b[0m \u001b[0mspec\u001b[0m\u001b[0;34m)\u001b[0m\u001b[0;34m\u001b[0m\u001b[0;34m\u001b[0m\u001b[0m\n\u001b[0m\u001b[1;32m    135\u001b[0m \u001b[0;34m\u001b[0m\u001b[0m\n\u001b[1;32m    136\u001b[0m     \u001b[0;31m# define a function to transform each row in the source data\u001b[0m\u001b[0;34m\u001b[0m\u001b[0;34m\u001b[0m\u001b[0;34m\u001b[0m\u001b[0m\n",
      "\u001b[0;32m/opt/anaconda3/lib/python3.8/site-packages/petl/util/base.py\u001b[0m in \u001b[0;36masindices\u001b[0;34m(hdr, spec)\u001b[0m\n\u001b[1;32m    295\u001b[0m             \u001b[0mindices\u001b[0m\u001b[0;34m.\u001b[0m\u001b[0mappend\u001b[0m\u001b[0;34m(\u001b[0m\u001b[0mflds\u001b[0m\u001b[0;34m.\u001b[0m\u001b[0mindex\u001b[0m\u001b[0;34m(\u001b[0m\u001b[0ms\u001b[0m\u001b[0;34m)\u001b[0m\u001b[0;34m)\u001b[0m\u001b[0;34m\u001b[0m\u001b[0;34m\u001b[0m\u001b[0m\n\u001b[1;32m    296\u001b[0m         \u001b[0;32melse\u001b[0m\u001b[0;34m:\u001b[0m\u001b[0;34m\u001b[0m\u001b[0;34m\u001b[0m\u001b[0m\n\u001b[0;32m--> 297\u001b[0;31m             \u001b[0;32mraise\u001b[0m \u001b[0mFieldSelectionError\u001b[0m\u001b[0;34m(\u001b[0m\u001b[0ms\u001b[0m\u001b[0;34m)\u001b[0m\u001b[0;34m\u001b[0m\u001b[0;34m\u001b[0m\u001b[0m\n\u001b[0m\u001b[1;32m    298\u001b[0m     \u001b[0;32mreturn\u001b[0m \u001b[0mindices\u001b[0m\u001b[0;34m\u001b[0m\u001b[0;34m\u001b[0m\u001b[0m\n\u001b[1;32m    299\u001b[0m \u001b[0;34m\u001b[0m\u001b[0m\n",
      "\u001b[0;31mFieldSelectionError\u001b[0m: selection is not a field or valid field index: 4"
     ]
    }
   ],
   "source": [
    "etl.cut(employees_analytics_info, *range(1, 7))"
   ]
  },
  {
   "cell_type": "code",
   "execution_count": 19,
   "metadata": {},
   "outputs": [
    {
     "data": {
      "text/html": [
       "<table class='petl'>\n",
       "<thead>\n",
       "<tr>\n",
       "<th>name</th>\n",
       "<th>designation</th>\n",
       "<th>emp_id</th>\n",
       "</tr>\n",
       "</thead>\n",
       "<tbody>\n",
       "<tr>\n",
       "<td>Lance </td>\n",
       "<td>business analyst</td>\n",
       "<td style='text-align: right'>32</td>\n",
       "</tr>\n",
       "<tr>\n",
       "<td>Ellen</td>\n",
       "<td>junior data scientist</td>\n",
       "<td style='text-align: right'>546</td>\n",
       "</tr>\n",
       "<tr>\n",
       "<td>Ernie</td>\n",
       "<td>senior data scientist</td>\n",
       "<td style='text-align: right'>7763</td>\n",
       "</tr>\n",
       "<tr>\n",
       "<td>Geoff</td>\n",
       "<td>data analyst</td>\n",
       "<td style='text-align: right'>998</td>\n",
       "</tr>\n",
       "</tbody>\n",
       "</table>\n"
      ],
      "text/plain": [
       "+----------+-------------------------+--------+\n",
       "| name     | designation             | emp_id |\n",
       "+==========+=========================+========+\n",
       "| 'Lance ' | 'business analyst'      |     32 |\n",
       "+----------+-------------------------+--------+\n",
       "| 'Ellen'  | 'junior data scientist' |    546 |\n",
       "+----------+-------------------------+--------+\n",
       "| 'Ernie'  | 'senior data scientist' |   7763 |\n",
       "+----------+-------------------------+--------+\n",
       "| 'Geoff'  | 'data analyst'          |    998 |\n",
       "+----------+-------------------------+--------+"
      ]
     },
     "execution_count": 19,
     "metadata": {},
     "output_type": "execute_result"
    }
   ],
   "source": [
    "emp_designation_id = etl.cutout(employees_analytics_info, 'rating')\n",
    "\n",
    "emp_designation_id"
   ]
  },
  {
   "cell_type": "markdown",
   "metadata": {},
   "source": [
    "#### Vertical concatenation\n",
    "The annex method joins two or more tables by \"row order\" i.e. vertical concatenation"
   ]
  },
  {
   "cell_type": "code",
   "execution_count": 25,
   "metadata": {},
   "outputs": [
    {
     "data": {
      "text/html": [
       "<table class='petl'>\n",
       "<thead>\n",
       "<tr>\n",
       "<th>name</th>\n",
       "<th>designation</th>\n",
       "<th>emp_id</th>\n",
       "<th>name</th>\n",
       "<th>rating</th>\n",
       "</tr>\n",
       "</thead>\n",
       "<tbody>\n",
       "<tr>\n",
       "<td>Lance </td>\n",
       "<td>business analyst</td>\n",
       "<td style='text-align: right'>32</td>\n",
       "<td>Lance </td>\n",
       "<td style='text-align: right'>8</td>\n",
       "</tr>\n",
       "<tr>\n",
       "<td>Ellen</td>\n",
       "<td>junior data scientist</td>\n",
       "<td style='text-align: right'>546</td>\n",
       "<td>Ellen</td>\n",
       "<td style='text-align: right'>9</td>\n",
       "</tr>\n",
       "<tr>\n",
       "<td>Ernie</td>\n",
       "<td>senior data scientist</td>\n",
       "<td style='text-align: right'>7763</td>\n",
       "<td>Ernie</td>\n",
       "<td style='text-align: right'>6</td>\n",
       "</tr>\n",
       "<tr>\n",
       "<td>Geoff</td>\n",
       "<td>data analyst</td>\n",
       "<td style='text-align: right'>998</td>\n",
       "<td>Geoff</td>\n",
       "<td style='text-align: right'>7</td>\n",
       "</tr>\n",
       "</tbody>\n",
       "</table>\n"
      ],
      "text/plain": [
       "+----------+-------------------------+--------+----------+--------+\n",
       "| name     | designation             | emp_id | name     | rating |\n",
       "+==========+=========================+========+==========+========+\n",
       "| 'Lance ' | 'business analyst'      |     32 | 'Lance ' |      8 |\n",
       "+----------+-------------------------+--------+----------+--------+\n",
       "| 'Ellen'  | 'junior data scientist' |    546 | 'Ellen'  |      9 |\n",
       "+----------+-------------------------+--------+----------+--------+\n",
       "| 'Ernie'  | 'senior data scientist' |   7763 | 'Ernie'  |      6 |\n",
       "+----------+-------------------------+--------+----------+--------+\n",
       "| 'Geoff'  | 'data analyst'          |    998 | 'Geoff'  |      7 |\n",
       "+----------+-------------------------+--------+----------+--------+"
      ]
     },
     "execution_count": 25,
     "metadata": {},
     "output_type": "execute_result"
    }
   ],
   "source": [
    "emp_full_info = etl.annex(emp_designation_id, analytics_emp_ratings)\n",
    "\n",
    "emp_full_info"
   ]
  },
  {
   "cell_type": "markdown",
   "metadata": {},
   "source": [
    "#### Concatenate tables horizontally"
   ]
  },
  {
   "cell_type": "code",
   "execution_count": 26,
   "metadata": {},
   "outputs": [
    {
     "data": {
      "text/plain": [
       "[['name', 'designation', 'emp_id', 'rating'],\n",
       " ['Alice ', 'manager', 23, 9],\n",
       " ['Alvin', 'team lead', 18, 7],\n",
       " ['Evan', 'executive', 56, 5],\n",
       " ['Ben', 'research analyst', 78, 9],\n",
       " ['Bill', 'associate', 3884, 4]]"
      ]
     },
     "execution_count": 26,
     "metadata": {},
     "output_type": "execute_result"
    }
   ],
   "source": [
    "employees_finance_info"
   ]
  },
  {
   "cell_type": "code",
   "execution_count": 27,
   "metadata": {},
   "outputs": [
    {
     "data": {
      "text/plain": [
       "[['name', 'designation', 'emp_id', 'rating'],\n",
       " ['Lance ', 'business analyst', 32, 8],\n",
       " ['Ellen', 'junior data scientist', 546, 9],\n",
       " ['Ernie', 'senior data scientist', 7763, 6],\n",
       " ['Geoff', 'data analyst', 998, 7]]"
      ]
     },
     "execution_count": 27,
     "metadata": {},
     "output_type": "execute_result"
    }
   ],
   "source": [
    "employees_analytics_info"
   ]
  },
  {
   "cell_type": "code",
   "execution_count": 28,
   "metadata": {},
   "outputs": [],
   "source": [
    "employees_info = etl.cat(employees_finance_info, employees_analytics_info)"
   ]
  },
  {
   "cell_type": "code",
   "execution_count": 29,
   "metadata": {},
   "outputs": [
    {
     "data": {
      "text/html": [
       "<table class='petl'>\n",
       "<thead>\n",
       "<tr>\n",
       "<th>name</th>\n",
       "<th>designation</th>\n",
       "<th>emp_id</th>\n",
       "<th>rating</th>\n",
       "</tr>\n",
       "</thead>\n",
       "<tbody>\n",
       "<tr>\n",
       "<td>Alice </td>\n",
       "<td>manager</td>\n",
       "<td style='text-align: right'>23</td>\n",
       "<td style='text-align: right'>9</td>\n",
       "</tr>\n",
       "<tr>\n",
       "<td>Alvin</td>\n",
       "<td>team lead</td>\n",
       "<td style='text-align: right'>18</td>\n",
       "<td style='text-align: right'>7</td>\n",
       "</tr>\n",
       "<tr>\n",
       "<td>Evan</td>\n",
       "<td>executive</td>\n",
       "<td style='text-align: right'>56</td>\n",
       "<td style='text-align: right'>5</td>\n",
       "</tr>\n",
       "<tr>\n",
       "<td>Ben</td>\n",
       "<td>research analyst</td>\n",
       "<td style='text-align: right'>78</td>\n",
       "<td style='text-align: right'>9</td>\n",
       "</tr>\n",
       "<tr>\n",
       "<td>Bill</td>\n",
       "<td>associate</td>\n",
       "<td style='text-align: right'>3884</td>\n",
       "<td style='text-align: right'>4</td>\n",
       "</tr>\n",
       "<tr>\n",
       "<td>Lance </td>\n",
       "<td>business analyst</td>\n",
       "<td style='text-align: right'>32</td>\n",
       "<td style='text-align: right'>8</td>\n",
       "</tr>\n",
       "<tr>\n",
       "<td>Ellen</td>\n",
       "<td>junior data scientist</td>\n",
       "<td style='text-align: right'>546</td>\n",
       "<td style='text-align: right'>9</td>\n",
       "</tr>\n",
       "<tr>\n",
       "<td>Ernie</td>\n",
       "<td>senior data scientist</td>\n",
       "<td style='text-align: right'>7763</td>\n",
       "<td style='text-align: right'>6</td>\n",
       "</tr>\n",
       "<tr>\n",
       "<td>Geoff</td>\n",
       "<td>data analyst</td>\n",
       "<td style='text-align: right'>998</td>\n",
       "<td style='text-align: right'>7</td>\n",
       "</tr>\n",
       "</tbody>\n",
       "</table>\n"
      ]
     },
     "metadata": {},
     "output_type": "display_data"
    }
   ],
   "source": [
    "employees_info.displayall()"
   ]
  },
  {
   "cell_type": "markdown",
   "metadata": {},
   "source": [
    "#### Re-order the columns of a table"
   ]
  },
  {
   "cell_type": "code",
   "execution_count": 30,
   "metadata": {},
   "outputs": [],
   "source": [
    "employees_info = etl.movefield(employees_info, 'emp_id', 0)"
   ]
  },
  {
   "cell_type": "code",
   "execution_count": 31,
   "metadata": {},
   "outputs": [
    {
     "data": {
      "text/html": [
       "<table class='petl'>\n",
       "<thead>\n",
       "<tr>\n",
       "<th>emp_id</th>\n",
       "<th>name</th>\n",
       "<th>designation</th>\n",
       "<th>rating</th>\n",
       "</tr>\n",
       "</thead>\n",
       "<tbody>\n",
       "<tr>\n",
       "<td style='text-align: right'>23</td>\n",
       "<td>Alice </td>\n",
       "<td>manager</td>\n",
       "<td style='text-align: right'>9</td>\n",
       "</tr>\n",
       "<tr>\n",
       "<td style='text-align: right'>18</td>\n",
       "<td>Alvin</td>\n",
       "<td>team lead</td>\n",
       "<td style='text-align: right'>7</td>\n",
       "</tr>\n",
       "<tr>\n",
       "<td style='text-align: right'>56</td>\n",
       "<td>Evan</td>\n",
       "<td>executive</td>\n",
       "<td style='text-align: right'>5</td>\n",
       "</tr>\n",
       "<tr>\n",
       "<td style='text-align: right'>78</td>\n",
       "<td>Ben</td>\n",
       "<td>research analyst</td>\n",
       "<td style='text-align: right'>9</td>\n",
       "</tr>\n",
       "<tr>\n",
       "<td style='text-align: right'>3884</td>\n",
       "<td>Bill</td>\n",
       "<td>associate</td>\n",
       "<td style='text-align: right'>4</td>\n",
       "</tr>\n",
       "</tbody>\n",
       "</table>\n",
       "<p><strong>...</strong></p>"
      ],
      "text/plain": [
       "+--------+----------+--------------------+--------+\n",
       "| emp_id | name     | designation        | rating |\n",
       "+========+==========+====================+========+\n",
       "|     23 | 'Alice ' | 'manager'          |      9 |\n",
       "+--------+----------+--------------------+--------+\n",
       "|     18 | 'Alvin'  | 'team lead'        |      7 |\n",
       "+--------+----------+--------------------+--------+\n",
       "|     56 | 'Evan'   | 'executive'        |      5 |\n",
       "+--------+----------+--------------------+--------+\n",
       "|     78 | 'Ben'    | 'research analyst' |      9 |\n",
       "+--------+----------+--------------------+--------+\n",
       "|   3884 | 'Bill'   | 'associate'        |      4 |\n",
       "+--------+----------+--------------------+--------+\n",
       "..."
      ]
     },
     "execution_count": 31,
     "metadata": {},
     "output_type": "execute_result"
    }
   ],
   "source": [
    "employees_info"
   ]
  },
  {
   "cell_type": "code",
   "execution_count": 32,
   "metadata": {},
   "outputs": [],
   "source": [
    "new_employees = [['name', 'department'],\n",
    "                 ['Dorothy ', 'operations'],\n",
    "                 ['Libby', 'sales'],\n",
    "                 ['Gary', 'marketing']]"
   ]
  },
  {
   "cell_type": "markdown",
   "metadata": {},
   "source": [
    "#### Concatenate the table with the array\n",
    "- Notice how the first row of the 2-D array is used as the column headers and the values are assigned to the corresponding columns\n",
    "- The order of tables supplied to the cat method determines the order in the concatenated table"
   ]
  },
  {
   "cell_type": "code",
   "execution_count": 33,
   "metadata": {},
   "outputs": [],
   "source": [
    "employees_info_new = etl.cat(employees_info, new_employees)"
   ]
  },
  {
   "cell_type": "code",
   "execution_count": 34,
   "metadata": {},
   "outputs": [
    {
     "data": {
      "text/html": [
       "<table class='petl'>\n",
       "<thead>\n",
       "<tr>\n",
       "<th>emp_id</th>\n",
       "<th>name</th>\n",
       "<th>designation</th>\n",
       "<th>rating</th>\n",
       "<th>department</th>\n",
       "</tr>\n",
       "</thead>\n",
       "<tbody>\n",
       "<tr>\n",
       "<td style='text-align: right'>23</td>\n",
       "<td>Alice </td>\n",
       "<td>manager</td>\n",
       "<td style='text-align: right'>9</td>\n",
       "<td>None</td>\n",
       "</tr>\n",
       "<tr>\n",
       "<td style='text-align: right'>18</td>\n",
       "<td>Alvin</td>\n",
       "<td>team lead</td>\n",
       "<td style='text-align: right'>7</td>\n",
       "<td>None</td>\n",
       "</tr>\n",
       "<tr>\n",
       "<td style='text-align: right'>56</td>\n",
       "<td>Evan</td>\n",
       "<td>executive</td>\n",
       "<td style='text-align: right'>5</td>\n",
       "<td>None</td>\n",
       "</tr>\n",
       "<tr>\n",
       "<td style='text-align: right'>78</td>\n",
       "<td>Ben</td>\n",
       "<td>research analyst</td>\n",
       "<td style='text-align: right'>9</td>\n",
       "<td>None</td>\n",
       "</tr>\n",
       "<tr>\n",
       "<td style='text-align: right'>3884</td>\n",
       "<td>Bill</td>\n",
       "<td>associate</td>\n",
       "<td style='text-align: right'>4</td>\n",
       "<td>None</td>\n",
       "</tr>\n",
       "<tr>\n",
       "<td style='text-align: right'>32</td>\n",
       "<td>Lance </td>\n",
       "<td>business analyst</td>\n",
       "<td style='text-align: right'>8</td>\n",
       "<td>None</td>\n",
       "</tr>\n",
       "<tr>\n",
       "<td style='text-align: right'>546</td>\n",
       "<td>Ellen</td>\n",
       "<td>junior data scientist</td>\n",
       "<td style='text-align: right'>9</td>\n",
       "<td>None</td>\n",
       "</tr>\n",
       "<tr>\n",
       "<td style='text-align: right'>7763</td>\n",
       "<td>Ernie</td>\n",
       "<td>senior data scientist</td>\n",
       "<td style='text-align: right'>6</td>\n",
       "<td>None</td>\n",
       "</tr>\n",
       "<tr>\n",
       "<td style='text-align: right'>998</td>\n",
       "<td>Geoff</td>\n",
       "<td>data analyst</td>\n",
       "<td style='text-align: right'>7</td>\n",
       "<td>None</td>\n",
       "</tr>\n",
       "<tr>\n",
       "<td>None</td>\n",
       "<td>Dorothy </td>\n",
       "<td>None</td>\n",
       "<td>None</td>\n",
       "<td>operations</td>\n",
       "</tr>\n",
       "<tr>\n",
       "<td>None</td>\n",
       "<td>Libby</td>\n",
       "<td>None</td>\n",
       "<td>None</td>\n",
       "<td>sales</td>\n",
       "</tr>\n",
       "<tr>\n",
       "<td>None</td>\n",
       "<td>Gary</td>\n",
       "<td>None</td>\n",
       "<td>None</td>\n",
       "<td>marketing</td>\n",
       "</tr>\n",
       "</tbody>\n",
       "</table>\n"
      ]
     },
     "metadata": {},
     "output_type": "display_data"
    }
   ],
   "source": [
    "employees_info_new.displayall()"
   ]
  },
  {
   "cell_type": "markdown",
   "metadata": {},
   "source": [
    "#### Concatenating with a table which includes a different column\n",
    "The city column is only present in more_employees. The value gets set to None for all other employees in the other table"
   ]
  },
  {
   "cell_type": "code",
   "execution_count": 40,
   "metadata": {},
   "outputs": [],
   "source": [
    "more_employees = [['name', 'city'],\n",
    "                 ['Russel', 'Baltimore'],\n",
    "                 ['Walter', 'Albuquerque']]"
   ]
  },
  {
   "cell_type": "code",
   "execution_count": 42,
   "metadata": {},
   "outputs": [
    {
     "data": {
      "text/html": [
       "<table class='petl'>\n",
       "<thead>\n",
       "<tr>\n",
       "<th>emp_id</th>\n",
       "<th>name</th>\n",
       "<th>designation</th>\n",
       "<th>rating</th>\n",
       "<th>department</th>\n",
       "<th>city</th>\n",
       "</tr>\n",
       "</thead>\n",
       "<tbody>\n",
       "<tr>\n",
       "<td style='text-align: right'>23</td>\n",
       "<td>Alice </td>\n",
       "<td>manager</td>\n",
       "<td style='text-align: right'>9</td>\n",
       "<td>None</td>\n",
       "<td>None</td>\n",
       "</tr>\n",
       "<tr>\n",
       "<td style='text-align: right'>18</td>\n",
       "<td>Alvin</td>\n",
       "<td>team lead</td>\n",
       "<td style='text-align: right'>7</td>\n",
       "<td>None</td>\n",
       "<td>None</td>\n",
       "</tr>\n",
       "<tr>\n",
       "<td style='text-align: right'>56</td>\n",
       "<td>Evan</td>\n",
       "<td>executive</td>\n",
       "<td style='text-align: right'>5</td>\n",
       "<td>None</td>\n",
       "<td>None</td>\n",
       "</tr>\n",
       "<tr>\n",
       "<td style='text-align: right'>78</td>\n",
       "<td>Ben</td>\n",
       "<td>research analyst</td>\n",
       "<td style='text-align: right'>9</td>\n",
       "<td>None</td>\n",
       "<td>None</td>\n",
       "</tr>\n",
       "<tr>\n",
       "<td style='text-align: right'>3884</td>\n",
       "<td>Bill</td>\n",
       "<td>associate</td>\n",
       "<td style='text-align: right'>4</td>\n",
       "<td>None</td>\n",
       "<td>None</td>\n",
       "</tr>\n",
       "<tr>\n",
       "<td style='text-align: right'>32</td>\n",
       "<td>Lance </td>\n",
       "<td>business analyst</td>\n",
       "<td style='text-align: right'>8</td>\n",
       "<td>None</td>\n",
       "<td>None</td>\n",
       "</tr>\n",
       "<tr>\n",
       "<td style='text-align: right'>546</td>\n",
       "<td>Ellen</td>\n",
       "<td>junior data scientist</td>\n",
       "<td style='text-align: right'>9</td>\n",
       "<td>None</td>\n",
       "<td>None</td>\n",
       "</tr>\n",
       "<tr>\n",
       "<td style='text-align: right'>7763</td>\n",
       "<td>Ernie</td>\n",
       "<td>senior data scientist</td>\n",
       "<td style='text-align: right'>6</td>\n",
       "<td>None</td>\n",
       "<td>None</td>\n",
       "</tr>\n",
       "<tr>\n",
       "<td style='text-align: right'>998</td>\n",
       "<td>Geoff</td>\n",
       "<td>data analyst</td>\n",
       "<td style='text-align: right'>7</td>\n",
       "<td>None</td>\n",
       "<td>None</td>\n",
       "</tr>\n",
       "<tr>\n",
       "<td>None</td>\n",
       "<td>Dorothy </td>\n",
       "<td>None</td>\n",
       "<td>None</td>\n",
       "<td>operations</td>\n",
       "<td>None</td>\n",
       "</tr>\n",
       "<tr>\n",
       "<td>None</td>\n",
       "<td>Libby</td>\n",
       "<td>None</td>\n",
       "<td>None</td>\n",
       "<td>sales</td>\n",
       "<td>None</td>\n",
       "</tr>\n",
       "<tr>\n",
       "<td>None</td>\n",
       "<td>Gary</td>\n",
       "<td>None</td>\n",
       "<td>None</td>\n",
       "<td>marketing</td>\n",
       "<td>None</td>\n",
       "</tr>\n",
       "<tr>\n",
       "<td>None</td>\n",
       "<td>Russel</td>\n",
       "<td>None</td>\n",
       "<td>None</td>\n",
       "<td>None</td>\n",
       "<td>Baltimore</td>\n",
       "</tr>\n",
       "<tr>\n",
       "<td>None</td>\n",
       "<td>Walter</td>\n",
       "<td>None</td>\n",
       "<td>None</td>\n",
       "<td>None</td>\n",
       "<td>Albuquerque</td>\n",
       "</tr>\n",
       "</tbody>\n",
       "</table>\n"
      ]
     },
     "metadata": {},
     "output_type": "display_data"
    }
   ],
   "source": [
    "employees_info_new = etl.cat(employees_info, new_employees, more_employees)\n",
    "\n",
    "employees_info_new.displayall()"
   ]
  },
  {
   "cell_type": "markdown",
   "metadata": {},
   "source": [
    "using the header keyword argument with two input tables"
   ]
  },
  {
   "cell_type": "code",
   "execution_count": 44,
   "metadata": {},
   "outputs": [],
   "source": [
    "employees_info_new = etl.cat(employees_info, \n",
    "                             new_employees,\n",
    "                             more_employees,\n",
    "                             header = ['name', 'designation','department'])"
   ]
  },
  {
   "cell_type": "code",
   "execution_count": 45,
   "metadata": {},
   "outputs": [
    {
     "data": {
      "text/html": [
       "<table class='petl'>\n",
       "<thead>\n",
       "<tr>\n",
       "<th>name</th>\n",
       "<th>designation</th>\n",
       "<th>department</th>\n",
       "</tr>\n",
       "</thead>\n",
       "<tbody>\n",
       "<tr>\n",
       "<td>Alice </td>\n",
       "<td>manager</td>\n",
       "<td>None</td>\n",
       "</tr>\n",
       "<tr>\n",
       "<td>Alvin</td>\n",
       "<td>team lead</td>\n",
       "<td>None</td>\n",
       "</tr>\n",
       "<tr>\n",
       "<td>Evan</td>\n",
       "<td>executive</td>\n",
       "<td>None</td>\n",
       "</tr>\n",
       "<tr>\n",
       "<td>Ben</td>\n",
       "<td>research analyst</td>\n",
       "<td>None</td>\n",
       "</tr>\n",
       "<tr>\n",
       "<td>Bill</td>\n",
       "<td>associate</td>\n",
       "<td>None</td>\n",
       "</tr>\n",
       "<tr>\n",
       "<td>Lance </td>\n",
       "<td>business analyst</td>\n",
       "<td>None</td>\n",
       "</tr>\n",
       "<tr>\n",
       "<td>Ellen</td>\n",
       "<td>junior data scientist</td>\n",
       "<td>None</td>\n",
       "</tr>\n",
       "<tr>\n",
       "<td>Ernie</td>\n",
       "<td>senior data scientist</td>\n",
       "<td>None</td>\n",
       "</tr>\n",
       "<tr>\n",
       "<td>Geoff</td>\n",
       "<td>data analyst</td>\n",
       "<td>None</td>\n",
       "</tr>\n",
       "<tr>\n",
       "<td>Dorothy </td>\n",
       "<td>None</td>\n",
       "<td>operations</td>\n",
       "</tr>\n",
       "<tr>\n",
       "<td>Libby</td>\n",
       "<td>None</td>\n",
       "<td>sales</td>\n",
       "</tr>\n",
       "<tr>\n",
       "<td>Gary</td>\n",
       "<td>None</td>\n",
       "<td>marketing</td>\n",
       "</tr>\n",
       "<tr>\n",
       "<td>Russel</td>\n",
       "<td>None</td>\n",
       "<td>None</td>\n",
       "</tr>\n",
       "<tr>\n",
       "<td>Walter</td>\n",
       "<td>None</td>\n",
       "<td>None</td>\n",
       "</tr>\n",
       "</tbody>\n",
       "</table>\n"
      ]
     },
     "metadata": {},
     "output_type": "display_data"
    }
   ],
   "source": [
    "employees_info_new.displayall()"
   ]
  },
  {
   "cell_type": "markdown",
   "metadata": {},
   "source": [
    "#### Concatenate tables, without trying to match headers."
   ]
  },
  {
   "cell_type": "code",
   "execution_count": 51,
   "metadata": {},
   "outputs": [
    {
     "data": {
      "text/plain": [
       "[['name', 'designation', 'emp_id', 'rating'],\n",
       " ['Lance ', 'business analyst', 32, 8],\n",
       " ['Ellen', 'junior data scientist', 546, 9],\n",
       " ['Ernie', 'senior data scientist', 7763, 6],\n",
       " ['Geoff', 'data analyst', 998, 7]]"
      ]
     },
     "execution_count": 51,
     "metadata": {},
     "output_type": "execute_result"
    }
   ],
   "source": [
    "employees_analytics_info"
   ]
  },
  {
   "cell_type": "code",
   "execution_count": 52,
   "metadata": {},
   "outputs": [],
   "source": [
    "employees_operations_info = [['emp_name', 'position', 'id', 'rating'],\n",
    "                             ['Heather ', 'manager', 4322, 6],\n",
    "                             ['Mike', 'assistant manager', 674, 7],\n",
    "                             ['Grace', 'supervisor', 873, 9],\n",
    "                             ['Sam', 'program manager', 727, 8]\n",
    "                            ]"
   ]
  },
  {
   "cell_type": "code",
   "execution_count": 53,
   "metadata": {},
   "outputs": [],
   "source": [
    "emp_analytics_ops = etl.stack(employees_analytics_info, employees_operations_info)"
   ]
  },
  {
   "cell_type": "markdown",
   "metadata": {},
   "source": [
    "#### The column headers from the first array are used"
   ]
  },
  {
   "cell_type": "code",
   "execution_count": 54,
   "metadata": {},
   "outputs": [
    {
     "data": {
      "text/html": [
       "<table class='petl'>\n",
       "<thead>\n",
       "<tr>\n",
       "<th>name</th>\n",
       "<th>designation</th>\n",
       "<th>emp_id</th>\n",
       "<th>rating</th>\n",
       "</tr>\n",
       "</thead>\n",
       "<tbody>\n",
       "<tr>\n",
       "<td>Lance </td>\n",
       "<td>business analyst</td>\n",
       "<td style='text-align: right'>32</td>\n",
       "<td style='text-align: right'>8</td>\n",
       "</tr>\n",
       "<tr>\n",
       "<td>Ellen</td>\n",
       "<td>junior data scientist</td>\n",
       "<td style='text-align: right'>546</td>\n",
       "<td style='text-align: right'>9</td>\n",
       "</tr>\n",
       "<tr>\n",
       "<td>Ernie</td>\n",
       "<td>senior data scientist</td>\n",
       "<td style='text-align: right'>7763</td>\n",
       "<td style='text-align: right'>6</td>\n",
       "</tr>\n",
       "<tr>\n",
       "<td>Geoff</td>\n",
       "<td>data analyst</td>\n",
       "<td style='text-align: right'>998</td>\n",
       "<td style='text-align: right'>7</td>\n",
       "</tr>\n",
       "<tr>\n",
       "<td>Heather </td>\n",
       "<td>manager</td>\n",
       "<td style='text-align: right'>4322</td>\n",
       "<td style='text-align: right'>6</td>\n",
       "</tr>\n",
       "<tr>\n",
       "<td>Mike</td>\n",
       "<td>assistant manager</td>\n",
       "<td style='text-align: right'>674</td>\n",
       "<td style='text-align: right'>7</td>\n",
       "</tr>\n",
       "<tr>\n",
       "<td>Grace</td>\n",
       "<td>supervisor</td>\n",
       "<td style='text-align: right'>873</td>\n",
       "<td style='text-align: right'>9</td>\n",
       "</tr>\n",
       "<tr>\n",
       "<td>Sam</td>\n",
       "<td>program manager</td>\n",
       "<td style='text-align: right'>727</td>\n",
       "<td style='text-align: right'>8</td>\n",
       "</tr>\n",
       "</tbody>\n",
       "</table>\n"
      ]
     },
     "metadata": {},
     "output_type": "display_data"
    }
   ],
   "source": [
    "emp_analytics_ops.displayall()"
   ]
  },
  {
   "cell_type": "markdown",
   "metadata": {},
   "source": [
    "#### When using the stack method, the ordering of fields becomes important\n",
    "With the HR employees array, the id and position columns are flipped. The combined table does not contain the correct values in those columns"
   ]
  },
  {
   "cell_type": "code",
   "execution_count": 55,
   "metadata": {},
   "outputs": [],
   "source": [
    "employees_hr_info = [['emp_name', 'id', 'position', 'rating'],\n",
    "                     ['Beatrice', 945, 'supervisor', 8],\n",
    "                     ['Spyros', 79, 'recruiter', 9]\n",
    "                    ]"
   ]
  },
  {
   "cell_type": "code",
   "execution_count": 56,
   "metadata": {},
   "outputs": [
    {
     "data": {
      "text/html": [
       "<table class='petl'>\n",
       "<thead>\n",
       "<tr>\n",
       "<th>name</th>\n",
       "<th>designation</th>\n",
       "<th>emp_id</th>\n",
       "<th>rating</th>\n",
       "</tr>\n",
       "</thead>\n",
       "<tbody>\n",
       "<tr>\n",
       "<td>Lance </td>\n",
       "<td>business analyst</td>\n",
       "<td style='text-align: right'>32</td>\n",
       "<td style='text-align: right'>8</td>\n",
       "</tr>\n",
       "<tr>\n",
       "<td>Ellen</td>\n",
       "<td>junior data scientist</td>\n",
       "<td style='text-align: right'>546</td>\n",
       "<td style='text-align: right'>9</td>\n",
       "</tr>\n",
       "<tr>\n",
       "<td>Ernie</td>\n",
       "<td>senior data scientist</td>\n",
       "<td style='text-align: right'>7763</td>\n",
       "<td style='text-align: right'>6</td>\n",
       "</tr>\n",
       "<tr>\n",
       "<td>Geoff</td>\n",
       "<td>data analyst</td>\n",
       "<td style='text-align: right'>998</td>\n",
       "<td style='text-align: right'>7</td>\n",
       "</tr>\n",
       "<tr>\n",
       "<td>Heather </td>\n",
       "<td>manager</td>\n",
       "<td style='text-align: right'>4322</td>\n",
       "<td style='text-align: right'>6</td>\n",
       "</tr>\n",
       "<tr>\n",
       "<td>Mike</td>\n",
       "<td>assistant manager</td>\n",
       "<td style='text-align: right'>674</td>\n",
       "<td style='text-align: right'>7</td>\n",
       "</tr>\n",
       "<tr>\n",
       "<td>Grace</td>\n",
       "<td>supervisor</td>\n",
       "<td style='text-align: right'>873</td>\n",
       "<td style='text-align: right'>9</td>\n",
       "</tr>\n",
       "<tr>\n",
       "<td>Sam</td>\n",
       "<td>program manager</td>\n",
       "<td style='text-align: right'>727</td>\n",
       "<td style='text-align: right'>8</td>\n",
       "</tr>\n",
       "<tr>\n",
       "<td>Beatrice</td>\n",
       "<td style='text-align: right'>945</td>\n",
       "<td>supervisor</td>\n",
       "<td style='text-align: right'>8</td>\n",
       "</tr>\n",
       "<tr>\n",
       "<td>Spyros</td>\n",
       "<td style='text-align: right'>79</td>\n",
       "<td>recruiter</td>\n",
       "<td style='text-align: right'>9</td>\n",
       "</tr>\n",
       "</tbody>\n",
       "</table>\n"
      ]
     },
     "metadata": {},
     "output_type": "display_data"
    }
   ],
   "source": [
    "emp_all = etl.stack(employees_analytics_info, \n",
    "                    employees_operations_info, \n",
    "                    employees_hr_info)\n",
    "\n",
    "emp_all.displayall()"
   ]
  },
  {
   "cell_type": "markdown",
   "metadata": {},
   "source": [
    "#### Add a field with a fixed or calculated value."
   ]
  },
  {
   "cell_type": "code",
   "execution_count": 61,
   "metadata": {},
   "outputs": [
    {
     "data": {
      "text/plain": [
       "[['name', 'designation', 'emp_id', 'rating'],\n",
       " ['Lance ', 'business analyst', 32, 8],\n",
       " ['Ellen', 'junior data scientist', 546, 9],\n",
       " ['Ernie', 'senior data scientist', 7763, 6],\n",
       " ['Geoff', 'data analyst', 998, 7]]"
      ]
     },
     "execution_count": 61,
     "metadata": {},
     "output_type": "execute_result"
    }
   ],
   "source": [
    "employees_analytics_info"
   ]
  },
  {
   "cell_type": "code",
   "execution_count": 62,
   "metadata": {},
   "outputs": [],
   "source": [
    "updated_employees_analytics_info = etl.addfield(employees_analytics_info, \n",
    "                                                'department', \n",
    "                                                'analytics')"
   ]
  },
  {
   "cell_type": "code",
   "execution_count": 63,
   "metadata": {},
   "outputs": [
    {
     "data": {
      "text/html": [
       "<table class='petl'>\n",
       "<thead>\n",
       "<tr>\n",
       "<th>name</th>\n",
       "<th>designation</th>\n",
       "<th>emp_id</th>\n",
       "<th>rating</th>\n",
       "<th>department</th>\n",
       "</tr>\n",
       "</thead>\n",
       "<tbody>\n",
       "<tr>\n",
       "<td>Lance </td>\n",
       "<td>business analyst</td>\n",
       "<td style='text-align: right'>32</td>\n",
       "<td style='text-align: right'>8</td>\n",
       "<td>analytics</td>\n",
       "</tr>\n",
       "<tr>\n",
       "<td>Ellen</td>\n",
       "<td>junior data scientist</td>\n",
       "<td style='text-align: right'>546</td>\n",
       "<td style='text-align: right'>9</td>\n",
       "<td>analytics</td>\n",
       "</tr>\n",
       "<tr>\n",
       "<td>Ernie</td>\n",
       "<td>senior data scientist</td>\n",
       "<td style='text-align: right'>7763</td>\n",
       "<td style='text-align: right'>6</td>\n",
       "<td>analytics</td>\n",
       "</tr>\n",
       "<tr>\n",
       "<td>Geoff</td>\n",
       "<td>data analyst</td>\n",
       "<td style='text-align: right'>998</td>\n",
       "<td style='text-align: right'>7</td>\n",
       "<td>analytics</td>\n",
       "</tr>\n",
       "</tbody>\n",
       "</table>\n"
      ],
      "text/plain": [
       "+----------+-------------------------+--------+--------+-------------+\n",
       "| name     | designation             | emp_id | rating | department  |\n",
       "+==========+=========================+========+========+=============+\n",
       "| 'Lance ' | 'business analyst'      |     32 |      8 | 'analytics' |\n",
       "+----------+-------------------------+--------+--------+-------------+\n",
       "| 'Ellen'  | 'junior data scientist' |    546 |      9 | 'analytics' |\n",
       "+----------+-------------------------+--------+--------+-------------+\n",
       "| 'Ernie'  | 'senior data scientist' |   7763 |      6 | 'analytics' |\n",
       "+----------+-------------------------+--------+--------+-------------+\n",
       "| 'Geoff'  | 'data analyst'          |    998 |      7 | 'analytics' |\n",
       "+----------+-------------------------+--------+--------+-------------+"
      ]
     },
     "execution_count": 63,
     "metadata": {},
     "output_type": "execute_result"
    }
   ],
   "source": [
    "updated_employees_analytics_info"
   ]
  },
  {
   "cell_type": "code",
   "execution_count": 64,
   "metadata": {},
   "outputs": [],
   "source": [
    "updated_employees_analytics_info = etl.addfield(employees_analytics_info,\n",
    "                                                'bonus', lambda rec: rec['rating'] * 200)"
   ]
  },
  {
   "cell_type": "code",
   "execution_count": 65,
   "metadata": {},
   "outputs": [
    {
     "data": {
      "text/html": [
       "<table class='petl'>\n",
       "<thead>\n",
       "<tr>\n",
       "<th>name</th>\n",
       "<th>designation</th>\n",
       "<th>emp_id</th>\n",
       "<th>rating</th>\n",
       "<th>bonus</th>\n",
       "</tr>\n",
       "</thead>\n",
       "<tbody>\n",
       "<tr>\n",
       "<td>Lance </td>\n",
       "<td>business analyst</td>\n",
       "<td style='text-align: right'>32</td>\n",
       "<td style='text-align: right'>8</td>\n",
       "<td style='text-align: right'>1600</td>\n",
       "</tr>\n",
       "<tr>\n",
       "<td>Ellen</td>\n",
       "<td>junior data scientist</td>\n",
       "<td style='text-align: right'>546</td>\n",
       "<td style='text-align: right'>9</td>\n",
       "<td style='text-align: right'>1800</td>\n",
       "</tr>\n",
       "<tr>\n",
       "<td>Ernie</td>\n",
       "<td>senior data scientist</td>\n",
       "<td style='text-align: right'>7763</td>\n",
       "<td style='text-align: right'>6</td>\n",
       "<td style='text-align: right'>1200</td>\n",
       "</tr>\n",
       "<tr>\n",
       "<td>Geoff</td>\n",
       "<td>data analyst</td>\n",
       "<td style='text-align: right'>998</td>\n",
       "<td style='text-align: right'>7</td>\n",
       "<td style='text-align: right'>1400</td>\n",
       "</tr>\n",
       "</tbody>\n",
       "</table>\n"
      ],
      "text/plain": [
       "+----------+-------------------------+--------+--------+-------+\n",
       "| name     | designation             | emp_id | rating | bonus |\n",
       "+==========+=========================+========+========+=======+\n",
       "| 'Lance ' | 'business analyst'      |     32 |      8 |  1600 |\n",
       "+----------+-------------------------+--------+--------+-------+\n",
       "| 'Ellen'  | 'junior data scientist' |    546 |      9 |  1800 |\n",
       "+----------+-------------------------+--------+--------+-------+\n",
       "| 'Ernie'  | 'senior data scientist' |   7763 |      6 |  1200 |\n",
       "+----------+-------------------------+--------+--------+-------+\n",
       "| 'Geoff'  | 'data analyst'          |    998 |      7 |  1400 |\n",
       "+----------+-------------------------+--------+--------+-------+"
      ]
     },
     "execution_count": 65,
     "metadata": {},
     "output_type": "execute_result"
    }
   ],
   "source": [
    "updated_employees_analytics_info"
   ]
  },
  {
   "cell_type": "markdown",
   "metadata": {},
   "source": [
    "#### you can specify an index for the calculated or fixed fields\n",
    "here we are making index for designatio as 2"
   ]
  },
  {
   "cell_type": "code",
   "execution_count": 66,
   "metadata": {},
   "outputs": [
    {
     "data": {
      "text/plain": [
       "[['name', 'designation', 'emp_id', 'rating'],\n",
       " ['Alice ', 'manager', 23, 9],\n",
       " ['Alvin', 'team lead', 18, 7],\n",
       " ['Evan', 'executive', 56, 5],\n",
       " ['Ben', 'research analyst', 78, 9],\n",
       " ['Bill', 'associate', 3884, 4]]"
      ]
     },
     "execution_count": 66,
     "metadata": {},
     "output_type": "execute_result"
    }
   ],
   "source": [
    "employees_finance_info"
   ]
  },
  {
   "cell_type": "code",
   "execution_count": 67,
   "metadata": {},
   "outputs": [],
   "source": [
    "updated_employees_finance_info = etl.addfields(employees_finance_info,\n",
    "                                               [('department', 'finance', 2),\n",
    "                                                ('bonus', lambda rec: rec['rating'] * 250)])"
   ]
  },
  {
   "cell_type": "code",
   "execution_count": 68,
   "metadata": {},
   "outputs": [
    {
     "data": {
      "text/html": [
       "<table class='petl'>\n",
       "<thead>\n",
       "<tr>\n",
       "<th>name</th>\n",
       "<th>designation</th>\n",
       "<th>department</th>\n",
       "<th>emp_id</th>\n",
       "<th>rating</th>\n",
       "<th>bonus</th>\n",
       "</tr>\n",
       "</thead>\n",
       "<tbody>\n",
       "<tr>\n",
       "<td>Alice </td>\n",
       "<td>manager</td>\n",
       "<td>finance</td>\n",
       "<td style='text-align: right'>23</td>\n",
       "<td style='text-align: right'>9</td>\n",
       "<td style='text-align: right'>2250</td>\n",
       "</tr>\n",
       "<tr>\n",
       "<td>Alvin</td>\n",
       "<td>team lead</td>\n",
       "<td>finance</td>\n",
       "<td style='text-align: right'>18</td>\n",
       "<td style='text-align: right'>7</td>\n",
       "<td style='text-align: right'>1750</td>\n",
       "</tr>\n",
       "<tr>\n",
       "<td>Evan</td>\n",
       "<td>executive</td>\n",
       "<td>finance</td>\n",
       "<td style='text-align: right'>56</td>\n",
       "<td style='text-align: right'>5</td>\n",
       "<td style='text-align: right'>1250</td>\n",
       "</tr>\n",
       "<tr>\n",
       "<td>Ben</td>\n",
       "<td>research analyst</td>\n",
       "<td>finance</td>\n",
       "<td style='text-align: right'>78</td>\n",
       "<td style='text-align: right'>9</td>\n",
       "<td style='text-align: right'>2250</td>\n",
       "</tr>\n",
       "<tr>\n",
       "<td>Bill</td>\n",
       "<td>associate</td>\n",
       "<td>finance</td>\n",
       "<td style='text-align: right'>3884</td>\n",
       "<td style='text-align: right'>4</td>\n",
       "<td style='text-align: right'>1000</td>\n",
       "</tr>\n",
       "</tbody>\n",
       "</table>\n"
      ],
      "text/plain": [
       "+----------+--------------------+------------+--------+--------+-------+\n",
       "| name     | designation        | department | emp_id | rating | bonus |\n",
       "+==========+====================+============+========+========+=======+\n",
       "| 'Alice ' | 'manager'          | 'finance'  |     23 |      9 |  2250 |\n",
       "+----------+--------------------+------------+--------+--------+-------+\n",
       "| 'Alvin'  | 'team lead'        | 'finance'  |     18 |      7 |  1750 |\n",
       "+----------+--------------------+------------+--------+--------+-------+\n",
       "| 'Evan'   | 'executive'        | 'finance'  |     56 |      5 |  1250 |\n",
       "+----------+--------------------+------------+--------+--------+-------+\n",
       "| 'Ben'    | 'research analyst' | 'finance'  |     78 |      9 |  2250 |\n",
       "+----------+--------------------+------------+--------+--------+-------+\n",
       "| 'Bill'   | 'associate'        | 'finance'  |   3884 |      4 |  1000 |\n",
       "+----------+--------------------+------------+--------+--------+-------+"
      ]
     },
     "execution_count": 68,
     "metadata": {},
     "output_type": "execute_result"
    }
   ],
   "source": [
    "updated_employees_finance_info"
   ]
  },
  {
   "cell_type": "markdown",
   "metadata": {},
   "source": [
    "#### Add a column of data to the table"
   ]
  },
  {
   "cell_type": "code",
   "execution_count": 69,
   "metadata": {},
   "outputs": [],
   "source": [
    "gender = ['F', 'M', 'M', 'M', 'M']"
   ]
  },
  {
   "cell_type": "code",
   "execution_count": 70,
   "metadata": {},
   "outputs": [],
   "source": [
    "updated_employees_finance_info = etl.addcolumn(updated_employees_finance_info, \n",
    "                                               'gender',\n",
    "                                               gender, \n",
    "                                               index = 1 )"
   ]
  },
  {
   "cell_type": "code",
   "execution_count": 71,
   "metadata": {},
   "outputs": [
    {
     "data": {
      "text/html": [
       "<table class='petl'>\n",
       "<thead>\n",
       "<tr>\n",
       "<th>name</th>\n",
       "<th>gender</th>\n",
       "<th>designation</th>\n",
       "<th>department</th>\n",
       "<th>emp_id</th>\n",
       "<th>rating</th>\n",
       "<th>bonus</th>\n",
       "</tr>\n",
       "</thead>\n",
       "<tbody>\n",
       "<tr>\n",
       "<td>Alice </td>\n",
       "<td>F</td>\n",
       "<td>manager</td>\n",
       "<td>finance</td>\n",
       "<td style='text-align: right'>23</td>\n",
       "<td style='text-align: right'>9</td>\n",
       "<td style='text-align: right'>2250</td>\n",
       "</tr>\n",
       "<tr>\n",
       "<td>Alvin</td>\n",
       "<td>M</td>\n",
       "<td>team lead</td>\n",
       "<td>finance</td>\n",
       "<td style='text-align: right'>18</td>\n",
       "<td style='text-align: right'>7</td>\n",
       "<td style='text-align: right'>1750</td>\n",
       "</tr>\n",
       "<tr>\n",
       "<td>Evan</td>\n",
       "<td>M</td>\n",
       "<td>executive</td>\n",
       "<td>finance</td>\n",
       "<td style='text-align: right'>56</td>\n",
       "<td style='text-align: right'>5</td>\n",
       "<td style='text-align: right'>1250</td>\n",
       "</tr>\n",
       "<tr>\n",
       "<td>Ben</td>\n",
       "<td>M</td>\n",
       "<td>research analyst</td>\n",
       "<td>finance</td>\n",
       "<td style='text-align: right'>78</td>\n",
       "<td style='text-align: right'>9</td>\n",
       "<td style='text-align: right'>2250</td>\n",
       "</tr>\n",
       "<tr>\n",
       "<td>Bill</td>\n",
       "<td>M</td>\n",
       "<td>associate</td>\n",
       "<td>finance</td>\n",
       "<td style='text-align: right'>3884</td>\n",
       "<td style='text-align: right'>4</td>\n",
       "<td style='text-align: right'>1000</td>\n",
       "</tr>\n",
       "</tbody>\n",
       "</table>\n"
      ],
      "text/plain": [
       "+----------+--------+--------------------+------------+--------+--------+-------+\n",
       "| name     | gender | designation        | department | emp_id | rating | bonus |\n",
       "+==========+========+====================+============+========+========+=======+\n",
       "| 'Alice ' | 'F'    | 'manager'          | 'finance'  |     23 |      9 |  2250 |\n",
       "+----------+--------+--------------------+------------+--------+--------+-------+\n",
       "| 'Alvin'  | 'M'    | 'team lead'        | 'finance'  |     18 |      7 |  1750 |\n",
       "+----------+--------+--------------------+------------+--------+--------+-------+\n",
       "| 'Evan'   | 'M'    | 'executive'        | 'finance'  |     56 |      5 |  1250 |\n",
       "+----------+--------+--------------------+------------+--------+--------+-------+\n",
       "| 'Ben'    | 'M'    | 'research analyst' | 'finance'  |     78 |      9 |  2250 |\n",
       "+----------+--------+--------------------+------------+--------+--------+-------+\n",
       "| 'Bill'   | 'M'    | 'associate'        | 'finance'  |   3884 |      4 |  1000 |\n",
       "+----------+--------+--------------------+------------+--------+--------+-------+"
      ]
     },
     "execution_count": 71,
     "metadata": {},
     "output_type": "execute_result"
    }
   ],
   "source": [
    "updated_employees_finance_info"
   ]
  },
  {
   "cell_type": "markdown",
   "metadata": {},
   "source": [
    "#### Add a field of row numbers"
   ]
  },
  {
   "cell_type": "code",
   "execution_count": 72,
   "metadata": {},
   "outputs": [
    {
     "data": {
      "text/html": [
       "<table class='petl'>\n",
       "<thead>\n",
       "<tr>\n",
       "<th>row</th>\n",
       "<th>name</th>\n",
       "<th>gender</th>\n",
       "<th>designation</th>\n",
       "<th>department</th>\n",
       "<th>emp_id</th>\n",
       "<th>rating</th>\n",
       "<th>bonus</th>\n",
       "</tr>\n",
       "</thead>\n",
       "<tbody>\n",
       "<tr>\n",
       "<td style='text-align: right'>1</td>\n",
       "<td>Alice </td>\n",
       "<td>F</td>\n",
       "<td>manager</td>\n",
       "<td>finance</td>\n",
       "<td style='text-align: right'>23</td>\n",
       "<td style='text-align: right'>9</td>\n",
       "<td style='text-align: right'>2250</td>\n",
       "</tr>\n",
       "<tr>\n",
       "<td style='text-align: right'>2</td>\n",
       "<td>Alvin</td>\n",
       "<td>M</td>\n",
       "<td>team lead</td>\n",
       "<td>finance</td>\n",
       "<td style='text-align: right'>18</td>\n",
       "<td style='text-align: right'>7</td>\n",
       "<td style='text-align: right'>1750</td>\n",
       "</tr>\n",
       "<tr>\n",
       "<td style='text-align: right'>3</td>\n",
       "<td>Evan</td>\n",
       "<td>M</td>\n",
       "<td>executive</td>\n",
       "<td>finance</td>\n",
       "<td style='text-align: right'>56</td>\n",
       "<td style='text-align: right'>5</td>\n",
       "<td style='text-align: right'>1250</td>\n",
       "</tr>\n",
       "<tr>\n",
       "<td style='text-align: right'>4</td>\n",
       "<td>Ben</td>\n",
       "<td>M</td>\n",
       "<td>research analyst</td>\n",
       "<td>finance</td>\n",
       "<td style='text-align: right'>78</td>\n",
       "<td style='text-align: right'>9</td>\n",
       "<td style='text-align: right'>2250</td>\n",
       "</tr>\n",
       "<tr>\n",
       "<td style='text-align: right'>5</td>\n",
       "<td>Bill</td>\n",
       "<td>M</td>\n",
       "<td>associate</td>\n",
       "<td>finance</td>\n",
       "<td style='text-align: right'>3884</td>\n",
       "<td style='text-align: right'>4</td>\n",
       "<td style='text-align: right'>1000</td>\n",
       "</tr>\n",
       "</tbody>\n",
       "</table>\n"
      ],
      "text/plain": [
       "+-----+----------+--------+--------------------+------------+--------+--------+-------+\n",
       "| row | name     | gender | designation        | department | emp_id | rating | bonus |\n",
       "+=====+==========+========+====================+============+========+========+=======+\n",
       "|   1 | 'Alice ' | 'F'    | 'manager'          | 'finance'  |     23 |      9 |  2250 |\n",
       "+-----+----------+--------+--------------------+------------+--------+--------+-------+\n",
       "|   2 | 'Alvin'  | 'M'    | 'team lead'        | 'finance'  |     18 |      7 |  1750 |\n",
       "+-----+----------+--------+--------------------+------------+--------+--------+-------+\n",
       "|   3 | 'Evan'   | 'M'    | 'executive'        | 'finance'  |     56 |      5 |  1250 |\n",
       "+-----+----------+--------+--------------------+------------+--------+--------+-------+\n",
       "|   4 | 'Ben'    | 'M'    | 'research analyst' | 'finance'  |     78 |      9 |  2250 |\n",
       "+-----+----------+--------+--------------------+------------+--------+--------+-------+\n",
       "|   5 | 'Bill'   | 'M'    | 'associate'        | 'finance'  |   3884 |      4 |  1000 |\n",
       "+-----+----------+--------+--------------------+------------+--------+--------+-------+"
      ]
     },
     "execution_count": 72,
     "metadata": {},
     "output_type": "execute_result"
    }
   ],
   "source": [
    "updated_employees_finance_info = etl.addrownumbers(updated_employees_finance_info)\n",
    "\n",
    "updated_employees_finance_info"
   ]
  },
  {
   "cell_type": "markdown",
   "metadata": {},
   "source": [
    "#### Replace one or more values in the table’s header row"
   ]
  },
  {
   "cell_type": "code",
   "execution_count": 73,
   "metadata": {},
   "outputs": [
    {
     "data": {
      "text/html": [
       "<table class='petl'>\n",
       "<thead>\n",
       "<tr>\n",
       "<th>s.no.</th>\n",
       "<th>name</th>\n",
       "<th>gender</th>\n",
       "<th>designation</th>\n",
       "<th>department</th>\n",
       "<th>emp_id</th>\n",
       "<th>rating</th>\n",
       "<th>bonus</th>\n",
       "</tr>\n",
       "</thead>\n",
       "<tbody>\n",
       "<tr>\n",
       "<td style='text-align: right'>1</td>\n",
       "<td>Alice </td>\n",
       "<td>F</td>\n",
       "<td>manager</td>\n",
       "<td>finance</td>\n",
       "<td style='text-align: right'>23</td>\n",
       "<td style='text-align: right'>9</td>\n",
       "<td style='text-align: right'>2250</td>\n",
       "</tr>\n",
       "<tr>\n",
       "<td style='text-align: right'>2</td>\n",
       "<td>Alvin</td>\n",
       "<td>M</td>\n",
       "<td>team lead</td>\n",
       "<td>finance</td>\n",
       "<td style='text-align: right'>18</td>\n",
       "<td style='text-align: right'>7</td>\n",
       "<td style='text-align: right'>1750</td>\n",
       "</tr>\n",
       "<tr>\n",
       "<td style='text-align: right'>3</td>\n",
       "<td>Evan</td>\n",
       "<td>M</td>\n",
       "<td>executive</td>\n",
       "<td>finance</td>\n",
       "<td style='text-align: right'>56</td>\n",
       "<td style='text-align: right'>5</td>\n",
       "<td style='text-align: right'>1250</td>\n",
       "</tr>\n",
       "<tr>\n",
       "<td style='text-align: right'>4</td>\n",
       "<td>Ben</td>\n",
       "<td>M</td>\n",
       "<td>research analyst</td>\n",
       "<td>finance</td>\n",
       "<td style='text-align: right'>78</td>\n",
       "<td style='text-align: right'>9</td>\n",
       "<td style='text-align: right'>2250</td>\n",
       "</tr>\n",
       "<tr>\n",
       "<td style='text-align: right'>5</td>\n",
       "<td>Bill</td>\n",
       "<td>M</td>\n",
       "<td>associate</td>\n",
       "<td>finance</td>\n",
       "<td style='text-align: right'>3884</td>\n",
       "<td style='text-align: right'>4</td>\n",
       "<td style='text-align: right'>1000</td>\n",
       "</tr>\n",
       "</tbody>\n",
       "</table>\n"
      ],
      "text/plain": [
       "+-------+----------+--------+--------------------+------------+--------+--------+-------+\n",
       "| s.no. | name     | gender | designation        | department | emp_id | rating | bonus |\n",
       "+=======+==========+========+====================+============+========+========+=======+\n",
       "|     1 | 'Alice ' | 'F'    | 'manager'          | 'finance'  |     23 |      9 |  2250 |\n",
       "+-------+----------+--------+--------------------+------------+--------+--------+-------+\n",
       "|     2 | 'Alvin'  | 'M'    | 'team lead'        | 'finance'  |     18 |      7 |  1750 |\n",
       "+-------+----------+--------+--------------------+------------+--------+--------+-------+\n",
       "|     3 | 'Evan'   | 'M'    | 'executive'        | 'finance'  |     56 |      5 |  1250 |\n",
       "+-------+----------+--------+--------------------+------------+--------+--------+-------+\n",
       "|     4 | 'Ben'    | 'M'    | 'research analyst' | 'finance'  |     78 |      9 |  2250 |\n",
       "+-------+----------+--------+--------------------+------------+--------+--------+-------+\n",
       "|     5 | 'Bill'   | 'M'    | 'associate'        | 'finance'  |   3884 |      4 |  1000 |\n",
       "+-------+----------+--------+--------------------+------------+--------+--------+-------+"
      ]
     },
     "execution_count": 73,
     "metadata": {},
     "output_type": "execute_result"
    }
   ],
   "source": [
    "updated_employees_finance_info = etl.rename(updated_employees_finance_info, 'row', 's.no.')\n",
    "\n",
    "updated_employees_finance_info"
   ]
  },
  {
   "cell_type": "code",
   "execution_count": 74,
   "metadata": {},
   "outputs": [
    {
     "data": {
      "text/html": [
       "<table class='petl'>\n",
       "<thead>\n",
       "<tr>\n",
       "<th>name</th>\n",
       "<th>designation</th>\n",
       "<th>emp_id</th>\n",
       "<th>rating</th>\n",
       "<th>bonus</th>\n",
       "</tr>\n",
       "</thead>\n",
       "<tbody>\n",
       "<tr>\n",
       "<td>Lance </td>\n",
       "<td>business analyst</td>\n",
       "<td style='text-align: right'>32</td>\n",
       "<td style='text-align: right'>8</td>\n",
       "<td style='text-align: right'>1600</td>\n",
       "</tr>\n",
       "<tr>\n",
       "<td>Ellen</td>\n",
       "<td>junior data scientist</td>\n",
       "<td style='text-align: right'>546</td>\n",
       "<td style='text-align: right'>9</td>\n",
       "<td style='text-align: right'>1800</td>\n",
       "</tr>\n",
       "<tr>\n",
       "<td>Ernie</td>\n",
       "<td>senior data scientist</td>\n",
       "<td style='text-align: right'>7763</td>\n",
       "<td style='text-align: right'>6</td>\n",
       "<td style='text-align: right'>1200</td>\n",
       "</tr>\n",
       "<tr>\n",
       "<td>Geoff</td>\n",
       "<td>data analyst</td>\n",
       "<td style='text-align: right'>998</td>\n",
       "<td style='text-align: right'>7</td>\n",
       "<td style='text-align: right'>1400</td>\n",
       "</tr>\n",
       "</tbody>\n",
       "</table>\n"
      ],
      "text/plain": [
       "+----------+-------------------------+--------+--------+-------+\n",
       "| name     | designation             | emp_id | rating | bonus |\n",
       "+==========+=========================+========+========+=======+\n",
       "| 'Lance ' | 'business analyst'      |     32 |      8 |  1600 |\n",
       "+----------+-------------------------+--------+--------+-------+\n",
       "| 'Ellen'  | 'junior data scientist' |    546 |      9 |  1800 |\n",
       "+----------+-------------------------+--------+--------+-------+\n",
       "| 'Ernie'  | 'senior data scientist' |   7763 |      6 |  1200 |\n",
       "+----------+-------------------------+--------+--------+-------+\n",
       "| 'Geoff'  | 'data analyst'          |    998 |      7 |  1400 |\n",
       "+----------+-------------------------+--------+--------+-------+"
      ]
     },
     "execution_count": 74,
     "metadata": {},
     "output_type": "execute_result"
    }
   ],
   "source": [
    "updated_employees_analytics_info"
   ]
  },
  {
   "cell_type": "code",
   "execution_count": 75,
   "metadata": {},
   "outputs": [],
   "source": [
    "updated_employees_analytics_info = etl.rename(updated_employees_analytics_info,\n",
    "                                              {'designation': 'job_position',\n",
    "                                               'emp_id': 'id'})"
   ]
  },
  {
   "cell_type": "code",
   "execution_count": 76,
   "metadata": {},
   "outputs": [
    {
     "data": {
      "text/html": [
       "<table class='petl'>\n",
       "<thead>\n",
       "<tr>\n",
       "<th>name</th>\n",
       "<th>job_position</th>\n",
       "<th>id</th>\n",
       "<th>rating</th>\n",
       "<th>bonus</th>\n",
       "</tr>\n",
       "</thead>\n",
       "<tbody>\n",
       "<tr>\n",
       "<td>Lance </td>\n",
       "<td>business analyst</td>\n",
       "<td style='text-align: right'>32</td>\n",
       "<td style='text-align: right'>8</td>\n",
       "<td style='text-align: right'>1600</td>\n",
       "</tr>\n",
       "<tr>\n",
       "<td>Ellen</td>\n",
       "<td>junior data scientist</td>\n",
       "<td style='text-align: right'>546</td>\n",
       "<td style='text-align: right'>9</td>\n",
       "<td style='text-align: right'>1800</td>\n",
       "</tr>\n",
       "<tr>\n",
       "<td>Ernie</td>\n",
       "<td>senior data scientist</td>\n",
       "<td style='text-align: right'>7763</td>\n",
       "<td style='text-align: right'>6</td>\n",
       "<td style='text-align: right'>1200</td>\n",
       "</tr>\n",
       "<tr>\n",
       "<td>Geoff</td>\n",
       "<td>data analyst</td>\n",
       "<td style='text-align: right'>998</td>\n",
       "<td style='text-align: right'>7</td>\n",
       "<td style='text-align: right'>1400</td>\n",
       "</tr>\n",
       "</tbody>\n",
       "</table>\n"
      ],
      "text/plain": [
       "+----------+-------------------------+------+--------+-------+\n",
       "| name     | job_position            | id   | rating | bonus |\n",
       "+==========+=========================+======+========+=======+\n",
       "| 'Lance ' | 'business analyst'      |   32 |      8 |  1600 |\n",
       "+----------+-------------------------+------+--------+-------+\n",
       "| 'Ellen'  | 'junior data scientist' |  546 |      9 |  1800 |\n",
       "+----------+-------------------------+------+--------+-------+\n",
       "| 'Ernie'  | 'senior data scientist' | 7763 |      6 |  1200 |\n",
       "+----------+-------------------------+------+--------+-------+\n",
       "| 'Geoff'  | 'data analyst'          |  998 |      7 |  1400 |\n",
       "+----------+-------------------------+------+--------+-------+"
      ]
     },
     "execution_count": 76,
     "metadata": {},
     "output_type": "execute_result"
    }
   ],
   "source": [
    "updated_employees_analytics_info"
   ]
  },
  {
   "cell_type": "code",
   "execution_count": null,
   "metadata": {},
   "outputs": [],
   "source": []
  }
 ],
 "metadata": {
  "kernelspec": {
   "display_name": ".venv",
   "language": "python",
   "name": "python3"
  },
  "language_info": {
   "codemirror_mode": {
    "name": "ipython",
    "version": 3
   },
   "file_extension": ".py",
   "mimetype": "text/x-python",
   "name": "python",
   "nbconvert_exporter": "python",
   "pygments_lexer": "ipython3",
   "version": "3.13.1"
  }
 },
 "nbformat": 4,
 "nbformat_minor": 4
}
