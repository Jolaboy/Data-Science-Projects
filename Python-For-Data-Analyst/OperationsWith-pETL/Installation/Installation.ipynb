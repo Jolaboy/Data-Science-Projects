{
 "cells": [
  {
   "cell_type": "markdown",
   "metadata": {},
   "source": [
    "Python version"
   ]
  },
  {
   "cell_type": "code",
   "execution_count": 1,
   "metadata": {},
   "outputs": [
    {
     "name": "stdout",
     "output_type": "stream",
     "text": [
      "Python 3.8.3\r\n"
     ]
    }
   ],
   "source": [
    "! python --version"
   ]
  },
  {
   "cell_type": "markdown",
   "metadata": {},
   "source": [
    "Installing PETL"
   ]
  },
  {
   "cell_type": "code",
   "execution_count": 3,
   "metadata": {
    "scrolled": true
   },
   "outputs": [
    {
     "name": "stdout",
     "output_type": "stream",
     "text": [
      "Collecting package metadata (current_repodata.json): done\n",
      "Solving environment: done\n",
      "\n",
      "## Package Plan ##\n",
      "\n",
      "  environment location: /opt/anaconda3\n",
      "\n",
      "  added / updated specs:\n",
      "    - petl\n",
      "\n",
      "\n",
      "The following packages will be downloaded:\n",
      "\n",
      "    package                    |            build\n",
      "    ---------------------------|-----------------\n",
      "    conda-4.9.2                |   py38hecd8cb5_0         2.9 MB\n",
      "    petl-1.6.8                 |             py_0         142 KB\n",
      "    ------------------------------------------------------------\n",
      "                                           Total:         3.0 MB\n",
      "\n",
      "The following NEW packages will be INSTALLED:\n",
      "\n",
      "  petl               pkgs/main/noarch::petl-1.6.8-py_0\n",
      "\n",
      "The following packages will be UPDATED:\n",
      "\n",
      "  conda                                        4.8.3-py38_0 --> 4.9.2-py38hecd8cb5_0\n",
      "\n",
      "\n",
      "\n",
      "Downloading and Extracting Packages\n",
      "petl-1.6.8           | 142 KB    | ##################################### | 100% \n",
      "conda-4.9.2          | 2.9 MB    | ##################################### | 100% \n",
      "Preparing transaction: done\n",
      "Verifying transaction: done\n",
      "Executing transaction: done\n"
     ]
    }
   ],
   "source": [
    "!conda install petl -y"
   ]
  },
  {
   "cell_type": "markdown",
   "metadata": {},
   "source": [
    "Importing the module"
   ]
  },
  {
   "cell_type": "code",
   "execution_count": 4,
   "metadata": {},
   "outputs": [],
   "source": [
    "import petl as etl"
   ]
  },
  {
   "cell_type": "markdown",
   "metadata": {},
   "source": [
    "PETL version"
   ]
  },
  {
   "cell_type": "code",
   "execution_count": 5,
   "metadata": {},
   "outputs": [
    {
     "data": {
      "text/plain": [
       "'1.6.8'"
      ]
     },
     "execution_count": 5,
     "metadata": {},
     "output_type": "execute_result"
    }
   ],
   "source": [
    "etl.__version__"
   ]
  },
  {
   "cell_type": "markdown",
   "metadata": {},
   "source": [
    "#Help on petl package"
   ]
  },
  {
   "cell_type": "code",
   "execution_count": 6,
   "metadata": {},
   "outputs": [
    {
     "name": "stdout",
     "output_type": "stream",
     "text": [
      "Help on package petl:\n",
      "\n",
      "NAME\n",
      "    petl\n",
      "\n",
      "PACKAGE CONTENTS\n",
      "    comparison\n",
      "    compat\n",
      "    config\n",
      "    errors\n",
      "    io (package)\n",
      "    test (package)\n",
      "    transform (package)\n",
      "    util (package)\n",
      "    version\n",
      "\n",
      "SUBMODULES\n",
      "    avro\n",
      "    base\n",
      "    basics\n",
      "    bcolz\n",
      "    conversions\n",
      "    counting\n",
      "    csv\n",
      "    csv_py3\n",
      "    db\n",
      "    db_create\n",
      "    db_utils\n",
      "    dedup\n",
      "    fills\n",
      "    hashjoins\n",
      "    headers\n",
      "    html\n",
      "    intervals\n",
      "    joins\n",
      "    json\n",
      "    lookups\n",
      "    maps\n",
      "    materialise\n",
      "    misc\n",
      "    numpy\n",
      "    pandas\n",
      "    parsers\n",
      "    pickle\n",
      "    pytables\n",
      "    random\n",
      "    reductions\n",
      "    regex\n",
      "    remotes\n",
      "    reshape\n",
      "    selects\n",
      "    setops\n",
      "    sorts\n",
      "    sources\n",
      "    statistics\n",
      "    text\n",
      "    timing\n",
      "    unpacks\n",
      "    validation\n",
      "    vis\n",
      "    whoosh\n",
      "    xls\n",
      "    xlsx\n",
      "    xml\n",
      "\n",
      "DATA\n",
      "    absolute_import = _Feature((2, 5, 0, 'alpha', 1), (3, 0, 0, 'alpha', 0...\n",
      "    division = _Feature((2, 2, 0, 'alpha', 2), (3, 0, 0, 'alpha', 0), 1310...\n",
      "    print_function = _Feature((2, 6, 0, 'alpha', 2), (3, 0, 0, 'alpha', 0)...\n",
      "\n",
      "VERSION\n",
      "    1.6.8\n",
      "\n",
      "FILE\n",
      "    /opt/anaconda3/lib/python3.8/site-packages/petl/__init__.py\n",
      "\n",
      "\n"
     ]
    }
   ],
   "source": [
    "help(etl)"
   ]
  },
  {
   "cell_type": "code",
   "execution_count": 7,
   "metadata": {},
   "outputs": [],
   "source": [
    "fruit_qty = [['apple', 'orange', 'mango'],\n",
    "             [23, 56, 34]]"
   ]
  },
  {
   "cell_type": "code",
   "execution_count": 8,
   "metadata": {},
   "outputs": [],
   "source": [
    "fruits = etl.fromcolumns(fruit_qty)"
   ]
  },
  {
   "cell_type": "code",
   "execution_count": 9,
   "metadata": {},
   "outputs": [
    {
     "data": {
      "text/html": [
       "<table class='petl'>\n",
       "<thead>\n",
       "<tr>\n",
       "<th>f0</th>\n",
       "<th>f1</th>\n",
       "</tr>\n",
       "</thead>\n",
       "<tbody>\n",
       "<tr>\n",
       "<td>apple</td>\n",
       "<td style='text-align: right'>23</td>\n",
       "</tr>\n",
       "<tr>\n",
       "<td>orange</td>\n",
       "<td style='text-align: right'>56</td>\n",
       "</tr>\n",
       "<tr>\n",
       "<td>mango</td>\n",
       "<td style='text-align: right'>34</td>\n",
       "</tr>\n",
       "</tbody>\n",
       "</table>\n"
      ],
      "text/plain": [
       "+----------+----+\n",
       "| f0       | f1 |\n",
       "+==========+====+\n",
       "| 'apple'  | 23 |\n",
       "+----------+----+\n",
       "| 'orange' | 56 |\n",
       "+----------+----+\n",
       "| 'mango'  | 34 |\n",
       "+----------+----+"
      ]
     },
     "execution_count": 9,
     "metadata": {},
     "output_type": "execute_result"
    }
   ],
   "source": [
    "fruits"
   ]
  },
  {
   "cell_type": "code",
   "execution_count": 10,
   "metadata": {},
   "outputs": [],
   "source": [
    "fruit_qty = [['apple', 'orange', 'mango', 'grapes'],\n",
    "             [23, 56, 34]]"
   ]
  },
  {
   "cell_type": "code",
   "execution_count": 11,
   "metadata": {},
   "outputs": [],
   "source": [
    "fruits = etl.fromcolumns(fruit_qty, header = ['fruits', 'quantity'])"
   ]
  },
  {
   "cell_type": "code",
   "execution_count": 12,
   "metadata": {},
   "outputs": [
    {
     "data": {
      "text/html": [
       "<table class='petl'>\n",
       "<thead>\n",
       "<tr>\n",
       "<th>fruits</th>\n",
       "<th>quantity</th>\n",
       "</tr>\n",
       "</thead>\n",
       "<tbody>\n",
       "<tr>\n",
       "<td>apple</td>\n",
       "<td style='text-align: right'>23</td>\n",
       "</tr>\n",
       "<tr>\n",
       "<td>orange</td>\n",
       "<td style='text-align: right'>56</td>\n",
       "</tr>\n",
       "<tr>\n",
       "<td>mango</td>\n",
       "<td style='text-align: right'>34</td>\n",
       "</tr>\n",
       "<tr>\n",
       "<td>grapes</td>\n",
       "<td>None</td>\n",
       "</tr>\n",
       "</tbody>\n",
       "</table>\n"
      ],
      "text/plain": [
       "+----------+----------+\n",
       "| fruits   | quantity |\n",
       "+==========+==========+\n",
       "| 'apple'  |       23 |\n",
       "+----------+----------+\n",
       "| 'orange' |       56 |\n",
       "+----------+----------+\n",
       "| 'mango'  |       34 |\n",
       "+----------+----------+\n",
       "| 'grapes' | None     |\n",
       "+----------+----------+"
      ]
     },
     "execution_count": 12,
     "metadata": {},
     "output_type": "execute_result"
    }
   ],
   "source": [
    "fruits"
   ]
  },
  {
   "cell_type": "code",
   "execution_count": 13,
   "metadata": {},
   "outputs": [],
   "source": [
    "fruits = etl.fromcolumns(fruit_qty,\n",
    "                         header = ['fruits', 'quantity'],\n",
    "                         missing = '-')"
   ]
  },
  {
   "cell_type": "code",
   "execution_count": 14,
   "metadata": {},
   "outputs": [
    {
     "data": {
      "text/html": [
       "<table class='petl'>\n",
       "<thead>\n",
       "<tr>\n",
       "<th>fruits</th>\n",
       "<th>quantity</th>\n",
       "</tr>\n",
       "</thead>\n",
       "<tbody>\n",
       "<tr>\n",
       "<td>apple</td>\n",
       "<td style='text-align: right'>23</td>\n",
       "</tr>\n",
       "<tr>\n",
       "<td>orange</td>\n",
       "<td style='text-align: right'>56</td>\n",
       "</tr>\n",
       "<tr>\n",
       "<td>mango</td>\n",
       "<td style='text-align: right'>34</td>\n",
       "</tr>\n",
       "<tr>\n",
       "<td>grapes</td>\n",
       "<td>-</td>\n",
       "</tr>\n",
       "</tbody>\n",
       "</table>\n"
      ],
      "text/plain": [
       "+----------+----------+\n",
       "| fruits   | quantity |\n",
       "+==========+==========+\n",
       "| 'apple'  |       23 |\n",
       "+----------+----------+\n",
       "| 'orange' |       56 |\n",
       "+----------+----------+\n",
       "| 'mango'  |       34 |\n",
       "+----------+----------+\n",
       "| 'grapes' | '-'      |\n",
       "+----------+----------+"
      ]
     },
     "execution_count": 14,
     "metadata": {},
     "output_type": "execute_result"
    }
   ],
   "source": [
    "fruits"
   ]
  },
  {
   "cell_type": "code",
   "execution_count": 15,
   "metadata": {},
   "outputs": [
    {
     "data": {
      "text/plain": [
       "petl.io.base.ColumnsView"
      ]
     },
     "execution_count": 15,
     "metadata": {},
     "output_type": "execute_result"
    }
   ],
   "source": [
    "type(fruits)"
   ]
  },
  {
   "cell_type": "code",
   "execution_count": null,
   "metadata": {},
   "outputs": [],
   "source": []
  }
 ],
 "metadata": {
  "kernelspec": {
   "display_name": "Python 3",
   "language": "python",
   "name": "python3"
  },
  "language_info": {
   "codemirror_mode": {
    "name": "ipython",
    "version": 3
   },
   "file_extension": ".py",
   "mimetype": "text/x-python",
   "name": "python",
   "nbconvert_exporter": "python",
   "pygments_lexer": "ipython3",
   "version": "3.8.3"
  }
 },
 "nbformat": 4,
 "nbformat_minor": 4
}
