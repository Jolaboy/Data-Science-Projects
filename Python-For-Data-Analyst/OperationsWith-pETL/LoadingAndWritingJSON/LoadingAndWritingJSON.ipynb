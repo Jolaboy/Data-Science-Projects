{
 "cells": [
  {
   "cell_type": "code",
   "execution_count": 1,
   "metadata": {},
   "outputs": [],
   "source": [
    "import petl as etl\n",
    "import pprint"
   ]
  },
  {
   "cell_type": "markdown",
   "metadata": {},
   "source": [
    "https://www.kaggle.com/venkataganesh/movies-dataset"
   ]
  },
  {
   "cell_type": "code",
   "execution_count": 47,
   "metadata": {},
   "outputs": [],
   "source": [
    "movies_data = etl.fromjson('./datasets/movies_details.json',\n",
    "                            header = ['crawled_at', 'title',\n",
    "                                      'url', 'directed_by'])"
   ]
  },
  {
   "cell_type": "code",
   "execution_count": 48,
   "metadata": {},
   "outputs": [
    {
     "data": {
      "text/html": [
       "<table class='petl'>\n",
       "<thead>\n",
       "<tr>\n",
       "<th>crawled_at</th>\n",
       "<th>title</th>\n",
       "<th>url</th>\n",
       "<th>directed_by</th>\n",
       "</tr>\n",
       "</thead>\n",
       "<tbody>\n",
       "<tr>\n",
       "<td>11/17/2019, 23:18:09</td>\n",
       "<td>Raiders of the Lost Ark</td>\n",
       "<td>https://www.allmovie.com/movie/raiders-of-the-lost-ark-v40118</td>\n",
       "<td>Steven Spielberg</td>\n",
       "</tr>\n",
       "<tr>\n",
       "<td>11/17/2019, 23:18:09</td>\n",
       "<td>The Treasure of the Sierra Madre</td>\n",
       "<td>https://www.allmovie.com/movie/the-treasure-of-the-sierra-madre-v50884</td>\n",
       "<td>John Huston</td>\n",
       "</tr>\n",
       "<tr>\n",
       "<td>11/17/2019, 23:18:09</td>\n",
       "<td>Crouching Tiger, Hidden Dragon</td>\n",
       "<td>https://www.allmovie.com/movie/crouching-tiger-hidden-dragon-v201837</td>\n",
       "<td>Ang Lee</td>\n",
       "</tr>\n",
       "<tr>\n",
       "<td>11/17/2019, 23:18:10</td>\n",
       "<td>Die Hard</td>\n",
       "<td>https://www.allmovie.com/movie/die-hard-v13728</td>\n",
       "<td>John McTiernan</td>\n",
       "</tr>\n",
       "<tr>\n",
       "<td>11/17/2019, 23:18:10</td>\n",
       "<td>The Revenant</td>\n",
       "<td>https://www.allmovie.com/movie/the-revenant-v597171</td>\n",
       "<td>Alejandro González Iñárritu</td>\n",
       "</tr>\n",
       "</tbody>\n",
       "</table>\n",
       "<p><strong>...</strong></p>"
      ]
     },
     "metadata": {},
     "output_type": "display_data"
    }
   ],
   "source": [
    "movies_data.display()"
   ]
  },
  {
   "cell_type": "markdown",
   "metadata": {},
   "source": [
    "Load a dictionary with data from the given table, mapping to dicts"
   ]
  },
  {
   "cell_type": "code",
   "execution_count": 5,
   "metadata": {},
   "outputs": [
    {
     "data": {
      "text/plain": [
       "[{'crawled_at': '11/17/2019, 23:18:09',\n",
       "  'title': 'Raiders of the Lost Ark',\n",
       "  'url': 'https://www.allmovie.com/movie/raiders-of-the-lost-ark-v40118',\n",
       "  'directed_by': 'Steven Spielberg'},\n",
       " {'crawled_at': '11/17/2019, 23:18:44',\n",
       "  'title': 'Raiders of the Lost Ark',\n",
       "  'url': 'https://www.allmovie.com/movie/raiders-of-the-lost-ark-v40118',\n",
       "  'directed_by': 'Steven Spielberg'}]"
      ]
     },
     "execution_count": 5,
     "metadata": {},
     "output_type": "execute_result"
    }
   ],
   "source": [
    "lookup_title = etl.dictlookup(movies_data, 'title')\n",
    "\n",
    "lookup_title['Raiders of the Lost Ark']"
   ]
  },
  {
   "cell_type": "markdown",
   "metadata": {},
   "source": [
    "#### When mapping the directors, multiple movies may show up for a director"
   ]
  },
  {
   "cell_type": "code",
   "execution_count": 13,
   "metadata": {},
   "outputs": [
    {
     "data": {
      "text/plain": [
       "[{'crawled_at': '11/17/2019, 23:18:11',\n",
       "  'title': 'Sicario',\n",
       "  'url': 'https://www.allmovie.com/movie/sicario-v625866',\n",
       "  'directed_by': 'Denis Villeneuve'},\n",
       " {'crawled_at': '11/17/2019, 23:22:46',\n",
       "  'title': 'Sicario',\n",
       "  'url': 'https://www.allmovie.com/movie/sicario-v625866',\n",
       "  'directed_by': 'Denis Villeneuve'},\n",
       " {'crawled_at': '11/17/2019, 23:23:43',\n",
       "  'title': 'Incendies',\n",
       "  'url': 'https://www.allmovie.com/movie/incendies-v510435',\n",
       "  'directed_by': 'Denis Villeneuve'},\n",
       " {'crawled_at': '11/17/2019, 23:23:50',\n",
       "  'title': 'Arrival',\n",
       "  'url': 'https://www.allmovie.com/movie/arrival-v654945',\n",
       "  'directed_by': 'Denis Villeneuve'},\n",
       " {'crawled_at': '11/17/2019, 23:24:06',\n",
       "  'title': 'Sicario',\n",
       "  'url': 'https://www.allmovie.com/movie/sicario-v625866',\n",
       "  'directed_by': 'Denis Villeneuve'}]"
      ]
     },
     "execution_count": 13,
     "metadata": {},
     "output_type": "execute_result"
    }
   ],
   "source": [
    "lookup_director = etl.dictlookup(movies_data, 'directed_by')\n",
    "\n",
    "lookup_director['Denis Villeneuve']"
   ]
  },
  {
   "cell_type": "code",
   "execution_count": 15,
   "metadata": {},
   "outputs": [
    {
     "data": {
      "text/plain": [
       "[{'crawled_at': '11/17/2019, 23:20:21',\n",
       "  'title': \"She's Gotta Have It\",\n",
       "  'url': 'https://www.allmovie.com/movie/shes-gotta-have-it-v44229',\n",
       "  'directed_by': 'Spike Lee'},\n",
       " {'crawled_at': '11/17/2019, 23:21:08',\n",
       "  'title': 'BlacKkKlansman',\n",
       "  'url': 'https://www.allmovie.com/movie/blackkklansman-v694434',\n",
       "  'directed_by': 'Spike Lee'},\n",
       " {'crawled_at': '11/17/2019, 23:21:38',\n",
       "  'title': 'The Original Kings of Comedy',\n",
       "  'url': 'https://www.allmovie.com/movie/the-original-kings-of-comedy-v207022',\n",
       "  'directed_by': 'Spike Lee'},\n",
       " {'crawled_at': '11/17/2019, 23:22:53',\n",
       "  'title': 'Inside Man',\n",
       "  'url': 'https://www.allmovie.com/movie/inside-man-v324968',\n",
       "  'directed_by': 'Spike Lee'},\n",
       " {'crawled_at': '11/17/2019, 23:23:11',\n",
       "  'title': 'BlacKkKlansman',\n",
       "  'url': 'https://www.allmovie.com/movie/blackkklansman-v694434',\n",
       "  'directed_by': 'Spike Lee'},\n",
       " {'crawled_at': '11/17/2019, 23:23:41',\n",
       "  'title': 'Do the Right Thing',\n",
       "  'url': 'https://www.allmovie.com/movie/do-the-right-thing-v14126',\n",
       "  'directed_by': 'Spike Lee'},\n",
       " {'crawled_at': '11/17/2019, 23:26:16',\n",
       "  'title': 'Clockers',\n",
       "  'url': 'https://www.allmovie.com/movie/clockers-v135027',\n",
       "  'directed_by': 'Spike Lee'},\n",
       " {'crawled_at': '11/17/2019, 23:26:53',\n",
       "  'title': 'Malcolm X',\n",
       "  'url': 'https://www.allmovie.com/movie/malcolm-x-v31012',\n",
       "  'directed_by': 'Spike Lee'}]"
      ]
     },
     "execution_count": 15,
     "metadata": {},
     "output_type": "execute_result"
    }
   ],
   "source": [
    "lookup_director = etl.dictlookup(movies_data, 'directed_by')\n",
    "\n",
    "lookup_director['Spike Lee']"
   ]
  },
  {
   "cell_type": "code",
   "execution_count": 14,
   "metadata": {},
   "outputs": [
    {
     "data": {
      "text/plain": [
       "{'crawled_at': '11/17/2019, 23:18:11',\n",
       " 'title': 'Sicario',\n",
       " 'url': 'https://www.allmovie.com/movie/sicario-v625866',\n",
       " 'directed_by': 'Denis Villeneuve'}"
      ]
     },
     "execution_count": 14,
     "metadata": {},
     "output_type": "execute_result"
    }
   ],
   "source": [
    "lookup_director_one = etl.dictlookupone(movies_data, 'directed_by')\n",
    "\n",
    "lookup_director_one['Denis Villeneuve']"
   ]
  },
  {
   "cell_type": "code",
   "execution_count": 16,
   "metadata": {},
   "outputs": [
    {
     "data": {
      "text/plain": [
       "{'crawled_at': '11/17/2019, 23:20:21',\n",
       " 'title': \"She's Gotta Have It\",\n",
       " 'url': 'https://www.allmovie.com/movie/shes-gotta-have-it-v44229',\n",
       " 'directed_by': 'Spike Lee'}"
      ]
     },
     "execution_count": 16,
     "metadata": {},
     "output_type": "execute_result"
    }
   ],
   "source": [
    "lookup_director_one['Spike Lee']"
   ]
  },
  {
   "cell_type": "markdown",
   "metadata": {},
   "source": [
    "Load a dictionary with data from the given table, mapping to record objects"
   ]
  },
  {
   "cell_type": "markdown",
   "metadata": {},
   "source": [
    "https://www.kaggle.com/stefanoleone992/imdb-extensive-dataset"
   ]
  },
  {
   "cell_type": "markdown",
   "metadata": {},
   "source": [
    "View a sequence of Python dict"
   ]
  },
  {
   "cell_type": "code",
   "execution_count": 19,
   "metadata": {},
   "outputs": [],
   "source": [
    "movies_info = [{'title' : 'Miss Jerry', 'year' : 1894, 'genre' : 'romance' },\n",
    "               {'title' : 'Cleopatra', 'year' : 1912, 'genre' : 'drama,history'},\n",
    "               {'title' : 'Richard III', 'year' : 1912, 'genre' : 'drama'},\n",
    "               {'title' : 'The Bargain', 'year' : 1914, 'genre' : 'western'},\n",
    "               {'title' : 'Hypocrites', 'year' : 1915, 'genre' : 'drama'}]"
   ]
  },
  {
   "cell_type": "code",
   "execution_count": 20,
   "metadata": {},
   "outputs": [],
   "source": [
    "movies_info_table = etl.fromdicts(movies_info,\n",
    "                                  header = ['title', 'year', 'genre'])"
   ]
  },
  {
   "cell_type": "code",
   "execution_count": 49,
   "metadata": {},
   "outputs": [
    {
     "data": {
      "text/html": [
       "<table class='petl'>\n",
       "<thead>\n",
       "<tr>\n",
       "<th>title</th>\n",
       "<th>year</th>\n",
       "<th>genre</th>\n",
       "</tr>\n",
       "</thead>\n",
       "<tbody>\n",
       "<tr>\n",
       "<td>Miss Jerry</td>\n",
       "<td style='text-align: right'>1894</td>\n",
       "<td>romance</td>\n",
       "</tr>\n",
       "<tr>\n",
       "<td>Cleopatra</td>\n",
       "<td style='text-align: right'>1912</td>\n",
       "<td>drama,history</td>\n",
       "</tr>\n",
       "<tr>\n",
       "<td>Richard III</td>\n",
       "<td style='text-align: right'>1912</td>\n",
       "<td>drama</td>\n",
       "</tr>\n",
       "<tr>\n",
       "<td>The Bargain</td>\n",
       "<td style='text-align: right'>1914</td>\n",
       "<td>western</td>\n",
       "</tr>\n",
       "<tr>\n",
       "<td>Hypocrites</td>\n",
       "<td style='text-align: right'>1915</td>\n",
       "<td>drama</td>\n",
       "</tr>\n",
       "</tbody>\n",
       "</table>\n"
      ]
     },
     "metadata": {},
     "output_type": "display_data"
    }
   ],
   "source": [
    "movies_info_table.displayall()"
   ]
  },
  {
   "cell_type": "markdown",
   "metadata": {},
   "source": [
    "Write a table in JSON format, with rows output as JSON objects."
   ]
  },
  {
   "cell_type": "code",
   "execution_count": 22,
   "metadata": {},
   "outputs": [],
   "source": [
    "movies = [['Title', 'Genre'],\n",
    "          ['Maciste', 'Adventure'],\n",
    "          ['Intolerance', 'History'],\n",
    "          ['Straight Shooting', 'Western'],\n",
    "          ['Tom Sawyer', 'Adventure'],\n",
    "          ['The Unbeliever', 'Drama']]"
   ]
  },
  {
   "cell_type": "code",
   "execution_count": 23,
   "metadata": {},
   "outputs": [],
   "source": [
    "etl.tojson(movies, './datasets/movies_info.json', sort_keys=True)"
   ]
  },
  {
   "cell_type": "code",
   "execution_count": 27,
   "metadata": {},
   "outputs": [
    {
     "name": "stdout",
     "output_type": "stream",
     "text": [
      "('[{\"Genre\": \"Adventure\", \"Title\": \"Maciste\"}, {\"Genre\": \"History\", \"Title\": '\n",
      " '\"Intolerance\"}, {\"Genre\": \"Western\", \"Title\": \"Straight Shooting\"}, '\n",
      " '{\"Genre\": \"Adventure\", \"Title\": \"Tom Sawyer\"}, {\"Genre\": \"Drama\", \"Title\": '\n",
      " '\"The Unbeliever\"}]')\n"
     ]
    }
   ],
   "source": [
    "pprint.pprint(open('./datasets/movies_info.json').read())"
   ]
  },
  {
   "cell_type": "markdown",
   "metadata": {},
   "source": [
    "Write a table in JSON format, with rows output as JSON arrays. "
   ]
  },
  {
   "cell_type": "code",
   "execution_count": 28,
   "metadata": {},
   "outputs": [],
   "source": [
    "etl.tojsonarrays(movies, './datasets/movies_arrays.json')"
   ]
  },
  {
   "cell_type": "code",
   "execution_count": 29,
   "metadata": {},
   "outputs": [
    {
     "name": "stdout",
     "output_type": "stream",
     "text": [
      "('[[\"Maciste\", \"Adventure\"], [\"Intolerance\", \"History\"], [\"Straight Shooting\", '\n",
      " '\"Western\"], [\"Tom Sawyer\", \"Adventure\"], [\"The Unbeliever\", \"Drama\"]]')\n"
     ]
    }
   ],
   "source": [
    "pprint.pprint(open('./datasets/movies_arrays.json').read())"
   ]
  },
  {
   "cell_type": "code",
   "execution_count": 30,
   "metadata": {},
   "outputs": [],
   "source": [
    "import shelve"
   ]
  },
  {
   "cell_type": "markdown",
   "metadata": {},
   "source": [
    "#### The dat file contains nothing\n",
    "So an error will be thrown"
   ]
  },
  {
   "cell_type": "code",
   "execution_count": 41,
   "metadata": {},
   "outputs": [
    {
     "ename": "KeyError",
     "evalue": "b'Tom Sawyer'",
     "output_type": "error",
     "traceback": [
      "\u001b[0;31m---------------------------------------------------------------------------\u001b[0m",
      "\u001b[0;31mKeyError\u001b[0m                                  Traceback (most recent call last)",
      "\u001b[0;32m/opt/anaconda3/lib/python3.8/shelve.py\u001b[0m in \u001b[0;36m__getitem__\u001b[0;34m(self, key)\u001b[0m\n\u001b[1;32m    110\u001b[0m         \u001b[0;32mtry\u001b[0m\u001b[0;34m:\u001b[0m\u001b[0;34m\u001b[0m\u001b[0;34m\u001b[0m\u001b[0m\n\u001b[0;32m--> 111\u001b[0;31m             \u001b[0mvalue\u001b[0m \u001b[0;34m=\u001b[0m \u001b[0mself\u001b[0m\u001b[0;34m.\u001b[0m\u001b[0mcache\u001b[0m\u001b[0;34m[\u001b[0m\u001b[0mkey\u001b[0m\u001b[0;34m]\u001b[0m\u001b[0;34m\u001b[0m\u001b[0;34m\u001b[0m\u001b[0m\n\u001b[0m\u001b[1;32m    112\u001b[0m         \u001b[0;32mexcept\u001b[0m \u001b[0mKeyError\u001b[0m\u001b[0;34m:\u001b[0m\u001b[0;34m\u001b[0m\u001b[0;34m\u001b[0m\u001b[0m\n",
      "\u001b[0;31mKeyError\u001b[0m: 'Tom Sawyer'",
      "\nDuring handling of the above exception, another exception occurred:\n",
      "\u001b[0;31mKeyError\u001b[0m                                  Traceback (most recent call last)",
      "\u001b[0;32m<ipython-input-41-77ddcaaf4d91>\u001b[0m in \u001b[0;36m<module>\u001b[0;34m\u001b[0m\n\u001b[1;32m      1\u001b[0m \u001b[0mdat_file\u001b[0m \u001b[0;34m=\u001b[0m \u001b[0mshelve\u001b[0m\u001b[0;34m.\u001b[0m\u001b[0mopen\u001b[0m\u001b[0;34m(\u001b[0m\u001b[0;34m'./datasets/movies.dat'\u001b[0m\u001b[0;34m,\u001b[0m \u001b[0mflag\u001b[0m \u001b[0;34m=\u001b[0m \u001b[0;34m'n'\u001b[0m\u001b[0;34m)\u001b[0m\u001b[0;34m\u001b[0m\u001b[0;34m\u001b[0m\u001b[0m\n\u001b[1;32m      2\u001b[0m \u001b[0;34m\u001b[0m\u001b[0m\n\u001b[0;32m----> 3\u001b[0;31m \u001b[0mdat_file\u001b[0m\u001b[0;34m[\u001b[0m\u001b[0;34m'Tom Sawyer'\u001b[0m\u001b[0;34m]\u001b[0m\u001b[0;34m\u001b[0m\u001b[0;34m\u001b[0m\u001b[0m\n\u001b[0m",
      "\u001b[0;32m/opt/anaconda3/lib/python3.8/shelve.py\u001b[0m in \u001b[0;36m__getitem__\u001b[0;34m(self, key)\u001b[0m\n\u001b[1;32m    111\u001b[0m             \u001b[0mvalue\u001b[0m \u001b[0;34m=\u001b[0m \u001b[0mself\u001b[0m\u001b[0;34m.\u001b[0m\u001b[0mcache\u001b[0m\u001b[0;34m[\u001b[0m\u001b[0mkey\u001b[0m\u001b[0;34m]\u001b[0m\u001b[0;34m\u001b[0m\u001b[0;34m\u001b[0m\u001b[0m\n\u001b[1;32m    112\u001b[0m         \u001b[0;32mexcept\u001b[0m \u001b[0mKeyError\u001b[0m\u001b[0;34m:\u001b[0m\u001b[0;34m\u001b[0m\u001b[0;34m\u001b[0m\u001b[0m\n\u001b[0;32m--> 113\u001b[0;31m             \u001b[0mf\u001b[0m \u001b[0;34m=\u001b[0m \u001b[0mBytesIO\u001b[0m\u001b[0;34m(\u001b[0m\u001b[0mself\u001b[0m\u001b[0;34m.\u001b[0m\u001b[0mdict\u001b[0m\u001b[0;34m[\u001b[0m\u001b[0mkey\u001b[0m\u001b[0;34m.\u001b[0m\u001b[0mencode\u001b[0m\u001b[0;34m(\u001b[0m\u001b[0mself\u001b[0m\u001b[0;34m.\u001b[0m\u001b[0mkeyencoding\u001b[0m\u001b[0;34m)\u001b[0m\u001b[0;34m]\u001b[0m\u001b[0;34m)\u001b[0m\u001b[0;34m\u001b[0m\u001b[0;34m\u001b[0m\u001b[0m\n\u001b[0m\u001b[1;32m    114\u001b[0m             \u001b[0mvalue\u001b[0m \u001b[0;34m=\u001b[0m \u001b[0mUnpickler\u001b[0m\u001b[0;34m(\u001b[0m\u001b[0mf\u001b[0m\u001b[0;34m)\u001b[0m\u001b[0;34m.\u001b[0m\u001b[0mload\u001b[0m\u001b[0;34m(\u001b[0m\u001b[0;34m)\u001b[0m\u001b[0;34m\u001b[0m\u001b[0;34m\u001b[0m\u001b[0m\n\u001b[1;32m    115\u001b[0m             \u001b[0;32mif\u001b[0m \u001b[0mself\u001b[0m\u001b[0;34m.\u001b[0m\u001b[0mwriteback\u001b[0m\u001b[0;34m:\u001b[0m\u001b[0;34m\u001b[0m\u001b[0;34m\u001b[0m\u001b[0m\n",
      "\u001b[0;31mKeyError\u001b[0m: b'Tom Sawyer'"
     ]
    }
   ],
   "source": [
    "dat_file = shelve.open('./datasets/movies.dat', flag = 'n')\n",
    "\n",
    "dat_file['Tom Sawyer']"
   ]
  },
  {
   "cell_type": "code",
   "execution_count": 42,
   "metadata": {},
   "outputs": [
    {
     "data": {
      "text/plain": [
       "[{'crawled_at': '11/17/2019, 23:18:54',\n",
       "  'title': 'Tom Sawyer',\n",
       "  'url': 'https://www.allmovie.com/movie/tom-sawyer-v50314',\n",
       "  'directed_by': 'John Cromwell'},\n",
       " {'crawled_at': '11/17/2019, 23:18:54',\n",
       "  'title': 'Tom Sawyer',\n",
       "  'url': 'https://www.allmovie.com/movie/tom-sawyer-v114022',\n",
       "  'directed_by': 'William Desmond Taylor'},\n",
       " {'crawled_at': '11/17/2019, 23:19:53',\n",
       "  'title': 'Tom Sawyer',\n",
       "  'url': 'https://www.allmovie.com/movie/tom-sawyer-v50314',\n",
       "  'directed_by': 'John Cromwell'},\n",
       " {'crawled_at': '11/17/2019, 23:19:57',\n",
       "  'title': 'Tom Sawyer',\n",
       "  'url': 'https://www.allmovie.com/movie/tom-sawyer-v114022',\n",
       "  'directed_by': 'William Desmond Taylor'}]"
      ]
     },
     "execution_count": 42,
     "metadata": {},
     "output_type": "execute_result"
    }
   ],
   "source": [
    "dat_file = etl.dictlookup(movies_data, 'title', dat_file)\n",
    "\n",
    "dat_file['Tom Sawyer']"
   ]
  },
  {
   "cell_type": "code",
   "execution_count": 43,
   "metadata": {},
   "outputs": [],
   "source": [
    "dat_file.close()"
   ]
  },
  {
   "cell_type": "code",
   "execution_count": 44,
   "metadata": {},
   "outputs": [],
   "source": [
    "dat_file = shelve.open('./datasets/movies.dat', flag='r')"
   ]
  },
  {
   "cell_type": "code",
   "execution_count": 45,
   "metadata": {},
   "outputs": [
    {
     "data": {
      "text/plain": [
       "[{'crawled_at': '11/17/2019, 23:18:54',\n",
       "  'title': 'Tom Sawyer',\n",
       "  'url': 'https://www.allmovie.com/movie/tom-sawyer-v50314',\n",
       "  'directed_by': 'John Cromwell'},\n",
       " {'crawled_at': '11/17/2019, 23:18:54',\n",
       "  'title': 'Tom Sawyer',\n",
       "  'url': 'https://www.allmovie.com/movie/tom-sawyer-v114022',\n",
       "  'directed_by': 'William Desmond Taylor'},\n",
       " {'crawled_at': '11/17/2019, 23:19:53',\n",
       "  'title': 'Tom Sawyer',\n",
       "  'url': 'https://www.allmovie.com/movie/tom-sawyer-v50314',\n",
       "  'directed_by': 'John Cromwell'},\n",
       " {'crawled_at': '11/17/2019, 23:19:57',\n",
       "  'title': 'Tom Sawyer',\n",
       "  'url': 'https://www.allmovie.com/movie/tom-sawyer-v114022',\n",
       "  'directed_by': 'William Desmond Taylor'}]"
      ]
     },
     "execution_count": 45,
     "metadata": {},
     "output_type": "execute_result"
    }
   ],
   "source": [
    "dat_file['Tom Sawyer']"
   ]
  },
  {
   "cell_type": "code",
   "execution_count": null,
   "metadata": {},
   "outputs": [],
   "source": []
  },
  {
   "cell_type": "code",
   "execution_count": null,
   "metadata": {},
   "outputs": [],
   "source": []
  }
 ],
 "metadata": {
  "kernelspec": {
   "display_name": ".venv",
   "language": "python",
   "name": "python3"
  },
  "language_info": {
   "codemirror_mode": {
    "name": "ipython",
    "version": 3
   },
   "file_extension": ".py",
   "mimetype": "text/x-python",
   "name": "python",
   "nbconvert_exporter": "python",
   "pygments_lexer": "ipython3",
   "version": "3.13.1"
  }
 },
 "nbformat": 4,
 "nbformat_minor": 4
}
