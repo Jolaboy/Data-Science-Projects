{
 "cells": [
  {
   "cell_type": "code",
   "execution_count": 1,
   "metadata": {},
   "outputs": [
    {
     "name": "stdout",
     "output_type": "stream",
     "text": [
      "Collecting xlrd\n",
      "  Downloading xlrd-1.2.0-py2.py3-none-any.whl (103 kB)\n",
      "\u001b[K     |████████████████████████████████| 103 kB 2.0 MB/s eta 0:00:01\n",
      "\u001b[?25hCollecting xlwt-future\n",
      "  Downloading xlwt-future-0.8.0.tar.gz (3.5 MB)\n",
      "\u001b[K     |████████████████████████████████| 3.5 MB 12.4 MB/s eta 0:00:01\n",
      "\u001b[?25hRequirement already satisfied: future>=0.8.2 in /Library/Frameworks/Python.framework/Versions/3.9/lib/python3.9/site-packages (from xlwt-future) (0.18.2)\n",
      "Using legacy 'setup.py install' for xlwt-future, since package 'wheel' is not installed.\n",
      "Installing collected packages: xlrd, xlwt-future\n",
      "    Running setup.py install for xlwt-future ... \u001b[?25ldone\n",
      "\u001b[?25hSuccessfully installed xlrd-1.2.0 xlwt-future-0.8.0\n"
     ]
    }
   ],
   "source": [
    "!pip3 install xlrd xlwt-future"
   ]
  },
  {
   "cell_type": "code",
   "execution_count": 2,
   "metadata": {},
   "outputs": [
    {
     "name": "stdout",
     "output_type": "stream",
     "text": [
      "Collecting openpyxl\n",
      "  Downloading openpyxl-3.0.5-py2.py3-none-any.whl (242 kB)\n",
      "\u001b[K     |████████████████████████████████| 242 kB 2.2 MB/s eta 0:00:01\n",
      "\u001b[?25hCollecting et-xmlfile\n",
      "  Downloading et_xmlfile-1.0.1.tar.gz (8.4 kB)\n",
      "Collecting jdcal\n",
      "  Downloading jdcal-1.4.1-py2.py3-none-any.whl (9.5 kB)\n",
      "Using legacy 'setup.py install' for et-xmlfile, since package 'wheel' is not installed.\n",
      "Installing collected packages: et-xmlfile, jdcal, openpyxl\n",
      "    Running setup.py install for et-xmlfile ... \u001b[?25ldone\n",
      "\u001b[?25hSuccessfully installed et-xmlfile-1.0.1 jdcal-1.4.1 openpyxl-3.0.5\n"
     ]
    }
   ],
   "source": [
    "!pip3 install openpyxl\n"
   ]
  },
  {
   "cell_type": "markdown",
   "metadata": {},
   "source": [
    "https://www.kaggle.com/salehahmedrony/linkedin-digital-data?select=public_use-industry-employment-growth.xlsx"
   ]
  },
  {
   "cell_type": "code",
   "execution_count": 3,
   "metadata": {},
   "outputs": [],
   "source": [
    "import petl as etl\n",
    "from petl import xlsx\n",
    "import openpyxl"
   ]
  },
  {
   "cell_type": "code",
   "execution_count": 4,
   "metadata": {},
   "outputs": [],
   "source": [
    "data = etl.fromxlsx('./datasets/public_use-industry-employment-growth.xlsx')"
   ]
  },
  {
   "cell_type": "code",
   "execution_count": 5,
   "metadata": {},
   "outputs": [
    {
     "data": {
      "text/html": [
       "<table class='petl'>\n",
       "<thead>\n",
       "<tr>\n",
       "<th>None</th>\n",
       "<th>None</th>\n",
       "<th>None</th>\n",
       "<th>None</th>\n",
       "<th>None</th>\n",
       "<th>None</th>\n",
       "<th>None</th>\n",
       "<th>None</th>\n",
       "<th>None</th>\n",
       "<th>None</th>\n",
       "<th>None</th>\n",
       "<th>None</th>\n",
       "<th>None</th>\n",
       "<th>None</th>\n",
       "<th>None</th>\n",
       "<th>None</th>\n",
       "<th>None</th>\n",
       "<th>None</th>\n",
       "<th>None</th>\n",
       "<th>None</th>\n",
       "<th>None</th>\n",
       "<th>None</th>\n",
       "<th>None</th>\n",
       "</tr>\n",
       "</thead>\n",
       "<tbody>\n",
       "<tr>\n",
       "<td>None</td>\n",
       "<td>None</td>\n",
       "<td>None</td>\n",
       "<td>None</td>\n",
       "<td>None</td>\n",
       "<td>None</td>\n",
       "<td>None</td>\n",
       "<td>None</td>\n",
       "<td>None</td>\n",
       "<td>None</td>\n",
       "<td>None</td>\n",
       "<td>None</td>\n",
       "<td>None</td>\n",
       "<td>None</td>\n",
       "<td>None</td>\n",
       "<td>None</td>\n",
       "<td>None</td>\n",
       "<td>None</td>\n",
       "<td>None</td>\n",
       "<td>None</td>\n",
       "<td>None</td>\n",
       "<td>None</td>\n",
       "<td>None</td>\n",
       "</tr>\n",
       "<tr>\n",
       "<td>None</td>\n",
       "<td>None</td>\n",
       "<td>None</td>\n",
       "<td>None</td>\n",
       "<td>None</td>\n",
       "<td>None</td>\n",
       "<td>None</td>\n",
       "<td>None</td>\n",
       "<td>None</td>\n",
       "<td>None</td>\n",
       "<td>None</td>\n",
       "<td>None</td>\n",
       "<td>None</td>\n",
       "<td>None</td>\n",
       "<td>None</td>\n",
       "<td>None</td>\n",
       "<td>None</td>\n",
       "<td>None</td>\n",
       "<td>None</td>\n",
       "<td>None</td>\n",
       "<td>None</td>\n",
       "<td>None</td>\n",
       "<td>None</td>\n",
       "</tr>\n",
       "<tr>\n",
       "<td>None</td>\n",
       "<td>None</td>\n",
       "<td>None</td>\n",
       "<td>None</td>\n",
       "<td>None</td>\n",
       "<td>None</td>\n",
       "<td>None</td>\n",
       "<td>None</td>\n",
       "<td>None</td>\n",
       "<td>None</td>\n",
       "<td>None</td>\n",
       "<td>None</td>\n",
       "<td>None</td>\n",
       "<td>None</td>\n",
       "<td>None</td>\n",
       "<td>None</td>\n",
       "<td>None</td>\n",
       "<td>None</td>\n",
       "<td>None</td>\n",
       "<td>None</td>\n",
       "<td>None</td>\n",
       "<td>None</td>\n",
       "<td>None</td>\n",
       "</tr>\n",
       "<tr>\n",
       "<td>None</td>\n",
       "<td>None</td>\n",
       "<td>None</td>\n",
       "<td>None</td>\n",
       "<td>None</td>\n",
       "<td>None</td>\n",
       "<td>None</td>\n",
       "<td>None</td>\n",
       "<td>None</td>\n",
       "<td>None</td>\n",
       "<td>None</td>\n",
       "<td>None</td>\n",
       "<td>None</td>\n",
       "<td>None</td>\n",
       "<td>None</td>\n",
       "<td>None</td>\n",
       "<td>None</td>\n",
       "<td>None</td>\n",
       "<td>None</td>\n",
       "<td>None</td>\n",
       "<td>None</td>\n",
       "<td>None</td>\n",
       "<td>None</td>\n",
       "</tr>\n",
       "<tr>\n",
       "<td>None</td>\n",
       "<td>None</td>\n",
       "<td>None</td>\n",
       "<td>None</td>\n",
       "<td>None</td>\n",
       "<td>None</td>\n",
       "<td>None</td>\n",
       "<td>None</td>\n",
       "<td>None</td>\n",
       "<td>None</td>\n",
       "<td>None</td>\n",
       "<td>None</td>\n",
       "<td>None</td>\n",
       "<td>None</td>\n",
       "<td>None</td>\n",
       "<td>None</td>\n",
       "<td>None</td>\n",
       "<td>None</td>\n",
       "<td>None</td>\n",
       "<td>None</td>\n",
       "<td>None</td>\n",
       "<td>None</td>\n",
       "<td>None</td>\n",
       "</tr>\n",
       "</tbody>\n",
       "</table>\n"
      ],
      "text/plain": [
       "+------+------+------+------+------+------+------+------+------+------+------+------+------+------+------+------+------+------+------+------+------+------+------+\n",
       "| None | None | None | None | None | None | None | None | None | None | None | None | None | None | None | None | None | None | None | None | None | None | None |\n",
       "+======+======+======+======+======+======+======+======+======+======+======+======+======+======+======+======+======+======+======+======+======+======+======+\n",
       "| None | None | None | None | None | None | None | None | None | None | None | None | None | None | None | None | None | None | None | None | None | None | None |\n",
       "+------+------+------+------+------+------+------+------+------+------+------+------+------+------+------+------+------+------+------+------+------+------+------+\n",
       "| None | None | None | None | None | None | None | None | None | None | None | None | None | None | None | None | None | None | None | None | None | None | None |\n",
       "+------+------+------+------+------+------+------+------+------+------+------+------+------+------+------+------+------+------+------+------+------+------+------+\n",
       "| None | None | None | None | None | None | None | None | None | None | None | None | None | None | None | None | None | None | None | None | None | None | None |\n",
       "+------+------+------+------+------+------+------+------+------+------+------+------+------+------+------+------+------+------+------+------+------+------+------+\n",
       "| None | None | None | None | None | None | None | None | None | None | None | None | None | None | None | None | None | None | None | None | None | None | None |\n",
       "+------+------+------+------+------+------+------+------+------+------+------+------+------+------+------+------+------+------+------+------+------+------+------+\n",
       "| None | None | None | None | None | None | None | None | None | None | None | None | None | None | None | None | None | None | None | None | None | None | None |\n",
       "+------+------+------+------+------+------+------+------+------+------+------+------+------+------+------+------+------+------+------+------+------+------+------+"
      ]
     },
     "execution_count": 5,
     "metadata": {},
     "output_type": "execute_result"
    }
   ],
   "source": [
    "data.head()"
   ]
  },
  {
   "cell_type": "code",
   "execution_count": 6,
   "metadata": {},
   "outputs": [],
   "source": [
    "data = etl.fromxlsx('./datasets/public_use-industry-employment-growth.xlsx', \n",
    "                    sheet = 'Growth from Industry Transition')"
   ]
  },
  {
   "cell_type": "code",
   "execution_count": 29,
   "metadata": {},
   "outputs": [
    {
     "data": {
      "text/html": [
       "<table class='petl'>\n",
       "<thead>\n",
       "<tr>\n",
       "<th>country_code</th>\n",
       "<th>country_name</th>\n",
       "<th>wb_region</th>\n",
       "<th>wb_income</th>\n",
       "<th>isic_section_index</th>\n",
       "<th>isic_section_name</th>\n",
       "<th>industry_id</th>\n",
       "<th>industry_name</th>\n",
       "<th>growth_rate_2015</th>\n",
       "<th>growth_rate_2016</th>\n",
       "<th>growth_rate_2017</th>\n",
       "<th>growth_rate_2018</th>\n",
       "<th>growth_rate_2019</th>\n",
       "</tr>\n",
       "</thead>\n",
       "<tbody>\n",
       "<tr>\n",
       "<td>ae</td>\n",
       "<td>United Arab Emirates</td>\n",
       "<td>Middle East & North Africa</td>\n",
       "<td>High income</td>\n",
       "<td>B</td>\n",
       "<td>Mining and quarrying</td>\n",
       "<td style='text-align: right'>56</td>\n",
       "<td>Mining & Metals</td>\n",
       "<td style='text-align: right'>0.078</td>\n",
       "<td style='text-align: right'>0.0585495675316034</td>\n",
       "<td style='text-align: right'>0.04340239912759</td>\n",
       "<td style='text-align: right'>0.0100481473728282</td>\n",
       "<td style='text-align: right'>-0.000621375310687621</td>\n",
       "</tr>\n",
       "<tr>\n",
       "<td>ae</td>\n",
       "<td>United Arab Emirates</td>\n",
       "<td>Middle East & North Africa</td>\n",
       "<td>High income</td>\n",
       "<td>B</td>\n",
       "<td>Mining and quarrying</td>\n",
       "<td style='text-align: right'>57</td>\n",
       "<td>Oil & Energy</td>\n",
       "<td style='text-align: right'>0.0330148256063074</td>\n",
       "<td style='text-align: right'>0.013478553881606</td>\n",
       "<td style='text-align: right'>0.0174590734935562</td>\n",
       "<td style='text-align: right'>0.0185141585154426</td>\n",
       "<td style='text-align: right'>0.0226059392726059</td>\n",
       "</tr>\n",
       "<tr>\n",
       "<td>ae</td>\n",
       "<td>United Arab Emirates</td>\n",
       "<td>Middle East & North Africa</td>\n",
       "<td>High income</td>\n",
       "<td>C</td>\n",
       "<td>Manufacturing</td>\n",
       "<td style='text-align: right'>15</td>\n",
       "<td>Pharmaceuticals</td>\n",
       "<td style='text-align: right'>0.171366594360086</td>\n",
       "<td style='text-align: right'>0.136986301369863</td>\n",
       "<td style='text-align: right'>0.0906305434607321</td>\n",
       "<td style='text-align: right'>0.048148148148148</td>\n",
       "<td style='text-align: right'>0.0284233900814212</td>\n",
       "</tr>\n",
       "<tr>\n",
       "<td>ae</td>\n",
       "<td>United Arab Emirates</td>\n",
       "<td>Middle East & North Africa</td>\n",
       "<td>High income</td>\n",
       "<td>C</td>\n",
       "<td>Manufacturing</td>\n",
       "<td style='text-align: right'>23</td>\n",
       "<td>Food Production</td>\n",
       "<td style='text-align: right'>0.0633512828634779</td>\n",
       "<td style='text-align: right'>0.038647342995169</td>\n",
       "<td style='text-align: right'>0.0221366698748797</td>\n",
       "<td style='text-align: right'>0.00598991172761653</td>\n",
       "<td style='text-align: right'>0.00431699044094968</td>\n",
       "</tr>\n",
       "<tr>\n",
       "<td>ae</td>\n",
       "<td>United Arab Emirates</td>\n",
       "<td>Middle East & North Africa</td>\n",
       "<td>High income</td>\n",
       "<td>C</td>\n",
       "<td>Manufacturing</td>\n",
       "<td style='text-align: right'>52</td>\n",
       "<td>Aviation & Aerospace</td>\n",
       "<td style='text-align: right'>0.0966074313408724</td>\n",
       "<td style='text-align: right'>0.0567441860465116</td>\n",
       "<td style='text-align: right'>0.0286727756429205</td>\n",
       "<td style='text-align: right'>0.0150482680295287</td>\n",
       "<td style='text-align: right'>0.000816104461371036</td>\n",
       "</tr>\n",
       "</tbody>\n",
       "</table>\n",
       "<p><strong>...</strong></p>"
      ]
     },
     "metadata": {},
     "output_type": "display_data"
    }
   ],
   "source": [
    "data.display()"
   ]
  },
  {
   "cell_type": "code",
   "execution_count": 8,
   "metadata": {},
   "outputs": [
    {
     "data": {
      "text/plain": [
       "7335"
      ]
     },
     "execution_count": 8,
     "metadata": {},
     "output_type": "execute_result"
    }
   ],
   "source": [
    "etl.nrows(data)"
   ]
  },
  {
   "cell_type": "markdown",
   "metadata": {},
   "source": [
    "#### Get the count and proportion of rows with a specific value in a column"
   ]
  },
  {
   "cell_type": "code",
   "execution_count": 30,
   "metadata": {},
   "outputs": [
    {
     "data": {
      "text/plain": [
       "(3348, 0.456441717791411)"
      ]
     },
     "execution_count": 30,
     "metadata": {},
     "output_type": "execute_result"
    }
   ],
   "source": [
    "etl.valuecount(data, 'wb_income', 'High income')"
   ]
  },
  {
   "cell_type": "code",
   "execution_count": 31,
   "metadata": {},
   "outputs": [
    {
     "data": {
      "text/plain": [
       "(1636, 0.22304021813224267)"
      ]
     },
     "execution_count": 31,
     "metadata": {},
     "output_type": "execute_result"
    }
   ],
   "source": [
    "etl.valuecount(data, 'isic_section_name', 'Manufacturing')"
   ]
  },
  {
   "cell_type": "code",
   "execution_count": 32,
   "metadata": {},
   "outputs": [
    {
     "data": {
      "text/plain": [
       "Counter({'High income': 3348,\n",
       "         'Low income': 454,\n",
       "         'Upper middle income': 1996,\n",
       "         'Lower middle income': 1537})"
      ]
     },
     "execution_count": 32,
     "metadata": {},
     "output_type": "execute_result"
    }
   ],
   "source": [
    "etl.valuecounter(data, 'wb_income')"
   ]
  },
  {
   "cell_type": "code",
   "execution_count": 33,
   "metadata": {},
   "outputs": [
    {
     "data": {
      "text/plain": [
       "Counter({'Middle East & North Africa': 1079,\n",
       "         'South Asia': 360,\n",
       "         'Europe & Central Asia': 2547,\n",
       "         'Sub-Saharan Africa ': 916,\n",
       "         'Latin America & Caribbean ': 1227,\n",
       "         'East Asia & Pacific': 1051,\n",
       "         'North America': 154,\n",
       "         'Sub-Saharan Africa': 1})"
      ]
     },
     "execution_count": 33,
     "metadata": {},
     "output_type": "execute_result"
    }
   ],
   "source": [
    "etl.valuecounter(data, 'wb_region')"
   ]
  },
  {
   "cell_type": "markdown",
   "metadata": {},
   "source": [
    "#### Get the counts for combinations of wb_region and isic_section_name"
   ]
  },
  {
   "cell_type": "code",
   "execution_count": 43,
   "metadata": {},
   "outputs": [],
   "source": [
    "region_isic_count = etl.valuecounts(data, 'wb_region', 'isic_section_name')"
   ]
  },
  {
   "cell_type": "code",
   "execution_count": 44,
   "metadata": {},
   "outputs": [
    {
     "data": {
      "text/html": [
       "<table class='petl'>\n",
       "<thead>\n",
       "<tr>\n",
       "<th>wb_region</th>\n",
       "<th>isic_section_name</th>\n",
       "<th>count</th>\n",
       "<th>frequency</th>\n",
       "</tr>\n",
       "</thead>\n",
       "<tbody>\n",
       "<tr>\n",
       "<td>Europe & Central Asia</td>\n",
       "<td>Professional scientific and technical activities</td>\n",
       "<td style='text-align: right'>799</td>\n",
       "<td style='text-align: right'>0.1089297886843899</td>\n",
       "</tr>\n",
       "<tr>\n",
       "<td>Europe & Central Asia</td>\n",
       "<td>Manufacturing</td>\n",
       "<td style='text-align: right'>575</td>\n",
       "<td style='text-align: right'>0.07839127471029311</td>\n",
       "</tr>\n",
       "<tr>\n",
       "<td>Europe & Central Asia</td>\n",
       "<td>Information and communication</td>\n",
       "<td style='text-align: right'>561</td>\n",
       "<td style='text-align: right'>0.07648261758691206</td>\n",
       "</tr>\n",
       "<tr>\n",
       "<td>Latin America & Caribbean </td>\n",
       "<td>Professional scientific and technical activities</td>\n",
       "<td style='text-align: right'>415</td>\n",
       "<td style='text-align: right'>0.05657805044308112</td>\n",
       "</tr>\n",
       "<tr>\n",
       "<td>Middle East & North Africa</td>\n",
       "<td>Professional scientific and technical activities</td>\n",
       "<td style='text-align: right'>333</td>\n",
       "<td style='text-align: right'>0.04539877300613497</td>\n",
       "</tr>\n",
       "<tr>\n",
       "<td>East Asia & Pacific</td>\n",
       "<td>Professional scientific and technical activities</td>\n",
       "<td style='text-align: right'>321</td>\n",
       "<td style='text-align: right'>0.04376278118609407</td>\n",
       "</tr>\n",
       "<tr>\n",
       "<td>Sub-Saharan Africa </td>\n",
       "<td>Professional scientific and technical activities</td>\n",
       "<td style='text-align: right'>311</td>\n",
       "<td style='text-align: right'>0.04239945466939332</td>\n",
       "</tr>\n",
       "<tr>\n",
       "<td>Europe & Central Asia</td>\n",
       "<td>Arts, entertainment and recreation </td>\n",
       "<td style='text-align: right'>296</td>\n",
       "<td style='text-align: right'>0.0403544648943422</td>\n",
       "</tr>\n",
       "<tr>\n",
       "<td>Latin America & Caribbean </td>\n",
       "<td>Manufacturing</td>\n",
       "<td style='text-align: right'>267</td>\n",
       "<td style='text-align: right'>0.03640081799591002</td>\n",
       "</tr>\n",
       "<tr>\n",
       "<td>Latin America & Caribbean </td>\n",
       "<td>Information and communication</td>\n",
       "<td style='text-align: right'>261</td>\n",
       "<td style='text-align: right'>0.03558282208588957</td>\n",
       "</tr>\n",
       "</tbody>\n",
       "</table>\n",
       "<p><strong>...</strong></p>"
      ]
     },
     "metadata": {},
     "output_type": "display_data"
    }
   ],
   "source": [
    "region_isic_count.display(limit = 10)"
   ]
  },
  {
   "cell_type": "code",
   "execution_count": 45,
   "metadata": {},
   "outputs": [
    {
     "data": {
      "text/html": [
       "<table class='petl'>\n",
       "<thead>\n",
       "<tr>\n",
       "<th>wb_region</th>\n",
       "<th>isic_section_name</th>\n",
       "<th>count</th>\n",
       "<th>frequency</th>\n",
       "</tr>\n",
       "</thead>\n",
       "<tbody>\n",
       "<tr>\n",
       "<td>North America</td>\n",
       "<td>Arts, entertainment and recreation </td>\n",
       "<td style='text-align: right'>20</td>\n",
       "<td style='text-align: right'>0.0027266530334014998</td>\n",
       "</tr>\n",
       "<tr>\n",
       "<td>North America</td>\n",
       "<td>Financial and insurance activities</td>\n",
       "<td style='text-align: right'>14</td>\n",
       "<td style='text-align: right'>0.0019086571233810498</td>\n",
       "</tr>\n",
       "<tr>\n",
       "<td>South Asia</td>\n",
       "<td>Mining and quarrying</td>\n",
       "<td style='text-align: right'>11</td>\n",
       "<td style='text-align: right'>0.0014996591683708249</td>\n",
       "</tr>\n",
       "<tr>\n",
       "<td>North America</td>\n",
       "<td>Mining and quarrying</td>\n",
       "<td style='text-align: right'>4</td>\n",
       "<td style='text-align: right'>0.0005453306066803</td>\n",
       "</tr>\n",
       "<tr>\n",
       "<td>Sub-Saharan Africa</td>\n",
       "<td>Arts, entertainment and recreation</td>\n",
       "<td style='text-align: right'>1</td>\n",
       "<td style='text-align: right'>0.000136332651670075</td>\n",
       "</tr>\n",
       "</tbody>\n",
       "</table>\n"
      ],
      "text/plain": [
       "+----------------------+---------------------------------------+-------+-----------------------+\n",
       "| wb_region            | isic_section_name                     | count | frequency             |\n",
       "+======================+=======================================+=======+=======================+\n",
       "| 'North America'      | 'Arts, entertainment and recreation ' |    20 | 0.0027266530334014998 |\n",
       "+----------------------+---------------------------------------+-------+-----------------------+\n",
       "| 'North America'      | 'Financial and insurance activities'  |    14 | 0.0019086571233810498 |\n",
       "+----------------------+---------------------------------------+-------+-----------------------+\n",
       "| 'South Asia'         | 'Mining and quarrying'                |    11 | 0.0014996591683708249 |\n",
       "+----------------------+---------------------------------------+-------+-----------------------+\n",
       "| 'North America'      | 'Mining and quarrying'                |     4 |    0.0005453306066803 |\n",
       "+----------------------+---------------------------------------+-------+-----------------------+\n",
       "| 'Sub-Saharan Africa' | 'Arts, entertainment and recreation'  |     1 |  0.000136332651670075 |\n",
       "+----------------------+---------------------------------------+-------+-----------------------+"
      ]
     },
     "execution_count": 45,
     "metadata": {},
     "output_type": "execute_result"
    }
   ],
   "source": [
    "region_isic_count.tail()"
   ]
  },
  {
   "cell_type": "code",
   "execution_count": 47,
   "metadata": {},
   "outputs": [],
   "source": [
    "etl.toxlsx(region_isic_count, './datasets/industries.xlsx',\n",
    "           write_header = True)"
   ]
  },
  {
   "cell_type": "markdown",
   "metadata": {},
   "source": [
    "Calculate basic descriptive statistics on a given field"
   ]
  },
  {
   "cell_type": "code",
   "execution_count": 48,
   "metadata": {},
   "outputs": [],
   "source": [
    "min_growth2019, max_growth2019 = etl.limits(data, 'growth_rate_2019')"
   ]
  },
  {
   "cell_type": "code",
   "execution_count": 49,
   "metadata": {},
   "outputs": [
    {
     "data": {
      "text/plain": [
       "-0.164179104477611"
      ]
     },
     "execution_count": 49,
     "metadata": {},
     "output_type": "execute_result"
    }
   ],
   "source": [
    "min_growth2019"
   ]
  },
  {
   "cell_type": "code",
   "execution_count": 50,
   "metadata": {},
   "outputs": [
    {
     "data": {
      "text/plain": [
       "0.3451536643026"
      ]
     },
     "execution_count": 50,
     "metadata": {},
     "output_type": "execute_result"
    }
   ],
   "source": [
    "max_growth2019"
   ]
  },
  {
   "cell_type": "code",
   "execution_count": 51,
   "metadata": {},
   "outputs": [],
   "source": [
    "lookup_growth2019 = etl.dictlookup(data, 'growth_rate_2019')"
   ]
  },
  {
   "cell_type": "code",
   "execution_count": 52,
   "metadata": {},
   "outputs": [
    {
     "data": {
      "text/plain": [
       "[{'country_code': 'om',\n",
       "  'country_name': 'Oman',\n",
       "  'wb_region': 'Middle East & North Africa',\n",
       "  'wb_income': 'High income',\n",
       "  'isic_section_index': 'C',\n",
       "  'isic_section_name': 'Manufacturing',\n",
       "  'industry_id': 144,\n",
       "  'industry_name': 'Renewables & Environment',\n",
       "  'growth_rate_2015': 0.03,\n",
       "  'growth_rate_2016': 0.0454545454545454,\n",
       "  'growth_rate_2017': 0.0619469026548673,\n",
       "  'growth_rate_2018': 0.100840336134453,\n",
       "  'growth_rate_2019': -0.164179104477611}]"
      ]
     },
     "execution_count": 52,
     "metadata": {},
     "output_type": "execute_result"
    }
   ],
   "source": [
    "lookup_growth2019[min_growth2019]"
   ]
  },
  {
   "cell_type": "code",
   "execution_count": 53,
   "metadata": {},
   "outputs": [
    {
     "data": {
      "text/plain": [
       "[{'country_code': 'ua',\n",
       "  'country_name': 'Ukraine',\n",
       "  'wb_region': 'Europe & Central Asia',\n",
       "  'wb_income': 'Lower middle income',\n",
       "  'isic_section_index': 'J',\n",
       "  'isic_section_name': 'Information and communication',\n",
       "  'industry_id': 118,\n",
       "  'industry_name': 'Computer & Network Security',\n",
       "  'growth_rate_2015': -0.0657142857142857,\n",
       "  'growth_rate_2016': -0.0286532951289398,\n",
       "  'growth_rate_2017': 0.0445682451253481,\n",
       "  'growth_rate_2018': 0.0176767676767677,\n",
       "  'growth_rate_2019': 0.3451536643026}]"
      ]
     },
     "execution_count": 53,
     "metadata": {},
     "output_type": "execute_result"
    }
   ],
   "source": [
    "lookup_growth2019[max_growth2019]"
   ]
  },
  {
   "cell_type": "code",
   "execution_count": 54,
   "metadata": {},
   "outputs": [],
   "source": [
    "add_data = [['country_code', 'country_name', 'wb_region', \n",
    "             'isic_section_index', 'isic_section_name', 'industry_id',\n",
    "             'industry_name', 'growth_rate_2015', 'growth_rate_2016',\n",
    "             'growth_rate_2017', 'growth_rate_2018', 'growth_rate_2019'],\n",
    "            \n",
    "            ['zw', 'Zimbabwe', 'Sub-Saharan Africa','Low income',\n",
    "             'R', 'Arts, entertainment and recreation', 124,\n",
    "             'Health, Wellness & Fitness', -0.00226757369614516, 0.0092592592592593,\n",
    "              -0.00694444444444442, 0.0159817351598172, 0.0066815144766148]]"
   ]
  },
  {
   "cell_type": "code",
   "execution_count": 55,
   "metadata": {},
   "outputs": [],
   "source": [
    "etl.appendxlsx(add_data, './datasets/public_use-industry-employment-growth.xlsx',\n",
    "               sheet = 'Growth from Industry Transition', write_header = False)"
   ]
  },
  {
   "cell_type": "code",
   "execution_count": 56,
   "metadata": {},
   "outputs": [],
   "source": [
    "data = etl.fromxlsx('./datasets/public_use-industry-employment-growth.xlsx',\n",
    "                    sheet = 'Growth from Industry Transition')"
   ]
  },
  {
   "cell_type": "code",
   "execution_count": 57,
   "metadata": {},
   "outputs": [
    {
     "data": {
      "text/html": [
       "<table class='petl'>\n",
       "<thead>\n",
       "<tr>\n",
       "<th>country_code</th>\n",
       "<th>country_name</th>\n",
       "<th>wb_region</th>\n",
       "<th>wb_income</th>\n",
       "<th>isic_section_index</th>\n",
       "<th>isic_section_name</th>\n",
       "<th>industry_id</th>\n",
       "<th>industry_name</th>\n",
       "<th>growth_rate_2015</th>\n",
       "<th>growth_rate_2016</th>\n",
       "<th>growth_rate_2017</th>\n",
       "<th>growth_rate_2018</th>\n",
       "<th>growth_rate_2019</th>\n",
       "</tr>\n",
       "</thead>\n",
       "<tbody>\n",
       "<tr>\n",
       "<td>zw</td>\n",
       "<td>Zimbabwe</td>\n",
       "<td>Sub-Saharan Africa </td>\n",
       "<td>Low income</td>\n",
       "<td>R</td>\n",
       "<td>Arts, entertainment and recreation </td>\n",
       "<td style='text-align: right'>33</td>\n",
       "<td>Sports</td>\n",
       "<td style='text-align: right'>0</td>\n",
       "<td style='text-align: right'>-0.017391304347826</td>\n",
       "<td style='text-align: right'>-0.00854700854700851</td>\n",
       "<td style='text-align: right'>-0.0252100840336134</td>\n",
       "<td style='text-align: right'>-0.0256410256410256</td>\n",
       "</tr>\n",
       "<tr>\n",
       "<td>zw</td>\n",
       "<td>Zimbabwe</td>\n",
       "<td>Sub-Saharan Africa </td>\n",
       "<td>Low income</td>\n",
       "<td>R</td>\n",
       "<td>Arts, entertainment and recreation </td>\n",
       "<td style='text-align: right'>111</td>\n",
       "<td>Arts & Crafts</td>\n",
       "<td style='text-align: right'>-0.0303030303030302</td>\n",
       "<td style='text-align: right'>0</td>\n",
       "<td style='text-align: right'>0</td>\n",
       "<td style='text-align: right'>0</td>\n",
       "<td style='text-align: right'>0</td>\n",
       "</tr>\n",
       "<tr>\n",
       "<td>zw</td>\n",
       "<td>Zimbabwe</td>\n",
       "<td>Sub-Saharan Africa </td>\n",
       "<td>Low income</td>\n",
       "<td>R</td>\n",
       "<td>Arts, entertainment and recreation </td>\n",
       "<td style='text-align: right'>115</td>\n",
       "<td>Music</td>\n",
       "<td style='text-align: right'>0.0350877192982457</td>\n",
       "<td style='text-align: right'>-0.0166666666666667</td>\n",
       "<td style='text-align: right'>0.0172413793103447</td>\n",
       "<td style='text-align: right'>0.0169491525423728</td>\n",
       "<td style='text-align: right'>0.0344827586206897</td>\n",
       "</tr>\n",
       "<tr>\n",
       "<td>zw</td>\n",
       "<td>Zimbabwe</td>\n",
       "<td>Sub-Saharan Africa</td>\n",
       "<td>Low income</td>\n",
       "<td>R</td>\n",
       "<td>Arts, entertainment and recreation</td>\n",
       "<td style='text-align: right'>124</td>\n",
       "<td>Health, Wellness & Fitness</td>\n",
       "<td style='text-align: right'>-0.00226757369614516</td>\n",
       "<td style='text-align: right'>0.0092592592592593</td>\n",
       "<td style='text-align: right'>-0.00694444444444442</td>\n",
       "<td style='text-align: right'>0.0159817351598172</td>\n",
       "<td style='text-align: right'>0.0066815144766148</td>\n",
       "</tr>\n",
       "<tr>\n",
       "<td>zw</td>\n",
       "<td>Zimbabwe</td>\n",
       "<td>Sub-Saharan Africa</td>\n",
       "<td>Low income</td>\n",
       "<td>R</td>\n",
       "<td>Arts, entertainment and recreation</td>\n",
       "<td style='text-align: right'>124</td>\n",
       "<td>Health, Wellness & Fitness</td>\n",
       "<td style='text-align: right'>-0.00226757369614516</td>\n",
       "<td style='text-align: right'>0.0092592592592593</td>\n",
       "<td style='text-align: right'>-0.00694444444444442</td>\n",
       "<td style='text-align: right'>0.0159817351598172</td>\n",
       "<td style='text-align: right'>0.0066815144766148</td>\n",
       "</tr>\n",
       "</tbody>\n",
       "</table>\n"
      ],
      "text/plain": [
       "+--------------+--------------+-----------------------+--------------+--------------------+---------------------------------------+-------------+------------------------------+----------------------+---------------------+----------------------+---------------------+---------------------+\n",
       "| country_code | country_name | wb_region             | wb_income    | isic_section_index | isic_section_name                     | industry_id | industry_name                | growth_rate_2015     | growth_rate_2016    | growth_rate_2017     | growth_rate_2018    | growth_rate_2019    |\n",
       "+==============+==============+=======================+==============+====================+=======================================+=============+==============================+======================+=====================+======================+=====================+=====================+\n",
       "| 'zw'         | 'Zimbabwe'   | 'Sub-Saharan Africa ' | 'Low income' | 'R'                | 'Arts, entertainment and recreation ' |          33 | 'Sports'                     |                    0 |  -0.017391304347826 | -0.00854700854700851 | -0.0252100840336134 | -0.0256410256410256 |\n",
       "+--------------+--------------+-----------------------+--------------+--------------------+---------------------------------------+-------------+------------------------------+----------------------+---------------------+----------------------+---------------------+---------------------+\n",
       "| 'zw'         | 'Zimbabwe'   | 'Sub-Saharan Africa ' | 'Low income' | 'R'                | 'Arts, entertainment and recreation ' |         111 | 'Arts & Crafts'              |  -0.0303030303030302 |                   0 |                    0 |                   0 |                   0 |\n",
       "+--------------+--------------+-----------------------+--------------+--------------------+---------------------------------------+-------------+------------------------------+----------------------+---------------------+----------------------+---------------------+---------------------+\n",
       "| 'zw'         | 'Zimbabwe'   | 'Sub-Saharan Africa ' | 'Low income' | 'R'                | 'Arts, entertainment and recreation ' |         115 | 'Music'                      |   0.0350877192982457 | -0.0166666666666667 |   0.0172413793103447 |  0.0169491525423728 |  0.0344827586206897 |\n",
       "+--------------+--------------+-----------------------+--------------+--------------------+---------------------------------------+-------------+------------------------------+----------------------+---------------------+----------------------+---------------------+---------------------+\n",
       "| 'zw'         | 'Zimbabwe'   | 'Sub-Saharan Africa'  | 'Low income' | 'R'                | 'Arts, entertainment and recreation'  |         124 | 'Health, Wellness & Fitness' | -0.00226757369614516 |  0.0092592592592593 | -0.00694444444444442 |  0.0159817351598172 |  0.0066815144766148 |\n",
       "+--------------+--------------+-----------------------+--------------+--------------------+---------------------------------------+-------------+------------------------------+----------------------+---------------------+----------------------+---------------------+---------------------+\n",
       "| 'zw'         | 'Zimbabwe'   | 'Sub-Saharan Africa'  | 'Low income' | 'R'                | 'Arts, entertainment and recreation'  |         124 | 'Health, Wellness & Fitness' | -0.00226757369614516 |  0.0092592592592593 | -0.00694444444444442 |  0.0159817351598172 |  0.0066815144766148 |\n",
       "+--------------+--------------+-----------------------+--------------+--------------------+---------------------------------------+-------------+------------------------------+----------------------+---------------------+----------------------+---------------------+---------------------+"
      ]
     },
     "execution_count": 57,
     "metadata": {},
     "output_type": "execute_result"
    }
   ],
   "source": [
    "data.tail()"
   ]
  },
  {
   "cell_type": "code",
   "execution_count": 58,
   "metadata": {},
   "outputs": [
    {
     "data": {
      "text/plain": [
       "7336"
      ]
     },
     "execution_count": 58,
     "metadata": {},
     "output_type": "execute_result"
    }
   ],
   "source": [
    "etl.nrows(data)"
   ]
  },
  {
   "cell_type": "code",
   "execution_count": null,
   "metadata": {},
   "outputs": [],
   "source": []
  }
 ],
 "metadata": {
  "kernelspec": {
   "display_name": "Python 3",
   "language": "python",
   "name": "python3"
  },
  "language_info": {
   "codemirror_mode": {
    "name": "ipython",
    "version": 3
   },
   "file_extension": ".py",
   "mimetype": "text/x-python",
   "name": "python",
   "nbconvert_exporter": "python",
   "pygments_lexer": "ipython3",
   "version": "3.8.3"
  }
 },
 "nbformat": 4,
 "nbformat_minor": 4
}
