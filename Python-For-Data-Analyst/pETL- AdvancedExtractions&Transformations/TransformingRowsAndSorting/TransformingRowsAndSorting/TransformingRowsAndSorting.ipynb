{
 "cells": [
  {
   "cell_type": "code",
   "execution_count": 1,
   "metadata": {},
   "outputs": [],
   "source": [
    "import pandas as pd\n",
    "import petl as etl\n",
    "from collections import OrderedDict"
   ]
  },
  {
   "cell_type": "markdown",
   "metadata": {},
   "source": [
    "https://www.kaggle.com/spscientist/students-performance-in-exams"
   ]
  },
  {
   "cell_type": "code",
   "execution_count": 2,
   "metadata": {},
   "outputs": [],
   "source": [
    "data = pd.read_csv('./datasets/StudentsPerformance.csv')"
   ]
  },
  {
   "cell_type": "code",
   "execution_count": 3,
   "metadata": {},
   "outputs": [],
   "source": [
    "students_performance = etl.fromdataframe(data)"
   ]
  },
  {
   "cell_type": "code",
   "execution_count": 4,
   "metadata": {},
   "outputs": [
    {
     "data": {
      "text/html": [
       "<table class='petl'>\n",
       "<thead>\n",
       "<tr>\n",
       "<th>gender</th>\n",
       "<th>group</th>\n",
       "<th>parental level of education</th>\n",
       "<th>testpreparation</th>\n",
       "<th>math_score</th>\n",
       "<th>reading_score</th>\n",
       "<th>writing_score</th>\n",
       "</tr>\n",
       "</thead>\n",
       "<tbody>\n",
       "<tr>\n",
       "<td>female</td>\n",
       "<td>group B</td>\n",
       "<td>bachelor's degree</td>\n",
       "<td>none</td>\n",
       "<td style='text-align: right'>72</td>\n",
       "<td style='text-align: right'>72</td>\n",
       "<td style='text-align: right'>74</td>\n",
       "</tr>\n",
       "<tr>\n",
       "<td>female</td>\n",
       "<td>group C</td>\n",
       "<td>some college</td>\n",
       "<td>completed</td>\n",
       "<td style='text-align: right'>69</td>\n",
       "<td style='text-align: right'>90</td>\n",
       "<td style='text-align: right'>88</td>\n",
       "</tr>\n",
       "<tr>\n",
       "<td>female</td>\n",
       "<td>group B</td>\n",
       "<td>master's degree</td>\n",
       "<td>none</td>\n",
       "<td style='text-align: right'>90</td>\n",
       "<td style='text-align: right'>95</td>\n",
       "<td style='text-align: right'>93</td>\n",
       "</tr>\n",
       "<tr>\n",
       "<td>male</td>\n",
       "<td>group A</td>\n",
       "<td>associate's degree</td>\n",
       "<td>none</td>\n",
       "<td style='text-align: right'>47</td>\n",
       "<td style='text-align: right'>57</td>\n",
       "<td style='text-align: right'>44</td>\n",
       "</tr>\n",
       "<tr>\n",
       "<td>male</td>\n",
       "<td>group C</td>\n",
       "<td>some college</td>\n",
       "<td>none</td>\n",
       "<td style='text-align: right'>76</td>\n",
       "<td style='text-align: right'>78</td>\n",
       "<td style='text-align: right'>75</td>\n",
       "</tr>\n",
       "</tbody>\n",
       "</table>\n",
       "<p><strong>...</strong></p>"
      ]
     },
     "metadata": {},
     "output_type": "display_data"
    }
   ],
   "source": [
    "students_performance.display()"
   ]
  },
  {
   "cell_type": "markdown",
   "metadata": {},
   "source": [
    "#### Transform a table, mapping fields arbitrarily between input and output"
   ]
  },
  {
   "cell_type": "code",
   "execution_count": 5,
   "metadata": {},
   "outputs": [],
   "source": [
    "mappings = OrderedDict()"
   ]
  },
  {
   "cell_type": "markdown",
   "metadata": {},
   "source": [
    "rename a field"
   ]
  },
  {
   "cell_type": "code",
   "execution_count": 6,
   "metadata": {},
   "outputs": [],
   "source": [
    "mappings['grade_group'] = 'group'"
   ]
  },
  {
   "cell_type": "markdown",
   "metadata": {},
   "source": [
    "translate a field"
   ]
  },
  {
   "cell_type": "code",
   "execution_count": 7,
   "metadata": {},
   "outputs": [],
   "source": [
    "mappings['sex'] = 'gender', {'male': 'M', 'female': 'F'}"
   ]
  },
  {
   "cell_type": "markdown",
   "metadata": {},
   "source": [
    "apply a calculation to a field"
   ]
  },
  {
   "cell_type": "code",
   "execution_count": 8,
   "metadata": {},
   "outputs": [],
   "source": [
    "mappings['reading_score'] = 'reading_score', lambda v: v / 2"
   ]
  },
  {
   "cell_type": "markdown",
   "metadata": {},
   "source": [
    "apply a calculation to a combination of fields"
   ]
  },
  {
   "cell_type": "code",
   "execution_count": 9,
   "metadata": {},
   "outputs": [],
   "source": [
    "mappings['total_score'] = lambda rec: rec['math_score'] + (rec['reading_score'])/2 + rec['writing_score']"
   ]
  },
  {
   "cell_type": "code",
   "execution_count": 10,
   "metadata": {},
   "outputs": [],
   "source": [
    "students__updated_reading_scores = etl.fieldmap(students_performance, mappings)"
   ]
  },
  {
   "cell_type": "code",
   "execution_count": 11,
   "metadata": {},
   "outputs": [
    {
     "data": {
      "text/html": [
       "<table class='petl'>\n",
       "<thead>\n",
       "<tr>\n",
       "<th>grade_group</th>\n",
       "<th>sex</th>\n",
       "<th>reading_score</th>\n",
       "<th>total_score</th>\n",
       "</tr>\n",
       "</thead>\n",
       "<tbody>\n",
       "<tr>\n",
       "<td>group B</td>\n",
       "<td>F</td>\n",
       "<td style='text-align: right'>36.0</td>\n",
       "<td style='text-align: right'>182.0</td>\n",
       "</tr>\n",
       "<tr>\n",
       "<td>group C</td>\n",
       "<td>F</td>\n",
       "<td style='text-align: right'>45.0</td>\n",
       "<td style='text-align: right'>202.0</td>\n",
       "</tr>\n",
       "<tr>\n",
       "<td>group B</td>\n",
       "<td>F</td>\n",
       "<td style='text-align: right'>47.5</td>\n",
       "<td style='text-align: right'>230.5</td>\n",
       "</tr>\n",
       "<tr>\n",
       "<td>group A</td>\n",
       "<td>M</td>\n",
       "<td style='text-align: right'>28.5</td>\n",
       "<td style='text-align: right'>119.5</td>\n",
       "</tr>\n",
       "<tr>\n",
       "<td>group C</td>\n",
       "<td>M</td>\n",
       "<td style='text-align: right'>39.0</td>\n",
       "<td style='text-align: right'>190.0</td>\n",
       "</tr>\n",
       "</tbody>\n",
       "</table>\n",
       "<p><strong>...</strong></p>"
      ]
     },
     "metadata": {},
     "output_type": "display_data"
    }
   ],
   "source": [
    "students__updated_reading_scores.display()"
   ]
  },
  {
   "cell_type": "markdown",
   "metadata": {},
   "source": [
    "#### Transform rows via an arbitrary function"
   ]
  },
  {
   "cell_type": "code",
   "execution_count": 12,
   "metadata": {},
   "outputs": [],
   "source": [
    "def rowmapper(row):\n",
    "    abbreviation = {'male': 'M', 'female': 'F'}\n",
    " \n",
    "    return[abbreviation[row['gender']] if row['gender'] in abbreviation else None,\n",
    "           row[1],\n",
    "           row.reading_score / 2,\n",
    "          ]"
   ]
  },
  {
   "cell_type": "code",
   "execution_count": 13,
   "metadata": {},
   "outputs": [],
   "source": [
    "updated_scores = etl.rowmap(students_performance, rowmapper,\n",
    "                            header=[ 'sex', 'group', 'updated_reading_score'])"
   ]
  },
  {
   "cell_type": "code",
   "execution_count": 14,
   "metadata": {},
   "outputs": [
    {
     "data": {
      "text/html": [
       "<table class='petl'>\n",
       "<thead>\n",
       "<tr>\n",
       "<th>sex</th>\n",
       "<th>group</th>\n",
       "<th>updated_reading_score</th>\n",
       "</tr>\n",
       "</thead>\n",
       "<tbody>\n",
       "<tr>\n",
       "<td>F</td>\n",
       "<td>group B</td>\n",
       "<td style='text-align: right'>36.0</td>\n",
       "</tr>\n",
       "<tr>\n",
       "<td>F</td>\n",
       "<td>group C</td>\n",
       "<td style='text-align: right'>45.0</td>\n",
       "</tr>\n",
       "<tr>\n",
       "<td>F</td>\n",
       "<td>group B</td>\n",
       "<td style='text-align: right'>47.5</td>\n",
       "</tr>\n",
       "<tr>\n",
       "<td>M</td>\n",
       "<td>group A</td>\n",
       "<td style='text-align: right'>28.5</td>\n",
       "</tr>\n",
       "<tr>\n",
       "<td>M</td>\n",
       "<td>group C</td>\n",
       "<td style='text-align: right'>39.0</td>\n",
       "</tr>\n",
       "</tbody>\n",
       "</table>\n",
       "<p><strong>...</strong></p>"
      ],
      "text/plain": [
       "+-----+-----------+-----------------------+\n",
       "| sex | group     | updated_reading_score |\n",
       "+=====+===========+=======================+\n",
       "| 'F' | 'group B' |                  36.0 |\n",
       "+-----+-----------+-----------------------+\n",
       "| 'F' | 'group C' |                  45.0 |\n",
       "+-----+-----------+-----------------------+\n",
       "| 'F' | 'group B' |                  47.5 |\n",
       "+-----+-----------+-----------------------+\n",
       "| 'M' | 'group A' |                  28.5 |\n",
       "+-----+-----------+-----------------------+\n",
       "| 'M' | 'group C' |                  39.0 |\n",
       "+-----+-----------+-----------------------+\n",
       "..."
      ]
     },
     "execution_count": 14,
     "metadata": {},
     "output_type": "execute_result"
    }
   ],
   "source": [
    "updated_scores"
   ]
  },
  {
   "cell_type": "markdown",
   "metadata": {},
   "source": [
    "#### Map each input row to any number of output rows via an arbitrary function"
   ]
  },
  {
   "cell_type": "code",
   "execution_count": 15,
   "metadata": {},
   "outputs": [],
   "source": [
    "def rowgenerator(row):\n",
    "    transform = {'group A': 'A', 'group B': 'B', 'group C' : 'C', 'group D' : 'D'}\n",
    "    \n",
    "    yield ['group',\n",
    "           transform[row['group']] if row['group'] in transform else None]\n",
    "    \n",
    "    yield ['total', row.math_score + row.reading_score + row.writing_score]"
   ]
  },
  {
   "cell_type": "code",
   "execution_count": 16,
   "metadata": {},
   "outputs": [],
   "source": [
    "total_scores = etl.rowmapmany(students_performance, rowgenerator,\n",
    "                              header=['variable', 'value'])"
   ]
  },
  {
   "cell_type": "code",
   "execution_count": 17,
   "metadata": {},
   "outputs": [
    {
     "data": {
      "text/html": [
       "<table class='petl'>\n",
       "<thead>\n",
       "<tr>\n",
       "<th>variable</th>\n",
       "<th>value</th>\n",
       "</tr>\n",
       "</thead>\n",
       "<tbody>\n",
       "<tr>\n",
       "<td>group</td>\n",
       "<td>B</td>\n",
       "</tr>\n",
       "<tr>\n",
       "<td>total</td>\n",
       "<td style='text-align: right'>218</td>\n",
       "</tr>\n",
       "<tr>\n",
       "<td>group</td>\n",
       "<td>C</td>\n",
       "</tr>\n",
       "<tr>\n",
       "<td>total</td>\n",
       "<td style='text-align: right'>247</td>\n",
       "</tr>\n",
       "<tr>\n",
       "<td>group</td>\n",
       "<td>B</td>\n",
       "</tr>\n",
       "<tr>\n",
       "<td>total</td>\n",
       "<td style='text-align: right'>278</td>\n",
       "</tr>\n",
       "<tr>\n",
       "<td>group</td>\n",
       "<td>A</td>\n",
       "</tr>\n",
       "<tr>\n",
       "<td>total</td>\n",
       "<td style='text-align: right'>148</td>\n",
       "</tr>\n",
       "<tr>\n",
       "<td>group</td>\n",
       "<td>C</td>\n",
       "</tr>\n",
       "<tr>\n",
       "<td>total</td>\n",
       "<td style='text-align: right'>229</td>\n",
       "</tr>\n",
       "</tbody>\n",
       "</table>\n",
       "<p><strong>...</strong></p>"
      ]
     },
     "metadata": {},
     "output_type": "display_data"
    }
   ],
   "source": [
    "total_scores.display(10)"
   ]
  },
  {
   "cell_type": "code",
   "execution_count": 18,
   "metadata": {},
   "outputs": [
    {
     "data": {
      "text/html": [
       "<table class='petl'>\n",
       "<thead>\n",
       "<tr>\n",
       "<th>gender</th>\n",
       "<th>group</th>\n",
       "<th>parental level of education</th>\n",
       "<th>testpreparation</th>\n",
       "<th>math_score</th>\n",
       "<th>reading_score</th>\n",
       "<th>writing_score</th>\n",
       "</tr>\n",
       "</thead>\n",
       "<tbody>\n",
       "<tr>\n",
       "<td>female</td>\n",
       "<td>group B</td>\n",
       "<td>bachelor's degree</td>\n",
       "<td>none</td>\n",
       "<td style='text-align: right'>72</td>\n",
       "<td style='text-align: right'>72</td>\n",
       "<td style='text-align: right'>74</td>\n",
       "</tr>\n",
       "<tr>\n",
       "<td>female</td>\n",
       "<td>group C</td>\n",
       "<td>some college</td>\n",
       "<td>completed</td>\n",
       "<td style='text-align: right'>69</td>\n",
       "<td style='text-align: right'>90</td>\n",
       "<td style='text-align: right'>88</td>\n",
       "</tr>\n",
       "<tr>\n",
       "<td>female</td>\n",
       "<td>group B</td>\n",
       "<td>master's degree</td>\n",
       "<td>none</td>\n",
       "<td style='text-align: right'>90</td>\n",
       "<td style='text-align: right'>95</td>\n",
       "<td style='text-align: right'>93</td>\n",
       "</tr>\n",
       "<tr>\n",
       "<td>male</td>\n",
       "<td>group A</td>\n",
       "<td>associate's degree</td>\n",
       "<td>none</td>\n",
       "<td style='text-align: right'>47</td>\n",
       "<td style='text-align: right'>57</td>\n",
       "<td style='text-align: right'>44</td>\n",
       "</tr>\n",
       "<tr>\n",
       "<td>male</td>\n",
       "<td>group C</td>\n",
       "<td>some college</td>\n",
       "<td>none</td>\n",
       "<td style='text-align: right'>76</td>\n",
       "<td style='text-align: right'>78</td>\n",
       "<td style='text-align: right'>75</td>\n",
       "</tr>\n",
       "</tbody>\n",
       "</table>\n",
       "<p><strong>...</strong></p>"
      ]
     },
     "metadata": {},
     "output_type": "display_data"
    }
   ],
   "source": [
    "students_performance.display()"
   ]
  },
  {
   "cell_type": "markdown",
   "metadata": {},
   "source": [
    "### SORTING"
   ]
  },
  {
   "cell_type": "markdown",
   "metadata": {},
   "source": [
    "#### The default is a lexical sort\n",
    "The sort is first applied on the gender column, then group, then parental level of education etc.\n"
   ]
  },
  {
   "cell_type": "code",
   "execution_count": 19,
   "metadata": {},
   "outputs": [],
   "source": [
    "sort_table = etl.sort(students_performance)"
   ]
  },
  {
   "cell_type": "code",
   "execution_count": 20,
   "metadata": {},
   "outputs": [
    {
     "data": {
      "text/html": [
       "<table class='petl'>\n",
       "<thead>\n",
       "<tr>\n",
       "<th>gender</th>\n",
       "<th>group</th>\n",
       "<th>parental level of education</th>\n",
       "<th>testpreparation</th>\n",
       "<th>math_score</th>\n",
       "<th>reading_score</th>\n",
       "<th>writing_score</th>\n",
       "</tr>\n",
       "</thead>\n",
       "<tbody>\n",
       "<tr>\n",
       "<td>female</td>\n",
       "<td>group A</td>\n",
       "<td>associate's degree</td>\n",
       "<td>completed</td>\n",
       "<td style='text-align: right'>55</td>\n",
       "<td style='text-align: right'>65</td>\n",
       "<td style='text-align: right'>62</td>\n",
       "</tr>\n",
       "<tr>\n",
       "<td>female</td>\n",
       "<td>group A</td>\n",
       "<td>associate's degree</td>\n",
       "<td>completed</td>\n",
       "<td style='text-align: right'>65</td>\n",
       "<td style='text-align: right'>70</td>\n",
       "<td style='text-align: right'>74</td>\n",
       "</tr>\n",
       "<tr>\n",
       "<td>female</td>\n",
       "<td>group A</td>\n",
       "<td>associate's degree</td>\n",
       "<td>none</td>\n",
       "<td style='text-align: right'>37</td>\n",
       "<td style='text-align: right'>57</td>\n",
       "<td style='text-align: right'>56</td>\n",
       "</tr>\n",
       "<tr>\n",
       "<td>female</td>\n",
       "<td>group A</td>\n",
       "<td>associate's degree</td>\n",
       "<td>none</td>\n",
       "<td style='text-align: right'>41</td>\n",
       "<td style='text-align: right'>51</td>\n",
       "<td style='text-align: right'>48</td>\n",
       "</tr>\n",
       "<tr>\n",
       "<td>female</td>\n",
       "<td>group A</td>\n",
       "<td>associate's degree</td>\n",
       "<td>none</td>\n",
       "<td style='text-align: right'>65</td>\n",
       "<td style='text-align: right'>85</td>\n",
       "<td style='text-align: right'>76</td>\n",
       "</tr>\n",
       "</tbody>\n",
       "</table>\n",
       "<p><strong>...</strong></p>"
      ]
     },
     "metadata": {},
     "output_type": "display_data"
    }
   ],
   "source": [
    "sort_table.display()"
   ]
  },
  {
   "cell_type": "code",
   "execution_count": 21,
   "metadata": {},
   "outputs": [],
   "source": [
    "sorted_group = etl.sort(students_performance, 'group')"
   ]
  },
  {
   "cell_type": "code",
   "execution_count": 22,
   "metadata": {},
   "outputs": [
    {
     "data": {
      "text/html": [
       "<table class='petl'>\n",
       "<thead>\n",
       "<tr>\n",
       "<th>gender</th>\n",
       "<th>group</th>\n",
       "<th>parental level of education</th>\n",
       "<th>testpreparation</th>\n",
       "<th>math_score</th>\n",
       "<th>reading_score</th>\n",
       "<th>writing_score</th>\n",
       "</tr>\n",
       "</thead>\n",
       "<tbody>\n",
       "<tr>\n",
       "<td>male</td>\n",
       "<td>group A</td>\n",
       "<td>associate's degree</td>\n",
       "<td>none</td>\n",
       "<td style='text-align: right'>47</td>\n",
       "<td style='text-align: right'>57</td>\n",
       "<td style='text-align: right'>44</td>\n",
       "</tr>\n",
       "<tr>\n",
       "<td>male</td>\n",
       "<td>group A</td>\n",
       "<td>some college</td>\n",
       "<td>completed</td>\n",
       "<td style='text-align: right'>78</td>\n",
       "<td style='text-align: right'>72</td>\n",
       "<td style='text-align: right'>70</td>\n",
       "</tr>\n",
       "<tr>\n",
       "<td>female</td>\n",
       "<td>group A</td>\n",
       "<td>master's degree</td>\n",
       "<td>none</td>\n",
       "<td style='text-align: right'>50</td>\n",
       "<td style='text-align: right'>53</td>\n",
       "<td style='text-align: right'>58</td>\n",
       "</tr>\n",
       "<tr>\n",
       "<td>male</td>\n",
       "<td>group A</td>\n",
       "<td>master's degree</td>\n",
       "<td>none</td>\n",
       "<td style='text-align: right'>73</td>\n",
       "<td style='text-align: right'>74</td>\n",
       "<td style='text-align: right'>72</td>\n",
       "</tr>\n",
       "<tr>\n",
       "<td>female</td>\n",
       "<td>group A</td>\n",
       "<td>associate's degree</td>\n",
       "<td>completed</td>\n",
       "<td style='text-align: right'>55</td>\n",
       "<td style='text-align: right'>65</td>\n",
       "<td style='text-align: right'>62</td>\n",
       "</tr>\n",
       "<tr>\n",
       "<td>male</td>\n",
       "<td>group A</td>\n",
       "<td>some high school</td>\n",
       "<td>none</td>\n",
       "<td style='text-align: right'>39</td>\n",
       "<td style='text-align: right'>39</td>\n",
       "<td style='text-align: right'>34</td>\n",
       "</tr>\n",
       "<tr>\n",
       "<td>male</td>\n",
       "<td>group A</td>\n",
       "<td>associate's degree</td>\n",
       "<td>none</td>\n",
       "<td style='text-align: right'>62</td>\n",
       "<td style='text-align: right'>61</td>\n",
       "<td style='text-align: right'>55</td>\n",
       "</tr>\n",
       "<tr>\n",
       "<td>female</td>\n",
       "<td>group A</td>\n",
       "<td>associate's degree</td>\n",
       "<td>none</td>\n",
       "<td style='text-align: right'>41</td>\n",
       "<td style='text-align: right'>51</td>\n",
       "<td style='text-align: right'>48</td>\n",
       "</tr>\n",
       "<tr>\n",
       "<td>male</td>\n",
       "<td>group A</td>\n",
       "<td>bachelor's degree</td>\n",
       "<td>completed</td>\n",
       "<td style='text-align: right'>80</td>\n",
       "<td style='text-align: right'>78</td>\n",
       "<td style='text-align: right'>81</td>\n",
       "</tr>\n",
       "<tr>\n",
       "<td>male</td>\n",
       "<td>group A</td>\n",
       "<td>some college</td>\n",
       "<td>completed</td>\n",
       "<td style='text-align: right'>50</td>\n",
       "<td style='text-align: right'>47</td>\n",
       "<td style='text-align: right'>54</td>\n",
       "</tr>\n",
       "</tbody>\n",
       "</table>\n",
       "<p><strong>...</strong></p>"
      ]
     },
     "metadata": {},
     "output_type": "display_data"
    }
   ],
   "source": [
    "sorted_group.display(10)"
   ]
  },
  {
   "cell_type": "markdown",
   "metadata": {},
   "source": [
    " assumes the input table is already sorted by the given key"
   ]
  },
  {
   "cell_type": "markdown",
   "metadata": {},
   "source": [
    "#### The rowgroupby groups all rows based on a particular field\n",
    "- All rows with the same value of 'group' will be aggregated\n",
    "- This creates a generator object"
   ]
  },
  {
   "cell_type": "code",
   "execution_count": 25,
   "metadata": {},
   "outputs": [
    {
     "data": {
      "text/plain": [
       "<generator object rowgroupby.<locals>.<genexpr> at 0x11f49c820>"
      ]
     },
     "execution_count": 25,
     "metadata": {},
     "output_type": "execute_result"
    }
   ],
   "source": [
    "etl.rowgroupby(sorted_group, 'group')"
   ]
  },
  {
   "cell_type": "code",
   "execution_count": 27,
   "metadata": {},
   "outputs": [
    {
     "name": "stdout",
     "output_type": "stream",
     "text": [
      "group A\n",
      "group B\n",
      "group C\n",
      "group D\n",
      "group E\n"
     ]
    }
   ],
   "source": [
    "for key, rows in etl.rowgroupby(sorted_group, 'group'):\n",
    "      print(key)"
   ]
  },
  {
   "cell_type": "code",
   "execution_count": 29,
   "metadata": {},
   "outputs": [],
   "source": [
    "group_to_rows_dict = {}"
   ]
  },
  {
   "cell_type": "code",
   "execution_count": 32,
   "metadata": {},
   "outputs": [],
   "source": [
    "for key, rows in etl.rowgroupby(sorted_group, 'group'):\n",
    "      group_to_rows_dict[key] = list(rows)"
   ]
  },
  {
   "cell_type": "code",
   "execution_count": 38,
   "metadata": {},
   "outputs": [
    {
     "data": {
      "text/plain": [
       "[('male', 'group A', \"associate's degree\", 'none', 47, 57, 44),\n",
       " ('male', 'group A', 'some college', 'completed', 78, 72, 70),\n",
       " ('female', 'group A', \"master's degree\", 'none', 50, 53, 58),\n",
       " ('male', 'group A', \"master's degree\", 'none', 73, 74, 72),\n",
       " ('female', 'group A', \"associate's degree\", 'completed', 55, 65, 62),\n",
       " ('male', 'group A', 'some high school', 'none', 39, 39, 34),\n",
       " ('male', 'group A', \"associate's degree\", 'none', 62, 61, 55),\n",
       " ('female', 'group A', \"associate's degree\", 'none', 41, 51, 48),\n",
       " ('male', 'group A', \"bachelor's degree\", 'completed', 80, 78, 81),\n",
       " ('male', 'group A', 'some college', 'completed', 50, 47, 54),\n",
       " ('female', 'group A', 'some college', 'none', 58, 70, 67),\n",
       " ('male', 'group A', \"associate's degree\", 'none', 54, 53, 47),\n",
       " ('female', 'group A', \"bachelor's degree\", 'none', 51, 49, 51),\n",
       " ('male', 'group A', 'high school', 'none', 57, 43, 47),\n",
       " ('male', 'group A', 'some high school', 'completed', 62, 67, 69),\n",
       " ('male', 'group A', \"bachelor's degree\", 'none', 77, 67, 68),\n",
       " ('male', 'group A', 'high school', 'completed', 72, 73, 74),\n",
       " ('male', 'group A', 'some high school', 'none', 68, 72, 64),\n",
       " ('male', 'group A', 'some high school', 'completed', 47, 49, 49),\n",
       " ('male', 'group A', 'some high school', 'completed', 46, 41, 43),\n",
       " ('male', 'group A', 'some college', 'completed', 81, 78, 81),\n",
       " ('male', 'group A', 'some college', 'none', 69, 67, 69),\n",
       " ('male', 'group A', 'some college', 'none', 28, 23, 19),\n",
       " ('male', 'group A', \"associate's degree\", 'none', 63, 61, 61),\n",
       " ('male', 'group A', \"bachelor's degree\", 'completed', 49, 58, 60),\n",
       " ('female', 'group A', 'some high school', 'none', 44, 64, 58),\n",
       " ('female', 'group A', 'some high school', 'none', 71, 83, 77),\n",
       " ('male', 'group A', \"bachelor's degree\", 'none', 66, 64, 62),\n",
       " ('female', 'group A', 'some high school', 'none', 38, 43, 43),\n",
       " ('male', 'group A', 'high school', 'none', 48, 45, 41),\n",
       " ('male', 'group A', 'some college', 'none', 53, 43, 43),\n",
       " ('female', 'group A', 'some college', 'none', 49, 65, 55),\n",
       " ('female', 'group A', 'some high school', 'completed', 59, 85, 80),\n",
       " ('male', 'group A', 'some high school', 'none', 65, 59, 53),\n",
       " ('female', 'group A', 'some high school', 'none', 47, 59, 50),\n",
       " ('female', 'group A', 'some high school', 'none', 59, 73, 69),\n",
       " ('male', 'group A', 'some high school', 'none', 79, 82, 73),\n",
       " ('male', 'group A', \"bachelor's degree\", 'completed', 75, 58, 62),\n",
       " ('male', 'group A', 'high school', 'completed', 72, 67, 65),\n",
       " ('female', 'group A', 'high school', 'completed', 77, 88, 85),\n",
       " ('male', 'group A', 'high school', 'none', 59, 52, 46),\n",
       " ('male', 'group A', \"associate's degree\", 'completed', 79, 82, 82),\n",
       " ('female', 'group A', \"associate's degree\", 'none', 65, 85, 76),\n",
       " ('male', 'group A', 'high school', 'none', 68, 70, 66),\n",
       " ('male', 'group A', 'some high school', 'none', 64, 50, 43),\n",
       " ('male', 'group A', \"associate's degree\", 'completed', 97, 92, 86),\n",
       " ('female', 'group A', 'some high school', 'completed', 92, 100, 97),\n",
       " ('male', 'group A', \"bachelor's degree\", 'none', 91, 96, 92),\n",
       " ('male', 'group A', \"associate's degree\", 'completed', 40, 55, 53),\n",
       " ('male', 'group A', 'some college', 'completed', 61, 51, 52),\n",
       " ('female', 'group A', 'high school', 'none', 55, 73, 73),\n",
       " ('female', 'group A', 'some high school', 'none', 48, 66, 65),\n",
       " ('male', 'group A', 'some high school', 'none', 71, 62, 50),\n",
       " ('male', 'group A', 'some high school', 'none', 53, 54, 48),\n",
       " ('female', 'group A', \"associate's degree\", 'none', 82, 93, 93),\n",
       " ('male', 'group A', 'some college', 'completed', 100, 96, 86),\n",
       " ('male', 'group A', 'high school', 'none', 71, 74, 64),\n",
       " ('female', 'group A', 'high school', 'completed', 68, 80, 76),\n",
       " ('female', 'group A', \"associate's degree\", 'completed', 65, 70, 74),\n",
       " ('male', 'group A', 'high school', 'none', 53, 58, 44),\n",
       " ('female', 'group A', \"bachelor's degree\", 'none', 59, 72, 70),\n",
       " ('male', 'group A', \"bachelor's degree\", 'completed', 87, 84, 87),\n",
       " ('male', 'group A', \"bachelor's degree\", 'none', 62, 72, 65),\n",
       " ('male', 'group A', 'some high school', 'none', 55, 46, 43),\n",
       " ('female', 'group A', \"associate's degree\", 'none', 37, 57, 56),\n",
       " ('male', 'group A', 'some college', 'none', 58, 60, 57),\n",
       " ('female', 'group A', 'some college', 'completed', 72, 79, 82),\n",
       " ('male', 'group A', 'some college', 'none', 75, 81, 74),\n",
       " ('male', 'group A', 'some high school', 'none', 51, 31, 36),\n",
       " ('male', 'group A', 'high school', 'none', 45, 47, 49),\n",
       " ('female', 'group A', \"bachelor's degree\", 'none', 45, 59, 64),\n",
       " ('female', 'group A', 'some high school', 'completed', 85, 90, 92),\n",
       " ('female', 'group A', 'some college', 'none', 61, 60, 57),\n",
       " ('male', 'group A', \"bachelor's degree\", 'none', 64, 60, 58),\n",
       " ('female', 'group A', 'high school', 'completed', 75, 82, 79),\n",
       " ('female', 'group A', 'high school', 'none', 61, 68, 63),\n",
       " ('female', 'group A', \"master's degree\", 'none', 50, 67, 73),\n",
       " ('female', 'group A', 'high school', 'completed', 34, 48, 41),\n",
       " ('female', 'group A', 'some college', 'none', 69, 84, 82),\n",
       " ('male', 'group A', \"associate's degree\", 'none', 67, 57, 53),\n",
       " ('male', 'group A', 'some high school', 'completed', 61, 62, 61),\n",
       " ('female', 'group A', 'some college', 'none', 56, 58, 64),\n",
       " ('male', 'group A', 'some high school', 'completed', 66, 68, 64),\n",
       " ('female', 'group A', 'high school', 'completed', 53, 50, 60),\n",
       " ('female', 'group A', 'some college', 'none', 54, 63, 67),\n",
       " ('female', 'group A', 'some college', 'completed', 78, 87, 91),\n",
       " ('male', 'group A', 'high school', 'none', 57, 51, 54),\n",
       " ('female', 'group A', 'some high school', 'none', 44, 45, 45),\n",
       " ('male', 'group A', 'high school', 'none', 63, 63, 62)]"
      ]
     },
     "execution_count": 38,
     "metadata": {},
     "output_type": "execute_result"
    }
   ],
   "source": [
    "group_to_rows_dict['group A']"
   ]
  },
  {
   "cell_type": "code",
   "execution_count": 39,
   "metadata": {},
   "outputs": [
    {
     "name": "stdout",
     "output_type": "stream",
     "text": [
      "group A \n",
      " [57, 72, 53, 74, 65, 39, 61, 51, 78, 47, 70, 53, 49, 43, 67, 67, 73, 72, 49, 41, 78, 67, 23, 61, 58, 64, 83, 64, 43, 45, 43, 65, 85, 59, 59, 73, 82, 58, 67, 88, 52, 82, 85, 70, 50, 92, 100, 96, 55, 51, 73, 66, 62, 54, 93, 96, 74, 80, 70, 58, 72, 84, 72, 46, 57, 60, 79, 81, 31, 47, 59, 90, 60, 60, 82, 68, 67, 48, 84, 57, 62, 58, 68, 50, 63, 87, 51, 45, 63] \n",
      "\n",
      "\n",
      "group B \n",
      " [72, 95, 83, 95, 43, 60, 81, 32, 75, 54, 65, 56, 58, 65, 54, 64, 58, 41, 49, 45, 86, 66, 67, 44, 76, 64, 85, 89, 95, 68, 54, 84, 70, 60, 86, 78, 53, 76, 83, 54, 70, 52, 64, 53, 79, 69, 81, 61, 83, 77, 56, 85, 66, 86, 52, 70, 64, 70, 75, 85, 56, 46, 82, 89, 75, 62, 76, 71, 76, 60, 71, 55, 78, 68, 38, 76, 61, 65, 72, 62, 84, 86, 67, 63, 65, 80, 67, 39, 83, 46, 73, 65, 54, 90, 71, 52, 53, 64, 69, 87, 82, 59, 61, 97, 78, 69, 90, 48, 70, 51, 43, 48, 75, 91, 56, 24, 63, 63, 70, 60, 74, 80, 81, 65, 81, 53, 79, 67, 85, 64, 68, 55, 66, 67, 63, 70, 94, 90, 43, 77, 66, 55, 84, 77, 62, 72, 62, 48, 67, 65, 58, 72, 90, 85, 51, 38, 62, 52, 85, 54, 86, 72, 87, 54, 82, 50, 57, 44, 77, 97, 68, 49, 42, 58, 84, 73, 29, 78, 48, 61, 96, 65, 68, 82, 50, 84, 62, 24, 85, 82] \n",
      "\n",
      "\n",
      "group C \n",
      " [90, 78, 54, 75, 89, 42, 58, 73, 69, 70, 61, 73, 71, 84, 44, 84, 41, 17, 80, 72, 64, 57, 49, 80, 83, 72, 34, 79, 45, 81, 86, 67, 55, 77, 69, 92, 93, 37, 81, 55, 66, 62, 39, 68, 89, 53, 100, 51, 75, 67, 51, 91, 77, 68, 64, 52, 67, 88, 84, 69, 84, 77, 41, 28, 62, 51, 42, 65, 72, 95, 43, 82, 80, 76, 60, 73, 77, 81, 79, 79, 50, 75, 63, 49, 78, 92, 86, 70, 60, 46, 84, 75, 52, 67, 64, 66, 72, 79, 81, 53, 46, 90, 61, 75, 60, 37, 93, 51, 61, 73, 80, 94, 78, 58, 71, 66, 58, 60, 58, 66, 73, 100, 81, 78, 54, 74, 89, 54, 59, 73, 72, 74, 73, 93, 67, 83, 71, 63, 66, 72, 56, 66, 48, 56, 81, 74, 81, 85, 77, 58, 61, 56, 58, 90, 87, 74, 85, 69, 86, 68, 74, 75, 64, 83, 88, 48, 61, 78, 92, 87, 86, 59, 52, 61, 53, 74, 67, 54, 83, 60, 69, 77, 67, 67, 72, 76, 39, 72, 67, 74, 90, 62, 66, 76, 63, 64, 57, 100, 79, 29, 72, 84, 58, 59, 90, 77, 68, 73, 61, 51, 51, 88, 56, 67, 77, 66, 69, 60, 73, 74, 76, 78, 84, 82, 40, 53, 74, 63, 82, 66, 59, 84, 78, 96, 76, 72, 48, 39, 89, 57, 79, 60, 84, 73, 64, 60, 77, 90, 55, 72, 75, 78, 44, 59, 81, 65, 65, 55, 73, 80, 76, 75, 64, 80, 91, 58, 67, 68, 69, 86, 64, 77, 58, 85, 72, 67, 64, 79, 73, 62, 71, 93, 53, 51, 72, 62, 64, 61, 64, 76, 72, 78, 75, 61, 62, 61, 77, 53, 56, 74, 75, 87, 66, 66, 61, 52, 69, 87, 81, 76, 63, 72, 82, 65, 95, 75, 59, 55, 71] \n",
      "\n",
      "\n",
      "group D \n",
      " [64, 52, 69, 54, 71, 70, 74, 42, 81, 64, 90, 74, 78, 55, 59, 58, 37, 63, 55, 74, 39, 71, 86, 67, 67, 74, 91, 100, 89, 58, 82, 63, 57, 77, 82, 84, 79, 61, 72, 73, 75, 49, 67, 62, 86, 100, 69, 66, 83, 62, 55, 81, 71, 79, 68, 80, 50, 64, 75, 66, 60, 68, 52, 74, 83, 80, 52, 73, 42, 72, 92, 53, 70, 52, 48, 79, 78, 73, 77, 87, 54, 57, 61, 82, 65, 70, 55, 72, 73, 74, 62, 90, 34, 84, 74, 97, 70, 90, 95, 64, 70, 68, 59, 99, 57, 84, 71, 66, 59, 58, 58, 68, 66, 88, 81, 66, 89, 54, 31, 67, 76, 68, 64, 59, 47, 64, 78, 79, 59, 71, 49, 89, 78, 49, 58, 41, 66, 82, 95, 63, 62, 66, 75, 80, 71, 68, 61, 97, 73, 75, 77, 77, 82, 60, 57, 89, 60, 78, 81, 97, 48, 57, 64, 84, 92, 74, 52, 88, 70, 79, 86, 66, 60, 87, 71, 63, 72, 57, 77, 75, 61, 72, 78, 77, 89, 78, 64, 34, 87, 61, 100, 81, 59, 92, 47, 71, 73, 79, 75, 69, 58, 59, 58, 81, 63, 71, 73, 56, 66, 74, 70, 74, 70, 90, 86, 52, 65, 54, 75, 42, 82, 82, 72, 76, 46, 65, 51, 74, 54, 78, 84, 100, 84, 77, 84, 42, 70, 66, 70, 61, 57, 71, 63, 81, 68, 91, 58, 77, 100, 63, 54, 57, 70, 100, 65, 41, 78, 86, 76, 72, 78, 86] \n",
      "\n",
      "\n",
      "group E \n",
      " [72, 87, 81, 56, 55, 69, 85, 74, 26, 68, 64, 72, 63, 100, 80, 74, 55, 55, 100, 74, 88, 92, 88, 50, 76, 65, 56, 62, 80, 91, 86, 56, 87, 83, 51, 76, 73, 93, 76, 63, 82, 76, 73, 74, 87, 86, 56, 74, 57, 77, 43, 49, 76, 73, 67, 67, 83, 73, 56, 92, 100, 70, 62, 71, 71, 89, 74, 60, 61, 88, 66, 83, 45, 100, 81, 79, 68, 76, 78, 64, 45, 58, 76, 79, 62, 78, 99, 75, 90, 76, 81, 85, 73, 74, 75, 51, 58, 72, 95, 68, 85, 79, 84, 68, 84, 60, 94, 45, 84, 52, 64, 85, 85, 67, 86, 74, 90, 70, 51, 100, 85, 92, 62, 34, 64, 70, 100, 64, 56, 43, 58, 75, 73, 74, 57, 100, 76, 75, 81, 99] \n",
      "\n",
      "\n"
     ]
    }
   ],
   "source": [
    "for key, group in etl.rowgroupby(sorted_group, 'group', 'reading_score'):\n",
    "    print(key, '\\n', list(group), '\\n\\n')"
   ]
  },
  {
   "cell_type": "markdown",
   "metadata": {},
   "source": [
    "#### sorting by compound key is supported"
   ]
  },
  {
   "cell_type": "code",
   "execution_count": 42,
   "metadata": {},
   "outputs": [
    {
     "data": {
      "text/html": [
       "<table class='petl'>\n",
       "<thead>\n",
       "<tr>\n",
       "<th>gender</th>\n",
       "<th>group</th>\n",
       "<th>parental level of education</th>\n",
       "<th>testpreparation</th>\n",
       "<th>math_score</th>\n",
       "<th>reading_score</th>\n",
       "<th>writing_score</th>\n",
       "</tr>\n",
       "</thead>\n",
       "<tbody>\n",
       "<tr>\n",
       "<td>male</td>\n",
       "<td>group A</td>\n",
       "<td>some college</td>\n",
       "<td>none</td>\n",
       "<td style='text-align: right'>28</td>\n",
       "<td style='text-align: right'>23</td>\n",
       "<td style='text-align: right'>19</td>\n",
       "</tr>\n",
       "<tr>\n",
       "<td>female</td>\n",
       "<td>group A</td>\n",
       "<td>high school</td>\n",
       "<td>completed</td>\n",
       "<td style='text-align: right'>34</td>\n",
       "<td style='text-align: right'>48</td>\n",
       "<td style='text-align: right'>41</td>\n",
       "</tr>\n",
       "<tr>\n",
       "<td>female</td>\n",
       "<td>group A</td>\n",
       "<td>associate's degree</td>\n",
       "<td>none</td>\n",
       "<td style='text-align: right'>37</td>\n",
       "<td style='text-align: right'>57</td>\n",
       "<td style='text-align: right'>56</td>\n",
       "</tr>\n",
       "<tr>\n",
       "<td>female</td>\n",
       "<td>group A</td>\n",
       "<td>some high school</td>\n",
       "<td>none</td>\n",
       "<td style='text-align: right'>38</td>\n",
       "<td style='text-align: right'>43</td>\n",
       "<td style='text-align: right'>43</td>\n",
       "</tr>\n",
       "<tr>\n",
       "<td>male</td>\n",
       "<td>group A</td>\n",
       "<td>some high school</td>\n",
       "<td>none</td>\n",
       "<td style='text-align: right'>39</td>\n",
       "<td style='text-align: right'>39</td>\n",
       "<td style='text-align: right'>34</td>\n",
       "</tr>\n",
       "<tr>\n",
       "<td>male</td>\n",
       "<td>group A</td>\n",
       "<td>associate's degree</td>\n",
       "<td>completed</td>\n",
       "<td style='text-align: right'>40</td>\n",
       "<td style='text-align: right'>55</td>\n",
       "<td style='text-align: right'>53</td>\n",
       "</tr>\n",
       "<tr>\n",
       "<td>female</td>\n",
       "<td>group A</td>\n",
       "<td>associate's degree</td>\n",
       "<td>none</td>\n",
       "<td style='text-align: right'>41</td>\n",
       "<td style='text-align: right'>51</td>\n",
       "<td style='text-align: right'>48</td>\n",
       "</tr>\n",
       "<tr>\n",
       "<td>female</td>\n",
       "<td>group A</td>\n",
       "<td>some high school</td>\n",
       "<td>none</td>\n",
       "<td style='text-align: right'>44</td>\n",
       "<td style='text-align: right'>64</td>\n",
       "<td style='text-align: right'>58</td>\n",
       "</tr>\n",
       "<tr>\n",
       "<td>female</td>\n",
       "<td>group A</td>\n",
       "<td>some high school</td>\n",
       "<td>none</td>\n",
       "<td style='text-align: right'>44</td>\n",
       "<td style='text-align: right'>45</td>\n",
       "<td style='text-align: right'>45</td>\n",
       "</tr>\n",
       "<tr>\n",
       "<td>male</td>\n",
       "<td>group A</td>\n",
       "<td>high school</td>\n",
       "<td>none</td>\n",
       "<td style='text-align: right'>45</td>\n",
       "<td style='text-align: right'>47</td>\n",
       "<td style='text-align: right'>49</td>\n",
       "</tr>\n",
       "</tbody>\n",
       "</table>\n",
       "<p><strong>...</strong></p>"
      ]
     },
     "metadata": {},
     "output_type": "display_data"
    }
   ],
   "source": [
    "sorted_group_mathscore = etl.sort(students_performance, \n",
    "                                  key = ['group', 'math_score'])\n",
    "\n",
    "sorted_group_mathscore.display(10)"
   ]
  },
  {
   "cell_type": "markdown",
   "metadata": {},
   "source": [
    "#### Set reverse = True for a descending order sort"
   ]
  },
  {
   "cell_type": "code",
   "execution_count": 43,
   "metadata": {},
   "outputs": [
    {
     "data": {
      "text/html": [
       "<table class='petl'>\n",
       "<thead>\n",
       "<tr>\n",
       "<th>gender</th>\n",
       "<th>group</th>\n",
       "<th>parental level of education</th>\n",
       "<th>testpreparation</th>\n",
       "<th>math_score</th>\n",
       "<th>reading_score</th>\n",
       "<th>writing_score</th>\n",
       "</tr>\n",
       "</thead>\n",
       "<tbody>\n",
       "<tr>\n",
       "<td>male</td>\n",
       "<td>group E</td>\n",
       "<td>associate's degree</td>\n",
       "<td>completed</td>\n",
       "<td style='text-align: right'>100</td>\n",
       "<td style='text-align: right'>100</td>\n",
       "<td style='text-align: right'>93</td>\n",
       "</tr>\n",
       "<tr>\n",
       "<td>female</td>\n",
       "<td>group E</td>\n",
       "<td>some college</td>\n",
       "<td>none</td>\n",
       "<td style='text-align: right'>100</td>\n",
       "<td style='text-align: right'>92</td>\n",
       "<td style='text-align: right'>97</td>\n",
       "</tr>\n",
       "<tr>\n",
       "<td>female</td>\n",
       "<td>group E</td>\n",
       "<td>bachelor's degree</td>\n",
       "<td>none</td>\n",
       "<td style='text-align: right'>100</td>\n",
       "<td style='text-align: right'>100</td>\n",
       "<td style='text-align: right'>100</td>\n",
       "</tr>\n",
       "<tr>\n",
       "<td>male</td>\n",
       "<td>group E</td>\n",
       "<td>bachelor's degree</td>\n",
       "<td>completed</td>\n",
       "<td style='text-align: right'>100</td>\n",
       "<td style='text-align: right'>100</td>\n",
       "<td style='text-align: right'>100</td>\n",
       "</tr>\n",
       "<tr>\n",
       "<td>female</td>\n",
       "<td>group E</td>\n",
       "<td>associate's degree</td>\n",
       "<td>none</td>\n",
       "<td style='text-align: right'>100</td>\n",
       "<td style='text-align: right'>100</td>\n",
       "<td style='text-align: right'>100</td>\n",
       "</tr>\n",
       "<tr>\n",
       "<td>female</td>\n",
       "<td>group E</td>\n",
       "<td>bachelor's degree</td>\n",
       "<td>completed</td>\n",
       "<td style='text-align: right'>99</td>\n",
       "<td style='text-align: right'>100</td>\n",
       "<td style='text-align: right'>100</td>\n",
       "</tr>\n",
       "<tr>\n",
       "<td>female</td>\n",
       "<td>group E</td>\n",
       "<td>high school</td>\n",
       "<td>none</td>\n",
       "<td style='text-align: right'>99</td>\n",
       "<td style='text-align: right'>93</td>\n",
       "<td style='text-align: right'>90</td>\n",
       "</tr>\n",
       "<tr>\n",
       "<td>male</td>\n",
       "<td>group E</td>\n",
       "<td>some college</td>\n",
       "<td>completed</td>\n",
       "<td style='text-align: right'>99</td>\n",
       "<td style='text-align: right'>87</td>\n",
       "<td style='text-align: right'>81</td>\n",
       "</tr>\n",
       "<tr>\n",
       "<td>male</td>\n",
       "<td>group E</td>\n",
       "<td>some college</td>\n",
       "<td>none</td>\n",
       "<td style='text-align: right'>97</td>\n",
       "<td style='text-align: right'>87</td>\n",
       "<td style='text-align: right'>82</td>\n",
       "</tr>\n",
       "<tr>\n",
       "<td>male</td>\n",
       "<td>group E</td>\n",
       "<td>associate's degree</td>\n",
       "<td>completed</td>\n",
       "<td style='text-align: right'>97</td>\n",
       "<td style='text-align: right'>82</td>\n",
       "<td style='text-align: right'>88</td>\n",
       "</tr>\n",
       "</tbody>\n",
       "</table>\n",
       "<p><strong>...</strong></p>"
      ]
     },
     "metadata": {},
     "output_type": "display_data"
    }
   ],
   "source": [
    "sorted_group_mathscore = etl.sort(students_performance, \n",
    "                                  key = ['group', 'math_score'],\n",
    "                                  reverse = True)\n",
    "\n",
    "sorted_group_mathscore.display(10)"
   ]
  },
  {
   "cell_type": "markdown",
   "metadata": {},
   "source": [
    "### Merge Sort\n",
    "#### Combine multiple input tables into one sorted output table"
   ]
  },
  {
   "cell_type": "code",
   "execution_count": 44,
   "metadata": {},
   "outputs": [],
   "source": [
    "group_A = [['name', 'gender', 'test_prepration', 'extracurricular', 'GPA'],\n",
    "           ['Mark', 'male', 'completed', 'art club', 3.4],\n",
    "           ['Gary', 'male', 'none', 'drama club', 2.98],\n",
    "           ['Amanda', 'female', 'none', 'photography club', 3],\n",
    "           ['Faye', 'female', 'completed', 'none', 3.7]]"
   ]
  },
  {
   "cell_type": "code",
   "execution_count": 45,
   "metadata": {},
   "outputs": [],
   "source": [
    "group_B = [['name', 'gender', 'test_prepration', 'extracurricular', 'GPA'],\n",
    "           ['Libby', 'female', 'completed', 'none', 3.27],\n",
    "           ['Sam', 'male', 'completed', 'drama club', 3.88],\n",
    "           ['Barbara', 'female', 'completed', 'film club', 2.7],\n",
    "           ['Anne', 'female', 'none', 'science club', 2.67]]"
   ]
  },
  {
   "cell_type": "code",
   "execution_count": 46,
   "metadata": {},
   "outputs": [
    {
     "data": {
      "text/plain": [
       "False"
      ]
     },
     "execution_count": 46,
     "metadata": {},
     "output_type": "execute_result"
    }
   ],
   "source": [
    "etl.issorted(group_A, key = 'name')"
   ]
  },
  {
   "cell_type": "code",
   "execution_count": 47,
   "metadata": {},
   "outputs": [
    {
     "data": {
      "text/plain": [
       "False"
      ]
     },
     "execution_count": 47,
     "metadata": {},
     "output_type": "execute_result"
    }
   ],
   "source": [
    "etl.issorted(group_B, key = 'name')"
   ]
  },
  {
   "cell_type": "code",
   "execution_count": 48,
   "metadata": {},
   "outputs": [],
   "source": [
    "merge_sort = etl.mergesort(group_A, group_B, key = 'name')"
   ]
  },
  {
   "cell_type": "code",
   "execution_count": 49,
   "metadata": {},
   "outputs": [
    {
     "data": {
      "text/html": [
       "<table class='petl'>\n",
       "<thead>\n",
       "<tr>\n",
       "<th>name</th>\n",
       "<th>gender</th>\n",
       "<th>test_prepration</th>\n",
       "<th>extracurricular</th>\n",
       "<th>GPA</th>\n",
       "</tr>\n",
       "</thead>\n",
       "<tbody>\n",
       "<tr>\n",
       "<td>Amanda</td>\n",
       "<td>female</td>\n",
       "<td>none</td>\n",
       "<td>photography club</td>\n",
       "<td style='text-align: right'>3</td>\n",
       "</tr>\n",
       "<tr>\n",
       "<td>Anne</td>\n",
       "<td>female</td>\n",
       "<td>none</td>\n",
       "<td>science club</td>\n",
       "<td style='text-align: right'>2.67</td>\n",
       "</tr>\n",
       "<tr>\n",
       "<td>Barbara</td>\n",
       "<td>female</td>\n",
       "<td>completed</td>\n",
       "<td>film club</td>\n",
       "<td style='text-align: right'>2.7</td>\n",
       "</tr>\n",
       "<tr>\n",
       "<td>Faye</td>\n",
       "<td>female</td>\n",
       "<td>completed</td>\n",
       "<td>none</td>\n",
       "<td style='text-align: right'>3.7</td>\n",
       "</tr>\n",
       "<tr>\n",
       "<td>Gary</td>\n",
       "<td>male</td>\n",
       "<td>none</td>\n",
       "<td>drama club</td>\n",
       "<td style='text-align: right'>2.98</td>\n",
       "</tr>\n",
       "</tbody>\n",
       "</table>\n",
       "<p><strong>...</strong></p>"
      ]
     },
     "metadata": {},
     "output_type": "display_data"
    }
   ],
   "source": [
    "merge_sort.display()"
   ]
  },
  {
   "cell_type": "code",
   "execution_count": 50,
   "metadata": {},
   "outputs": [
    {
     "data": {
      "text/plain": [
       "True"
      ]
     },
     "execution_count": 50,
     "metadata": {},
     "output_type": "execute_result"
    }
   ],
   "source": [
    "etl.issorted(merge_sort, key = 'name')"
   ]
  },
  {
   "cell_type": "code",
   "execution_count": 51,
   "metadata": {},
   "outputs": [],
   "source": [
    "sorted_GPA = etl.mergesort(group_A, \n",
    "                           group_B, \n",
    "                           key = 'GPA', \n",
    "                           reverse = True,\n",
    "                           header = ['name', 'GPA', 'test_prepration'])"
   ]
  },
  {
   "cell_type": "code",
   "execution_count": 52,
   "metadata": {},
   "outputs": [
    {
     "data": {
      "text/html": [
       "<table class='petl'>\n",
       "<thead>\n",
       "<tr>\n",
       "<th>name</th>\n",
       "<th>GPA</th>\n",
       "<th>test_prepration</th>\n",
       "</tr>\n",
       "</thead>\n",
       "<tbody>\n",
       "<tr>\n",
       "<td>Sam</td>\n",
       "<td style='text-align: right'>3.88</td>\n",
       "<td>completed</td>\n",
       "</tr>\n",
       "<tr>\n",
       "<td>Faye</td>\n",
       "<td style='text-align: right'>3.7</td>\n",
       "<td>completed</td>\n",
       "</tr>\n",
       "<tr>\n",
       "<td>Mark</td>\n",
       "<td style='text-align: right'>3.4</td>\n",
       "<td>completed</td>\n",
       "</tr>\n",
       "<tr>\n",
       "<td>Libby</td>\n",
       "<td style='text-align: right'>3.27</td>\n",
       "<td>completed</td>\n",
       "</tr>\n",
       "<tr>\n",
       "<td>Amanda</td>\n",
       "<td style='text-align: right'>3</td>\n",
       "<td>none</td>\n",
       "</tr>\n",
       "<tr>\n",
       "<td>Gary</td>\n",
       "<td style='text-align: right'>2.98</td>\n",
       "<td>none</td>\n",
       "</tr>\n",
       "<tr>\n",
       "<td>Barbara</td>\n",
       "<td style='text-align: right'>2.7</td>\n",
       "<td>completed</td>\n",
       "</tr>\n",
       "<tr>\n",
       "<td>Anne</td>\n",
       "<td style='text-align: right'>2.67</td>\n",
       "<td>none</td>\n",
       "</tr>\n",
       "</tbody>\n",
       "</table>\n"
      ]
     },
     "metadata": {},
     "output_type": "display_data"
    }
   ],
   "source": [
    "sorted_GPA.displayall()"
   ]
  },
  {
   "cell_type": "code",
   "execution_count": 53,
   "metadata": {},
   "outputs": [
    {
     "data": {
      "text/plain": [
       "False"
      ]
     },
     "execution_count": 53,
     "metadata": {},
     "output_type": "execute_result"
    }
   ],
   "source": [
    "etl.issorted(sorted_GPA, key='GPA')"
   ]
  },
  {
   "cell_type": "code",
   "execution_count": 54,
   "metadata": {},
   "outputs": [
    {
     "data": {
      "text/plain": [
       "True"
      ]
     },
     "execution_count": 54,
     "metadata": {},
     "output_type": "execute_result"
    }
   ],
   "source": [
    "etl.issorted(sorted_GPA, key='GPA', reverse = True)"
   ]
  },
  {
   "cell_type": "code",
   "execution_count": null,
   "metadata": {},
   "outputs": [],
   "source": []
  }
 ],
 "metadata": {
  "kernelspec": {
   "display_name": ".venv",
   "language": "python",
   "name": "python3"
  },
  "language_info": {
   "codemirror_mode": {
    "name": "ipython",
    "version": 3
   },
   "file_extension": ".py",
   "mimetype": "text/x-python",
   "name": "python",
   "nbconvert_exporter": "python",
   "pygments_lexer": "ipython3",
   "version": "3.13.1"
  }
 },
 "nbformat": 4,
 "nbformat_minor": 4
}
