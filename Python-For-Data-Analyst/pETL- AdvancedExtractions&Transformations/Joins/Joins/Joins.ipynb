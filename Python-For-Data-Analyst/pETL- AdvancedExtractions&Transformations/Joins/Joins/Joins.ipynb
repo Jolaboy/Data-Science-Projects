{
 "cells": [
  {
   "cell_type": "markdown",
   "metadata": {},
   "source": [
    "https://www.kaggle.com/san-francisco/sf-street-tree-list?select=street-tree-list.csv"
   ]
  },
  {
   "cell_type": "code",
   "execution_count": 1,
   "metadata": {},
   "outputs": [],
   "source": [
    "import petl as etl"
   ]
  },
  {
   "cell_type": "code",
   "execution_count": 5,
   "metadata": {},
   "outputs": [],
   "source": [
    "trees_legal_status = [['Number', 'TreeID', 'LegalStatus'],\n",
    "                      [1, 46534, 'Permitted Site'],\n",
    "                      [2, 121399, 'DPW Maintained'],\n",
    "                      [3, 85269, 'Permitted Site'],\n",
    "                      [4, 254266, 'Permitted Site'],\n",
    "                      [5, 20000, 'DPW Maintained'],\n",
    "                      [6, 254265, 'Permitted Site'],\n",
    "                      [7, 53918, 'Permitted Site'],\n",
    "                      [8, 19600, 'DPW Maintained']]"
   ]
  },
  {
   "cell_type": "code",
   "execution_count": 6,
   "metadata": {},
   "outputs": [],
   "source": [
    "street_trees_info = [['Number', 'TreeID', 'Address', 'SiteOrder', 'Caretaker'],\n",
    "                     [1, 46534, '73 Summer St', 7, 'Private'],\n",
    "                     [2, 121399, '349X Cargo Way', 1, 'DPW'],\n",
    "                     [3, 85269, '1000 Edinburgh St', 3, 'Private'],\n",
    "                     [5, 20000, '100 STAIRWAY46', 20, 'DPW'],\n",
    "                     [6, 254265, '85X Sussex St', 1, 'Private'],\n",
    "                     [7, 53918, '3 21st St', 1, 'Private'],\n",
    "                     [9, 121227, '4299x 17th St', 3, 'DPW']]"
   ]
  },
  {
   "cell_type": "markdown",
   "metadata": {},
   "source": [
    "Default join"
   ]
  },
  {
   "cell_type": "code",
   "execution_count": 7,
   "metadata": {},
   "outputs": [],
   "source": [
    "default_join = etl.join(trees_legal_status, \n",
    "                        street_trees_info)"
   ]
  },
  {
   "cell_type": "markdown",
   "metadata": {},
   "source": [
    "#### Only matching rows are present\n",
    "Trees #4 and #8 from the trees_legal_status table and #9 from the street_trees_info table are missing"
   ]
  },
  {
   "cell_type": "code",
   "execution_count": 12,
   "metadata": {},
   "outputs": [
    {
     "data": {
      "text/plain": [
       "+--------+--------+------------------+---------------------+-----------+-----------+\n",
       "| Number | TreeID | LegalStatus      | Address             | SiteOrder | Caretaker |\n",
       "+========+========+==================+=====================+===========+===========+\n",
       "|      1 |  46534 | 'Permitted Site' | '73 Summer St'      |         7 | 'Private' |\n",
       "+--------+--------+------------------+---------------------+-----------+-----------+\n",
       "|      2 | 121399 | 'DPW Maintained' | '349X Cargo Way'    |         1 | 'DPW'     |\n",
       "+--------+--------+------------------+---------------------+-----------+-----------+\n",
       "|      3 |  85269 | 'Permitted Site' | '1000 Edinburgh St' |         3 | 'Private' |\n",
       "+--------+--------+------------------+---------------------+-----------+-----------+\n",
       "|      5 |  20000 | 'DPW Maintained' | '100 STAIRWAY46'    |        20 | 'DPW'     |\n",
       "+--------+--------+------------------+---------------------+-----------+-----------+\n",
       "|      6 | 254265 | 'Permitted Site' | '85X Sussex St'     |         1 | 'Private' |\n",
       "+--------+--------+------------------+---------------------+-----------+-----------+\n",
       "|      7 |  53918 | 'Permitted Site' | '3 21st St'         |         1 | 'Private' |\n",
       "+--------+--------+------------------+---------------------+-----------+-----------+"
      ]
     },
     "execution_count": 12,
     "metadata": {},
     "output_type": "execute_result"
    }
   ],
   "source": [
    "default_join.lookall()"
   ]
  },
  {
   "cell_type": "code",
   "execution_count": 13,
   "metadata": {},
   "outputs": [
    {
     "data": {
      "text/plain": [
       "6"
      ]
     },
     "execution_count": 13,
     "metadata": {},
     "output_type": "execute_result"
    }
   ],
   "source": [
    "etl.nrows(default_join)"
   ]
  },
  {
   "cell_type": "markdown",
   "metadata": {},
   "source": [
    "Perform an equi-join on the given tables"
   ]
  },
  {
   "cell_type": "code",
   "execution_count": 14,
   "metadata": {},
   "outputs": [],
   "source": [
    "equi_join = etl.join(trees_legal_status, \n",
    "                     street_trees_info, \n",
    "                     key = 'Number')"
   ]
  },
  {
   "cell_type": "code",
   "execution_count": 15,
   "metadata": {},
   "outputs": [
    {
     "data": {
      "text/plain": [
       "+--------+--------+------------------+--------+---------------------+-----------+-----------+\n",
       "| Number | TreeID | LegalStatus      | TreeID | Address             | SiteOrder | Caretaker |\n",
       "+========+========+==================+========+=====================+===========+===========+\n",
       "|      1 |  46534 | 'Permitted Site' |  46534 | '73 Summer St'      |         7 | 'Private' |\n",
       "+--------+--------+------------------+--------+---------------------+-----------+-----------+\n",
       "|      2 | 121399 | 'DPW Maintained' | 121399 | '349X Cargo Way'    |         1 | 'DPW'     |\n",
       "+--------+--------+------------------+--------+---------------------+-----------+-----------+\n",
       "|      3 |  85269 | 'Permitted Site' |  85269 | '1000 Edinburgh St' |         3 | 'Private' |\n",
       "+--------+--------+------------------+--------+---------------------+-----------+-----------+\n",
       "|      5 |  20000 | 'DPW Maintained' |  20000 | '100 STAIRWAY46'    |        20 | 'DPW'     |\n",
       "+--------+--------+------------------+--------+---------------------+-----------+-----------+\n",
       "|      6 | 254265 | 'Permitted Site' | 254265 | '85X Sussex St'     |         1 | 'Private' |\n",
       "+--------+--------+------------------+--------+---------------------+-----------+-----------+\n",
       "|      7 |  53918 | 'Permitted Site' |  53918 | '3 21st St'         |         1 | 'Private' |\n",
       "+--------+--------+------------------+--------+---------------------+-----------+-----------+"
      ]
     },
     "execution_count": 15,
     "metadata": {},
     "output_type": "execute_result"
    }
   ],
   "source": [
    "equi_join.lookall()"
   ]
  },
  {
   "cell_type": "code",
   "execution_count": 16,
   "metadata": {},
   "outputs": [
    {
     "data": {
      "text/plain": [
       "6"
      ]
     },
     "execution_count": 16,
     "metadata": {},
     "output_type": "execute_result"
    }
   ],
   "source": [
    "etl.nrows(equi_join)"
   ]
  },
  {
   "cell_type": "markdown",
   "metadata": {},
   "source": [
    "Alternative implementation of petl.transform.joins.join(), where the join is executed by constructing an in-memory lookup for the right hand table, then iterating over rows from the left hand table."
   ]
  },
  {
   "cell_type": "code",
   "execution_count": 18,
   "metadata": {},
   "outputs": [],
   "source": [
    "hash_join = etl.hashjoin(trees_legal_status, \n",
    "                         street_trees_info, \n",
    "                         key = 'Number')"
   ]
  },
  {
   "cell_type": "code",
   "execution_count": 19,
   "metadata": {},
   "outputs": [
    {
     "data": {
      "text/plain": [
       "+--------+--------+------------------+--------+---------------------+-----------+-----------+\n",
       "| Number | TreeID | LegalStatus      | TreeID | Address             | SiteOrder | Caretaker |\n",
       "+========+========+==================+========+=====================+===========+===========+\n",
       "|      1 |  46534 | 'Permitted Site' |  46534 | '73 Summer St'      |         7 | 'Private' |\n",
       "+--------+--------+------------------+--------+---------------------+-----------+-----------+\n",
       "|      2 | 121399 | 'DPW Maintained' | 121399 | '349X Cargo Way'    |         1 | 'DPW'     |\n",
       "+--------+--------+------------------+--------+---------------------+-----------+-----------+\n",
       "|      3 |  85269 | 'Permitted Site' |  85269 | '1000 Edinburgh St' |         3 | 'Private' |\n",
       "+--------+--------+------------------+--------+---------------------+-----------+-----------+\n",
       "|      5 |  20000 | 'DPW Maintained' |  20000 | '100 STAIRWAY46'    |        20 | 'DPW'     |\n",
       "+--------+--------+------------------+--------+---------------------+-----------+-----------+\n",
       "|      6 | 254265 | 'Permitted Site' | 254265 | '85X Sussex St'     |         1 | 'Private' |\n",
       "+--------+--------+------------------+--------+---------------------+-----------+-----------+\n",
       "|      7 |  53918 | 'Permitted Site' |  53918 | '3 21st St'         |         1 | 'Private' |\n",
       "+--------+--------+------------------+--------+---------------------+-----------+-----------+"
      ]
     },
     "execution_count": 19,
     "metadata": {},
     "output_type": "execute_result"
    }
   ],
   "source": [
    "hash_join.lookall()"
   ]
  },
  {
   "cell_type": "code",
   "execution_count": 20,
   "metadata": {},
   "outputs": [
    {
     "data": {
      "text/plain": [
       "6"
      ]
     },
     "execution_count": 20,
     "metadata": {},
     "output_type": "execute_result"
    }
   ],
   "source": [
    "etl.nrows(hash_join)"
   ]
  },
  {
   "cell_type": "markdown",
   "metadata": {},
   "source": [
    "#### Perform a left outer join on the given tables\n",
    "Trees #4 and #8 show up with None values for the fields in the street_trees_info table since there is no corresponding record there"
   ]
  },
  {
   "cell_type": "code",
   "execution_count": 22,
   "metadata": {},
   "outputs": [],
   "source": [
    "left_join = etl.leftjoin(trees_legal_status, \n",
    "                         street_trees_info, \n",
    "                         key = 'TreeID')"
   ]
  },
  {
   "cell_type": "code",
   "execution_count": 23,
   "metadata": {},
   "outputs": [
    {
     "data": {
      "text/plain": [
       "+--------+--------+------------------+--------+---------------------+-----------+-----------+\n",
       "| Number | TreeID | LegalStatus      | Number | Address             | SiteOrder | Caretaker |\n",
       "+========+========+==================+========+=====================+===========+===========+\n",
       "|      8 |  19600 | 'DPW Maintained' | None   | None                | None      | None      |\n",
       "+--------+--------+------------------+--------+---------------------+-----------+-----------+\n",
       "|      5 |  20000 | 'DPW Maintained' |      5 | '100 STAIRWAY46'    |        20 | 'DPW'     |\n",
       "+--------+--------+------------------+--------+---------------------+-----------+-----------+\n",
       "|      1 |  46534 | 'Permitted Site' |      1 | '73 Summer St'      |         7 | 'Private' |\n",
       "+--------+--------+------------------+--------+---------------------+-----------+-----------+\n",
       "|      7 |  53918 | 'Permitted Site' |      7 | '3 21st St'         |         1 | 'Private' |\n",
       "+--------+--------+------------------+--------+---------------------+-----------+-----------+\n",
       "|      3 |  85269 | 'Permitted Site' |      3 | '1000 Edinburgh St' |         3 | 'Private' |\n",
       "+--------+--------+------------------+--------+---------------------+-----------+-----------+\n",
       "|      2 | 121399 | 'DPW Maintained' |      2 | '349X Cargo Way'    |         1 | 'DPW'     |\n",
       "+--------+--------+------------------+--------+---------------------+-----------+-----------+\n",
       "|      6 | 254265 | 'Permitted Site' |      6 | '85X Sussex St'     |         1 | 'Private' |\n",
       "+--------+--------+------------------+--------+---------------------+-----------+-----------+\n",
       "|      4 | 254266 | 'Permitted Site' | None   | None                | None      | None      |\n",
       "+--------+--------+------------------+--------+---------------------+-----------+-----------+"
      ]
     },
     "execution_count": 23,
     "metadata": {},
     "output_type": "execute_result"
    }
   ],
   "source": [
    "etl.lookall(left_join)"
   ]
  },
  {
   "cell_type": "code",
   "execution_count": 24,
   "metadata": {},
   "outputs": [
    {
     "data": {
      "text/plain": [
       "8"
      ]
     },
     "execution_count": 24,
     "metadata": {},
     "output_type": "execute_result"
    }
   ],
   "source": [
    "etl.nrows(left_join)"
   ]
  },
  {
   "cell_type": "markdown",
   "metadata": {},
   "source": [
    "#### When the join keys have different names in the left and right tables\n",
    "- use the same trees_legal_status table, but a different one for street_trees_info called street_trees_alt\n",
    "- the difference is that street_trees_alt has TreeNumber instead of number"
   ]
  },
  {
   "cell_type": "code",
   "execution_count": 38,
   "metadata": {},
   "outputs": [],
   "source": [
    "trees_legal_status = [['Number', 'TreeID', 'LegalStatus'],\n",
    "                      [1, 46534, 'Permitted Site'],\n",
    "                      [2, 121399, 'DPW Maintained'],\n",
    "                      [3, 85269, 'Permitted Site'],\n",
    "                      [4, 254266, 'Permitted Site'],\n",
    "                      [5, 20000, 'DPW Maintained'],\n",
    "                      [6, 254265, 'Permitted Site'],\n",
    "                      [7, 53918, 'Permitted Site'],\n",
    "                      [8, 19600, 'DPW Maintained']]"
   ]
  },
  {
   "cell_type": "code",
   "execution_count": 39,
   "metadata": {},
   "outputs": [],
   "source": [
    "street_trees_alt = [['TreeNumber', 'TreeID', 'Address', 'SiteOrder', 'Caretaker'],\n",
    "                    [1, 46534, '73 Summer St', 7, 'Private'],\n",
    "                    [2, 121399, '349X Cargo Way', 1, 'DPW'],\n",
    "                    [3, 85269, '1000 Edinburgh St', 3, 'Private'],\n",
    "                    [5, 20000, '100 STAIRWAY46', 20, 'DPW'],\n",
    "                    [6, 254265, '85X Sussex St', 1, 'Private'],\n",
    "                    [7, 53918, '3 21st St', 1, 'Private'],\n",
    "                    [9, 121227, '4299x 17th St', 3, 'DPW']]"
   ]
  },
  {
   "cell_type": "markdown",
   "metadata": {},
   "source": [
    "#### The normal join does a match based on the common TreeNumber columns"
   ]
  },
  {
   "cell_type": "code",
   "execution_count": 40,
   "metadata": {},
   "outputs": [
    {
     "data": {
      "text/plain": [
       "+--------+--------+------------------+------------+---------------------+-----------+-----------+\n",
       "| Number | TreeID | LegalStatus      | TreeNumber | Address             | SiteOrder | Caretaker |\n",
       "+========+========+==================+============+=====================+===========+===========+\n",
       "|      5 |  20000 | 'DPW Maintained' |          5 | '100 STAIRWAY46'    |        20 | 'DPW'     |\n",
       "+--------+--------+------------------+------------+---------------------+-----------+-----------+\n",
       "|      1 |  46534 | 'Permitted Site' |          1 | '73 Summer St'      |         7 | 'Private' |\n",
       "+--------+--------+------------------+------------+---------------------+-----------+-----------+\n",
       "|      7 |  53918 | 'Permitted Site' |          7 | '3 21st St'         |         1 | 'Private' |\n",
       "+--------+--------+------------------+------------+---------------------+-----------+-----------+\n",
       "|      3 |  85269 | 'Permitted Site' |          3 | '1000 Edinburgh St' |         3 | 'Private' |\n",
       "+--------+--------+------------------+------------+---------------------+-----------+-----------+\n",
       "|      2 | 121399 | 'DPW Maintained' |          2 | '349X Cargo Way'    |         1 | 'DPW'     |\n",
       "+--------+--------+------------------+------------+---------------------+-----------+-----------+\n",
       "|      6 | 254265 | 'Permitted Site' |          6 | '85X Sussex St'     |         1 | 'Private' |\n",
       "+--------+--------+------------------+------------+---------------------+-----------+-----------+"
      ]
     },
     "execution_count": 40,
     "metadata": {},
     "output_type": "execute_result"
    }
   ],
   "source": [
    "default_join = etl.join(trees_legal_status, \n",
    "                        street_trees_alt)\n",
    "\n",
    "default_join.lookall()"
   ]
  },
  {
   "cell_type": "markdown",
   "metadata": {},
   "source": [
    "#### As does leftjoin"
   ]
  },
  {
   "cell_type": "code",
   "execution_count": 41,
   "metadata": {},
   "outputs": [
    {
     "data": {
      "text/plain": [
       "+--------+--------+------------------+------------+---------------------+-----------+-----------+\n",
       "| Number | TreeID | LegalStatus      | TreeNumber | Address             | SiteOrder | Caretaker |\n",
       "+========+========+==================+============+=====================+===========+===========+\n",
       "|      8 |  19600 | 'DPW Maintained' | None       | None                | None      | None      |\n",
       "+--------+--------+------------------+------------+---------------------+-----------+-----------+\n",
       "|      5 |  20000 | 'DPW Maintained' |          5 | '100 STAIRWAY46'    |        20 | 'DPW'     |\n",
       "+--------+--------+------------------+------------+---------------------+-----------+-----------+\n",
       "|      1 |  46534 | 'Permitted Site' |          1 | '73 Summer St'      |         7 | 'Private' |\n",
       "+--------+--------+------------------+------------+---------------------+-----------+-----------+\n",
       "|      7 |  53918 | 'Permitted Site' |          7 | '3 21st St'         |         1 | 'Private' |\n",
       "+--------+--------+------------------+------------+---------------------+-----------+-----------+\n",
       "|      3 |  85269 | 'Permitted Site' |          3 | '1000 Edinburgh St' |         3 | 'Private' |\n",
       "+--------+--------+------------------+------------+---------------------+-----------+-----------+\n",
       "|      2 | 121399 | 'DPW Maintained' |          2 | '349X Cargo Way'    |         1 | 'DPW'     |\n",
       "+--------+--------+------------------+------------+---------------------+-----------+-----------+\n",
       "|      6 | 254265 | 'Permitted Site' |          6 | '85X Sussex St'     |         1 | 'Private' |\n",
       "+--------+--------+------------------+------------+---------------------+-----------+-----------+\n",
       "|      4 | 254266 | 'Permitted Site' | None       | None                | None      | None      |\n",
       "+--------+--------+------------------+------------+---------------------+-----------+-----------+"
      ]
     },
     "execution_count": 41,
     "metadata": {},
     "output_type": "execute_result"
    }
   ],
   "source": [
    "left_join = etl.leftjoin(trees_legal_status, \n",
    "                         street_trees_alt)\n",
    "\n",
    "left_join.lookall()"
   ]
  },
  {
   "cell_type": "markdown",
   "metadata": {},
   "source": [
    "#### Rename the TreeID column so that it's called ID\n",
    "Now there is no common column between trees_legal_status and street_trees_alt"
   ]
  },
  {
   "cell_type": "code",
   "execution_count": 42,
   "metadata": {},
   "outputs": [],
   "source": [
    "street_trees_alt = [['TreeNumber', 'ID', 'Address', 'SiteOrder', 'Caretaker'],\n",
    "                    [1, 46534, '73 Summer St', 7, 'Private'],\n",
    "                    [2, 121399, '349X Cargo Way', 1, 'DPW'],\n",
    "                    [3, 85269, '1000 Edinburgh St', 3, 'Private'],\n",
    "                    [5, 20000, '100 STAIRWAY46', 20, 'DPW'],\n",
    "                    [6, 254265, '85X Sussex St', 1, 'Private'],\n",
    "                    [7, 53918, '3 21st St', 1, 'Private'],\n",
    "                    [9, 121227, '4299x 17th St', 3, 'DPW']]"
   ]
  },
  {
   "cell_type": "markdown",
   "metadata": {},
   "source": [
    "#### This join throws an error"
   ]
  },
  {
   "cell_type": "code",
   "execution_count": 43,
   "metadata": {},
   "outputs": [
    {
     "ename": "AssertionError",
     "evalue": "no fields in common",
     "output_type": "error",
     "traceback": [
      "\u001b[0;31m---------------------------------------------------------------------------\u001b[0m",
      "\u001b[0;31mAssertionError\u001b[0m                            Traceback (most recent call last)",
      "\u001b[0;32m<ipython-input-43-d40e2d86655a>\u001b[0m in \u001b[0;36m<module>\u001b[0;34m\u001b[0m\n\u001b[0;32m----> 1\u001b[0;31m default_join = etl.join(trees_legal_status, \n\u001b[0m\u001b[1;32m      2\u001b[0m                         street_trees_alt)\n\u001b[1;32m      3\u001b[0m \u001b[0;34m\u001b[0m\u001b[0m\n\u001b[1;32m      4\u001b[0m \u001b[0mdefault_join\u001b[0m\u001b[0;34m.\u001b[0m\u001b[0mlookall\u001b[0m\u001b[0;34m(\u001b[0m\u001b[0;34m)\u001b[0m\u001b[0;34m\u001b[0m\u001b[0;34m\u001b[0m\u001b[0m\n",
      "\u001b[0;32m/opt/anaconda3/lib/python3.8/site-packages/petl/transform/joins.py\u001b[0m in \u001b[0;36mjoin\u001b[0;34m(left, right, key, lkey, rkey, presorted, buffersize, tempdir, cache, lprefix, rprefix)\u001b[0m\n\u001b[1;32m    139\u001b[0m \u001b[0;34m\u001b[0m\u001b[0m\n\u001b[1;32m    140\u001b[0m     \u001b[0;31m# TODO don't read data twice (occurs if using natural key)\u001b[0m\u001b[0;34m\u001b[0m\u001b[0;34m\u001b[0m\u001b[0;34m\u001b[0m\u001b[0m\n\u001b[0;32m--> 141\u001b[0;31m     \u001b[0mlkey\u001b[0m\u001b[0;34m,\u001b[0m \u001b[0mrkey\u001b[0m \u001b[0;34m=\u001b[0m \u001b[0mkeys_from_args\u001b[0m\u001b[0;34m(\u001b[0m\u001b[0mleft\u001b[0m\u001b[0;34m,\u001b[0m \u001b[0mright\u001b[0m\u001b[0;34m,\u001b[0m \u001b[0mkey\u001b[0m\u001b[0;34m,\u001b[0m \u001b[0mlkey\u001b[0m\u001b[0;34m,\u001b[0m \u001b[0mrkey\u001b[0m\u001b[0;34m)\u001b[0m\u001b[0;34m\u001b[0m\u001b[0;34m\u001b[0m\u001b[0m\n\u001b[0m\u001b[1;32m    142\u001b[0m     return JoinView(left, right, lkey=lkey, rkey=rkey,\n\u001b[1;32m    143\u001b[0m                     \u001b[0mpresorted\u001b[0m\u001b[0;34m=\u001b[0m\u001b[0mpresorted\u001b[0m\u001b[0;34m,\u001b[0m \u001b[0mbuffersize\u001b[0m\u001b[0;34m=\u001b[0m\u001b[0mbuffersize\u001b[0m\u001b[0;34m,\u001b[0m \u001b[0mtempdir\u001b[0m\u001b[0;34m=\u001b[0m\u001b[0mtempdir\u001b[0m\u001b[0;34m,\u001b[0m\u001b[0;34m\u001b[0m\u001b[0;34m\u001b[0m\u001b[0m\n",
      "\u001b[0;32m/opt/anaconda3/lib/python3.8/site-packages/petl/transform/joins.py\u001b[0m in \u001b[0;36mkeys_from_args\u001b[0;34m(left, right, key, lkey, rkey)\u001b[0m\n\u001b[1;32m     33\u001b[0m     \u001b[0;32mif\u001b[0m \u001b[0mkey\u001b[0m \u001b[0;32mis\u001b[0m \u001b[0mlkey\u001b[0m \u001b[0;32mis\u001b[0m \u001b[0mrkey\u001b[0m \u001b[0;32mis\u001b[0m \u001b[0;32mNone\u001b[0m\u001b[0;34m:\u001b[0m\u001b[0;34m\u001b[0m\u001b[0;34m\u001b[0m\u001b[0m\n\u001b[1;32m     34\u001b[0m         \u001b[0;31m# no keys specified, attempt natural join\u001b[0m\u001b[0;34m\u001b[0m\u001b[0;34m\u001b[0m\u001b[0;34m\u001b[0m\u001b[0m\n\u001b[0;32m---> 35\u001b[0;31m         \u001b[0mlkey\u001b[0m \u001b[0;34m=\u001b[0m \u001b[0mrkey\u001b[0m \u001b[0;34m=\u001b[0m \u001b[0mnatural_key\u001b[0m\u001b[0;34m(\u001b[0m\u001b[0mleft\u001b[0m\u001b[0;34m,\u001b[0m \u001b[0mright\u001b[0m\u001b[0;34m)\u001b[0m\u001b[0;34m\u001b[0m\u001b[0;34m\u001b[0m\u001b[0m\n\u001b[0m\u001b[1;32m     36\u001b[0m     \u001b[0;32melif\u001b[0m \u001b[0mkey\u001b[0m \u001b[0;32mis\u001b[0m \u001b[0;32mnot\u001b[0m \u001b[0;32mNone\u001b[0m \u001b[0;32mand\u001b[0m \u001b[0mlkey\u001b[0m \u001b[0;32mis\u001b[0m \u001b[0mrkey\u001b[0m \u001b[0;32mis\u001b[0m \u001b[0;32mNone\u001b[0m\u001b[0;34m:\u001b[0m\u001b[0;34m\u001b[0m\u001b[0;34m\u001b[0m\u001b[0m\n\u001b[1;32m     37\u001b[0m         \u001b[0;31m# common key specified\u001b[0m\u001b[0;34m\u001b[0m\u001b[0;34m\u001b[0m\u001b[0;34m\u001b[0m\u001b[0m\n",
      "\u001b[0;32m/opt/anaconda3/lib/python3.8/site-packages/petl/transform/joins.py\u001b[0m in \u001b[0;36mnatural_key\u001b[0;34m(left, right)\u001b[0m\n\u001b[1;32m     23\u001b[0m     \u001b[0mrflds\u001b[0m \u001b[0;34m=\u001b[0m \u001b[0mlist\u001b[0m\u001b[0;34m(\u001b[0m\u001b[0mmap\u001b[0m\u001b[0;34m(\u001b[0m\u001b[0mstr\u001b[0m\u001b[0;34m,\u001b[0m \u001b[0mrhdr\u001b[0m\u001b[0;34m)\u001b[0m\u001b[0;34m)\u001b[0m\u001b[0;34m\u001b[0m\u001b[0;34m\u001b[0m\u001b[0m\n\u001b[1;32m     24\u001b[0m     \u001b[0mkey\u001b[0m \u001b[0;34m=\u001b[0m \u001b[0;34m[\u001b[0m\u001b[0mf\u001b[0m \u001b[0;32mfor\u001b[0m \u001b[0mf\u001b[0m \u001b[0;32min\u001b[0m \u001b[0mlflds\u001b[0m \u001b[0;32mif\u001b[0m \u001b[0mf\u001b[0m \u001b[0;32min\u001b[0m \u001b[0mrflds\u001b[0m\u001b[0;34m]\u001b[0m\u001b[0;34m\u001b[0m\u001b[0;34m\u001b[0m\u001b[0m\n\u001b[0;32m---> 25\u001b[0;31m     \u001b[0;32massert\u001b[0m \u001b[0mlen\u001b[0m\u001b[0;34m(\u001b[0m\u001b[0mkey\u001b[0m\u001b[0;34m)\u001b[0m \u001b[0;34m>\u001b[0m \u001b[0;36m0\u001b[0m\u001b[0;34m,\u001b[0m \u001b[0;34m'no fields in common'\u001b[0m\u001b[0;34m\u001b[0m\u001b[0;34m\u001b[0m\u001b[0m\n\u001b[0m\u001b[1;32m     26\u001b[0m     \u001b[0;32mif\u001b[0m \u001b[0mlen\u001b[0m\u001b[0;34m(\u001b[0m\u001b[0mkey\u001b[0m\u001b[0;34m)\u001b[0m \u001b[0;34m==\u001b[0m \u001b[0;36m1\u001b[0m\u001b[0;34m:\u001b[0m\u001b[0;34m\u001b[0m\u001b[0;34m\u001b[0m\u001b[0m\n\u001b[1;32m     27\u001b[0m         \u001b[0mkey\u001b[0m \u001b[0;34m=\u001b[0m \u001b[0mkey\u001b[0m\u001b[0;34m[\u001b[0m\u001b[0;36m0\u001b[0m\u001b[0;34m]\u001b[0m  \u001b[0;31m# deal with singletons\u001b[0m\u001b[0;34m\u001b[0m\u001b[0;34m\u001b[0m\u001b[0m\n",
      "\u001b[0;31mAssertionError\u001b[0m: no fields in common"
     ]
    }
   ],
   "source": [
    "default_join = etl.join(trees_legal_status, \n",
    "                        street_trees_alt)\n",
    "\n",
    "default_join.lookall()"
   ]
  },
  {
   "cell_type": "markdown",
   "metadata": {},
   "source": [
    "#### As does left join again"
   ]
  },
  {
   "cell_type": "code",
   "execution_count": 44,
   "metadata": {},
   "outputs": [
    {
     "ename": "AssertionError",
     "evalue": "no fields in common",
     "output_type": "error",
     "traceback": [
      "\u001b[0;31m---------------------------------------------------------------------------\u001b[0m",
      "\u001b[0;31mAssertionError\u001b[0m                            Traceback (most recent call last)",
      "\u001b[0;32m<ipython-input-44-0846014eb5c5>\u001b[0m in \u001b[0;36m<module>\u001b[0;34m\u001b[0m\n\u001b[0;32m----> 1\u001b[0;31m left_join = etl.leftjoin(trees_legal_status, \n\u001b[0m\u001b[1;32m      2\u001b[0m                          street_trees_alt)\n\u001b[1;32m      3\u001b[0m \u001b[0;34m\u001b[0m\u001b[0m\n\u001b[1;32m      4\u001b[0m \u001b[0mleft_join\u001b[0m\u001b[0;34m.\u001b[0m\u001b[0mlookall\u001b[0m\u001b[0;34m(\u001b[0m\u001b[0;34m)\u001b[0m\u001b[0;34m\u001b[0m\u001b[0;34m\u001b[0m\u001b[0m\n",
      "\u001b[0;32m/opt/anaconda3/lib/python3.8/site-packages/petl/transform/joins.py\u001b[0m in \u001b[0;36mleftjoin\u001b[0;34m(left, right, key, lkey, rkey, missing, presorted, buffersize, tempdir, cache, lprefix, rprefix)\u001b[0m\n\u001b[1;32m    216\u001b[0m \u001b[0;34m\u001b[0m\u001b[0m\n\u001b[1;32m    217\u001b[0m     \u001b[0;31m# TODO don't read data twice (occurs if using natural key)\u001b[0m\u001b[0;34m\u001b[0m\u001b[0;34m\u001b[0m\u001b[0;34m\u001b[0m\u001b[0m\n\u001b[0;32m--> 218\u001b[0;31m     \u001b[0mlkey\u001b[0m\u001b[0;34m,\u001b[0m \u001b[0mrkey\u001b[0m \u001b[0;34m=\u001b[0m \u001b[0mkeys_from_args\u001b[0m\u001b[0;34m(\u001b[0m\u001b[0mleft\u001b[0m\u001b[0;34m,\u001b[0m \u001b[0mright\u001b[0m\u001b[0;34m,\u001b[0m \u001b[0mkey\u001b[0m\u001b[0;34m,\u001b[0m \u001b[0mlkey\u001b[0m\u001b[0;34m,\u001b[0m \u001b[0mrkey\u001b[0m\u001b[0;34m)\u001b[0m\u001b[0;34m\u001b[0m\u001b[0;34m\u001b[0m\u001b[0m\n\u001b[0m\u001b[1;32m    219\u001b[0m     return JoinView(left, right, lkey=lkey, rkey=rkey,\n\u001b[1;32m    220\u001b[0m                     \u001b[0mpresorted\u001b[0m\u001b[0;34m=\u001b[0m\u001b[0mpresorted\u001b[0m\u001b[0;34m,\u001b[0m \u001b[0mleftouter\u001b[0m\u001b[0;34m=\u001b[0m\u001b[0;32mTrue\u001b[0m\u001b[0;34m,\u001b[0m \u001b[0mrightouter\u001b[0m\u001b[0;34m=\u001b[0m\u001b[0;32mFalse\u001b[0m\u001b[0;34m,\u001b[0m\u001b[0;34m\u001b[0m\u001b[0;34m\u001b[0m\u001b[0m\n",
      "\u001b[0;32m/opt/anaconda3/lib/python3.8/site-packages/petl/transform/joins.py\u001b[0m in \u001b[0;36mkeys_from_args\u001b[0;34m(left, right, key, lkey, rkey)\u001b[0m\n\u001b[1;32m     33\u001b[0m     \u001b[0;32mif\u001b[0m \u001b[0mkey\u001b[0m \u001b[0;32mis\u001b[0m \u001b[0mlkey\u001b[0m \u001b[0;32mis\u001b[0m \u001b[0mrkey\u001b[0m \u001b[0;32mis\u001b[0m \u001b[0;32mNone\u001b[0m\u001b[0;34m:\u001b[0m\u001b[0;34m\u001b[0m\u001b[0;34m\u001b[0m\u001b[0m\n\u001b[1;32m     34\u001b[0m         \u001b[0;31m# no keys specified, attempt natural join\u001b[0m\u001b[0;34m\u001b[0m\u001b[0;34m\u001b[0m\u001b[0;34m\u001b[0m\u001b[0m\n\u001b[0;32m---> 35\u001b[0;31m         \u001b[0mlkey\u001b[0m \u001b[0;34m=\u001b[0m \u001b[0mrkey\u001b[0m \u001b[0;34m=\u001b[0m \u001b[0mnatural_key\u001b[0m\u001b[0;34m(\u001b[0m\u001b[0mleft\u001b[0m\u001b[0;34m,\u001b[0m \u001b[0mright\u001b[0m\u001b[0;34m)\u001b[0m\u001b[0;34m\u001b[0m\u001b[0;34m\u001b[0m\u001b[0m\n\u001b[0m\u001b[1;32m     36\u001b[0m     \u001b[0;32melif\u001b[0m \u001b[0mkey\u001b[0m \u001b[0;32mis\u001b[0m \u001b[0;32mnot\u001b[0m \u001b[0;32mNone\u001b[0m \u001b[0;32mand\u001b[0m \u001b[0mlkey\u001b[0m \u001b[0;32mis\u001b[0m \u001b[0mrkey\u001b[0m \u001b[0;32mis\u001b[0m \u001b[0;32mNone\u001b[0m\u001b[0;34m:\u001b[0m\u001b[0;34m\u001b[0m\u001b[0;34m\u001b[0m\u001b[0m\n\u001b[1;32m     37\u001b[0m         \u001b[0;31m# common key specified\u001b[0m\u001b[0;34m\u001b[0m\u001b[0;34m\u001b[0m\u001b[0;34m\u001b[0m\u001b[0m\n",
      "\u001b[0;32m/opt/anaconda3/lib/python3.8/site-packages/petl/transform/joins.py\u001b[0m in \u001b[0;36mnatural_key\u001b[0;34m(left, right)\u001b[0m\n\u001b[1;32m     23\u001b[0m     \u001b[0mrflds\u001b[0m \u001b[0;34m=\u001b[0m \u001b[0mlist\u001b[0m\u001b[0;34m(\u001b[0m\u001b[0mmap\u001b[0m\u001b[0;34m(\u001b[0m\u001b[0mstr\u001b[0m\u001b[0;34m,\u001b[0m \u001b[0mrhdr\u001b[0m\u001b[0;34m)\u001b[0m\u001b[0;34m)\u001b[0m\u001b[0;34m\u001b[0m\u001b[0;34m\u001b[0m\u001b[0m\n\u001b[1;32m     24\u001b[0m     \u001b[0mkey\u001b[0m \u001b[0;34m=\u001b[0m \u001b[0;34m[\u001b[0m\u001b[0mf\u001b[0m \u001b[0;32mfor\u001b[0m \u001b[0mf\u001b[0m \u001b[0;32min\u001b[0m \u001b[0mlflds\u001b[0m \u001b[0;32mif\u001b[0m \u001b[0mf\u001b[0m \u001b[0;32min\u001b[0m \u001b[0mrflds\u001b[0m\u001b[0;34m]\u001b[0m\u001b[0;34m\u001b[0m\u001b[0;34m\u001b[0m\u001b[0m\n\u001b[0;32m---> 25\u001b[0;31m     \u001b[0;32massert\u001b[0m \u001b[0mlen\u001b[0m\u001b[0;34m(\u001b[0m\u001b[0mkey\u001b[0m\u001b[0;34m)\u001b[0m \u001b[0;34m>\u001b[0m \u001b[0;36m0\u001b[0m\u001b[0;34m,\u001b[0m \u001b[0;34m'no fields in common'\u001b[0m\u001b[0;34m\u001b[0m\u001b[0;34m\u001b[0m\u001b[0m\n\u001b[0m\u001b[1;32m     26\u001b[0m     \u001b[0;32mif\u001b[0m \u001b[0mlen\u001b[0m\u001b[0;34m(\u001b[0m\u001b[0mkey\u001b[0m\u001b[0;34m)\u001b[0m \u001b[0;34m==\u001b[0m \u001b[0;36m1\u001b[0m\u001b[0;34m:\u001b[0m\u001b[0;34m\u001b[0m\u001b[0;34m\u001b[0m\u001b[0m\n\u001b[1;32m     27\u001b[0m         \u001b[0mkey\u001b[0m \u001b[0;34m=\u001b[0m \u001b[0mkey\u001b[0m\u001b[0;34m[\u001b[0m\u001b[0;36m0\u001b[0m\u001b[0;34m]\u001b[0m  \u001b[0;31m# deal with singletons\u001b[0m\u001b[0;34m\u001b[0m\u001b[0;34m\u001b[0m\u001b[0m\n",
      "\u001b[0;31mAssertionError\u001b[0m: no fields in common"
     ]
    }
   ],
   "source": [
    "left_join = etl.leftjoin(trees_legal_status, \n",
    "                         street_trees_alt)\n",
    "\n",
    "left_join.lookall()"
   ]
  },
  {
   "cell_type": "markdown",
   "metadata": {},
   "source": [
    "#### Use the lkey and rkey parameters when there is no common column name\n",
    "- Doing a regular join using Number/TreeNumber\n",
    "- The TreeNumber from the right table does not appear in the result, since it has the same value as Number in the left table"
   ]
  },
  {
   "cell_type": "code",
   "execution_count": 45,
   "metadata": {},
   "outputs": [
    {
     "data": {
      "text/plain": [
       "+--------+--------+------------------+--------+---------------------+-----------+-----------+\n",
       "| Number | TreeID | LegalStatus      | ID     | Address             | SiteOrder | Caretaker |\n",
       "+========+========+==================+========+=====================+===========+===========+\n",
       "|      1 |  46534 | 'Permitted Site' |  46534 | '73 Summer St'      |         7 | 'Private' |\n",
       "+--------+--------+------------------+--------+---------------------+-----------+-----------+\n",
       "|      2 | 121399 | 'DPW Maintained' | 121399 | '349X Cargo Way'    |         1 | 'DPW'     |\n",
       "+--------+--------+------------------+--------+---------------------+-----------+-----------+\n",
       "|      3 |  85269 | 'Permitted Site' |  85269 | '1000 Edinburgh St' |         3 | 'Private' |\n",
       "+--------+--------+------------------+--------+---------------------+-----------+-----------+\n",
       "|      5 |  20000 | 'DPW Maintained' |  20000 | '100 STAIRWAY46'    |        20 | 'DPW'     |\n",
       "+--------+--------+------------------+--------+---------------------+-----------+-----------+\n",
       "|      6 | 254265 | 'Permitted Site' | 254265 | '85X Sussex St'     |         1 | 'Private' |\n",
       "+--------+--------+------------------+--------+---------------------+-----------+-----------+\n",
       "|      7 |  53918 | 'Permitted Site' |  53918 | '3 21st St'         |         1 | 'Private' |\n",
       "+--------+--------+------------------+--------+---------------------+-----------+-----------+"
      ]
     },
     "execution_count": 45,
     "metadata": {},
     "output_type": "execute_result"
    }
   ],
   "source": [
    "default_join = etl.join(trees_legal_status, \n",
    "                        street_trees_alt,\n",
    "                          lkey = 'Number', \n",
    "                          rkey = 'TreeNumber')\n",
    "\n",
    "default_join.lookall()"
   ]
  },
  {
   "cell_type": "markdown",
   "metadata": {},
   "source": [
    "#### Doing a left join using TreeID/ID"
   ]
  },
  {
   "cell_type": "code",
   "execution_count": 46,
   "metadata": {},
   "outputs": [
    {
     "data": {
      "text/plain": [
       "+--------+--------+------------------+------------+---------------------+-----------+-----------+\n",
       "| Number | TreeID | LegalStatus      | TreeNumber | Address             | SiteOrder | Caretaker |\n",
       "+========+========+==================+============+=====================+===========+===========+\n",
       "|      8 |  19600 | 'DPW Maintained' | None       | None                | None      | None      |\n",
       "+--------+--------+------------------+------------+---------------------+-----------+-----------+\n",
       "|      5 |  20000 | 'DPW Maintained' |          5 | '100 STAIRWAY46'    |        20 | 'DPW'     |\n",
       "+--------+--------+------------------+------------+---------------------+-----------+-----------+\n",
       "|      1 |  46534 | 'Permitted Site' |          1 | '73 Summer St'      |         7 | 'Private' |\n",
       "+--------+--------+------------------+------------+---------------------+-----------+-----------+\n",
       "|      7 |  53918 | 'Permitted Site' |          7 | '3 21st St'         |         1 | 'Private' |\n",
       "+--------+--------+------------------+------------+---------------------+-----------+-----------+\n",
       "|      3 |  85269 | 'Permitted Site' |          3 | '1000 Edinburgh St' |         3 | 'Private' |\n",
       "+--------+--------+------------------+------------+---------------------+-----------+-----------+\n",
       "|      2 | 121399 | 'DPW Maintained' |          2 | '349X Cargo Way'    |         1 | 'DPW'     |\n",
       "+--------+--------+------------------+------------+---------------------+-----------+-----------+\n",
       "|      6 | 254265 | 'Permitted Site' |          6 | '85X Sussex St'     |         1 | 'Private' |\n",
       "+--------+--------+------------------+------------+---------------------+-----------+-----------+\n",
       "|      4 | 254266 | 'Permitted Site' | None       | None                | None      | None      |\n",
       "+--------+--------+------------------+------------+---------------------+-----------+-----------+"
      ]
     },
     "execution_count": 46,
     "metadata": {},
     "output_type": "execute_result"
    }
   ],
   "source": [
    "left_join = etl.leftjoin(trees_legal_status, \n",
    "                         street_trees_alt,\n",
    "                         lkey = 'TreeID', \n",
    "                         rkey = 'ID'\n",
    "                        )\n",
    "\n",
    "left_join.lookall()"
   ]
  },
  {
   "cell_type": "markdown",
   "metadata": {},
   "source": [
    "#### Right joins\n",
    "- Switching back to the original tables with the common columns\n",
    "- Since there are two potential join keys, we specify which one shoule be used"
   ]
  },
  {
   "cell_type": "code",
   "execution_count": 48,
   "metadata": {},
   "outputs": [],
   "source": [
    "right_join = etl.rightjoin(trees_legal_status, \n",
    "                           street_trees_info, \n",
    "                           key = 'TreeID')"
   ]
  },
  {
   "cell_type": "code",
   "execution_count": 49,
   "metadata": {},
   "outputs": [
    {
     "data": {
      "text/plain": [
       "+--------+--------+------------------+--------+---------------------+-----------+-----------+\n",
       "| Number | TreeID | LegalStatus      | Number | Address             | SiteOrder | Caretaker |\n",
       "+========+========+==================+========+=====================+===========+===========+\n",
       "|      5 |  20000 | 'DPW Maintained' |      5 | '100 STAIRWAY46'    |        20 | 'DPW'     |\n",
       "+--------+--------+------------------+--------+---------------------+-----------+-----------+\n",
       "|      1 |  46534 | 'Permitted Site' |      1 | '73 Summer St'      |         7 | 'Private' |\n",
       "+--------+--------+------------------+--------+---------------------+-----------+-----------+\n",
       "|      7 |  53918 | 'Permitted Site' |      7 | '3 21st St'         |         1 | 'Private' |\n",
       "+--------+--------+------------------+--------+---------------------+-----------+-----------+\n",
       "|      3 |  85269 | 'Permitted Site' |      3 | '1000 Edinburgh St' |         3 | 'Private' |\n",
       "+--------+--------+------------------+--------+---------------------+-----------+-----------+\n",
       "| None   | 121227 | None             |      9 | '4299x 17th St'     |         3 | 'DPW'     |\n",
       "+--------+--------+------------------+--------+---------------------+-----------+-----------+\n",
       "|      2 | 121399 | 'DPW Maintained' |      2 | '349X Cargo Way'    |         1 | 'DPW'     |\n",
       "+--------+--------+------------------+--------+---------------------+-----------+-----------+\n",
       "|      6 | 254265 | 'Permitted Site' |      6 | '85X Sussex St'     |         1 | 'Private' |\n",
       "+--------+--------+------------------+--------+---------------------+-----------+-----------+"
      ]
     },
     "execution_count": 49,
     "metadata": {},
     "output_type": "execute_result"
    }
   ],
   "source": [
    "etl.lookall(right_join)"
   ]
  },
  {
   "cell_type": "code",
   "execution_count": 50,
   "metadata": {},
   "outputs": [],
   "source": [
    "outer_join = etl.outerjoin(trees_legal_status, \n",
    "                           street_trees_info, \n",
    "                           key = 'TreeID')"
   ]
  },
  {
   "cell_type": "code",
   "execution_count": 51,
   "metadata": {},
   "outputs": [
    {
     "data": {
      "text/plain": [
       "+--------+--------+------------------+--------+---------------------+-----------+-----------+\n",
       "| Number | TreeID | LegalStatus      | Number | Address             | SiteOrder | Caretaker |\n",
       "+========+========+==================+========+=====================+===========+===========+\n",
       "|      8 |  19600 | 'DPW Maintained' | None   | None                | None      | None      |\n",
       "+--------+--------+------------------+--------+---------------------+-----------+-----------+\n",
       "|      5 |  20000 | 'DPW Maintained' |      5 | '100 STAIRWAY46'    |        20 | 'DPW'     |\n",
       "+--------+--------+------------------+--------+---------------------+-----------+-----------+\n",
       "|      1 |  46534 | 'Permitted Site' |      1 | '73 Summer St'      |         7 | 'Private' |\n",
       "+--------+--------+------------------+--------+---------------------+-----------+-----------+\n",
       "|      7 |  53918 | 'Permitted Site' |      7 | '3 21st St'         |         1 | 'Private' |\n",
       "+--------+--------+------------------+--------+---------------------+-----------+-----------+\n",
       "|      3 |  85269 | 'Permitted Site' |      3 | '1000 Edinburgh St' |         3 | 'Private' |\n",
       "+--------+--------+------------------+--------+---------------------+-----------+-----------+\n",
       "| None   | 121227 | None             |      9 | '4299x 17th St'     |         3 | 'DPW'     |\n",
       "+--------+--------+------------------+--------+---------------------+-----------+-----------+\n",
       "|      2 | 121399 | 'DPW Maintained' |      2 | '349X Cargo Way'    |         1 | 'DPW'     |\n",
       "+--------+--------+------------------+--------+---------------------+-----------+-----------+\n",
       "|      6 | 254265 | 'Permitted Site' |      6 | '85X Sussex St'     |         1 | 'Private' |\n",
       "+--------+--------+------------------+--------+---------------------+-----------+-----------+\n",
       "|      4 | 254266 | 'Permitted Site' | None   | None                | None      | None      |\n",
       "+--------+--------+------------------+--------+---------------------+-----------+-----------+"
      ]
     },
     "execution_count": 51,
     "metadata": {},
     "output_type": "execute_result"
    }
   ],
   "source": [
    "etl.lookall(outer_join)"
   ]
  },
  {
   "cell_type": "markdown",
   "metadata": {},
   "source": [
    "Return rows from the left table where the key value does not occur in the right table"
   ]
  },
  {
   "cell_type": "code",
   "execution_count": 52,
   "metadata": {},
   "outputs": [],
   "source": [
    "anti_join = etl.antijoin(trees_legal_status, \n",
    "                         street_trees_info, \n",
    "                         key = 'TreeID')"
   ]
  },
  {
   "cell_type": "code",
   "execution_count": 53,
   "metadata": {},
   "outputs": [
    {
     "data": {
      "text/plain": [
       "+--------+--------+------------------+\n",
       "| Number | TreeID | LegalStatus      |\n",
       "+========+========+==================+\n",
       "|      8 |  19600 | 'DPW Maintained' |\n",
       "+--------+--------+------------------+\n",
       "|      4 | 254266 | 'Permitted Site' |\n",
       "+--------+--------+------------------+"
      ]
     },
     "execution_count": 53,
     "metadata": {},
     "output_type": "execute_result"
    }
   ],
   "source": [
    "etl.lookall(anti_join)"
   ]
  },
  {
   "cell_type": "code",
   "execution_count": 54,
   "metadata": {},
   "outputs": [],
   "source": [
    "address_info, caretaker = etl.unjoin(street_trees_info, \n",
    "                                     'Caretaker', \n",
    "                                     key = 'TreeID')"
   ]
  },
  {
   "cell_type": "code",
   "execution_count": 56,
   "metadata": {},
   "outputs": [
    {
     "data": {
      "text/plain": [
       "+--------+--------+---------------------+-----------+\n",
       "| Number | TreeID | Address             | SiteOrder |\n",
       "+========+========+=====================+===========+\n",
       "|      1 |  46534 | '73 Summer St'      |         7 |\n",
       "+--------+--------+---------------------+-----------+\n",
       "|      2 | 121399 | '349X Cargo Way'    |         1 |\n",
       "+--------+--------+---------------------+-----------+\n",
       "|      3 |  85269 | '1000 Edinburgh St' |         3 |\n",
       "+--------+--------+---------------------+-----------+\n",
       "|      5 |  20000 | '100 STAIRWAY46'    |        20 |\n",
       "+--------+--------+---------------------+-----------+\n",
       "|      6 | 254265 | '85X Sussex St'     |         1 |\n",
       "+--------+--------+---------------------+-----------+\n",
       "|      7 |  53918 | '3 21st St'         |         1 |\n",
       "+--------+--------+---------------------+-----------+\n",
       "|      9 | 121227 | '4299x 17th St'     |         3 |\n",
       "+--------+--------+---------------------+-----------+"
      ]
     },
     "execution_count": 56,
     "metadata": {},
     "output_type": "execute_result"
    }
   ],
   "source": [
    "address_info.lookall()"
   ]
  },
  {
   "cell_type": "code",
   "execution_count": 57,
   "metadata": {},
   "outputs": [
    {
     "data": {
      "text/plain": [
       "+--------+-----------+\n",
       "| TreeID | Caretaker |\n",
       "+========+===========+\n",
       "|  20000 | 'DPW'     |\n",
       "+--------+-----------+\n",
       "|  46534 | 'Private' |\n",
       "+--------+-----------+\n",
       "|  53918 | 'Private' |\n",
       "+--------+-----------+\n",
       "|  85269 | 'Private' |\n",
       "+--------+-----------+\n",
       "| 121227 | 'DPW'     |\n",
       "+--------+-----------+\n",
       "| 121399 | 'DPW'     |\n",
       "+--------+-----------+\n",
       "| 254265 | 'Private' |\n",
       "+--------+-----------+"
      ]
     },
     "execution_count": 57,
     "metadata": {},
     "output_type": "execute_result"
    }
   ],
   "source": [
    "caretaker.lookall()"
   ]
  },
  {
   "cell_type": "markdown",
   "metadata": {},
   "source": [
    "#### when the key is not unique in either or both tables"
   ]
  },
  {
   "cell_type": "code",
   "execution_count": 58,
   "metadata": {},
   "outputs": [],
   "source": [
    "trees_site_permit = [['SiteOrder', 'PermitNotes', 'TreeID'],\n",
    "                     [3, 'Permit Number 49560', 85269],\n",
    "                     [3, None, 121227],\n",
    "                     [1, 'Permit Number 40897', 53918],\n",
    "                     [1, 'Permit Number 49560', 85267],\n",
    "                     [4, 'Permit Number 49560', 85270],\n",
    "                     [226, 'Permit Number 44451', 45986]]"
   ]
  },
  {
   "cell_type": "code",
   "execution_count": 59,
   "metadata": {},
   "outputs": [],
   "source": [
    "trees_species = [['SiteOrder', 'TreeID', 'Species'],\n",
    "                 [3, 85269, 'Arbutus \"Marina\" :: Hybrid Strawberry Tree'],\n",
    "                 [3, 121227, 'Sequoia sempervirens :: Coast Redwood'],\n",
    "                 [1, 121399, 'Corymbia ficifolia :: Red Flowering Gum'],\n",
    "                 [1, 53918, 'Prunus serrulata :: Ornamental Cherry'],\n",
    "                 [4, 85270, 'Arbutus \"Marina\" :: Hybrid Strawberry Tree']]               "
   ]
  },
  {
   "cell_type": "code",
   "execution_count": 60,
   "metadata": {},
   "outputs": [],
   "source": [
    "street_tree_info = etl.join(trees_site_permit, \n",
    "                            trees_species,\n",
    "                            key = 'SiteOrder')"
   ]
  },
  {
   "cell_type": "code",
   "execution_count": 61,
   "metadata": {},
   "outputs": [
    {
     "data": {
      "text/plain": [
       "+-----------+-----------------------+--------+--------+----------------------------------------------+\n",
       "| SiteOrder | PermitNotes           | TreeID | TreeID | Species                                      |\n",
       "+===========+=======================+========+========+==============================================+\n",
       "|         1 | 'Permit Number 40897' |  53918 | 121399 | 'Corymbia ficifolia :: Red Flowering Gum'    |\n",
       "+-----------+-----------------------+--------+--------+----------------------------------------------+\n",
       "|         1 | 'Permit Number 40897' |  53918 |  53918 | 'Prunus serrulata :: Ornamental Cherry'      |\n",
       "+-----------+-----------------------+--------+--------+----------------------------------------------+\n",
       "|         1 | 'Permit Number 49560' |  85267 | 121399 | 'Corymbia ficifolia :: Red Flowering Gum'    |\n",
       "+-----------+-----------------------+--------+--------+----------------------------------------------+\n",
       "|         1 | 'Permit Number 49560' |  85267 |  53918 | 'Prunus serrulata :: Ornamental Cherry'      |\n",
       "+-----------+-----------------------+--------+--------+----------------------------------------------+\n",
       "|         3 | 'Permit Number 49560' |  85269 |  85269 | 'Arbutus \"Marina\" :: Hybrid Strawberry Tree' |\n",
       "+-----------+-----------------------+--------+--------+----------------------------------------------+\n",
       "|         3 | 'Permit Number 49560' |  85269 | 121227 | 'Sequoia sempervirens :: Coast Redwood'      |\n",
       "+-----------+-----------------------+--------+--------+----------------------------------------------+\n",
       "|         3 | None                  | 121227 |  85269 | 'Arbutus \"Marina\" :: Hybrid Strawberry Tree' |\n",
       "+-----------+-----------------------+--------+--------+----------------------------------------------+\n",
       "|         3 | None                  | 121227 | 121227 | 'Sequoia sempervirens :: Coast Redwood'      |\n",
       "+-----------+-----------------------+--------+--------+----------------------------------------------+\n",
       "|         4 | 'Permit Number 49560' |  85270 |  85270 | 'Arbutus \"Marina\" :: Hybrid Strawberry Tree' |\n",
       "+-----------+-----------------------+--------+--------+----------------------------------------------+"
      ]
     },
     "execution_count": 61,
     "metadata": {},
     "output_type": "execute_result"
    }
   ],
   "source": [
    "etl.lookall(street_tree_info)"
   ]
  },
  {
   "cell_type": "code",
   "execution_count": 62,
   "metadata": {},
   "outputs": [],
   "source": [
    "street_tree_info = etl.join(trees_site_permit, \n",
    "                            trees_species,\n",
    "                            key='SiteOrder', \n",
    "                            presorted=True )"
   ]
  },
  {
   "cell_type": "code",
   "execution_count": 63,
   "metadata": {},
   "outputs": [
    {
     "data": {
      "text/plain": [
       "+-----------+-----------------------+--------+--------+----------------------------------------------+\n",
       "| SiteOrder | PermitNotes           | TreeID | TreeID | Species                                      |\n",
       "+===========+=======================+========+========+==============================================+\n",
       "|         3 | 'Permit Number 49560' |  85269 |  85269 | 'Arbutus \"Marina\" :: Hybrid Strawberry Tree' |\n",
       "+-----------+-----------------------+--------+--------+----------------------------------------------+\n",
       "|         3 | 'Permit Number 49560' |  85269 | 121227 | 'Sequoia sempervirens :: Coast Redwood'      |\n",
       "+-----------+-----------------------+--------+--------+----------------------------------------------+\n",
       "|         3 | None                  | 121227 |  85269 | 'Arbutus \"Marina\" :: Hybrid Strawberry Tree' |\n",
       "+-----------+-----------------------+--------+--------+----------------------------------------------+\n",
       "|         3 | None                  | 121227 | 121227 | 'Sequoia sempervirens :: Coast Redwood'      |\n",
       "+-----------+-----------------------+--------+--------+----------------------------------------------+\n",
       "|         1 | 'Permit Number 40897' |  53918 | 121399 | 'Corymbia ficifolia :: Red Flowering Gum'    |\n",
       "+-----------+-----------------------+--------+--------+----------------------------------------------+\n",
       "|         1 | 'Permit Number 40897' |  53918 |  53918 | 'Prunus serrulata :: Ornamental Cherry'      |\n",
       "+-----------+-----------------------+--------+--------+----------------------------------------------+\n",
       "|         1 | 'Permit Number 49560' |  85267 | 121399 | 'Corymbia ficifolia :: Red Flowering Gum'    |\n",
       "+-----------+-----------------------+--------+--------+----------------------------------------------+\n",
       "|         1 | 'Permit Number 49560' |  85267 |  53918 | 'Prunus serrulata :: Ornamental Cherry'      |\n",
       "+-----------+-----------------------+--------+--------+----------------------------------------------+\n",
       "|         4 | 'Permit Number 49560' |  85270 |  85270 | 'Arbutus \"Marina\" :: Hybrid Strawberry Tree' |\n",
       "+-----------+-----------------------+--------+--------+----------------------------------------------+"
      ]
     },
     "execution_count": 63,
     "metadata": {},
     "output_type": "execute_result"
    }
   ],
   "source": [
    "etl.lookall(street_tree_info)"
   ]
  },
  {
   "cell_type": "markdown",
   "metadata": {},
   "source": [
    "#### compound keys are supported"
   ]
  },
  {
   "cell_type": "code",
   "execution_count": 64,
   "metadata": {},
   "outputs": [],
   "source": [
    "tree_info = etl.join(trees_site_permit, \n",
    "                     trees_species,\n",
    "                     key = ['TreeID', 'SiteOrder'])"
   ]
  },
  {
   "cell_type": "code",
   "execution_count": 65,
   "metadata": {},
   "outputs": [
    {
     "data": {
      "text/plain": [
       "+-----------+-----------------------+--------+----------------------------------------------+\n",
       "| SiteOrder | PermitNotes           | TreeID | Species                                      |\n",
       "+===========+=======================+========+==============================================+\n",
       "|         1 | 'Permit Number 40897' |  53918 | 'Prunus serrulata :: Ornamental Cherry'      |\n",
       "+-----------+-----------------------+--------+----------------------------------------------+\n",
       "|         3 | 'Permit Number 49560' |  85269 | 'Arbutus \"Marina\" :: Hybrid Strawberry Tree' |\n",
       "+-----------+-----------------------+--------+----------------------------------------------+\n",
       "|         4 | 'Permit Number 49560' |  85270 | 'Arbutus \"Marina\" :: Hybrid Strawberry Tree' |\n",
       "+-----------+-----------------------+--------+----------------------------------------------+\n",
       "|         3 | None                  | 121227 | 'Sequoia sempervirens :: Coast Redwood'      |\n",
       "+-----------+-----------------------+--------+----------------------------------------------+"
      ]
     },
     "execution_count": 65,
     "metadata": {},
     "output_type": "execute_result"
    }
   ],
   "source": [
    "etl.lookall(tree_info)"
   ]
  },
  {
   "cell_type": "markdown",
   "metadata": {},
   "source": [
    "#### lookupjoin\n",
    "Perform a left join, but where the key is not unique in the right-hand table, arbitrarily choose the first row and ignore others."
   ]
  },
  {
   "cell_type": "code",
   "execution_count": 66,
   "metadata": {},
   "outputs": [],
   "source": [
    "apparel_cost = [['id', 'color', 'cost'],\n",
    "                [1, 'yellow', 25],\n",
    "                [2, 'pink', 45],\n",
    "                [3, 'purple', 30]]"
   ]
  },
  {
   "cell_type": "code",
   "execution_count": 67,
   "metadata": {},
   "outputs": [],
   "source": [
    "apparel_description = [['id', 'apparel', 'size'],\n",
    "                       [1, 'shirt', 'L'],\n",
    "                       [1, 'shirt', 'S'],\n",
    "                       [2, 'trousers', 'XS'],\n",
    "                       [2, 'trousers', 'XL'],\n",
    "                       [3, 'dress', 'S'],\n",
    "                       [3, 'dress', 'XXS']]"
   ]
  },
  {
   "cell_type": "code",
   "execution_count": 68,
   "metadata": {},
   "outputs": [],
   "source": [
    "apparel_info = etl.lookupjoin(apparel_cost, \n",
    "                              apparel_description, \n",
    "                              key = 'id')"
   ]
  },
  {
   "cell_type": "code",
   "execution_count": 69,
   "metadata": {},
   "outputs": [
    {
     "data": {
      "text/plain": [
       "+----+----------+------+------------+------+\n",
       "| id | color    | cost | apparel    | size |\n",
       "+====+==========+======+============+======+\n",
       "|  1 | 'yellow' |   25 | 'shirt'    | 'L'  |\n",
       "+----+----------+------+------------+------+\n",
       "|  2 | 'pink'   |   45 | 'trousers' | 'XS' |\n",
       "+----+----------+------+------------+------+\n",
       "|  3 | 'purple' |   30 | 'dress'    | 'S'  |\n",
       "+----+----------+------+------------+------+"
      ]
     },
     "execution_count": 69,
     "metadata": {},
     "output_type": "execute_result"
    }
   ],
   "source": [
    "etl.lookall(apparel_info)"
   ]
  },
  {
   "cell_type": "markdown",
   "metadata": {},
   "source": [
    "#### crossjoin"
   ]
  },
  {
   "cell_type": "code",
   "execution_count": 70,
   "metadata": {},
   "outputs": [],
   "source": [
    "apparel_cost = [['id', 'color', 'cost'],\n",
    "                [1, 'yellow', 25],\n",
    "                [2, 'pink', 45],\n",
    "                [3, 'purple', 30]]"
   ]
  },
  {
   "cell_type": "code",
   "execution_count": 71,
   "metadata": {},
   "outputs": [],
   "source": [
    "apparel_description = [['id', 'apparel', 'size'],\n",
    "                       [1, 'shirt', 'L'],\n",
    "                       [1, 'shirt', 'S'],\n",
    "                       [2, 'trousers', 'XS'],\n",
    "                       [2, 'trousers', 'XL'],\n",
    "                       [3, 'dress', 'S'],\n",
    "                       [3, 'dress', 'XXS'],\n",
    "                       [4, 't-shirt', 'M']]"
   ]
  },
  {
   "cell_type": "code",
   "execution_count": 72,
   "metadata": {},
   "outputs": [],
   "source": [
    "cross_join = etl.crossjoin(apparel_cost, apparel_description)"
   ]
  },
  {
   "cell_type": "code",
   "execution_count": 73,
   "metadata": {},
   "outputs": [
    {
     "data": {
      "text/plain": [
       "+----+----------+------+----+------------+-------+\n",
       "| id | color    | cost | id | apparel    | size  |\n",
       "+====+==========+======+====+============+=======+\n",
       "|  1 | 'yellow' |   25 |  1 | 'shirt'    | 'L'   |\n",
       "+----+----------+------+----+------------+-------+\n",
       "|  1 | 'yellow' |   25 |  1 | 'shirt'    | 'S'   |\n",
       "+----+----------+------+----+------------+-------+\n",
       "|  1 | 'yellow' |   25 |  2 | 'trousers' | 'XS'  |\n",
       "+----+----------+------+----+------------+-------+\n",
       "|  1 | 'yellow' |   25 |  2 | 'trousers' | 'XL'  |\n",
       "+----+----------+------+----+------------+-------+\n",
       "|  1 | 'yellow' |   25 |  3 | 'dress'    | 'S'   |\n",
       "+----+----------+------+----+------------+-------+\n",
       "|  1 | 'yellow' |   25 |  3 | 'dress'    | 'XXS' |\n",
       "+----+----------+------+----+------------+-------+\n",
       "|  1 | 'yellow' |   25 |  4 | 't-shirt'  | 'M'   |\n",
       "+----+----------+------+----+------------+-------+\n",
       "|  2 | 'pink'   |   45 |  1 | 'shirt'    | 'L'   |\n",
       "+----+----------+------+----+------------+-------+\n",
       "|  2 | 'pink'   |   45 |  1 | 'shirt'    | 'S'   |\n",
       "+----+----------+------+----+------------+-------+\n",
       "|  2 | 'pink'   |   45 |  2 | 'trousers' | 'XS'  |\n",
       "+----+----------+------+----+------------+-------+\n",
       "|  2 | 'pink'   |   45 |  2 | 'trousers' | 'XL'  |\n",
       "+----+----------+------+----+------------+-------+\n",
       "|  2 | 'pink'   |   45 |  3 | 'dress'    | 'S'   |\n",
       "+----+----------+------+----+------------+-------+\n",
       "|  2 | 'pink'   |   45 |  3 | 'dress'    | 'XXS' |\n",
       "+----+----------+------+----+------------+-------+\n",
       "|  2 | 'pink'   |   45 |  4 | 't-shirt'  | 'M'   |\n",
       "+----+----------+------+----+------------+-------+\n",
       "|  3 | 'purple' |   30 |  1 | 'shirt'    | 'L'   |\n",
       "+----+----------+------+----+------------+-------+\n",
       "|  3 | 'purple' |   30 |  1 | 'shirt'    | 'S'   |\n",
       "+----+----------+------+----+------------+-------+\n",
       "|  3 | 'purple' |   30 |  2 | 'trousers' | 'XS'  |\n",
       "+----+----------+------+----+------------+-------+\n",
       "|  3 | 'purple' |   30 |  2 | 'trousers' | 'XL'  |\n",
       "+----+----------+------+----+------------+-------+\n",
       "|  3 | 'purple' |   30 |  3 | 'dress'    | 'S'   |\n",
       "+----+----------+------+----+------------+-------+\n",
       "|  3 | 'purple' |   30 |  3 | 'dress'    | 'XXS' |\n",
       "+----+----------+------+----+------------+-------+\n",
       "|  3 | 'purple' |   30 |  4 | 't-shirt'  | 'M'   |\n",
       "+----+----------+------+----+------------+-------+"
      ]
     },
     "execution_count": 73,
     "metadata": {},
     "output_type": "execute_result"
    }
   ],
   "source": [
    "etl.lookall(cross_join)"
   ]
  },
  {
   "cell_type": "code",
   "execution_count": 74,
   "metadata": {},
   "outputs": [
    {
     "name": "stdout",
     "output_type": "stream",
     "text": [
      "Collecting intervaltree\n",
      "  Downloading intervaltree-3.1.0.tar.gz (32 kB)\n",
      "Collecting sortedcontainers<3.0,>=2.0\n",
      "  Downloading sortedcontainers-2.3.0-py2.py3-none-any.whl (29 kB)\n",
      "Using legacy 'setup.py install' for intervaltree, since package 'wheel' is not installed.\n",
      "Installing collected packages: sortedcontainers, intervaltree\n",
      "    Running setup.py install for intervaltree ... \u001b[?25ldone\n",
      "\u001b[?25hSuccessfully installed intervaltree-3.1.0 sortedcontainers-2.3.0\n"
     ]
    }
   ],
   "source": [
    "!pip3 install intervaltree"
   ]
  },
  {
   "cell_type": "markdown",
   "metadata": {},
   "source": [
    "employee_ratings\n",
    "\n",
    "sales target \n",
    "bonus based on target \n",
    "100-200 sales bonus x\n",
    "expected min expected max\n",
    "\n",
    "\n",
    "bonus \n",
    "min max bonus value"
   ]
  },
  {
   "cell_type": "markdown",
   "metadata": {},
   "source": [
    "below numbers are 100,000 \n",
    "200,000 and so on in dollars"
   ]
  },
  {
   "cell_type": "code",
   "execution_count": 78,
   "metadata": {},
   "outputs": [],
   "source": [
    "sales_target = [['expected_sales_min', 'expected_sales_max', 'name'],\n",
    "                  [100, 200, 'Alex'],\n",
    "                  [200, 400, 'Alvin'],\n",
    "                  [200, 500, 'Ethna'],\n",
    "                  [900, 1000, 'Lily'],\n",
    "                  [100, 300, 'Victor'],\n",
    "                  [600, 700, 'Elliot']]"
   ]
  },
  {
   "cell_type": "code",
   "execution_count": 79,
   "metadata": {},
   "outputs": [],
   "source": [
    "bonus_range = [['min', 'max', 'bonus'],\n",
    "               [100, 200, 1000],\n",
    "               [201, 300, 1500],\n",
    "               [301, 400, 2000],\n",
    "               [401, 500, 2500],\n",
    "               [501, 700, 3000],\n",
    "               [701, 900, 3500],\n",
    "               [901, 1000, 4000]]"
   ]
  },
  {
   "cell_type": "code",
   "execution_count": 80,
   "metadata": {},
   "outputs": [],
   "source": [
    "bonus_assigned = etl.intervaljoin(sales_target, \n",
    "                                  bonus_range, \n",
    "                                  lstart = 'expected_sales_min', \n",
    "                                  lstop = 'expected_sales_max',\n",
    "                                  rstart = 'min', \n",
    "                                  rstop = 'max')"
   ]
  },
  {
   "cell_type": "code",
   "execution_count": 81,
   "metadata": {},
   "outputs": [
    {
     "data": {
      "text/plain": [
       "+--------------------+--------------------+----------+-----+------+-------+\n",
       "| expected_sales_min | expected_sales_max | name     | min | max  | bonus |\n",
       "+====================+====================+==========+=====+======+=======+\n",
       "|                100 |                200 | 'Alex'   | 100 |  200 |  1000 |\n",
       "+--------------------+--------------------+----------+-----+------+-------+\n",
       "|                200 |                400 | 'Alvin'  | 201 |  300 |  1500 |\n",
       "+--------------------+--------------------+----------+-----+------+-------+\n",
       "|                200 |                400 | 'Alvin'  | 301 |  400 |  2000 |\n",
       "+--------------------+--------------------+----------+-----+------+-------+\n",
       "|                200 |                500 | 'Ethna'  | 201 |  300 |  1500 |\n",
       "+--------------------+--------------------+----------+-----+------+-------+\n",
       "|                200 |                500 | 'Ethna'  | 301 |  400 |  2000 |\n",
       "+--------------------+--------------------+----------+-----+------+-------+\n",
       "|                200 |                500 | 'Ethna'  | 401 |  500 |  2500 |\n",
       "+--------------------+--------------------+----------+-----+------+-------+\n",
       "|                900 |               1000 | 'Lily'   | 901 | 1000 |  4000 |\n",
       "+--------------------+--------------------+----------+-----+------+-------+\n",
       "|                100 |                300 | 'Victor' | 100 |  200 |  1000 |\n",
       "+--------------------+--------------------+----------+-----+------+-------+\n",
       "|                100 |                300 | 'Victor' | 201 |  300 |  1500 |\n",
       "+--------------------+--------------------+----------+-----+------+-------+\n",
       "|                600 |                700 | 'Elliot' | 501 |  700 |  3000 |\n",
       "+--------------------+--------------------+----------+-----+------+-------+"
      ]
     },
     "execution_count": 81,
     "metadata": {},
     "output_type": "execute_result"
    }
   ],
   "source": [
    "bonus_assigned.lookall()"
   ]
  },
  {
   "cell_type": "markdown",
   "metadata": {},
   "source": [
    "#### Assuming the sales people hit the max value in their ranges"
   ]
  },
  {
   "cell_type": "code",
   "execution_count": 75,
   "metadata": {},
   "outputs": [],
   "source": [
    "max_bonus = etl.intervaljoin(sales_target, bonus_range, \n",
    "                             lstart = 'expected_sales_min', \n",
    "                             lstop = 'expected_sales_max',\n",
    "                             lkey = 'expected_sales_max',\n",
    "                             rstart = 'min',\n",
    "                             rstop = 'max',\n",
    "                             rkey = 'max')"
   ]
  },
  {
   "cell_type": "code",
   "execution_count": 76,
   "metadata": {},
   "outputs": [
    {
     "data": {
      "text/plain": [
       "+--------------------+--------------------+----------+-----+------+-------+\n",
       "| expected_sales_min | expected_sales_max | name     | min | max  | bonus |\n",
       "+====================+====================+==========+=====+======+=======+\n",
       "|                100 |                200 | 'Alex'   | 100 |  200 |  1000 |\n",
       "+--------------------+--------------------+----------+-----+------+-------+\n",
       "|                200 |                400 | 'Alvin'  | 301 |  400 |  2000 |\n",
       "+--------------------+--------------------+----------+-----+------+-------+\n",
       "|                200 |                500 | 'Ethna'  | 401 |  500 |  2500 |\n",
       "+--------------------+--------------------+----------+-----+------+-------+\n",
       "|                900 |               1000 | 'Lily'   | 901 | 1000 |  4000 |\n",
       "+--------------------+--------------------+----------+-----+------+-------+\n",
       "|                100 |                300 | 'Victor' | 201 |  300 |  1500 |\n",
       "+--------------------+--------------------+----------+-----+------+-------+\n",
       "|                600 |                700 | 'Elliot' | 501 |  700 |  3000 |\n",
       "+--------------------+--------------------+----------+-----+------+-------+"
      ]
     },
     "execution_count": 76,
     "metadata": {},
     "output_type": "execute_result"
    }
   ],
   "source": [
    "max_bonus.lookall()"
   ]
  },
  {
   "cell_type": "markdown",
   "metadata": {},
   "source": [
    "#### Add in a sales person whose expected sales ranges don't fall into one of the designated bonus ranges"
   ]
  },
  {
   "cell_type": "code",
   "execution_count": 86,
   "metadata": {},
   "outputs": [],
   "source": [
    "sales_target_alt = [['expected_sales_min', 'expected_sales_max', 'name'],\n",
    "                    [100, 200, 'Alex'],\n",
    "                    [200, 400, 'Alvin'],\n",
    "                    [200, 500, 'Ethna'],\n",
    "                    [900, 1000, 'Lily'],\n",
    "                    [100, 300, 'Victor'],\n",
    "                    [600, 700, 'Elliot'],\n",
    "                    [1500, 2000, 'Monica']]"
   ]
  },
  {
   "cell_type": "markdown",
   "metadata": {},
   "source": [
    "#### Monica does not show up in the results"
   ]
  },
  {
   "cell_type": "code",
   "execution_count": 88,
   "metadata": {},
   "outputs": [
    {
     "data": {
      "text/plain": [
       "+--------------------+--------------------+----------+-----+------+-------+\n",
       "| expected_sales_min | expected_sales_max | name     | min | max  | bonus |\n",
       "+====================+====================+==========+=====+======+=======+\n",
       "|                100 |                200 | 'Alex'   | 100 |  200 |  1000 |\n",
       "+--------------------+--------------------+----------+-----+------+-------+\n",
       "|                200 |                400 | 'Alvin'  | 201 |  300 |  1500 |\n",
       "+--------------------+--------------------+----------+-----+------+-------+\n",
       "|                200 |                400 | 'Alvin'  | 301 |  400 |  2000 |\n",
       "+--------------------+--------------------+----------+-----+------+-------+\n",
       "|                200 |                500 | 'Ethna'  | 201 |  300 |  1500 |\n",
       "+--------------------+--------------------+----------+-----+------+-------+\n",
       "|                200 |                500 | 'Ethna'  | 301 |  400 |  2000 |\n",
       "+--------------------+--------------------+----------+-----+------+-------+\n",
       "|                200 |                500 | 'Ethna'  | 401 |  500 |  2500 |\n",
       "+--------------------+--------------------+----------+-----+------+-------+\n",
       "|                900 |               1000 | 'Lily'   | 901 | 1000 |  4000 |\n",
       "+--------------------+--------------------+----------+-----+------+-------+\n",
       "|                100 |                300 | 'Victor' | 100 |  200 |  1000 |\n",
       "+--------------------+--------------------+----------+-----+------+-------+\n",
       "|                100 |                300 | 'Victor' | 201 |  300 |  1500 |\n",
       "+--------------------+--------------------+----------+-----+------+-------+\n",
       "|                600 |                700 | 'Elliot' | 501 |  700 |  3000 |\n",
       "+--------------------+--------------------+----------+-----+------+-------+"
      ]
     },
     "execution_count": 88,
     "metadata": {},
     "output_type": "execute_result"
    }
   ],
   "source": [
    "bonus_assigned = etl.intervaljoin(sales_target_alt, \n",
    "                                  bonus_range, \n",
    "                                  lstart = 'expected_sales_min', \n",
    "                                  lstop = 'expected_sales_max',\n",
    "                                  rstart = 'min', \n",
    "                                  rstop = 'max')\n",
    "\n",
    "bonus_assigned.lookall()"
   ]
  },
  {
   "cell_type": "code",
   "execution_count": 89,
   "metadata": {},
   "outputs": [],
   "source": [
    "left_join = etl.intervalleftjoin(sales_target_alt, \n",
    "                                 bonus_range, \n",
    "                                 lstart = 'expected_sales_min', \n",
    "                                 lstop = 'expected_sales_max',\n",
    "                                 rstart = 'min',\n",
    "                                 rstop = 'max')"
   ]
  },
  {
   "cell_type": "code",
   "execution_count": 90,
   "metadata": {},
   "outputs": [
    {
     "data": {
      "text/plain": [
       "+--------------------+--------------------+----------+------+------+-------+\n",
       "| expected_sales_min | expected_sales_max | name     | min  | max  | bonus |\n",
       "+====================+====================+==========+======+======+=======+\n",
       "|                100 |                200 | 'Alex'   |  100 |  200 |  1000 |\n",
       "+--------------------+--------------------+----------+------+------+-------+\n",
       "|                200 |                400 | 'Alvin'  |  201 |  300 |  1500 |\n",
       "+--------------------+--------------------+----------+------+------+-------+\n",
       "|                200 |                400 | 'Alvin'  |  301 |  400 |  2000 |\n",
       "+--------------------+--------------------+----------+------+------+-------+\n",
       "|                200 |                500 | 'Ethna'  |  201 |  300 |  1500 |\n",
       "+--------------------+--------------------+----------+------+------+-------+\n",
       "|                200 |                500 | 'Ethna'  |  301 |  400 |  2000 |\n",
       "+--------------------+--------------------+----------+------+------+-------+\n",
       "|                200 |                500 | 'Ethna'  |  401 |  500 |  2500 |\n",
       "+--------------------+--------------------+----------+------+------+-------+\n",
       "|                900 |               1000 | 'Lily'   |  901 | 1000 |  4000 |\n",
       "+--------------------+--------------------+----------+------+------+-------+\n",
       "|                100 |                300 | 'Victor' |  100 |  200 |  1000 |\n",
       "+--------------------+--------------------+----------+------+------+-------+\n",
       "|                100 |                300 | 'Victor' |  201 |  300 |  1500 |\n",
       "+--------------------+--------------------+----------+------+------+-------+\n",
       "|                600 |                700 | 'Elliot' |  501 |  700 |  3000 |\n",
       "+--------------------+--------------------+----------+------+------+-------+\n",
       "|               1500 |               2000 | 'Monica' | None | None | None  |\n",
       "+--------------------+--------------------+----------+------+------+-------+"
      ]
     },
     "execution_count": 90,
     "metadata": {},
     "output_type": "execute_result"
    }
   ],
   "source": [
    "left_join.lookall()"
   ]
  },
  {
   "cell_type": "code",
   "execution_count": 91,
   "metadata": {},
   "outputs": [],
   "source": [
    "target_lookup = etl.intervallookup(sales_target, \n",
    "                                   'expected_sales_min',\n",
    "                                   'expected_sales_max')"
   ]
  },
  {
   "cell_type": "code",
   "execution_count": 92,
   "metadata": {},
   "outputs": [
    {
     "data": {
      "text/plain": [
       "[(100, 200, 'Alex'), (100, 300, 'Victor')]"
      ]
     },
     "execution_count": 92,
     "metadata": {},
     "output_type": "execute_result"
    }
   ],
   "source": [
    "target_lookup.search(100)"
   ]
  },
  {
   "cell_type": "code",
   "execution_count": 93,
   "metadata": {},
   "outputs": [
    {
     "data": {
      "text/plain": [
       "[(100, 200, 'Alex'),\n",
       " (100, 300, 'Victor'),\n",
       " (200, 400, 'Alvin'),\n",
       " (200, 500, 'Ethna')]"
      ]
     },
     "execution_count": 93,
     "metadata": {},
     "output_type": "execute_result"
    }
   ],
   "source": [
    "target_lookup.search(100, 400)"
   ]
  },
  {
   "cell_type": "code",
   "execution_count": 94,
   "metadata": {},
   "outputs": [
    {
     "data": {
      "text/plain": [
       "[(900, 1000, 'Lily')]"
      ]
     },
     "execution_count": 94,
     "metadata": {},
     "output_type": "execute_result"
    }
   ],
   "source": [
    "target_lookup.search(900, 1200)"
   ]
  },
  {
   "cell_type": "code",
   "execution_count": 95,
   "metadata": {},
   "outputs": [],
   "source": [
    "target_lookup = etl.intervallookup(sales_target, \n",
    "                                   'expected_sales_min',\n",
    "                                   'expected_sales_max',\n",
    "                                   include_stop = True,\n",
    "                                   value = 'name')"
   ]
  },
  {
   "cell_type": "code",
   "execution_count": 96,
   "metadata": {},
   "outputs": [
    {
     "data": {
      "text/plain": [
       "['Alex', 'Victor', 'Alvin', 'Ethna']"
      ]
     },
     "execution_count": 96,
     "metadata": {},
     "output_type": "execute_result"
    }
   ],
   "source": [
    "target_lookup.search(100, 200)"
   ]
  },
  {
   "cell_type": "code",
   "execution_count": 97,
   "metadata": {},
   "outputs": [
    {
     "data": {
      "text/plain": [
       "['Elliot', 'Lily']"
      ]
     },
     "execution_count": 97,
     "metadata": {},
     "output_type": "execute_result"
    }
   ],
   "source": [
    "target_lookup.search(600, 900)"
   ]
  },
  {
   "cell_type": "code",
   "execution_count": 99,
   "metadata": {},
   "outputs": [],
   "source": [
    "actual_sales = [['expected_sales_min', 'expected_sales_max', 'actual_sales', 'name'],\n",
    "                [100, 200, 300, 'Alex'],\n",
    "                [200, 400, 200, 'Alvin'],\n",
    "                [200, 500, 150, 'Ethna'],\n",
    "                [900, 1000, 900, 'Lily'],\n",
    "                [100, 300, 400, 'Victor'],\n",
    "                [600, 700, 700, 'Elliot']]"
   ]
  },
  {
   "cell_type": "code",
   "execution_count": 100,
   "metadata": {},
   "outputs": [],
   "source": [
    "lookup = etl.facetintervallookup(actual_sales, \n",
    "                                 key = 'name',\n",
    "                                 start = 'expected_sales_min',\n",
    "                                 stop = 'expected_sales_max')"
   ]
  },
  {
   "cell_type": "code",
   "execution_count": 101,
   "metadata": {},
   "outputs": [
    {
     "data": {
      "text/plain": [
       "[(100, 200, 300, 'Alex')]"
      ]
     },
     "execution_count": 101,
     "metadata": {},
     "output_type": "execute_result"
    }
   ],
   "source": [
    "lookup['Alex'].search(100, 150)"
   ]
  },
  {
   "cell_type": "code",
   "execution_count": 102,
   "metadata": {},
   "outputs": [
    {
     "data": {
      "text/plain": [
       "[]"
      ]
     },
     "execution_count": 102,
     "metadata": {},
     "output_type": "execute_result"
    }
   ],
   "source": [
    "lookup['Ethna'].search(100, 200)"
   ]
  },
  {
   "cell_type": "code",
   "execution_count": null,
   "metadata": {},
   "outputs": [],
   "source": []
  }
 ],
 "metadata": {
  "kernelspec": {
   "display_name": ".venv",
   "language": "python",
   "name": "python3"
  },
  "language_info": {
   "codemirror_mode": {
    "name": "ipython",
    "version": 3
   },
   "file_extension": ".py",
   "mimetype": "text/x-python",
   "name": "python",
   "nbconvert_exporter": "python",
   "pygments_lexer": "ipython3",
   "version": "3.13.1"
  }
 },
 "nbformat": 4,
 "nbformat_minor": 4
}
