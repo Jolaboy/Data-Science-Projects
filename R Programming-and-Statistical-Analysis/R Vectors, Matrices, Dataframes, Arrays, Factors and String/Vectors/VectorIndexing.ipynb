{
 "cells": [
  {
   "cell_type": "code",
   "execution_count": 1,
   "metadata": {},
   "outputs": [
    {
     "data": {
      "text/html": [
       "<ol class=list-inline>\n",
       "\t<li>'Max'</li>\n",
       "\t<li>'Sean'</li>\n",
       "\t<li>'Oliver'</li>\n",
       "\t<li>'Jane'</li>\n",
       "\t<li>'Julie'</li>\n",
       "\t<li>'Deborah'</li>\n",
       "</ol>\n"
      ],
      "text/latex": [
       "\\begin{enumerate*}\n",
       "\\item 'Max'\n",
       "\\item 'Sean'\n",
       "\\item 'Oliver'\n",
       "\\item 'Jane'\n",
       "\\item 'Julie'\n",
       "\\item 'Deborah'\n",
       "\\end{enumerate*}\n"
      ],
      "text/markdown": [
       "1. 'Max'\n",
       "2. 'Sean'\n",
       "3. 'Oliver'\n",
       "4. 'Jane'\n",
       "5. 'Julie'\n",
       "6. 'Deborah'\n",
       "\n",
       "\n"
      ],
      "text/plain": [
       "[1] \"Max\"     \"Sean\"    \"Oliver\"  \"Jane\"    \"Julie\"   \"Deborah\""
      ]
     },
     "metadata": {},
     "output_type": "display_data"
    }
   ],
   "source": [
    "students <- c(\"Max\", \"Sean\", \"Oliver\", \"Jane\", \"Julie\", \"Deborah\")\n",
    "\n",
    "students"
   ]
  },
  {
   "cell_type": "code",
   "execution_count": 2,
   "metadata": {},
   "outputs": [
    {
     "data": {
      "text/html": [
       "<ol class=list-inline>\n",
       "\t<li>'Max'</li>\n",
       "\t<li>'Sean'</li>\n",
       "\t<li>'Oliver'</li>\n",
       "\t<li>'Jane'</li>\n",
       "\t<li>'Julie'</li>\n",
       "\t<li>'Deborah'</li>\n",
       "</ol>\n"
      ],
      "text/latex": [
       "\\begin{enumerate*}\n",
       "\\item 'Max'\n",
       "\\item 'Sean'\n",
       "\\item 'Oliver'\n",
       "\\item 'Jane'\n",
       "\\item 'Julie'\n",
       "\\item 'Deborah'\n",
       "\\end{enumerate*}\n"
      ],
      "text/markdown": [
       "1. 'Max'\n",
       "2. 'Sean'\n",
       "3. 'Oliver'\n",
       "4. 'Jane'\n",
       "5. 'Julie'\n",
       "6. 'Deborah'\n",
       "\n",
       "\n"
      ],
      "text/plain": [
       "[1] \"Max\"     \"Sean\"    \"Oliver\"  \"Jane\"    \"Julie\"   \"Deborah\""
      ]
     },
     "metadata": {},
     "output_type": "display_data"
    }
   ],
   "source": [
    "students[]"
   ]
  },
  {
   "cell_type": "code",
   "execution_count": 3,
   "metadata": {},
   "outputs": [
    {
     "data": {
      "text/html": [
       "'Max'"
      ],
      "text/latex": [
       "'Max'"
      ],
      "text/markdown": [
       "'Max'"
      ],
      "text/plain": [
       "[1] \"Max\""
      ]
     },
     "metadata": {},
     "output_type": "display_data"
    }
   ],
   "source": [
    "students[1]"
   ]
  },
  {
   "cell_type": "code",
   "execution_count": 4,
   "metadata": {},
   "outputs": [
    {
     "data": {
      "text/html": [],
      "text/latex": [],
      "text/markdown": [],
      "text/plain": [
       "character(0)"
      ]
     },
     "metadata": {},
     "output_type": "display_data"
    }
   ],
   "source": [
    "students[0]"
   ]
  },
  {
   "cell_type": "code",
   "execution_count": 5,
   "metadata": {},
   "outputs": [
    {
     "data": {
      "text/html": [
       "'Sean'"
      ],
      "text/latex": [
       "'Sean'"
      ],
      "text/markdown": [
       "'Sean'"
      ],
      "text/plain": [
       "[1] \"Sean\""
      ]
     },
     "metadata": {},
     "output_type": "display_data"
    }
   ],
   "source": [
    "students[2]"
   ]
  },
  {
   "cell_type": "code",
   "execution_count": 6,
   "metadata": {},
   "outputs": [
    {
     "data": {
      "text/html": [
       "'Deborah'"
      ],
      "text/latex": [
       "'Deborah'"
      ],
      "text/markdown": [
       "'Deborah'"
      ],
      "text/plain": [
       "[1] \"Deborah\""
      ]
     },
     "metadata": {},
     "output_type": "display_data"
    }
   ],
   "source": [
    "students[6]"
   ]
  },
  {
   "cell_type": "code",
   "execution_count": 7,
   "metadata": {},
   "outputs": [
    {
     "data": {
      "text/html": [
       "NA"
      ],
      "text/latex": [
       "NA"
      ],
      "text/markdown": [
       "NA"
      ],
      "text/plain": [
       "[1] NA"
      ]
     },
     "metadata": {},
     "output_type": "display_data"
    }
   ],
   "source": [
    "students[7]"
   ]
  },
  {
   "cell_type": "code",
   "execution_count": 8,
   "metadata": {},
   "outputs": [
    {
     "data": {
      "text/html": [
       "<ol class=list-inline>\n",
       "\t<li>'Max'</li>\n",
       "\t<li>'Sean'</li>\n",
       "\t<li>'Oliver'</li>\n",
       "\t<li>'Jane'</li>\n",
       "</ol>\n"
      ],
      "text/latex": [
       "\\begin{enumerate*}\n",
       "\\item 'Max'\n",
       "\\item 'Sean'\n",
       "\\item 'Oliver'\n",
       "\\item 'Jane'\n",
       "\\end{enumerate*}\n"
      ],
      "text/markdown": [
       "1. 'Max'\n",
       "2. 'Sean'\n",
       "3. 'Oliver'\n",
       "4. 'Jane'\n",
       "\n",
       "\n"
      ],
      "text/plain": [
       "[1] \"Max\"    \"Sean\"   \"Oliver\" \"Jane\"  "
      ]
     },
     "metadata": {},
     "output_type": "display_data"
    }
   ],
   "source": [
    "students[1:4]"
   ]
  },
  {
   "cell_type": "code",
   "execution_count": 9,
   "metadata": {},
   "outputs": [
    {
     "data": {
      "text/html": [
       "<ol class=list-inline>\n",
       "\t<li>'Sean'</li>\n",
       "\t<li>'Oliver'</li>\n",
       "\t<li>'Jane'</li>\n",
       "\t<li>'Julie'</li>\n",
       "\t<li>'Deborah'</li>\n",
       "</ol>\n"
      ],
      "text/latex": [
       "\\begin{enumerate*}\n",
       "\\item 'Sean'\n",
       "\\item 'Oliver'\n",
       "\\item 'Jane'\n",
       "\\item 'Julie'\n",
       "\\item 'Deborah'\n",
       "\\end{enumerate*}\n"
      ],
      "text/markdown": [
       "1. 'Sean'\n",
       "2. 'Oliver'\n",
       "3. 'Jane'\n",
       "4. 'Julie'\n",
       "5. 'Deborah'\n",
       "\n",
       "\n"
      ],
      "text/plain": [
       "[1] \"Sean\"    \"Oliver\"  \"Jane\"    \"Julie\"   \"Deborah\""
      ]
     },
     "metadata": {},
     "output_type": "display_data"
    }
   ],
   "source": [
    "students[-1]"
   ]
  },
  {
   "cell_type": "code",
   "execution_count": 10,
   "metadata": {},
   "outputs": [
    {
     "data": {
      "text/html": [
       "<ol class=list-inline>\n",
       "\t<li>'Max'</li>\n",
       "\t<li>'Oliver'</li>\n",
       "</ol>\n"
      ],
      "text/latex": [
       "\\begin{enumerate*}\n",
       "\\item 'Max'\n",
       "\\item 'Oliver'\n",
       "\\end{enumerate*}\n"
      ],
      "text/markdown": [
       "1. 'Max'\n",
       "2. 'Oliver'\n",
       "\n",
       "\n"
      ],
      "text/plain": [
       "[1] \"Max\"    \"Oliver\""
      ]
     },
     "metadata": {},
     "output_type": "display_data"
    }
   ],
   "source": [
    "students[c(1, 3)]"
   ]
  },
  {
   "cell_type": "code",
   "execution_count": 11,
   "metadata": {},
   "outputs": [
    {
     "data": {
      "text/html": [
       "<ol class=list-inline>\n",
       "\t<li>'Sean'</li>\n",
       "\t<li>'Jane'</li>\n",
       "\t<li>'Julie'</li>\n",
       "\t<li>'Deborah'</li>\n",
       "</ol>\n"
      ],
      "text/latex": [
       "\\begin{enumerate*}\n",
       "\\item 'Sean'\n",
       "\\item 'Jane'\n",
       "\\item 'Julie'\n",
       "\\item 'Deborah'\n",
       "\\end{enumerate*}\n"
      ],
      "text/markdown": [
       "1. 'Sean'\n",
       "2. 'Jane'\n",
       "3. 'Julie'\n",
       "4. 'Deborah'\n",
       "\n",
       "\n"
      ],
      "text/plain": [
       "[1] \"Sean\"    \"Jane\"    \"Julie\"   \"Deborah\""
      ]
     },
     "metadata": {},
     "output_type": "display_data"
    }
   ],
   "source": [
    "students[c(-1, -3)]"
   ]
  },
  {
   "cell_type": "code",
   "execution_count": 12,
   "metadata": {},
   "outputs": [
    {
     "data": {
      "text/html": [
       "<ol class=list-inline>\n",
       "\t<li>'Max'</li>\n",
       "\t<li>'Sean'</li>\n",
       "\t<li>'Deborah'</li>\n",
       "</ol>\n"
      ],
      "text/latex": [
       "\\begin{enumerate*}\n",
       "\\item 'Max'\n",
       "\\item 'Sean'\n",
       "\\item 'Deborah'\n",
       "\\end{enumerate*}\n"
      ],
      "text/markdown": [
       "1. 'Max'\n",
       "2. 'Sean'\n",
       "3. 'Deborah'\n",
       "\n",
       "\n"
      ],
      "text/plain": [
       "[1] \"Max\"     \"Sean\"    \"Deborah\""
      ]
     },
     "metadata": {},
     "output_type": "display_data"
    }
   ],
   "source": [
    "students[c(TRUE, TRUE, FALSE, FALSE, FALSE, TRUE)]"
   ]
  },
  {
   "cell_type": "code",
   "execution_count": 13,
   "metadata": {},
   "outputs": [
    {
     "data": {
      "text/html": [
       "<ol class=list-inline>\n",
       "\t<li>'Max'</li>\n",
       "\t<li>'Oliver'</li>\n",
       "</ol>\n"
      ],
      "text/latex": [
       "\\begin{enumerate*}\n",
       "\\item 'Max'\n",
       "\\item 'Oliver'\n",
       "\\end{enumerate*}\n"
      ],
      "text/markdown": [
       "1. 'Max'\n",
       "2. 'Oliver'\n",
       "\n",
       "\n"
      ],
      "text/plain": [
       "[1] \"Max\"    \"Oliver\""
      ]
     },
     "metadata": {},
     "output_type": "display_data"
    }
   ],
   "source": [
    "students[c(1.4, 3.6)]"
   ]
  },
  {
   "cell_type": "code",
   "execution_count": 14,
   "metadata": {},
   "outputs": [
    {
     "data": {
      "text/html": [
       "<ol class=list-inline>\n",
       "\t<li>'dog'</li>\n",
       "\t<li>'cat'</li>\n",
       "\t<li>'cow'</li>\n",
       "\t<li>'sheep'</li>\n",
       "\t<li>'rabbit'</li>\n",
       "\t<li>'duck'</li>\n",
       "\t<li>'hen'</li>\n",
       "</ol>\n"
      ],
      "text/latex": [
       "\\begin{enumerate*}\n",
       "\\item 'dog'\n",
       "\\item 'cat'\n",
       "\\item 'cow'\n",
       "\\item 'sheep'\n",
       "\\item 'rabbit'\n",
       "\\item 'duck'\n",
       "\\item 'hen'\n",
       "\\end{enumerate*}\n"
      ],
      "text/markdown": [
       "1. 'dog'\n",
       "2. 'cat'\n",
       "3. 'cow'\n",
       "4. 'sheep'\n",
       "5. 'rabbit'\n",
       "6. 'duck'\n",
       "7. 'hen'\n",
       "\n",
       "\n"
      ],
      "text/plain": [
       "[1] \"dog\"    \"cat\"    \"cow\"    \"sheep\"  \"rabbit\" \"duck\"   \"hen\"   "
      ]
     },
     "metadata": {},
     "output_type": "display_data"
    }
   ],
   "source": [
    "animals <- c(\"dog\", \"cat\", \"cow\", \"sheep\", \"rabbit\", \"duck\", \"hen\")\n",
    "\n",
    "animals"
   ]
  },
  {
   "cell_type": "code",
   "execution_count": 15,
   "metadata": {},
   "outputs": [
    {
     "data": {
      "text/html": [
       "<ol class=list-inline>\n",
       "\t<li>'dog'</li>\n",
       "\t<li>'horse'</li>\n",
       "\t<li>'cow'</li>\n",
       "\t<li>'sheep'</li>\n",
       "\t<li>'rabbit'</li>\n",
       "\t<li>'duck'</li>\n",
       "\t<li>'hen'</li>\n",
       "</ol>\n"
      ],
      "text/latex": [
       "\\begin{enumerate*}\n",
       "\\item 'dog'\n",
       "\\item 'horse'\n",
       "\\item 'cow'\n",
       "\\item 'sheep'\n",
       "\\item 'rabbit'\n",
       "\\item 'duck'\n",
       "\\item 'hen'\n",
       "\\end{enumerate*}\n"
      ],
      "text/markdown": [
       "1. 'dog'\n",
       "2. 'horse'\n",
       "3. 'cow'\n",
       "4. 'sheep'\n",
       "5. 'rabbit'\n",
       "6. 'duck'\n",
       "7. 'hen'\n",
       "\n",
       "\n"
      ],
      "text/plain": [
       "[1] \"dog\"    \"horse\"  \"cow\"    \"sheep\"  \"rabbit\" \"duck\"   \"hen\"   "
      ]
     },
     "metadata": {},
     "output_type": "display_data"
    }
   ],
   "source": [
    "animals[2] <- \"horse\"\n",
    "\n",
    "animals"
   ]
  },
  {
   "cell_type": "code",
   "execution_count": 16,
   "metadata": {},
   "outputs": [
    {
     "data": {
      "text/html": [
       "<ol class=list-inline>\n",
       "\t<li>'dog'</li>\n",
       "\t<li>'horse'</li>\n",
       "\t<li>'donkey'</li>\n",
       "\t<li>'sheep'</li>\n",
       "\t<li>'rabbit'</li>\n",
       "\t<li>'goat'</li>\n",
       "\t<li>'hen'</li>\n",
       "</ol>\n"
      ],
      "text/latex": [
       "\\begin{enumerate*}\n",
       "\\item 'dog'\n",
       "\\item 'horse'\n",
       "\\item 'donkey'\n",
       "\\item 'sheep'\n",
       "\\item 'rabbit'\n",
       "\\item 'goat'\n",
       "\\item 'hen'\n",
       "\\end{enumerate*}\n"
      ],
      "text/markdown": [
       "1. 'dog'\n",
       "2. 'horse'\n",
       "3. 'donkey'\n",
       "4. 'sheep'\n",
       "5. 'rabbit'\n",
       "6. 'goat'\n",
       "7. 'hen'\n",
       "\n",
       "\n"
      ],
      "text/plain": [
       "[1] \"dog\"    \"horse\"  \"donkey\" \"sheep\"  \"rabbit\" \"goat\"   \"hen\"   "
      ]
     },
     "metadata": {},
     "output_type": "display_data"
    }
   ],
   "source": [
    "animals[c(3, 6)]  <-  c(\"donkey\" , \"goat\")\n",
    "\n",
    "animals"
   ]
  },
  {
   "cell_type": "code",
   "execution_count": 17,
   "metadata": {},
   "outputs": [
    {
     "data": {
      "text/html": [
       "<ol class=list-inline>\n",
       "\t<li>'dog'</li>\n",
       "\t<li>'horse'</li>\n",
       "\t<li>'donkey'</li>\n",
       "\t<li>'sheep'</li>\n",
       "\t<li>'rabbit'</li>\n",
       "\t<li>'goat'</li>\n",
       "\t<li>'hen'</li>\n",
       "\t<li>'squirrel'</li>\n",
       "</ol>\n"
      ],
      "text/latex": [
       "\\begin{enumerate*}\n",
       "\\item 'dog'\n",
       "\\item 'horse'\n",
       "\\item 'donkey'\n",
       "\\item 'sheep'\n",
       "\\item 'rabbit'\n",
       "\\item 'goat'\n",
       "\\item 'hen'\n",
       "\\item 'squirrel'\n",
       "\\end{enumerate*}\n"
      ],
      "text/markdown": [
       "1. 'dog'\n",
       "2. 'horse'\n",
       "3. 'donkey'\n",
       "4. 'sheep'\n",
       "5. 'rabbit'\n",
       "6. 'goat'\n",
       "7. 'hen'\n",
       "8. 'squirrel'\n",
       "\n",
       "\n"
      ],
      "text/plain": [
       "[1] \"dog\"      \"horse\"    \"donkey\"   \"sheep\"    \"rabbit\"   \"goat\"     \"hen\"     \n",
       "[8] \"squirrel\""
      ]
     },
     "metadata": {},
     "output_type": "display_data"
    }
   ],
   "source": [
    "animals <- c(animals[1:7], \"squirrel\")\n",
    "\n",
    "animals"
   ]
  },
  {
   "cell_type": "code",
   "execution_count": 18,
   "metadata": {},
   "outputs": [
    {
     "data": {
      "text/html": [
       "<ol class=list-inline>\n",
       "\t<li>'dog'</li>\n",
       "\t<li>'horse'</li>\n",
       "\t<li>'donkey'</li>\n",
       "\t<li>'sheep'</li>\n",
       "\t<li>'rabbit'</li>\n",
       "\t<li>'goat'</li>\n",
       "\t<li>'pig'</li>\n",
       "\t<li>'hen'</li>\n",
       "\t<li>'squirrel'</li>\n",
       "</ol>\n"
      ],
      "text/latex": [
       "\\begin{enumerate*}\n",
       "\\item 'dog'\n",
       "\\item 'horse'\n",
       "\\item 'donkey'\n",
       "\\item 'sheep'\n",
       "\\item 'rabbit'\n",
       "\\item 'goat'\n",
       "\\item 'pig'\n",
       "\\item 'hen'\n",
       "\\item 'squirrel'\n",
       "\\end{enumerate*}\n"
      ],
      "text/markdown": [
       "1. 'dog'\n",
       "2. 'horse'\n",
       "3. 'donkey'\n",
       "4. 'sheep'\n",
       "5. 'rabbit'\n",
       "6. 'goat'\n",
       "7. 'pig'\n",
       "8. 'hen'\n",
       "9. 'squirrel'\n",
       "\n",
       "\n"
      ],
      "text/plain": [
       "[1] \"dog\"      \"horse\"    \"donkey\"   \"sheep\"    \"rabbit\"   \"goat\"     \"pig\"     \n",
       "[8] \"hen\"      \"squirrel\""
      ]
     },
     "metadata": {},
     "output_type": "display_data"
    }
   ],
   "source": [
    "animals <- c(animals[1:6], \"pig\", animals[7:8])\n",
    "\n",
    "animals"
   ]
  },
  {
   "cell_type": "code",
   "execution_count": null,
   "metadata": {},
   "outputs": [],
   "source": []
  },
  {
   "cell_type": "code",
   "execution_count": null,
   "metadata": {},
   "outputs": [],
   "source": []
  },
  {
   "cell_type": "code",
   "execution_count": null,
   "metadata": {},
   "outputs": [],
   "source": []
  },
  {
   "cell_type": "code",
   "execution_count": null,
   "metadata": {},
   "outputs": [],
   "source": []
  },
  {
   "cell_type": "code",
   "execution_count": null,
   "metadata": {},
   "outputs": [],
   "source": []
  },
  {
   "cell_type": "code",
   "execution_count": null,
   "metadata": {},
   "outputs": [],
   "source": []
  },
  {
   "cell_type": "code",
   "execution_count": null,
   "metadata": {},
   "outputs": [],
   "source": []
  },
  {
   "cell_type": "code",
   "execution_count": null,
   "metadata": {},
   "outputs": [],
   "source": []
  },
  {
   "cell_type": "code",
   "execution_count": null,
   "metadata": {},
   "outputs": [],
   "source": []
  },
  {
   "cell_type": "code",
   "execution_count": null,
   "metadata": {},
   "outputs": [],
   "source": []
  },
  {
   "cell_type": "code",
   "execution_count": null,
   "metadata": {},
   "outputs": [],
   "source": []
  },
  {
   "cell_type": "code",
   "execution_count": null,
   "metadata": {},
   "outputs": [],
   "source": []
  },
  {
   "cell_type": "code",
   "execution_count": null,
   "metadata": {},
   "outputs": [],
   "source": []
  },
  {
   "cell_type": "code",
   "execution_count": null,
   "metadata": {},
   "outputs": [],
   "source": []
  },
  {
   "cell_type": "code",
   "execution_count": null,
   "metadata": {},
   "outputs": [],
   "source": []
  },
  {
   "cell_type": "code",
   "execution_count": null,
   "metadata": {},
   "outputs": [],
   "source": []
  },
  {
   "cell_type": "code",
   "execution_count": null,
   "metadata": {},
   "outputs": [],
   "source": []
  },
  {
   "cell_type": "code",
   "execution_count": null,
   "metadata": {},
   "outputs": [],
   "source": []
  },
  {
   "cell_type": "code",
   "execution_count": null,
   "metadata": {},
   "outputs": [],
   "source": []
  },
  {
   "cell_type": "code",
   "execution_count": null,
   "metadata": {},
   "outputs": [],
   "source": []
  },
  {
   "cell_type": "code",
   "execution_count": null,
   "metadata": {},
   "outputs": [],
   "source": []
  },
  {
   "cell_type": "code",
   "execution_count": null,
   "metadata": {},
   "outputs": [],
   "source": []
  }
 ],
 "metadata": {
  "kernelspec": {
   "display_name": "R",
   "language": "R",
   "name": "ir"
  },
  "language_info": {
   "codemirror_mode": "r",
   "file_extension": ".r",
   "mimetype": "text/x-r-source",
   "name": "R",
   "pygments_lexer": "r",
   "version": "3.6.1"
  }
 },
 "nbformat": 4,
 "nbformat_minor": 4
}
