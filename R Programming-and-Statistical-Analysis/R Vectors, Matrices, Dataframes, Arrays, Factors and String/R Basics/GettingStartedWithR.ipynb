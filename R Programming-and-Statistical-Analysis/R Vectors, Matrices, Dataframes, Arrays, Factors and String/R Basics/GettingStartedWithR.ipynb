{
 "cells": [
  {
   "cell_type": "code",
   "execution_count": 1,
   "metadata": {},
   "outputs": [
    {
     "data": {
      "text/html": [
       "'Hello R World!'"
      ],
      "text/latex": [
       "'Hello R World!'"
      ],
      "text/markdown": [
       "'Hello R World!'"
      ],
      "text/plain": [
       "[1] \"Hello R World!\""
      ]
     },
     "metadata": {},
     "output_type": "display_data"
    }
   ],
   "source": [
    "\"Hello R World!\""
   ]
  },
  {
   "cell_type": "code",
   "execution_count": 2,
   "metadata": {},
   "outputs": [
    {
     "data": {
      "text/html": [
       "5.5"
      ],
      "text/latex": [
       "5.5"
      ],
      "text/markdown": [
       "5.5"
      ],
      "text/plain": [
       "[1] 5.5"
      ]
     },
     "metadata": {},
     "output_type": "display_data"
    }
   ],
   "source": [
    "mean(1:10)"
   ]
  },
  {
   "cell_type": "code",
   "execution_count": 3,
   "metadata": {},
   "outputs": [
    {
     "data": {
      "text/html": [
       "6"
      ],
      "text/latex": [
       "6"
      ],
      "text/markdown": [
       "6"
      ],
      "text/plain": [
       "[1] 6"
      ]
     },
     "metadata": {},
     "output_type": "display_data"
    }
   ],
   "source": [
    "median(1:11)"
   ]
  },
  {
   "cell_type": "code",
   "execution_count": 4,
   "metadata": {},
   "outputs": [
    {
     "data": {
      "text/html": [
       "55"
      ],
      "text/latex": [
       "55"
      ],
      "text/markdown": [
       "55"
      ],
      "text/plain": [
       "[1] 55"
      ]
     },
     "metadata": {},
     "output_type": "display_data"
    }
   ],
   "source": [
    "sum(1:10)"
   ]
  },
  {
   "cell_type": "code",
   "execution_count": 5,
   "metadata": {},
   "outputs": [
    {
     "data": {
      "text/html": [
       "9"
      ],
      "text/latex": [
       "9"
      ],
      "text/markdown": [
       "9"
      ],
      "text/plain": [
       "[1] 9"
      ]
     },
     "metadata": {},
     "output_type": "display_data"
    }
   ],
   "source": [
    "4 + 5"
   ]
  },
  {
   "cell_type": "code",
   "execution_count": 6,
   "metadata": {},
   "outputs": [
    {
     "data": {
      "text/html": [
       "-2.2"
      ],
      "text/latex": [
       "-2.2"
      ],
      "text/markdown": [
       "-2.2"
      ],
      "text/plain": [
       "[1] -2.2"
      ]
     },
     "metadata": {},
     "output_type": "display_data"
    }
   ],
   "source": [
    "4.5 - 6.7"
   ]
  },
  {
   "cell_type": "code",
   "execution_count": 7,
   "metadata": {},
   "outputs": [],
   "source": [
    "?mean"
   ]
  },
  {
   "cell_type": "code",
   "execution_count": 8,
   "metadata": {},
   "outputs": [],
   "source": [
    "?\"-\""
   ]
  },
  {
   "cell_type": "code",
   "execution_count": 9,
   "metadata": {},
   "outputs": [],
   "source": [
    "?\"c\""
   ]
  },
  {
   "cell_type": "code",
   "execution_count": 10,
   "metadata": {},
   "outputs": [],
   "source": [
    "?\"if\""
   ]
  },
  {
   "cell_type": "code",
   "execution_count": 11,
   "metadata": {},
   "outputs": [],
   "source": [
    "??regression"
   ]
  },
  {
   "cell_type": "code",
   "execution_count": 12,
   "metadata": {},
   "outputs": [],
   "source": [
    "??\"logistic regression\""
   ]
  },
  {
   "cell_type": "code",
   "execution_count": 13,
   "metadata": {},
   "outputs": [],
   "source": [
    "help(\"sum\")"
   ]
  },
  {
   "cell_type": "code",
   "execution_count": 14,
   "metadata": {},
   "outputs": [],
   "source": [
    "help(\"*\")"
   ]
  },
  {
   "cell_type": "code",
   "execution_count": 15,
   "metadata": {},
   "outputs": [],
   "source": [
    "help(\"for\")"
   ]
  },
  {
   "cell_type": "code",
   "execution_count": 16,
   "metadata": {},
   "outputs": [],
   "source": [
    "help(\"anova\")"
   ]
  },
  {
   "cell_type": "code",
   "execution_count": 17,
   "metadata": {},
   "outputs": [],
   "source": [
    "help.search(\"probability\")"
   ]
  },
  {
   "cell_type": "code",
   "execution_count": 18,
   "metadata": {},
   "outputs": [],
   "source": [
    "help.search(\"linear regression\")"
   ]
  },
  {
   "cell_type": "code",
   "execution_count": 19,
   "metadata": {},
   "outputs": [
    {
     "data": {
      "text/html": [
       "100"
      ],
      "text/latex": [
       "100"
      ],
      "text/markdown": [
       "100"
      ],
      "text/plain": [
       "[1] 100"
      ]
     },
     "metadata": {},
     "output_type": "display_data"
    }
   ],
   "source": [
    "sum_result <- 45 + 55\n",
    "\n",
    "sum_result"
   ]
  },
  {
   "cell_type": "code",
   "execution_count": 20,
   "metadata": {},
   "outputs": [
    {
     "data": {
      "text/html": [
       "<ol class=list-inline>\n",
       "\t<li>'.colSums'</li>\n",
       "\t<li>'.rowSums'</li>\n",
       "\t<li>'.tryResumeInterrupt'</li>\n",
       "\t<li>'Summary'</li>\n",
       "\t<li>'Summary.Date'</li>\n",
       "\t<li>'Summary.POSIXct'</li>\n",
       "\t<li>'Summary.POSIXlt'</li>\n",
       "\t<li>'Summary.data.frame'</li>\n",
       "\t<li>'Summary.difftime'</li>\n",
       "\t<li>'Summary.factor'</li>\n",
       "\t<li>'Summary.numeric_version'</li>\n",
       "\t<li>'Summary.ordered'</li>\n",
       "\t<li>'colSums'</li>\n",
       "\t<li>'contr.sum'</li>\n",
       "\t<li>'cumsum'</li>\n",
       "\t<li>'format.summaryDefault'</li>\n",
       "\t<li>'print.summary.table'</li>\n",
       "\t<li>'print.summary.warnings'</li>\n",
       "\t<li>'print.summaryDefault'</li>\n",
       "\t<li>'rowSums'</li>\n",
       "\t<li>'rowsum'</li>\n",
       "\t<li>'rowsum.data.frame'</li>\n",
       "\t<li>'rowsum.default'</li>\n",
       "\t<li>'sum'</li>\n",
       "\t<li>'sum_result'</li>\n",
       "\t<li>'summary'</li>\n",
       "\t<li>'summary.Date'</li>\n",
       "\t<li>'summary.POSIXct'</li>\n",
       "\t<li>'summary.POSIXlt'</li>\n",
       "\t<li>'summary.aov'</li>\n",
       "\t<li>'summary.connection'</li>\n",
       "\t<li>'summary.data.frame'</li>\n",
       "\t<li>'summary.default'</li>\n",
       "\t<li>'summary.factor'</li>\n",
       "\t<li>'summary.glm'</li>\n",
       "\t<li>'summary.lm'</li>\n",
       "\t<li>'summary.manova'</li>\n",
       "\t<li>'summary.matrix'</li>\n",
       "\t<li>'summary.proc_time'</li>\n",
       "\t<li>'summary.srcfile'</li>\n",
       "\t<li>'summary.srcref'</li>\n",
       "\t<li>'summary.stepfun'</li>\n",
       "\t<li>'summary.table'</li>\n",
       "\t<li>'summary.warnings'</li>\n",
       "\t<li>'summaryRprof'</li>\n",
       "</ol>\n"
      ],
      "text/latex": [
       "\\begin{enumerate*}\n",
       "\\item '.colSums'\n",
       "\\item '.rowSums'\n",
       "\\item '.tryResumeInterrupt'\n",
       "\\item 'Summary'\n",
       "\\item 'Summary.Date'\n",
       "\\item 'Summary.POSIXct'\n",
       "\\item 'Summary.POSIXlt'\n",
       "\\item 'Summary.data.frame'\n",
       "\\item 'Summary.difftime'\n",
       "\\item 'Summary.factor'\n",
       "\\item 'Summary.numeric\\_version'\n",
       "\\item 'Summary.ordered'\n",
       "\\item 'colSums'\n",
       "\\item 'contr.sum'\n",
       "\\item 'cumsum'\n",
       "\\item 'format.summaryDefault'\n",
       "\\item 'print.summary.table'\n",
       "\\item 'print.summary.warnings'\n",
       "\\item 'print.summaryDefault'\n",
       "\\item 'rowSums'\n",
       "\\item 'rowsum'\n",
       "\\item 'rowsum.data.frame'\n",
       "\\item 'rowsum.default'\n",
       "\\item 'sum'\n",
       "\\item 'sum\\_result'\n",
       "\\item 'summary'\n",
       "\\item 'summary.Date'\n",
       "\\item 'summary.POSIXct'\n",
       "\\item 'summary.POSIXlt'\n",
       "\\item 'summary.aov'\n",
       "\\item 'summary.connection'\n",
       "\\item 'summary.data.frame'\n",
       "\\item 'summary.default'\n",
       "\\item 'summary.factor'\n",
       "\\item 'summary.glm'\n",
       "\\item 'summary.lm'\n",
       "\\item 'summary.manova'\n",
       "\\item 'summary.matrix'\n",
       "\\item 'summary.proc\\_time'\n",
       "\\item 'summary.srcfile'\n",
       "\\item 'summary.srcref'\n",
       "\\item 'summary.stepfun'\n",
       "\\item 'summary.table'\n",
       "\\item 'summary.warnings'\n",
       "\\item 'summaryRprof'\n",
       "\\end{enumerate*}\n"
      ],
      "text/markdown": [
       "1. '.colSums'\n",
       "2. '.rowSums'\n",
       "3. '.tryResumeInterrupt'\n",
       "4. 'Summary'\n",
       "5. 'Summary.Date'\n",
       "6. 'Summary.POSIXct'\n",
       "7. 'Summary.POSIXlt'\n",
       "8. 'Summary.data.frame'\n",
       "9. 'Summary.difftime'\n",
       "10. 'Summary.factor'\n",
       "11. 'Summary.numeric_version'\n",
       "12. 'Summary.ordered'\n",
       "13. 'colSums'\n",
       "14. 'contr.sum'\n",
       "15. 'cumsum'\n",
       "16. 'format.summaryDefault'\n",
       "17. 'print.summary.table'\n",
       "18. 'print.summary.warnings'\n",
       "19. 'print.summaryDefault'\n",
       "20. 'rowSums'\n",
       "21. 'rowsum'\n",
       "22. 'rowsum.data.frame'\n",
       "23. 'rowsum.default'\n",
       "24. 'sum'\n",
       "25. 'sum_result'\n",
       "26. 'summary'\n",
       "27. 'summary.Date'\n",
       "28. 'summary.POSIXct'\n",
       "29. 'summary.POSIXlt'\n",
       "30. 'summary.aov'\n",
       "31. 'summary.connection'\n",
       "32. 'summary.data.frame'\n",
       "33. 'summary.default'\n",
       "34. 'summary.factor'\n",
       "35. 'summary.glm'\n",
       "36. 'summary.lm'\n",
       "37. 'summary.manova'\n",
       "38. 'summary.matrix'\n",
       "39. 'summary.proc_time'\n",
       "40. 'summary.srcfile'\n",
       "41. 'summary.srcref'\n",
       "42. 'summary.stepfun'\n",
       "43. 'summary.table'\n",
       "44. 'summary.warnings'\n",
       "45. 'summaryRprof'\n",
       "\n",
       "\n"
      ],
      "text/plain": [
       " [1] \".colSums\"                \".rowSums\"               \n",
       " [3] \".tryResumeInterrupt\"     \"Summary\"                \n",
       " [5] \"Summary.Date\"            \"Summary.POSIXct\"        \n",
       " [7] \"Summary.POSIXlt\"         \"Summary.data.frame\"     \n",
       " [9] \"Summary.difftime\"        \"Summary.factor\"         \n",
       "[11] \"Summary.numeric_version\" \"Summary.ordered\"        \n",
       "[13] \"colSums\"                 \"contr.sum\"              \n",
       "[15] \"cumsum\"                  \"format.summaryDefault\"  \n",
       "[17] \"print.summary.table\"     \"print.summary.warnings\" \n",
       "[19] \"print.summaryDefault\"    \"rowSums\"                \n",
       "[21] \"rowsum\"                  \"rowsum.data.frame\"      \n",
       "[23] \"rowsum.default\"          \"sum\"                    \n",
       "[25] \"sum_result\"              \"summary\"                \n",
       "[27] \"summary.Date\"            \"summary.POSIXct\"        \n",
       "[29] \"summary.POSIXlt\"         \"summary.aov\"            \n",
       "[31] \"summary.connection\"      \"summary.data.frame\"     \n",
       "[33] \"summary.default\"         \"summary.factor\"         \n",
       "[35] \"summary.glm\"             \"summary.lm\"             \n",
       "[37] \"summary.manova\"          \"summary.matrix\"         \n",
       "[39] \"summary.proc_time\"       \"summary.srcfile\"        \n",
       "[41] \"summary.srcref\"          \"summary.stepfun\"        \n",
       "[43] \"summary.table\"           \"summary.warnings\"       \n",
       "[45] \"summaryRprof\"           "
      ]
     },
     "metadata": {},
     "output_type": "display_data"
    }
   ],
   "source": [
    "apropos(\"sum\")"
   ]
  },
  {
   "cell_type": "code",
   "execution_count": 21,
   "metadata": {},
   "outputs": [],
   "source": [
    "variable_a <- 4\n",
    "\n",
    "variable_b <- 6\n",
    "\n",
    "variable_result <- variable_a + variable_b"
   ]
  },
  {
   "cell_type": "code",
   "execution_count": 22,
   "metadata": {},
   "outputs": [
    {
     "data": {
      "text/html": [
       "<ol class=list-inline>\n",
       "\t<li>'var'</li>\n",
       "\t<li>'var.test'</li>\n",
       "\t<li>'variable.names'</li>\n",
       "\t<li>'variable_a'</li>\n",
       "\t<li>'variable_b'</li>\n",
       "\t<li>'variable_result'</li>\n",
       "\t<li>'varimax'</li>\n",
       "</ol>\n"
      ],
      "text/latex": [
       "\\begin{enumerate*}\n",
       "\\item 'var'\n",
       "\\item 'var.test'\n",
       "\\item 'variable.names'\n",
       "\\item 'variable\\_a'\n",
       "\\item 'variable\\_b'\n",
       "\\item 'variable\\_result'\n",
       "\\item 'varimax'\n",
       "\\end{enumerate*}\n"
      ],
      "text/markdown": [
       "1. 'var'\n",
       "2. 'var.test'\n",
       "3. 'variable.names'\n",
       "4. 'variable_a'\n",
       "5. 'variable_b'\n",
       "6. 'variable_result'\n",
       "7. 'varimax'\n",
       "\n",
       "\n"
      ],
      "text/plain": [
       "[1] \"var\"             \"var.test\"        \"variable.names\"  \"variable_a\"     \n",
       "[5] \"variable_b\"      \"variable_result\" \"varimax\"        "
      ]
     },
     "metadata": {},
     "output_type": "display_data"
    }
   ],
   "source": [
    "apropos(\"^var\")"
   ]
  },
  {
   "cell_type": "code",
   "execution_count": 23,
   "metadata": {},
   "outputs": [
    {
     "name": "stdout",
     "output_type": "stream",
     "text": [
      "\n",
      "mean> x <- c(0:10, 50)\n",
      "\n",
      "mean> xm <- mean(x)\n",
      "\n",
      "mean> c(xm, mean(x, trim = 0.10))\n",
      "[1] 8.75 5.50\n"
     ]
    }
   ],
   "source": [
    "example(mean)"
   ]
  },
  {
   "cell_type": "code",
   "execution_count": 24,
   "metadata": {},
   "outputs": [
    {
     "name": "stdout",
     "output_type": "stream",
     "text": [
      "\n",
      "c> c(1,7:9)\n",
      "[1] 1 7 8 9\n",
      "\n",
      "c> c(1:5, 10.5, \"next\")\n",
      "[1] \"1\"    \"2\"    \"3\"    \"4\"    \"5\"    \"10.5\" \"next\"\n",
      "\n",
      "c> ## uses with a single argument to drop attributes\n",
      "c> x <- 1:4\n",
      "\n",
      "c> names(x) <- letters[1:4]\n",
      "\n",
      "c> x\n",
      "a b c d \n",
      "1 2 3 4 \n",
      "\n",
      "c> c(x)          # has names\n",
      "a b c d \n",
      "1 2 3 4 \n",
      "\n",
      "c> as.vector(x)  # no names\n",
      "[1] 1 2 3 4\n",
      "\n",
      "c> dim(x) <- c(2,2)\n",
      "\n",
      "c> x\n",
      "     [,1] [,2]\n",
      "[1,]    1    3\n",
      "[2,]    2    4\n",
      "\n",
      "c> c(x)\n",
      "[1] 1 2 3 4\n",
      "\n",
      "c> as.vector(x)\n",
      "[1] 1 2 3 4\n",
      "\n",
      "c> ## append to a list:\n",
      "c> ll <- list(A = 1, c = \"C\")\n",
      "\n",
      "c> ## do *not* use\n",
      "c> c(ll, d = 1:3) # which is == c(ll, as.list(c(d = 1:3)))\n",
      "$A\n",
      "[1] 1\n",
      "\n",
      "$c\n",
      "[1] \"C\"\n",
      "\n",
      "$d1\n",
      "[1] 1\n",
      "\n",
      "$d2\n",
      "[1] 2\n",
      "\n",
      "$d3\n",
      "[1] 3\n",
      "\n",
      "\n",
      "c> ## but rather\n",
      "c> c(ll, d = list(1:3))  # c() combining two lists\n",
      "$A\n",
      "[1] 1\n",
      "\n",
      "$c\n",
      "[1] \"C\"\n",
      "\n",
      "$d\n",
      "[1] 1 2 3\n",
      "\n",
      "\n",
      "c> c(list(A = c(B = 1)), recursive = TRUE)\n",
      "A.B \n",
      "  1 \n",
      "\n",
      "c> c(options(), recursive = TRUE)\n",
      "$CBoundsCheck\n",
      "[1] FALSE\n",
      "\n",
      "$HTTPUserAgent\n",
      "[1] \"R (3.6.1 x86_64-apple-darwin13.4.0 x86_64 darwin13.4.0)\"\n",
      "\n",
      "$OutDec\n",
      "[1] \".\"\n",
      "\n",
      "$PCRE_limit_recursion\n",
      "[1] NA\n",
      "\n",
      "$PCRE_study\n",
      "[1] 10\n",
      "\n",
      "$PCRE_use_JIT\n",
      "[1] TRUE\n",
      "\n",
      "$add.smooth\n",
      "[1] TRUE\n",
      "\n",
      "$bitmapType\n",
      "[1] \"quartz\"\n",
      "\n",
      "$browser\n",
      "[1] \"/usr/bin/open\"\n",
      "\n",
      "$browserNLdisabled\n",
      "[1] FALSE\n",
      "\n",
      "$check.bounds\n",
      "[1] FALSE\n",
      "\n",
      "$citation.bibtex.max\n",
      "[1] 1\n",
      "\n",
      "$continue\n",
      "[1] \"+ \"\n",
      "\n",
      "$contrasts.unordered\n",
      "[1] \"contr.treatment\"\n",
      "\n",
      "$contrasts.ordered\n",
      "[1] \"contr.poly\"\n",
      "\n",
      "$defaultPackages1\n",
      "[1] \"datasets\"\n",
      "\n",
      "$defaultPackages2\n",
      "[1] \"utils\"\n",
      "\n",
      "$defaultPackages3\n",
      "[1] \"grDevices\"\n",
      "\n",
      "$defaultPackages4\n",
      "[1] \"graphics\"\n",
      "\n",
      "$defaultPackages5\n",
      "[1] \"stats\"\n",
      "\n",
      "$defaultPackages6\n",
      "[1] \"methods\"\n",
      "\n",
      "$demo.ask\n",
      "[1] \"default\"\n",
      "\n",
      "$deparse.cutoff\n",
      "[1] 60\n",
      "\n",
      "$device\n",
      "function (filename = null_filename, ...) \n",
      "ok_device(filename, ...)\n",
      "<bytecode: 0x7fb93fb2c190>\n",
      "<environment: 0x7fb93fb2bcc0>\n",
      "\n",
      "$device.ask.default\n",
      "[1] FALSE\n",
      "\n",
      "$digits\n",
      "[1] 7\n",
      "\n",
      "$dvipscmd\n",
      "[1] \"dvips\"\n",
      "\n",
      "$echo\n",
      "[1] FALSE\n",
      "\n",
      "$editor\n",
      "[1] \"vi\"\n",
      "\n",
      "$encoding\n",
      "[1] \"native.enc\"\n",
      "\n",
      "$example.ask\n",
      "[1] \"default\"\n",
      "\n",
      "$expressions\n",
      "[1] 5000\n",
      "\n",
      "$help.search.types1\n",
      "[1] \"vignette\"\n",
      "\n",
      "$help.search.types2\n",
      "[1] \"demo\"\n",
      "\n",
      "$help.search.types3\n",
      "[1] \"help\"\n",
      "\n",
      "$help.try.all.packages\n",
      "[1] FALSE\n",
      "\n",
      "$internet.info\n",
      "[1] 2\n",
      "\n",
      "$jupyter.base_display_func\n",
      "Class method definition for method display_data()\n",
      "function (data, metadata = NULL) \n",
      "{\n",
      "    if (is.null(metadata)) {\n",
      "        metadata <- namedlist()\n",
      "    }\n",
      "    send_response(\"display_data\", current_request, \"iopub\", list(data = data, \n",
      "        metadata = metadata))\n",
      "    invisible(TRUE)\n",
      "}\n",
      "<environment: 0x7fb94302b748>\n",
      "\n",
      "$jupyter.display_mimetypes1\n",
      "[1] \"text/plain\"\n",
      "\n",
      "$jupyter.display_mimetypes2\n",
      "[1] \"text/html\"\n",
      "\n",
      "$jupyter.display_mimetypes3\n",
      "[1] \"text/markdown\"\n",
      "\n",
      "$jupyter.display_mimetypes4\n",
      "[1] \"text/latex\"\n",
      "\n",
      "$jupyter.display_mimetypes5\n",
      "[1] \"application/json\"\n",
      "\n",
      "$jupyter.display_mimetypes6\n",
      "[1] \"application/javascript\"\n",
      "\n",
      "$jupyter.display_mimetypes7\n",
      "[1] \"application/geo+json\"\n",
      "\n",
      "$jupyter.display_mimetypes8\n",
      "[1] \"application/vdom.v1+json\"\n",
      "\n",
      "$jupyter.display_mimetypes9\n",
      "[1] \"application/vnd.plotly.v1+json\"\n",
      "\n",
      "$jupyter.display_mimetypes10\n",
      "[1] \"application/vnd.vegalite.v2+json\"\n",
      "\n",
      "$jupyter.display_mimetypes11\n",
      "[1] \"application/vnd.vega.v4+json\"\n",
      "\n",
      "$jupyter.display_mimetypes12\n",
      "[1] \"application/pdf\"\n",
      "\n",
      "$jupyter.display_mimetypes13\n",
      "[1] \"image/png\"\n",
      "\n",
      "$jupyter.display_mimetypes14\n",
      "[1] \"image/jpeg\"\n",
      "\n",
      "$jupyter.display_mimetypes15\n",
      "[1] \"image/svg+xml\"\n",
      "\n",
      "$jupyter.in_kernel\n",
      "[1] TRUE\n",
      "\n",
      "$jupyter.log_level\n",
      "[1] 1\n",
      "\n",
      "$jupyter.logfile\n",
      "[1] NA\n",
      "\n",
      "$jupyter.pager_classes1\n",
      "[1] \"packageIQR\"\n",
      "\n",
      "$jupyter.pager_classes2\n",
      "[1] \"help_files_with_topic\"\n",
      "\n",
      "$jupyter.plot_mimetypes1\n",
      "[1] \"text/plain\"\n",
      "\n",
      "$jupyter.plot_mimetypes2\n",
      "[1] \"image/png\"\n",
      "\n",
      "$jupyter.rich_display\n",
      "[1] TRUE\n",
      "\n",
      "$keep.parse.data\n",
      "[1] TRUE\n",
      "\n",
      "$keep.parse.data.pkgs\n",
      "[1] FALSE\n",
      "\n",
      "$keep.source\n",
      "[1] FALSE\n",
      "\n",
      "$keep.source.pkgs\n",
      "[1] FALSE\n",
      "\n",
      "$locatorBell\n",
      "[1] TRUE\n",
      "\n",
      "$mailer\n",
      "[1] \"mailto\"\n",
      "\n",
      "$matprod\n",
      "[1] \"default\"\n",
      "\n",
      "$max.print\n",
      "[1] 99999\n",
      "\n",
      "$menu.graphics\n",
      "[1] TRUE\n",
      "\n",
      "$na.action\n",
      "[1] \"na.omit\"\n",
      "\n",
      "$nwarnings\n",
      "[1] 50\n",
      "\n",
      "$pager\n",
      "function (files, header, title, delete.file) \n",
      "{\n",
      "    text <- title\n",
      "    for (path in files) {\n",
      "        text <- c(text, header, readLines(path))\n",
      "    }\n",
      "    if (delete.file) \n",
      "        file.remove(files)\n",
      "    data <- list(`text/plain` = paste(text, collapse = \"\\n\"))\n",
      "    page(list(data = data, metadata = namedlist()))\n",
      "}\n",
      "<environment: 0x7fb942978c58>\n",
      "\n",
      "$papersize\n",
      "[1] \"a4\"\n",
      "\n",
      "$pdfviewer\n",
      "[1] \"/usr/bin/open\"\n",
      "\n",
      "$pkgType\n",
      "[1] \"source\"\n",
      "\n",
      "$printcmd\n",
      "[1] \"lpr\"\n",
      "\n",
      "$prompt\n",
      "[1] \"> \"\n",
      "\n",
      "$repos.CRAN\n",
      "[1] \"https://cran.r-project.org\"\n",
      "\n",
      "$repr.function.highlight\n",
      "[1] FALSE\n",
      "\n",
      "$repr.html.deduplicate\n",
      "[1] FALSE\n",
      "\n",
      "$repr.matrix.latex.colspec.row_head\n",
      "[1] \"r|\"\n",
      "\n",
      "$repr.matrix.latex.colspec.col\n",
      "[1] \"l\"\n",
      "\n",
      "$repr.matrix.latex.colspec.end\n",
      "[1] \"\"\n",
      "\n",
      "$repr.matrix.max.cols\n",
      "[1] 20\n",
      "\n",
      "$repr.matrix.max.rows\n",
      "[1] 60\n",
      "\n",
      "$repr.plot.antialias\n",
      "[1] \"gray\"\n",
      "\n",
      "$repr.plot.bg\n",
      "[1] \"white\"\n",
      "\n",
      "$repr.plot.family\n",
      "[1] \"sans\"\n",
      "\n",
      "$repr.plot.height\n",
      "[1] 7\n",
      "\n",
      "$repr.plot.pointsize\n",
      "[1] 12\n",
      "\n",
      "$repr.plot.quality\n",
      "[1] 90\n",
      "\n",
      "$repr.plot.res\n",
      "[1] 120\n",
      "\n",
      "$repr.plot.width\n",
      "[1] 7\n",
      "\n",
      "$repr.vector.quote\n",
      "[1] TRUE\n",
      "\n",
      "$rl_word_breaks\n",
      "[1] \" \\t\\n\\\"\\\\'`><=%;,|&{()}\"\n",
      "\n",
      "$scipen\n",
      "[1] 0\n",
      "\n",
      "$show.coef.Pvalues\n",
      "[1] TRUE\n",
      "\n",
      "$show.error.messages\n",
      "[1] TRUE\n",
      "\n",
      "$show.signif.stars\n",
      "[1] TRUE\n",
      "\n",
      "$showErrorCalls\n",
      "[1] TRUE\n",
      "\n",
      "$str.strict.width\n",
      "[1] \"no\"\n",
      "\n",
      "$str.digits.d\n",
      "[1] 3\n",
      "\n",
      "$str.vec.len\n",
      "[1] 4\n",
      "\n",
      "$str.dendrogram.last\n",
      "[1] \"`\"\n",
      "\n",
      "$stringsAsFactors\n",
      "[1] TRUE\n",
      "\n",
      "$texi2dvi\n",
      "[1] \"/usr/bin/texi2dvi\"\n",
      "\n",
      "$timeout\n",
      "[1] 60\n",
      "\n",
      "$try.outFile\n",
      "[1] 3\n",
      "\n",
      "$ts.S.compat\n",
      "[1] FALSE\n",
      "\n",
      "$ts.eps\n",
      "[1] 1e-05\n",
      "\n",
      "$unzip\n",
      "[1] \"/usr/bin/unzip\"\n",
      "\n",
      "$useFancyQuotes\n",
      "[1] TRUE\n",
      "\n",
      "$verbose\n",
      "[1] FALSE\n",
      "\n",
      "$warn\n",
      "[1] 0\n",
      "\n",
      "$warning.length\n",
      "[1] 1000\n",
      "\n",
      "$width\n",
      "[1] 80\n",
      "\n",
      "\n",
      "c> c(list(A = c(B = 1, C = 2), B = c(E = 7)), recursive = TRUE)\n",
      "A.B A.C B.E \n",
      "  1   2   7 \n"
     ]
    }
   ],
   "source": [
    "example(c)"
   ]
  },
  {
   "cell_type": "code",
   "execution_count": null,
   "metadata": {},
   "outputs": [],
   "source": []
  },
  {
   "cell_type": "code",
   "execution_count": null,
   "metadata": {},
   "outputs": [],
   "source": []
  },
  {
   "cell_type": "code",
   "execution_count": null,
   "metadata": {},
   "outputs": [],
   "source": []
  },
  {
   "cell_type": "code",
   "execution_count": null,
   "metadata": {},
   "outputs": [],
   "source": []
  },
  {
   "cell_type": "code",
   "execution_count": null,
   "metadata": {},
   "outputs": [],
   "source": []
  },
  {
   "cell_type": "code",
   "execution_count": null,
   "metadata": {},
   "outputs": [],
   "source": []
  },
  {
   "cell_type": "code",
   "execution_count": null,
   "metadata": {},
   "outputs": [],
   "source": []
  },
  {
   "cell_type": "code",
   "execution_count": null,
   "metadata": {},
   "outputs": [],
   "source": []
  },
  {
   "cell_type": "code",
   "execution_count": null,
   "metadata": {},
   "outputs": [],
   "source": []
  },
  {
   "cell_type": "code",
   "execution_count": null,
   "metadata": {},
   "outputs": [],
   "source": []
  },
  {
   "cell_type": "code",
   "execution_count": null,
   "metadata": {},
   "outputs": [],
   "source": []
  },
  {
   "cell_type": "code",
   "execution_count": null,
   "metadata": {},
   "outputs": [],
   "source": []
  },
  {
   "cell_type": "code",
   "execution_count": null,
   "metadata": {},
   "outputs": [],
   "source": []
  },
  {
   "cell_type": "code",
   "execution_count": null,
   "metadata": {},
   "outputs": [],
   "source": []
  },
  {
   "cell_type": "code",
   "execution_count": null,
   "metadata": {},
   "outputs": [],
   "source": []
  },
  {
   "cell_type": "code",
   "execution_count": null,
   "metadata": {},
   "outputs": [],
   "source": []
  },
  {
   "cell_type": "code",
   "execution_count": null,
   "metadata": {},
   "outputs": [],
   "source": []
  },
  {
   "cell_type": "code",
   "execution_count": null,
   "metadata": {},
   "outputs": [],
   "source": []
  },
  {
   "cell_type": "code",
   "execution_count": null,
   "metadata": {},
   "outputs": [],
   "source": []
  },
  {
   "cell_type": "code",
   "execution_count": null,
   "metadata": {},
   "outputs": [],
   "source": []
  },
  {
   "cell_type": "code",
   "execution_count": null,
   "metadata": {},
   "outputs": [],
   "source": []
  },
  {
   "cell_type": "code",
   "execution_count": null,
   "metadata": {},
   "outputs": [],
   "source": []
  },
  {
   "cell_type": "code",
   "execution_count": null,
   "metadata": {},
   "outputs": [],
   "source": []
  },
  {
   "cell_type": "code",
   "execution_count": null,
   "metadata": {},
   "outputs": [],
   "source": []
  },
  {
   "cell_type": "code",
   "execution_count": null,
   "metadata": {},
   "outputs": [],
   "source": []
  },
  {
   "cell_type": "code",
   "execution_count": null,
   "metadata": {},
   "outputs": [],
   "source": []
  },
  {
   "cell_type": "code",
   "execution_count": null,
   "metadata": {},
   "outputs": [],
   "source": []
  },
  {
   "cell_type": "code",
   "execution_count": null,
   "metadata": {},
   "outputs": [],
   "source": []
  },
  {
   "cell_type": "code",
   "execution_count": null,
   "metadata": {},
   "outputs": [],
   "source": []
  },
  {
   "cell_type": "code",
   "execution_count": null,
   "metadata": {},
   "outputs": [],
   "source": []
  },
  {
   "cell_type": "code",
   "execution_count": null,
   "metadata": {},
   "outputs": [],
   "source": []
  },
  {
   "cell_type": "code",
   "execution_count": null,
   "metadata": {},
   "outputs": [],
   "source": []
  },
  {
   "cell_type": "code",
   "execution_count": null,
   "metadata": {},
   "outputs": [],
   "source": []
  },
  {
   "cell_type": "code",
   "execution_count": null,
   "metadata": {},
   "outputs": [],
   "source": []
  },
  {
   "cell_type": "code",
   "execution_count": null,
   "metadata": {},
   "outputs": [],
   "source": []
  },
  {
   "cell_type": "code",
   "execution_count": null,
   "metadata": {},
   "outputs": [],
   "source": []
  },
  {
   "cell_type": "code",
   "execution_count": null,
   "metadata": {},
   "outputs": [],
   "source": []
  },
  {
   "cell_type": "code",
   "execution_count": null,
   "metadata": {},
   "outputs": [],
   "source": []
  },
  {
   "cell_type": "code",
   "execution_count": null,
   "metadata": {},
   "outputs": [],
   "source": []
  },
  {
   "cell_type": "code",
   "execution_count": null,
   "metadata": {},
   "outputs": [],
   "source": []
  },
  {
   "cell_type": "code",
   "execution_count": null,
   "metadata": {},
   "outputs": [],
   "source": []
  },
  {
   "cell_type": "code",
   "execution_count": null,
   "metadata": {},
   "outputs": [],
   "source": []
  },
  {
   "cell_type": "code",
   "execution_count": null,
   "metadata": {},
   "outputs": [],
   "source": []
  },
  {
   "cell_type": "code",
   "execution_count": null,
   "metadata": {},
   "outputs": [],
   "source": []
  },
  {
   "cell_type": "code",
   "execution_count": null,
   "metadata": {},
   "outputs": [],
   "source": []
  },
  {
   "cell_type": "code",
   "execution_count": null,
   "metadata": {},
   "outputs": [],
   "source": []
  },
  {
   "cell_type": "code",
   "execution_count": null,
   "metadata": {},
   "outputs": [],
   "source": []
  },
  {
   "cell_type": "code",
   "execution_count": null,
   "metadata": {},
   "outputs": [],
   "source": []
  },
  {
   "cell_type": "code",
   "execution_count": null,
   "metadata": {},
   "outputs": [],
   "source": []
  },
  {
   "cell_type": "code",
   "execution_count": null,
   "metadata": {},
   "outputs": [],
   "source": []
  },
  {
   "cell_type": "code",
   "execution_count": null,
   "metadata": {},
   "outputs": [],
   "source": []
  },
  {
   "cell_type": "code",
   "execution_count": null,
   "metadata": {},
   "outputs": [],
   "source": []
  },
  {
   "cell_type": "code",
   "execution_count": null,
   "metadata": {},
   "outputs": [],
   "source": []
  },
  {
   "cell_type": "code",
   "execution_count": null,
   "metadata": {},
   "outputs": [],
   "source": []
  },
  {
   "cell_type": "code",
   "execution_count": null,
   "metadata": {},
   "outputs": [],
   "source": []
  },
  {
   "cell_type": "code",
   "execution_count": null,
   "metadata": {},
   "outputs": [],
   "source": []
  },
  {
   "cell_type": "code",
   "execution_count": null,
   "metadata": {},
   "outputs": [],
   "source": []
  }
 ],
 "metadata": {
  "kernelspec": {
   "display_name": "R",
   "language": "R",
   "name": "ir"
  },
  "language_info": {
   "codemirror_mode": "r",
   "file_extension": ".r",
   "mimetype": "text/x-r-source",
   "name": "R",
   "pygments_lexer": "r",
   "version": "3.6.1"
  }
 },
 "nbformat": 4,
 "nbformat_minor": 4
}
