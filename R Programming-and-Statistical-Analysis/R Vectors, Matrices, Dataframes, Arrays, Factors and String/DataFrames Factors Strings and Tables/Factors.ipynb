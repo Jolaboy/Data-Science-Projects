{
 "cells": [
  {
   "cell_type": "code",
   "execution_count": 1,
   "metadata": {},
   "outputs": [
    {
     "data": {
      "text/html": [
       "<ol class=list-inline>\n",
       "\t<li>'Male'</li>\n",
       "\t<li>'Female'</li>\n",
       "\t<li>'Male'</li>\n",
       "\t<li>'Female'</li>\n",
       "\t<li>'Female'</li>\n",
       "</ol>\n"
      ],
      "text/latex": [
       "\\begin{enumerate*}\n",
       "\\item 'Male'\n",
       "\\item 'Female'\n",
       "\\item 'Male'\n",
       "\\item 'Female'\n",
       "\\item 'Female'\n",
       "\\end{enumerate*}\n"
      ],
      "text/markdown": [
       "1. 'Male'\n",
       "2. 'Female'\n",
       "3. 'Male'\n",
       "4. 'Female'\n",
       "5. 'Female'\n",
       "\n",
       "\n"
      ],
      "text/plain": [
       "[1] \"Male\"   \"Female\" \"Male\"   \"Female\" \"Female\""
      ]
     },
     "metadata": {},
     "output_type": "display_data"
    }
   ],
   "source": [
    "gender <- c(\"Male\", \"Female\", \"Male\", \"Female\", \"Female\")\n",
    "\n",
    "gender"
   ]
  },
  {
   "cell_type": "code",
   "execution_count": 2,
   "metadata": {},
   "outputs": [
    {
     "data": {
      "text/html": [
       "'character'"
      ],
      "text/latex": [
       "'character'"
      ],
      "text/markdown": [
       "'character'"
      ],
      "text/plain": [
       "[1] \"character\""
      ]
     },
     "metadata": {},
     "output_type": "display_data"
    }
   ],
   "source": [
    "class(gender)"
   ]
  },
  {
   "cell_type": "code",
   "execution_count": 3,
   "metadata": {},
   "outputs": [
    {
     "data": {
      "text/html": [
       "<ol class=list-inline>\n",
       "\t<li>Male</li>\n",
       "\t<li>Female</li>\n",
       "\t<li>Male</li>\n",
       "\t<li>Female</li>\n",
       "\t<li>Female</li>\n",
       "</ol>\n",
       "\n",
       "<details>\n",
       "\t<summary style=display:list-item;cursor:pointer>\n",
       "\t\t<strong>Levels</strong>:\n",
       "\t</summary>\n",
       "\t<ol class=list-inline>\n",
       "\t\t<li>'Female'</li>\n",
       "\t\t<li>'Male'</li>\n",
       "\t</ol>\n",
       "</details>"
      ],
      "text/latex": [
       "\\begin{enumerate*}\n",
       "\\item Male\n",
       "\\item Female\n",
       "\\item Male\n",
       "\\item Female\n",
       "\\item Female\n",
       "\\end{enumerate*}\n",
       "\n",
       "\\emph{Levels}: \\begin{enumerate*}\n",
       "\\item 'Female'\n",
       "\\item 'Male'\n",
       "\\end{enumerate*}\n"
      ],
      "text/markdown": [
       "1. Male\n",
       "2. Female\n",
       "3. Male\n",
       "4. Female\n",
       "5. Female\n",
       "\n",
       "\n",
       "\n",
       "**Levels**: 1. 'Female'\n",
       "2. 'Male'\n",
       "\n",
       "\n"
      ],
      "text/plain": [
       "[1] Male   Female Male   Female Female\n",
       "Levels: Female Male"
      ]
     },
     "metadata": {},
     "output_type": "display_data"
    }
   ],
   "source": [
    "gender.factor <- factor(gender)\n",
    "\n",
    "gender.factor"
   ]
  },
  {
   "cell_type": "code",
   "execution_count": 4,
   "metadata": {},
   "outputs": [
    {
     "name": "stdout",
     "output_type": "stream",
     "text": [
      " Factor w/ 2 levels \"Female\",\"Male\": 2 1 2 1 1\n"
     ]
    }
   ],
   "source": [
    "str(gender.factor)"
   ]
  },
  {
   "cell_type": "code",
   "execution_count": 5,
   "metadata": {},
   "outputs": [
    {
     "data": {
      "text/html": [
       "<ol class=list-inline>\n",
       "\t<li>2</li>\n",
       "\t<li>1</li>\n",
       "\t<li>2</li>\n",
       "\t<li>1</li>\n",
       "\t<li>1</li>\n",
       "</ol>\n"
      ],
      "text/latex": [
       "\\begin{enumerate*}\n",
       "\\item 2\n",
       "\\item 1\n",
       "\\item 2\n",
       "\\item 1\n",
       "\\item 1\n",
       "\\end{enumerate*}\n"
      ],
      "text/markdown": [
       "1. 2\n",
       "2. 1\n",
       "3. 2\n",
       "4. 1\n",
       "5. 1\n",
       "\n",
       "\n"
      ],
      "text/plain": [
       "[1] 2 1 2 1 1\n",
       "attr(,\"levels\")\n",
       "[1] \"Female\" \"Male\"  "
      ]
     },
     "metadata": {},
     "output_type": "display_data"
    }
   ],
   "source": [
    "unclass(gender.factor)"
   ]
  },
  {
   "cell_type": "code",
   "execution_count": 6,
   "metadata": {},
   "outputs": [
    {
     "name": "stderr",
     "output_type": "stream",
     "text": [
      "Warning message in `[<-.factor`(`*tmp*`, 6, value = \"Other\"):\n",
      "“invalid factor level, NA generated”"
     ]
    },
    {
     "data": {
      "text/html": [
       "<ol class=list-inline>\n",
       "\t<li>Male</li>\n",
       "\t<li>Female</li>\n",
       "\t<li>Male</li>\n",
       "\t<li>Female</li>\n",
       "\t<li>Female</li>\n",
       "\t<li>&lt;NA&gt;</li>\n",
       "</ol>\n",
       "\n",
       "<details>\n",
       "\t<summary style=display:list-item;cursor:pointer>\n",
       "\t\t<strong>Levels</strong>:\n",
       "\t</summary>\n",
       "\t<ol class=list-inline>\n",
       "\t\t<li>'Female'</li>\n",
       "\t\t<li>'Male'</li>\n",
       "\t</ol>\n",
       "</details>"
      ],
      "text/latex": [
       "\\begin{enumerate*}\n",
       "\\item Male\n",
       "\\item Female\n",
       "\\item Male\n",
       "\\item Female\n",
       "\\item Female\n",
       "\\item <NA>\n",
       "\\end{enumerate*}\n",
       "\n",
       "\\emph{Levels}: \\begin{enumerate*}\n",
       "\\item 'Female'\n",
       "\\item 'Male'\n",
       "\\end{enumerate*}\n"
      ],
      "text/markdown": [
       "1. Male\n",
       "2. Female\n",
       "3. Male\n",
       "4. Female\n",
       "5. Female\n",
       "6. &lt;NA&gt;\n",
       "\n",
       "\n",
       "\n",
       "**Levels**: 1. 'Female'\n",
       "2. 'Male'\n",
       "\n",
       "\n"
      ],
      "text/plain": [
       "[1] Male   Female Male   Female Female <NA>  \n",
       "Levels: Female Male"
      ]
     },
     "metadata": {},
     "output_type": "display_data"
    }
   ],
   "source": [
    "gender.factor[6] <- \"Other\"\n",
    "\n",
    "gender.factor"
   ]
  },
  {
   "cell_type": "code",
   "execution_count": 7,
   "metadata": {},
   "outputs": [
    {
     "data": {
      "text/html": [
       "<ol class=list-inline>\n",
       "\t<li>Male</li>\n",
       "\t<li>Female</li>\n",
       "\t<li>Male</li>\n",
       "\t<li>Female</li>\n",
       "\t<li>Female</li>\n",
       "</ol>\n",
       "\n",
       "<details>\n",
       "\t<summary style=display:list-item;cursor:pointer>\n",
       "\t\t<strong>Levels</strong>:\n",
       "\t</summary>\n",
       "\t<ol class=list-inline>\n",
       "\t\t<li>'Female'</li>\n",
       "\t\t<li>'Male'</li>\n",
       "\t\t<li>'Other'</li>\n",
       "\t</ol>\n",
       "</details>"
      ],
      "text/latex": [
       "\\begin{enumerate*}\n",
       "\\item Male\n",
       "\\item Female\n",
       "\\item Male\n",
       "\\item Female\n",
       "\\item Female\n",
       "\\end{enumerate*}\n",
       "\n",
       "\\emph{Levels}: \\begin{enumerate*}\n",
       "\\item 'Female'\n",
       "\\item 'Male'\n",
       "\\item 'Other'\n",
       "\\end{enumerate*}\n"
      ],
      "text/markdown": [
       "1. Male\n",
       "2. Female\n",
       "3. Male\n",
       "4. Female\n",
       "5. Female\n",
       "\n",
       "\n",
       "\n",
       "**Levels**: 1. 'Female'\n",
       "2. 'Male'\n",
       "3. 'Other'\n",
       "\n",
       "\n"
      ],
      "text/plain": [
       "[1] Male   Female Male   Female Female\n",
       "Levels: Female Male Other"
      ]
     },
     "metadata": {},
     "output_type": "display_data"
    }
   ],
   "source": [
    "gender.factor <- factor(gender, levels=c(\"Female\", \"Male\", \"Other\"))\n",
    "\n",
    "gender.factor"
   ]
  },
  {
   "cell_type": "code",
   "execution_count": 8,
   "metadata": {},
   "outputs": [
    {
     "data": {
      "text/html": [
       "<ol class=list-inline>\n",
       "\t<li>'Female'</li>\n",
       "\t<li>'Male'</li>\n",
       "\t<li>'Other'</li>\n",
       "</ol>\n"
      ],
      "text/latex": [
       "\\begin{enumerate*}\n",
       "\\item 'Female'\n",
       "\\item 'Male'\n",
       "\\item 'Other'\n",
       "\\end{enumerate*}\n"
      ],
      "text/markdown": [
       "1. 'Female'\n",
       "2. 'Male'\n",
       "3. 'Other'\n",
       "\n",
       "\n"
      ],
      "text/plain": [
       "[1] \"Female\" \"Male\"   \"Other\" "
      ]
     },
     "metadata": {},
     "output_type": "display_data"
    }
   ],
   "source": [
    "levels(gender.factor)"
   ]
  },
  {
   "cell_type": "code",
   "execution_count": 9,
   "metadata": {},
   "outputs": [
    {
     "data": {
      "text/html": [
       "3"
      ],
      "text/latex": [
       "3"
      ],
      "text/markdown": [
       "3"
      ],
      "text/plain": [
       "[1] 3"
      ]
     },
     "metadata": {},
     "output_type": "display_data"
    }
   ],
   "source": [
    "nlevels(gender.factor)"
   ]
  },
  {
   "cell_type": "code",
   "execution_count": 10,
   "metadata": {},
   "outputs": [
    {
     "data": {
      "text/html": [
       "<ol class=list-inline>\n",
       "\t<li>Male</li>\n",
       "\t<li>Female</li>\n",
       "\t<li>Male</li>\n",
       "\t<li>Female</li>\n",
       "\t<li>Female</li>\n",
       "\t<li>Other</li>\n",
       "</ol>\n",
       "\n",
       "<details>\n",
       "\t<summary style=display:list-item;cursor:pointer>\n",
       "\t\t<strong>Levels</strong>:\n",
       "\t</summary>\n",
       "\t<ol class=list-inline>\n",
       "\t\t<li>'Female'</li>\n",
       "\t\t<li>'Male'</li>\n",
       "\t\t<li>'Other'</li>\n",
       "\t</ol>\n",
       "</details>"
      ],
      "text/latex": [
       "\\begin{enumerate*}\n",
       "\\item Male\n",
       "\\item Female\n",
       "\\item Male\n",
       "\\item Female\n",
       "\\item Female\n",
       "\\item Other\n",
       "\\end{enumerate*}\n",
       "\n",
       "\\emph{Levels}: \\begin{enumerate*}\n",
       "\\item 'Female'\n",
       "\\item 'Male'\n",
       "\\item 'Other'\n",
       "\\end{enumerate*}\n"
      ],
      "text/markdown": [
       "1. Male\n",
       "2. Female\n",
       "3. Male\n",
       "4. Female\n",
       "5. Female\n",
       "6. Other\n",
       "\n",
       "\n",
       "\n",
       "**Levels**: 1. 'Female'\n",
       "2. 'Male'\n",
       "3. 'Other'\n",
       "\n",
       "\n"
      ],
      "text/plain": [
       "[1] Male   Female Male   Female Female Other \n",
       "Levels: Female Male Other"
      ]
     },
     "metadata": {},
     "output_type": "display_data"
    }
   ],
   "source": [
    "gender.factor[6] <- \"Other\"\n",
    "\n",
    "gender.factor"
   ]
  },
  {
   "cell_type": "code",
   "execution_count": 11,
   "metadata": {},
   "outputs": [
    {
     "name": "stdout",
     "output_type": "stream",
     "text": [
      " Factor w/ 3 levels \"Female\",\"Male\",..: 2 1 2 1 1 3\n"
     ]
    }
   ],
   "source": [
    "str(gender.factor)"
   ]
  },
  {
   "cell_type": "code",
   "execution_count": 12,
   "metadata": {},
   "outputs": [
    {
     "data": {
      "text/plain": [
       "800160 bytes"
      ]
     },
     "metadata": {},
     "output_type": "display_data"
    }
   ],
   "source": [
    "gender.char <- sample(c(\"female\", \"male\"), 100000, replace = TRUE)\n",
    "\n",
    "object.size(gender.char)"
   ]
  },
  {
   "cell_type": "code",
   "execution_count": 13,
   "metadata": {},
   "outputs": [
    {
     "data": {
      "text/plain": [
       "400560 bytes"
      ]
     },
     "metadata": {},
     "output_type": "display_data"
    }
   ],
   "source": [
    "gender.fac <- factor(gender.char)\n",
    "\n",
    "object.size(gender.fac)"
   ]
  },
  {
   "cell_type": "code",
   "execution_count": 14,
   "metadata": {},
   "outputs": [
    {
     "data": {
      "text/html": [
       "<table>\n",
       "<thead><tr><th scope=col>id</th><th scope=col>name</th><th scope=col>department</th><th scope=col>gender</th><th scope=col>type</th><th scope=col>salary</th></tr></thead>\n",
       "<tbody>\n",
       "\t<tr><td>1001            </td><td>Amanda          </td><td>Test Engineering</td><td>F               </td><td>Fulltime        </td><td>135000          </td></tr>\n",
       "\t<tr><td>1002            </td><td>Isaac           </td><td>Test Engineering</td><td>M               </td><td>Fulltime        </td><td> 28000          </td></tr>\n",
       "\t<tr><td>1003            </td><td>Philip          </td><td>Engineering     </td><td>M               </td><td>Contract        </td><td> 40000          </td></tr>\n",
       "\t<tr><td>1004            </td><td>Felicia         </td><td>Engineering     </td><td>F               </td><td>Contract        </td><td>166000          </td></tr>\n",
       "\t<tr><td>1005            </td><td>Jason           </td><td>Sales           </td><td>M               </td><td>Fulltime        </td><td>135000          </td></tr>\n",
       "\t<tr><td>1006            </td><td>George          </td><td>HR              </td><td>M               </td><td>Contract        </td><td> 40000          </td></tr>\n",
       "\t<tr><td>1007            </td><td>Lily            </td><td>Operations      </td><td>F               </td><td>Fulltime        </td><td> 50000          </td></tr>\n",
       "</tbody>\n",
       "</table>\n"
      ],
      "text/latex": [
       "\\begin{tabular}{r|llllll}\n",
       " id & name & department & gender & type & salary\\\\\n",
       "\\hline\n",
       "\t 1001             & Amanda           & Test Engineering & F                & Fulltime         & 135000          \\\\\n",
       "\t 1002             & Isaac            & Test Engineering & M                & Fulltime         &  28000          \\\\\n",
       "\t 1003             & Philip           & Engineering      & M                & Contract         &  40000          \\\\\n",
       "\t 1004             & Felicia          & Engineering      & F                & Contract         & 166000          \\\\\n",
       "\t 1005             & Jason            & Sales            & M                & Fulltime         & 135000          \\\\\n",
       "\t 1006             & George           & HR               & M                & Contract         &  40000          \\\\\n",
       "\t 1007             & Lily             & Operations       & F                & Fulltime         &  50000          \\\\\n",
       "\\end{tabular}\n"
      ],
      "text/markdown": [
       "\n",
       "| id | name | department | gender | type | salary |\n",
       "|---|---|---|---|---|---|\n",
       "| 1001             | Amanda           | Test Engineering | F                | Fulltime         | 135000           |\n",
       "| 1002             | Isaac            | Test Engineering | M                | Fulltime         |  28000           |\n",
       "| 1003             | Philip           | Engineering      | M                | Contract         |  40000           |\n",
       "| 1004             | Felicia          | Engineering      | F                | Contract         | 166000           |\n",
       "| 1005             | Jason            | Sales            | M                | Fulltime         | 135000           |\n",
       "| 1006             | George           | HR               | M                | Contract         |  40000           |\n",
       "| 1007             | Lily             | Operations       | F                | Fulltime         |  50000           |\n",
       "\n"
      ],
      "text/plain": [
       "  id   name    department       gender type     salary\n",
       "1 1001 Amanda  Test Engineering F      Fulltime 135000\n",
       "2 1002 Isaac   Test Engineering M      Fulltime  28000\n",
       "3 1003 Philip  Engineering      M      Contract  40000\n",
       "4 1004 Felicia Engineering      F      Contract 166000\n",
       "5 1005 Jason   Sales            M      Fulltime 135000\n",
       "6 1006 George  HR               M      Contract  40000\n",
       "7 1007 Lily    Operations       F      Fulltime  50000"
      ]
     },
     "metadata": {},
     "output_type": "display_data"
    }
   ],
   "source": [
    "employee.data <- data.frame(id = 1001:1007,\n",
    "                            \n",
    "                            name = c(\"Amanda\", \"Isaac\", \"Philip\", \n",
    "                                     \"Felicia\", \"Jason\", \"George\", \"Lily\"),\n",
    "                            \n",
    "                            department = c(\"Test Engineering\", \"Test Engineering\", \n",
    "                                           \"Engineering\", \"Engineering\",\n",
    "                                           \"Sales\", \"HR\", \"Operations\"),\n",
    "                            \n",
    "                            gender = c(\"F\", \"M\", \"M\", \"F\", \"M\", \"M\", \"F\"),\n",
    "                            \n",
    "                            type = c(\"Fulltime\", \"Fulltime\", \"Contract\", \"Contract\", \n",
    "                                     \"Fulltime\", \"Contract\", \"Fulltime\"),\n",
    "                            \n",
    "                            salary = c(135000, 28000, 40000, 166000, 135000, 40000, 50000),\n",
    "                            \n",
    "                            stringsAsFactors = TRUE)\n",
    "\n",
    "employee.data"
   ]
  },
  {
   "cell_type": "code",
   "execution_count": 15,
   "metadata": {},
   "outputs": [
    {
     "data": {
      "text/html": [
       "'factor'"
      ],
      "text/latex": [
       "'factor'"
      ],
      "text/markdown": [
       "'factor'"
      ],
      "text/plain": [
       "[1] \"factor\""
      ]
     },
     "metadata": {},
     "output_type": "display_data"
    }
   ],
   "source": [
    "class(employee.data$department)"
   ]
  },
  {
   "cell_type": "code",
   "execution_count": 16,
   "metadata": {},
   "outputs": [
    {
     "data": {
      "text/html": [
       "'factor'"
      ],
      "text/latex": [
       "'factor'"
      ],
      "text/markdown": [
       "'factor'"
      ],
      "text/plain": [
       "[1] \"factor\""
      ]
     },
     "metadata": {},
     "output_type": "display_data"
    }
   ],
   "source": [
    "class(employee.data$name)"
   ]
  },
  {
   "cell_type": "code",
   "execution_count": 17,
   "metadata": {},
   "outputs": [
    {
     "data": {
      "text/html": [
       "<table>\n",
       "<thead><tr><th scope=col>id</th><th scope=col>name</th><th scope=col>department</th><th scope=col>gender</th><th scope=col>type</th><th scope=col>salary</th></tr></thead>\n",
       "<tbody>\n",
       "\t<tr><td>1001            </td><td>Amanda          </td><td>Test Engineering</td><td>F               </td><td>Fulltime        </td><td>135000          </td></tr>\n",
       "\t<tr><td>1002            </td><td>Isaac           </td><td>Test Engineering</td><td>M               </td><td>Fulltime        </td><td> 28000          </td></tr>\n",
       "\t<tr><td>1003            </td><td>Philip          </td><td>Engineering     </td><td>M               </td><td>Contract        </td><td> 40000          </td></tr>\n",
       "\t<tr><td>1004            </td><td>Felicia         </td><td>Engineering     </td><td>F               </td><td>Contract        </td><td>166000          </td></tr>\n",
       "\t<tr><td>1005            </td><td>Jason           </td><td>Sales           </td><td>M               </td><td>Parttime        </td><td>135000          </td></tr>\n",
       "\t<tr><td>1006            </td><td>George          </td><td>HR              </td><td>M               </td><td>Parttime        </td><td> 40000          </td></tr>\n",
       "\t<tr><td>1007            </td><td>Lily            </td><td>Operations      </td><td>F               </td><td>Fulltime        </td><td> 50000          </td></tr>\n",
       "</tbody>\n",
       "</table>\n"
      ],
      "text/latex": [
       "\\begin{tabular}{r|llllll}\n",
       " id & name & department & gender & type & salary\\\\\n",
       "\\hline\n",
       "\t 1001             & Amanda           & Test Engineering & F                & Fulltime         & 135000          \\\\\n",
       "\t 1002             & Isaac            & Test Engineering & M                & Fulltime         &  28000          \\\\\n",
       "\t 1003             & Philip           & Engineering      & M                & Contract         &  40000          \\\\\n",
       "\t 1004             & Felicia          & Engineering      & F                & Contract         & 166000          \\\\\n",
       "\t 1005             & Jason            & Sales            & M                & Parttime         & 135000          \\\\\n",
       "\t 1006             & George           & HR               & M                & Parttime         &  40000          \\\\\n",
       "\t 1007             & Lily             & Operations       & F                & Fulltime         &  50000          \\\\\n",
       "\\end{tabular}\n"
      ],
      "text/markdown": [
       "\n",
       "| id | name | department | gender | type | salary |\n",
       "|---|---|---|---|---|---|\n",
       "| 1001             | Amanda           | Test Engineering | F                | Fulltime         | 135000           |\n",
       "| 1002             | Isaac            | Test Engineering | M                | Fulltime         |  28000           |\n",
       "| 1003             | Philip           | Engineering      | M                | Contract         |  40000           |\n",
       "| 1004             | Felicia          | Engineering      | F                | Contract         | 166000           |\n",
       "| 1005             | Jason            | Sales            | M                | Parttime         | 135000           |\n",
       "| 1006             | George           | HR               | M                | Parttime         |  40000           |\n",
       "| 1007             | Lily             | Operations       | F                | Fulltime         |  50000           |\n",
       "\n"
      ],
      "text/plain": [
       "  id   name    department       gender type     salary\n",
       "1 1001 Amanda  Test Engineering F      Fulltime 135000\n",
       "2 1002 Isaac   Test Engineering M      Fulltime  28000\n",
       "3 1003 Philip  Engineering      M      Contract  40000\n",
       "4 1004 Felicia Engineering      F      Contract 166000\n",
       "5 1005 Jason   Sales            M      Parttime 135000\n",
       "6 1006 George  HR               M      Parttime  40000\n",
       "7 1007 Lily    Operations       F      Fulltime  50000"
      ]
     },
     "metadata": {},
     "output_type": "display_data"
    }
   ],
   "source": [
    "employee.data <- data.frame(id = 1001:1007,\n",
    "                            \n",
    "                            name = c(\"Amanda\", \"Isaac\", \"Philip\", \n",
    "                                     \"Felicia\", \"Jason\", \"George\", \"Lily\"),\n",
    "                            \n",
    "                            department = factor(c(\"Test Engineering\", \"Test Engineering\", \n",
    "                                                  \"Engineering\", \"Engineering\",\n",
    "                                                  \"Sales\", \"HR\", \"Operations\")),\n",
    "                            \n",
    "                            gender = factor(c(\"F\", \"M\", \"M\", \"F\", \"M\", \"M\", \"F\")),\n",
    "                            \n",
    "                            type = factor(c(\"Fulltime\", \"Fulltime\", \"Contract\", \n",
    "                                            \"Contract\", \"Parttime\", \"Parttime\", \"Fulltime\"), \n",
    "                                          levels=c(\"Fulltime\", \"Contract\", \"Parttime\")),\n",
    "                            \n",
    "                            salary = c(135000, 28000, 40000, 166000, 135000, 40000, 50000),\n",
    "                            \n",
    "                            stringsAsFactors = FALSE)\n",
    "\n",
    "employee.data"
   ]
  },
  {
   "cell_type": "code",
   "execution_count": 18,
   "metadata": {},
   "outputs": [
    {
     "data": {
      "text/html": [
       "'character'"
      ],
      "text/latex": [
       "'character'"
      ],
      "text/markdown": [
       "'character'"
      ],
      "text/plain": [
       "[1] \"character\""
      ]
     },
     "metadata": {},
     "output_type": "display_data"
    }
   ],
   "source": [
    "class(employee.data$name)"
   ]
  },
  {
   "cell_type": "code",
   "execution_count": 19,
   "metadata": {},
   "outputs": [
    {
     "data": {
      "text/html": [
       "'factor'"
      ],
      "text/latex": [
       "'factor'"
      ],
      "text/markdown": [
       "'factor'"
      ],
      "text/plain": [
       "[1] \"factor\""
      ]
     },
     "metadata": {},
     "output_type": "display_data"
    }
   ],
   "source": [
    "class(employee.data$department)"
   ]
  },
  {
   "cell_type": "code",
   "execution_count": 20,
   "metadata": {},
   "outputs": [
    {
     "data": {
      "text/html": [
       "<ol class=list-inline>\n",
       "\t<li>Test Engineering</li>\n",
       "\t<li>Test Engineering</li>\n",
       "\t<li>Engineering</li>\n",
       "\t<li>Engineering</li>\n",
       "\t<li>Sales</li>\n",
       "\t<li>HR</li>\n",
       "\t<li>Operations</li>\n",
       "</ol>\n",
       "\n",
       "<details>\n",
       "\t<summary style=display:list-item;cursor:pointer>\n",
       "\t\t<strong>Levels</strong>:\n",
       "\t</summary>\n",
       "\t<ol class=list-inline>\n",
       "\t\t<li>'Engineering'</li>\n",
       "\t\t<li>'HR'</li>\n",
       "\t\t<li>'Operations'</li>\n",
       "\t\t<li>'Sales'</li>\n",
       "\t\t<li>'Test Engineering'</li>\n",
       "\t</ol>\n",
       "</details>"
      ],
      "text/latex": [
       "\\begin{enumerate*}\n",
       "\\item Test Engineering\n",
       "\\item Test Engineering\n",
       "\\item Engineering\n",
       "\\item Engineering\n",
       "\\item Sales\n",
       "\\item HR\n",
       "\\item Operations\n",
       "\\end{enumerate*}\n",
       "\n",
       "\\emph{Levels}: \\begin{enumerate*}\n",
       "\\item 'Engineering'\n",
       "\\item 'HR'\n",
       "\\item 'Operations'\n",
       "\\item 'Sales'\n",
       "\\item 'Test Engineering'\n",
       "\\end{enumerate*}\n"
      ],
      "text/markdown": [
       "1. Test Engineering\n",
       "2. Test Engineering\n",
       "3. Engineering\n",
       "4. Engineering\n",
       "5. Sales\n",
       "6. HR\n",
       "7. Operations\n",
       "\n",
       "\n",
       "\n",
       "**Levels**: 1. 'Engineering'\n",
       "2. 'HR'\n",
       "3. 'Operations'\n",
       "4. 'Sales'\n",
       "5. 'Test Engineering'\n",
       "\n",
       "\n"
      ],
      "text/plain": [
       "[1] Test Engineering Test Engineering Engineering      Engineering     \n",
       "[5] Sales            HR               Operations      \n",
       "Levels: Engineering HR Operations Sales Test Engineering"
      ]
     },
     "metadata": {},
     "output_type": "display_data"
    }
   ],
   "source": [
    "employee.data$department"
   ]
  },
  {
   "cell_type": "code",
   "execution_count": 21,
   "metadata": {},
   "outputs": [
    {
     "data": {
      "text/html": [
       "<ol class=list-inline>\n",
       "\t<li>F</li>\n",
       "\t<li>M</li>\n",
       "\t<li>M</li>\n",
       "\t<li>F</li>\n",
       "\t<li>M</li>\n",
       "\t<li>M</li>\n",
       "\t<li>F</li>\n",
       "</ol>\n",
       "\n",
       "<details>\n",
       "\t<summary style=display:list-item;cursor:pointer>\n",
       "\t\t<strong>Levels</strong>:\n",
       "\t</summary>\n",
       "\t<ol class=list-inline>\n",
       "\t\t<li>'F'</li>\n",
       "\t\t<li>'M'</li>\n",
       "\t</ol>\n",
       "</details>"
      ],
      "text/latex": [
       "\\begin{enumerate*}\n",
       "\\item F\n",
       "\\item M\n",
       "\\item M\n",
       "\\item F\n",
       "\\item M\n",
       "\\item M\n",
       "\\item F\n",
       "\\end{enumerate*}\n",
       "\n",
       "\\emph{Levels}: \\begin{enumerate*}\n",
       "\\item 'F'\n",
       "\\item 'M'\n",
       "\\end{enumerate*}\n"
      ],
      "text/markdown": [
       "1. F\n",
       "2. M\n",
       "3. M\n",
       "4. F\n",
       "5. M\n",
       "6. M\n",
       "7. F\n",
       "\n",
       "\n",
       "\n",
       "**Levels**: 1. 'F'\n",
       "2. 'M'\n",
       "\n",
       "\n"
      ],
      "text/plain": [
       "[1] F M M F M M F\n",
       "Levels: F M"
      ]
     },
     "metadata": {},
     "output_type": "display_data"
    }
   ],
   "source": [
    "employee.data$gender"
   ]
  },
  {
   "cell_type": "code",
   "execution_count": 22,
   "metadata": {},
   "outputs": [
    {
     "data": {
      "text/html": [
       "<ol class=list-inline>\n",
       "\t<li>Fulltime</li>\n",
       "\t<li>Fulltime</li>\n",
       "\t<li>Contract</li>\n",
       "\t<li>Contract</li>\n",
       "\t<li>Parttime</li>\n",
       "\t<li>Parttime</li>\n",
       "\t<li>Fulltime</li>\n",
       "</ol>\n",
       "\n",
       "<details>\n",
       "\t<summary style=display:list-item;cursor:pointer>\n",
       "\t\t<strong>Levels</strong>:\n",
       "\t</summary>\n",
       "\t<ol class=list-inline>\n",
       "\t\t<li>'Fulltime'</li>\n",
       "\t\t<li>'Contract'</li>\n",
       "\t\t<li>'Parttime'</li>\n",
       "\t</ol>\n",
       "</details>"
      ],
      "text/latex": [
       "\\begin{enumerate*}\n",
       "\\item Fulltime\n",
       "\\item Fulltime\n",
       "\\item Contract\n",
       "\\item Contract\n",
       "\\item Parttime\n",
       "\\item Parttime\n",
       "\\item Fulltime\n",
       "\\end{enumerate*}\n",
       "\n",
       "\\emph{Levels}: \\begin{enumerate*}\n",
       "\\item 'Fulltime'\n",
       "\\item 'Contract'\n",
       "\\item 'Parttime'\n",
       "\\end{enumerate*}\n"
      ],
      "text/markdown": [
       "1. Fulltime\n",
       "2. Fulltime\n",
       "3. Contract\n",
       "4. Contract\n",
       "5. Parttime\n",
       "6. Parttime\n",
       "7. Fulltime\n",
       "\n",
       "\n",
       "\n",
       "**Levels**: 1. 'Fulltime'\n",
       "2. 'Contract'\n",
       "3. 'Parttime'\n",
       "\n",
       "\n"
      ],
      "text/plain": [
       "[1] Fulltime Fulltime Contract Contract Parttime Parttime Fulltime\n",
       "Levels: Fulltime Contract Parttime"
      ]
     },
     "metadata": {},
     "output_type": "display_data"
    }
   ],
   "source": [
    "employee.data$type"
   ]
  },
  {
   "cell_type": "code",
   "execution_count": 23,
   "metadata": {},
   "outputs": [
    {
     "data": {
      "text/html": [
       "Fulltime\n",
       "<details>\n",
       "\t<summary style=display:list-item;cursor:pointer>\n",
       "\t\t<strong>Levels</strong>:\n",
       "\t</summary>\n",
       "\t<ol class=list-inline>\n",
       "\t\t<li>'Fulltime'</li>\n",
       "\t\t<li>'Contract'</li>\n",
       "\t\t<li>'Parttime'</li>\n",
       "\t</ol>\n",
       "</details>"
      ],
      "text/latex": [
       "Fulltime\n",
       "\\emph{Levels}: \\begin{enumerate*}\n",
       "\\item 'Fulltime'\n",
       "\\item 'Contract'\n",
       "\\item 'Parttime'\n",
       "\\end{enumerate*}\n"
      ],
      "text/markdown": [
       "Fulltime\n",
       "**Levels**: 1. 'Fulltime'\n",
       "2. 'Contract'\n",
       "3. 'Parttime'\n",
       "\n",
       "\n"
      ],
      "text/plain": [
       "[1] Fulltime\n",
       "Levels: Fulltime Contract Parttime"
      ]
     },
     "metadata": {},
     "output_type": "display_data"
    }
   ],
   "source": [
    "employee.data$type[1]"
   ]
  },
  {
   "cell_type": "code",
   "execution_count": 24,
   "metadata": {},
   "outputs": [
    {
     "data": {
      "text/html": [
       "<table>\n",
       "<thead><tr><th></th><th scope=col>id</th><th scope=col>name</th><th scope=col>department</th><th scope=col>gender</th><th scope=col>type</th><th scope=col>salary</th></tr></thead>\n",
       "<tbody>\n",
       "\t<tr><th scope=row>1</th><td>1001            </td><td>Amanda          </td><td>Test Engineering</td><td>F               </td><td>Fulltime        </td><td>135000          </td></tr>\n",
       "\t<tr><th scope=row>2</th><td>1002            </td><td>Isaac           </td><td>Test Engineering</td><td>M               </td><td>Fulltime        </td><td> 28000          </td></tr>\n",
       "\t<tr><th scope=row>5</th><td>1005            </td><td>Jason           </td><td>Sales           </td><td>M               </td><td>Parttime        </td><td>135000          </td></tr>\n",
       "\t<tr><th scope=row>6</th><td>1006            </td><td>George          </td><td>HR              </td><td>M               </td><td>Parttime        </td><td> 40000          </td></tr>\n",
       "</tbody>\n",
       "</table>\n"
      ],
      "text/latex": [
       "\\begin{tabular}{r|llllll}\n",
       "  & id & name & department & gender & type & salary\\\\\n",
       "\\hline\n",
       "\t1 & 1001             & Amanda           & Test Engineering & F                & Fulltime         & 135000          \\\\\n",
       "\t2 & 1002             & Isaac            & Test Engineering & M                & Fulltime         &  28000          \\\\\n",
       "\t5 & 1005             & Jason            & Sales            & M                & Parttime         & 135000          \\\\\n",
       "\t6 & 1006             & George           & HR               & M                & Parttime         &  40000          \\\\\n",
       "\\end{tabular}\n"
      ],
      "text/markdown": [
       "\n",
       "| <!--/--> | id | name | department | gender | type | salary |\n",
       "|---|---|---|---|---|---|---|\n",
       "| 1 | 1001             | Amanda           | Test Engineering | F                | Fulltime         | 135000           |\n",
       "| 2 | 1002             | Isaac            | Test Engineering | M                | Fulltime         |  28000           |\n",
       "| 5 | 1005             | Jason            | Sales            | M                | Parttime         | 135000           |\n",
       "| 6 | 1006             | George           | HR               | M                | Parttime         |  40000           |\n",
       "\n"
      ],
      "text/plain": [
       "  id   name   department       gender type     salary\n",
       "1 1001 Amanda Test Engineering F      Fulltime 135000\n",
       "2 1002 Isaac  Test Engineering M      Fulltime  28000\n",
       "5 1005 Jason  Sales            M      Parttime 135000\n",
       "6 1006 George HR               M      Parttime  40000"
      ]
     },
     "metadata": {},
     "output_type": "display_data"
    }
   ],
   "source": [
    "employee.data.subset <- employee.data[employee.data$department == \"Test Engineering\" |\n",
    "                                      employee.data$department == \"Sales\" |\n",
    "                                      employee.data$department == \"HR\",]\n",
    "\n",
    "employee.data.subset"
   ]
  },
  {
   "cell_type": "code",
   "execution_count": 25,
   "metadata": {},
   "outputs": [
    {
     "data": {
      "text/html": [
       "<ol class=list-inline>\n",
       "\t<li>Fulltime</li>\n",
       "\t<li>Parttime</li>\n",
       "</ol>\n",
       "\n",
       "<details>\n",
       "\t<summary style=display:list-item;cursor:pointer>\n",
       "\t\t<strong>Levels</strong>:\n",
       "\t</summary>\n",
       "\t<ol class=list-inline>\n",
       "\t\t<li>'Fulltime'</li>\n",
       "\t\t<li>'Contract'</li>\n",
       "\t\t<li>'Parttime'</li>\n",
       "\t</ol>\n",
       "</details>"
      ],
      "text/latex": [
       "\\begin{enumerate*}\n",
       "\\item Fulltime\n",
       "\\item Parttime\n",
       "\\end{enumerate*}\n",
       "\n",
       "\\emph{Levels}: \\begin{enumerate*}\n",
       "\\item 'Fulltime'\n",
       "\\item 'Contract'\n",
       "\\item 'Parttime'\n",
       "\\end{enumerate*}\n"
      ],
      "text/markdown": [
       "1. Fulltime\n",
       "2. Parttime\n",
       "\n",
       "\n",
       "\n",
       "**Levels**: 1. 'Fulltime'\n",
       "2. 'Contract'\n",
       "3. 'Parttime'\n",
       "\n",
       "\n"
      ],
      "text/plain": [
       "[1] Fulltime Parttime\n",
       "Levels: Fulltime Contract Parttime"
      ]
     },
     "metadata": {},
     "output_type": "display_data"
    }
   ],
   "source": [
    "unique(employee.data.subset$type)"
   ]
  },
  {
   "cell_type": "code",
   "execution_count": 26,
   "metadata": {},
   "outputs": [
    {
     "data": {
      "text/html": [
       "<ol class=list-inline>\n",
       "\t<li>Fulltime</li>\n",
       "\t<li>Fulltime</li>\n",
       "\t<li>Parttime</li>\n",
       "\t<li>Parttime</li>\n",
       "</ol>\n",
       "\n",
       "<details>\n",
       "\t<summary style=display:list-item;cursor:pointer>\n",
       "\t\t<strong>Levels</strong>:\n",
       "\t</summary>\n",
       "\t<ol class=list-inline>\n",
       "\t\t<li>'Fulltime'</li>\n",
       "\t\t<li>'Parttime'</li>\n",
       "\t</ol>\n",
       "</details>"
      ],
      "text/latex": [
       "\\begin{enumerate*}\n",
       "\\item Fulltime\n",
       "\\item Fulltime\n",
       "\\item Parttime\n",
       "\\item Parttime\n",
       "\\end{enumerate*}\n",
       "\n",
       "\\emph{Levels}: \\begin{enumerate*}\n",
       "\\item 'Fulltime'\n",
       "\\item 'Parttime'\n",
       "\\end{enumerate*}\n"
      ],
      "text/markdown": [
       "1. Fulltime\n",
       "2. Fulltime\n",
       "3. Parttime\n",
       "4. Parttime\n",
       "\n",
       "\n",
       "\n",
       "**Levels**: 1. 'Fulltime'\n",
       "2. 'Parttime'\n",
       "\n",
       "\n"
      ],
      "text/plain": [
       "[1] Fulltime Fulltime Parttime Parttime\n",
       "Levels: Fulltime Parttime"
      ]
     },
     "metadata": {},
     "output_type": "display_data"
    }
   ],
   "source": [
    "employee.data.subset$type <- droplevels(employee.data.subset$type)\n",
    "\n",
    "employee.data.subset$type"
   ]
  },
  {
   "cell_type": "code",
   "execution_count": 27,
   "metadata": {},
   "outputs": [
    {
     "data": {
      "text/html": [
       "<ol class=list-inline>\n",
       "\t<li>'low'</li>\n",
       "\t<li>'high'</li>\n",
       "\t<li>'high'</li>\n",
       "\t<li>'medium'</li>\n",
       "\t<li>'medium'</li>\n",
       "\t<li>'urgent'</li>\n",
       "\t<li>'medium'</li>\n",
       "\t<li>'high'</li>\n",
       "\t<li>'high'</li>\n",
       "\t<li>'medium'</li>\n",
       "\t<li>'high'</li>\n",
       "\t<li>'low'</li>\n",
       "\t<li>'urgent'</li>\n",
       "\t<li>'low'</li>\n",
       "\t<li>'high'</li>\n",
       "\t<li>'urgent'</li>\n",
       "\t<li>'low'</li>\n",
       "\t<li>'urgent'</li>\n",
       "\t<li>'high'</li>\n",
       "\t<li>'low'</li>\n",
       "\t<li>'low'</li>\n",
       "\t<li>'medium'</li>\n",
       "\t<li>'urgent'</li>\n",
       "\t<li>'urgent'</li>\n",
       "\t<li>'high'</li>\n",
       "\t<li>'high'</li>\n",
       "\t<li>'low'</li>\n",
       "\t<li>'high'</li>\n",
       "\t<li>'low'</li>\n",
       "\t<li>'urgent'</li>\n",
       "\t<li>'low'</li>\n",
       "\t<li>'high'</li>\n",
       "\t<li>'low'</li>\n",
       "\t<li>'medium'</li>\n",
       "\t<li>'urgent'</li>\n",
       "\t<li>'urgent'</li>\n",
       "\t<li>'low'</li>\n",
       "\t<li>'low'</li>\n",
       "\t<li>'medium'</li>\n",
       "\t<li>'high'</li>\n",
       "\t<li>'low'</li>\n",
       "\t<li>'high'</li>\n",
       "\t<li>'low'</li>\n",
       "\t<li>'medium'</li>\n",
       "\t<li>'medium'</li>\n",
       "\t<li>'high'</li>\n",
       "\t<li>'urgent'</li>\n",
       "\t<li>'urgent'</li>\n",
       "\t<li>'medium'</li>\n",
       "\t<li>'high'</li>\n",
       "</ol>\n"
      ],
      "text/latex": [
       "\\begin{enumerate*}\n",
       "\\item 'low'\n",
       "\\item 'high'\n",
       "\\item 'high'\n",
       "\\item 'medium'\n",
       "\\item 'medium'\n",
       "\\item 'urgent'\n",
       "\\item 'medium'\n",
       "\\item 'high'\n",
       "\\item 'high'\n",
       "\\item 'medium'\n",
       "\\item 'high'\n",
       "\\item 'low'\n",
       "\\item 'urgent'\n",
       "\\item 'low'\n",
       "\\item 'high'\n",
       "\\item 'urgent'\n",
       "\\item 'low'\n",
       "\\item 'urgent'\n",
       "\\item 'high'\n",
       "\\item 'low'\n",
       "\\item 'low'\n",
       "\\item 'medium'\n",
       "\\item 'urgent'\n",
       "\\item 'urgent'\n",
       "\\item 'high'\n",
       "\\item 'high'\n",
       "\\item 'low'\n",
       "\\item 'high'\n",
       "\\item 'low'\n",
       "\\item 'urgent'\n",
       "\\item 'low'\n",
       "\\item 'high'\n",
       "\\item 'low'\n",
       "\\item 'medium'\n",
       "\\item 'urgent'\n",
       "\\item 'urgent'\n",
       "\\item 'low'\n",
       "\\item 'low'\n",
       "\\item 'medium'\n",
       "\\item 'high'\n",
       "\\item 'low'\n",
       "\\item 'high'\n",
       "\\item 'low'\n",
       "\\item 'medium'\n",
       "\\item 'medium'\n",
       "\\item 'high'\n",
       "\\item 'urgent'\n",
       "\\item 'urgent'\n",
       "\\item 'medium'\n",
       "\\item 'high'\n",
       "\\end{enumerate*}\n"
      ],
      "text/markdown": [
       "1. 'low'\n",
       "2. 'high'\n",
       "3. 'high'\n",
       "4. 'medium'\n",
       "5. 'medium'\n",
       "6. 'urgent'\n",
       "7. 'medium'\n",
       "8. 'high'\n",
       "9. 'high'\n",
       "10. 'medium'\n",
       "11. 'high'\n",
       "12. 'low'\n",
       "13. 'urgent'\n",
       "14. 'low'\n",
       "15. 'high'\n",
       "16. 'urgent'\n",
       "17. 'low'\n",
       "18. 'urgent'\n",
       "19. 'high'\n",
       "20. 'low'\n",
       "21. 'low'\n",
       "22. 'medium'\n",
       "23. 'urgent'\n",
       "24. 'urgent'\n",
       "25. 'high'\n",
       "26. 'high'\n",
       "27. 'low'\n",
       "28. 'high'\n",
       "29. 'low'\n",
       "30. 'urgent'\n",
       "31. 'low'\n",
       "32. 'high'\n",
       "33. 'low'\n",
       "34. 'medium'\n",
       "35. 'urgent'\n",
       "36. 'urgent'\n",
       "37. 'low'\n",
       "38. 'low'\n",
       "39. 'medium'\n",
       "40. 'high'\n",
       "41. 'low'\n",
       "42. 'high'\n",
       "43. 'low'\n",
       "44. 'medium'\n",
       "45. 'medium'\n",
       "46. 'high'\n",
       "47. 'urgent'\n",
       "48. 'urgent'\n",
       "49. 'medium'\n",
       "50. 'high'\n",
       "\n",
       "\n"
      ],
      "text/plain": [
       " [1] \"low\"    \"high\"   \"high\"   \"medium\" \"medium\" \"urgent\" \"medium\" \"high\"  \n",
       " [9] \"high\"   \"medium\" \"high\"   \"low\"    \"urgent\" \"low\"    \"high\"   \"urgent\"\n",
       "[17] \"low\"    \"urgent\" \"high\"   \"low\"    \"low\"    \"medium\" \"urgent\" \"urgent\"\n",
       "[25] \"high\"   \"high\"   \"low\"    \"high\"   \"low\"    \"urgent\" \"low\"    \"high\"  \n",
       "[33] \"low\"    \"medium\" \"urgent\" \"urgent\" \"low\"    \"low\"    \"medium\" \"high\"  \n",
       "[41] \"low\"    \"high\"   \"low\"    \"medium\" \"medium\" \"high\"   \"urgent\" \"urgent\"\n",
       "[49] \"medium\" \"high\"  "
      ]
     },
     "metadata": {},
     "output_type": "display_data"
    }
   ],
   "source": [
    "bug.priority <- sample(c(\"low\", \"medium\", \"high\", \"urgent\"), 50, replace=TRUE)\n",
    "\n",
    "bug.priority"
   ]
  },
  {
   "cell_type": "code",
   "execution_count": 28,
   "metadata": {},
   "outputs": [
    {
     "data": {
      "text/html": [
       "<ol class=list-inline>\n",
       "\t<li>'high'</li>\n",
       "\t<li>'low'</li>\n",
       "\t<li>'medium'</li>\n",
       "\t<li>'urgent'</li>\n",
       "</ol>\n"
      ],
      "text/latex": [
       "\\begin{enumerate*}\n",
       "\\item 'high'\n",
       "\\item 'low'\n",
       "\\item 'medium'\n",
       "\\item 'urgent'\n",
       "\\end{enumerate*}\n"
      ],
      "text/markdown": [
       "1. 'high'\n",
       "2. 'low'\n",
       "3. 'medium'\n",
       "4. 'urgent'\n",
       "\n",
       "\n"
      ],
      "text/plain": [
       "[1] \"high\"   \"low\"    \"medium\" \"urgent\""
      ]
     },
     "metadata": {},
     "output_type": "display_data"
    }
   ],
   "source": [
    "bug.priority.factor <- factor(bug.priority)\n",
    "\n",
    "levels(bug.priority.factor)"
   ]
  },
  {
   "cell_type": "code",
   "execution_count": 29,
   "metadata": {},
   "outputs": [
    {
     "data": {
      "text/html": [
       "<ol class=list-inline>\n",
       "\t<li>'low'</li>\n",
       "\t<li>'medium'</li>\n",
       "\t<li>'high'</li>\n",
       "\t<li>'urgent'</li>\n",
       "</ol>\n"
      ],
      "text/latex": [
       "\\begin{enumerate*}\n",
       "\\item 'low'\n",
       "\\item 'medium'\n",
       "\\item 'high'\n",
       "\\item 'urgent'\n",
       "\\end{enumerate*}\n"
      ],
      "text/markdown": [
       "1. 'low'\n",
       "2. 'medium'\n",
       "3. 'high'\n",
       "4. 'urgent'\n",
       "\n",
       "\n"
      ],
      "text/plain": [
       "[1] \"low\"    \"medium\" \"high\"   \"urgent\""
      ]
     },
     "metadata": {},
     "output_type": "display_data"
    }
   ],
   "source": [
    "bug.priority.factor <- ordered(bug.priority, levels=c(\"low\", \"medium\", \"high\", \"urgent\"))\n",
    "\n",
    "levels(bug.priority.factor)"
   ]
  },
  {
   "cell_type": "code",
   "execution_count": 30,
   "metadata": {},
   "outputs": [
    {
     "data": {
      "text/html": [
       "<dl class=dl-horizontal>\n",
       "\t<dt>Engineering</dt>\n",
       "\t\t<dd>103000</dd>\n",
       "\t<dt>HR</dt>\n",
       "\t\t<dd>40000</dd>\n",
       "\t<dt>Operations</dt>\n",
       "\t\t<dd>50000</dd>\n",
       "\t<dt>Sales</dt>\n",
       "\t\t<dd>135000</dd>\n",
       "\t<dt>Test Engineering</dt>\n",
       "\t\t<dd>81500</dd>\n",
       "</dl>\n"
      ],
      "text/latex": [
       "\\begin{description*}\n",
       "\\item[Engineering] 103000\n",
       "\\item[HR] 40000\n",
       "\\item[Operations] 50000\n",
       "\\item[Sales] 135000\n",
       "\\item[Test Engineering] 81500\n",
       "\\end{description*}\n"
      ],
      "text/markdown": [
       "Engineering\n",
       ":   103000HR\n",
       ":   40000Operations\n",
       ":   50000Sales\n",
       ":   135000Test Engineering\n",
       ":   81500\n",
       "\n"
      ],
      "text/plain": [
       "     Engineering               HR       Operations            Sales \n",
       "          103000            40000            50000           135000 \n",
       "Test Engineering \n",
       "           81500 "
      ]
     },
     "metadata": {},
     "output_type": "display_data"
    }
   ],
   "source": [
    "tapply(employee.data$salary, employee.data$department, mean)"
   ]
  },
  {
   "cell_type": "code",
   "execution_count": 31,
   "metadata": {},
   "outputs": [
    {
     "data": {
      "text/html": [
       "<dl class=dl-horizontal>\n",
       "\t<dt>Fulltime</dt>\n",
       "\t\t<dd>135000</dd>\n",
       "\t<dt>Contract</dt>\n",
       "\t\t<dd>166000</dd>\n",
       "\t<dt>Parttime</dt>\n",
       "\t\t<dd>135000</dd>\n",
       "</dl>\n"
      ],
      "text/latex": [
       "\\begin{description*}\n",
       "\\item[Fulltime] 135000\n",
       "\\item[Contract] 166000\n",
       "\\item[Parttime] 135000\n",
       "\\end{description*}\n"
      ],
      "text/markdown": [
       "Fulltime\n",
       ":   135000Contract\n",
       ":   166000Parttime\n",
       ":   135000\n",
       "\n"
      ],
      "text/plain": [
       "Fulltime Contract Parttime \n",
       "  135000   166000   135000 "
      ]
     },
     "metadata": {},
     "output_type": "display_data"
    }
   ],
   "source": [
    "tapply(employee.data$salary, employee.data$type, max)"
   ]
  },
  {
   "cell_type": "code",
   "execution_count": 32,
   "metadata": {},
   "outputs": [
    {
     "data": {
      "text/html": [
       "<table>\n",
       "<thead><tr><th></th><th scope=col>Fulltime</th><th scope=col>Contract</th><th scope=col>Parttime</th></tr></thead>\n",
       "<tbody>\n",
       "\t<tr><th scope=row>F</th><td>92500 </td><td>166000</td><td>   NA </td></tr>\n",
       "\t<tr><th scope=row>M</th><td>28000 </td><td> 40000</td><td>87500 </td></tr>\n",
       "</tbody>\n",
       "</table>\n"
      ],
      "text/latex": [
       "\\begin{tabular}{r|lll}\n",
       "  & Fulltime & Contract & Parttime\\\\\n",
       "\\hline\n",
       "\tF & 92500  & 166000 &    NA \\\\\n",
       "\tM & 28000  &  40000 & 87500 \\\\\n",
       "\\end{tabular}\n"
      ],
      "text/markdown": [
       "\n",
       "| <!--/--> | Fulltime | Contract | Parttime |\n",
       "|---|---|---|---|\n",
       "| F | 92500  | 166000 |    NA  |\n",
       "| M | 28000  |  40000 | 87500  |\n",
       "\n"
      ],
      "text/plain": [
       "  Fulltime Contract Parttime\n",
       "F 92500    166000      NA   \n",
       "M 28000     40000   87500   "
      ]
     },
     "metadata": {},
     "output_type": "display_data"
    }
   ],
   "source": [
    "tapply(employee.data$salary, list(employee.data$gender, employee.data$type), median)"
   ]
  },
  {
   "cell_type": "code",
   "execution_count": 33,
   "metadata": {},
   "outputs": [
    {
     "data": {
      "text/html": [
       "<dl>\n",
       "\t<dt>$Engineering</dt>\n",
       "\t\t<dd><table>\n",
       "<thead><tr><th></th><th scope=col>id</th><th scope=col>name</th><th scope=col>department</th><th scope=col>gender</th><th scope=col>type</th><th scope=col>salary</th></tr></thead>\n",
       "<tbody>\n",
       "\t<tr><th scope=row>3</th><td>1003       </td><td>Philip     </td><td>Engineering</td><td>M          </td><td>Contract   </td><td> 40000     </td></tr>\n",
       "\t<tr><th scope=row>4</th><td>1004       </td><td>Felicia    </td><td>Engineering</td><td>F          </td><td>Contract   </td><td>166000     </td></tr>\n",
       "</tbody>\n",
       "</table>\n",
       "</dd>\n",
       "\t<dt>$HR</dt>\n",
       "\t\t<dd><table>\n",
       "<thead><tr><th></th><th scope=col>id</th><th scope=col>name</th><th scope=col>department</th><th scope=col>gender</th><th scope=col>type</th><th scope=col>salary</th></tr></thead>\n",
       "<tbody>\n",
       "\t<tr><th scope=row>6</th><td>1006    </td><td>George  </td><td>HR      </td><td>M       </td><td>Parttime</td><td>40000   </td></tr>\n",
       "</tbody>\n",
       "</table>\n",
       "</dd>\n",
       "\t<dt>$Operations</dt>\n",
       "\t\t<dd><table>\n",
       "<thead><tr><th></th><th scope=col>id</th><th scope=col>name</th><th scope=col>department</th><th scope=col>gender</th><th scope=col>type</th><th scope=col>salary</th></tr></thead>\n",
       "<tbody>\n",
       "\t<tr><th scope=row>7</th><td>1007      </td><td>Lily      </td><td>Operations</td><td>F         </td><td>Fulltime  </td><td>50000     </td></tr>\n",
       "</tbody>\n",
       "</table>\n",
       "</dd>\n",
       "\t<dt>$Sales</dt>\n",
       "\t\t<dd><table>\n",
       "<thead><tr><th></th><th scope=col>id</th><th scope=col>name</th><th scope=col>department</th><th scope=col>gender</th><th scope=col>type</th><th scope=col>salary</th></tr></thead>\n",
       "<tbody>\n",
       "\t<tr><th scope=row>5</th><td>1005    </td><td>Jason   </td><td>Sales   </td><td>M       </td><td>Parttime</td><td>135000  </td></tr>\n",
       "</tbody>\n",
       "</table>\n",
       "</dd>\n",
       "\t<dt>$`Test Engineering`</dt>\n",
       "\t\t<dd><table>\n",
       "<thead><tr><th scope=col>id</th><th scope=col>name</th><th scope=col>department</th><th scope=col>gender</th><th scope=col>type</th><th scope=col>salary</th></tr></thead>\n",
       "<tbody>\n",
       "\t<tr><td>1001            </td><td>Amanda          </td><td>Test Engineering</td><td>F               </td><td>Fulltime        </td><td>135000          </td></tr>\n",
       "\t<tr><td>1002            </td><td>Isaac           </td><td>Test Engineering</td><td>M               </td><td>Fulltime        </td><td> 28000          </td></tr>\n",
       "</tbody>\n",
       "</table>\n",
       "</dd>\n",
       "</dl>\n"
      ],
      "text/latex": [
       "\\begin{description}\n",
       "\\item[\\$Engineering] \\begin{tabular}{r|llllll}\n",
       "  & id & name & department & gender & type & salary\\\\\n",
       "\\hline\n",
       "\t3 & 1003        & Philip      & Engineering & M           & Contract    &  40000     \\\\\n",
       "\t4 & 1004        & Felicia     & Engineering & F           & Contract    & 166000     \\\\\n",
       "\\end{tabular}\n",
       "\n",
       "\\item[\\$HR] \\begin{tabular}{r|llllll}\n",
       "  & id & name & department & gender & type & salary\\\\\n",
       "\\hline\n",
       "\t6 & 1006     & George   & HR       & M        & Parttime & 40000   \\\\\n",
       "\\end{tabular}\n",
       "\n",
       "\\item[\\$Operations] \\begin{tabular}{r|llllll}\n",
       "  & id & name & department & gender & type & salary\\\\\n",
       "\\hline\n",
       "\t7 & 1007       & Lily       & Operations & F          & Fulltime   & 50000     \\\\\n",
       "\\end{tabular}\n",
       "\n",
       "\\item[\\$Sales] \\begin{tabular}{r|llllll}\n",
       "  & id & name & department & gender & type & salary\\\\\n",
       "\\hline\n",
       "\t5 & 1005     & Jason    & Sales    & M        & Parttime & 135000  \\\\\n",
       "\\end{tabular}\n",
       "\n",
       "\\item[\\$`Test Engineering`] \\begin{tabular}{r|llllll}\n",
       " id & name & department & gender & type & salary\\\\\n",
       "\\hline\n",
       "\t 1001             & Amanda           & Test Engineering & F                & Fulltime         & 135000          \\\\\n",
       "\t 1002             & Isaac            & Test Engineering & M                & Fulltime         &  28000          \\\\\n",
       "\\end{tabular}\n",
       "\n",
       "\\end{description}\n"
      ],
      "text/markdown": [
       "$Engineering\n",
       ":   \n",
       "| <!--/--> | id | name | department | gender | type | salary |\n",
       "|---|---|---|---|---|---|---|\n",
       "| 3 | 1003        | Philip      | Engineering | M           | Contract    |  40000      |\n",
       "| 4 | 1004        | Felicia     | Engineering | F           | Contract    | 166000      |\n",
       "\n",
       "\n",
       "$HR\n",
       ":   \n",
       "| <!--/--> | id | name | department | gender | type | salary |\n",
       "|---|---|---|---|---|---|---|\n",
       "| 6 | 1006     | George   | HR       | M        | Parttime | 40000    |\n",
       "\n",
       "\n",
       "$Operations\n",
       ":   \n",
       "| <!--/--> | id | name | department | gender | type | salary |\n",
       "|---|---|---|---|---|---|---|\n",
       "| 7 | 1007       | Lily       | Operations | F          | Fulltime   | 50000      |\n",
       "\n",
       "\n",
       "$Sales\n",
       ":   \n",
       "| <!--/--> | id | name | department | gender | type | salary |\n",
       "|---|---|---|---|---|---|---|\n",
       "| 5 | 1005     | Jason    | Sales    | M        | Parttime | 135000   |\n",
       "\n",
       "\n",
       "$`Test Engineering`\n",
       ":   \n",
       "| id | name | department | gender | type | salary |\n",
       "|---|---|---|---|---|---|\n",
       "| 1001             | Amanda           | Test Engineering | F                | Fulltime         | 135000           |\n",
       "| 1002             | Isaac            | Test Engineering | M                | Fulltime         |  28000           |\n",
       "\n",
       "\n",
       "\n",
       "\n"
      ],
      "text/plain": [
       "$Engineering\n",
       "    id    name  department gender     type salary\n",
       "3 1003  Philip Engineering      M Contract  40000\n",
       "4 1004 Felicia Engineering      F Contract 166000\n",
       "\n",
       "$HR\n",
       "    id   name department gender     type salary\n",
       "6 1006 George         HR      M Parttime  40000\n",
       "\n",
       "$Operations\n",
       "    id name department gender     type salary\n",
       "7 1007 Lily Operations      F Fulltime  50000\n",
       "\n",
       "$Sales\n",
       "    id  name department gender     type salary\n",
       "5 1005 Jason      Sales      M Parttime 135000\n",
       "\n",
       "$`Test Engineering`\n",
       "    id   name       department gender     type salary\n",
       "1 1001 Amanda Test Engineering      F Fulltime 135000\n",
       "2 1002  Isaac Test Engineering      M Fulltime  28000\n"
      ]
     },
     "metadata": {},
     "output_type": "display_data"
    }
   ],
   "source": [
    "split(employee.data, employee.data$department)"
   ]
  },
  {
   "cell_type": "code",
   "execution_count": 34,
   "metadata": {},
   "outputs": [
    {
     "data": {
      "text/html": [
       "<dl>\n",
       "\t<dt>$F</dt>\n",
       "\t\t<dd><table>\n",
       "<thead><tr><th></th><th scope=col>id</th><th scope=col>name</th><th scope=col>department</th><th scope=col>gender</th><th scope=col>type</th><th scope=col>salary</th></tr></thead>\n",
       "<tbody>\n",
       "\t<tr><th scope=row>1</th><td>1001            </td><td>Amanda          </td><td>Test Engineering</td><td>F               </td><td>Fulltime        </td><td>135000          </td></tr>\n",
       "\t<tr><th scope=row>4</th><td>1004            </td><td>Felicia         </td><td>Engineering     </td><td>F               </td><td>Contract        </td><td>166000          </td></tr>\n",
       "\t<tr><th scope=row>7</th><td>1007            </td><td>Lily            </td><td>Operations      </td><td>F               </td><td>Fulltime        </td><td> 50000          </td></tr>\n",
       "</tbody>\n",
       "</table>\n",
       "</dd>\n",
       "\t<dt>$M</dt>\n",
       "\t\t<dd><table>\n",
       "<thead><tr><th></th><th scope=col>id</th><th scope=col>name</th><th scope=col>department</th><th scope=col>gender</th><th scope=col>type</th><th scope=col>salary</th></tr></thead>\n",
       "<tbody>\n",
       "\t<tr><th scope=row>2</th><td>1002            </td><td>Isaac           </td><td>Test Engineering</td><td>M               </td><td>Fulltime        </td><td> 28000          </td></tr>\n",
       "\t<tr><th scope=row>3</th><td>1003            </td><td>Philip          </td><td>Engineering     </td><td>M               </td><td>Contract        </td><td> 40000          </td></tr>\n",
       "\t<tr><th scope=row>5</th><td>1005            </td><td>Jason           </td><td>Sales           </td><td>M               </td><td>Parttime        </td><td>135000          </td></tr>\n",
       "\t<tr><th scope=row>6</th><td>1006            </td><td>George          </td><td>HR              </td><td>M               </td><td>Parttime        </td><td> 40000          </td></tr>\n",
       "</tbody>\n",
       "</table>\n",
       "</dd>\n",
       "</dl>\n"
      ],
      "text/latex": [
       "\\begin{description}\n",
       "\\item[\\$F] \\begin{tabular}{r|llllll}\n",
       "  & id & name & department & gender & type & salary\\\\\n",
       "\\hline\n",
       "\t1 & 1001             & Amanda           & Test Engineering & F                & Fulltime         & 135000          \\\\\n",
       "\t4 & 1004             & Felicia          & Engineering      & F                & Contract         & 166000          \\\\\n",
       "\t7 & 1007             & Lily             & Operations       & F                & Fulltime         &  50000          \\\\\n",
       "\\end{tabular}\n",
       "\n",
       "\\item[\\$M] \\begin{tabular}{r|llllll}\n",
       "  & id & name & department & gender & type & salary\\\\\n",
       "\\hline\n",
       "\t2 & 1002             & Isaac            & Test Engineering & M                & Fulltime         &  28000          \\\\\n",
       "\t3 & 1003             & Philip           & Engineering      & M                & Contract         &  40000          \\\\\n",
       "\t5 & 1005             & Jason            & Sales            & M                & Parttime         & 135000          \\\\\n",
       "\t6 & 1006             & George           & HR               & M                & Parttime         &  40000          \\\\\n",
       "\\end{tabular}\n",
       "\n",
       "\\end{description}\n"
      ],
      "text/markdown": [
       "$F\n",
       ":   \n",
       "| <!--/--> | id | name | department | gender | type | salary |\n",
       "|---|---|---|---|---|---|---|\n",
       "| 1 | 1001             | Amanda           | Test Engineering | F                | Fulltime         | 135000           |\n",
       "| 4 | 1004             | Felicia          | Engineering      | F                | Contract         | 166000           |\n",
       "| 7 | 1007             | Lily             | Operations       | F                | Fulltime         |  50000           |\n",
       "\n",
       "\n",
       "$M\n",
       ":   \n",
       "| <!--/--> | id | name | department | gender | type | salary |\n",
       "|---|---|---|---|---|---|---|\n",
       "| 2 | 1002             | Isaac            | Test Engineering | M                | Fulltime         |  28000           |\n",
       "| 3 | 1003             | Philip           | Engineering      | M                | Contract         |  40000           |\n",
       "| 5 | 1005             | Jason            | Sales            | M                | Parttime         | 135000           |\n",
       "| 6 | 1006             | George           | HR               | M                | Parttime         |  40000           |\n",
       "\n",
       "\n",
       "\n",
       "\n"
      ],
      "text/plain": [
       "$F\n",
       "    id    name       department gender     type salary\n",
       "1 1001  Amanda Test Engineering      F Fulltime 135000\n",
       "4 1004 Felicia      Engineering      F Contract 166000\n",
       "7 1007    Lily       Operations      F Fulltime  50000\n",
       "\n",
       "$M\n",
       "    id   name       department gender     type salary\n",
       "2 1002  Isaac Test Engineering      M Fulltime  28000\n",
       "3 1003 Philip      Engineering      M Contract  40000\n",
       "5 1005  Jason            Sales      M Parttime 135000\n",
       "6 1006 George               HR      M Parttime  40000\n"
      ]
     },
     "metadata": {},
     "output_type": "display_data"
    }
   ],
   "source": [
    "split(employee.data, employee.data$gender)"
   ]
  },
  {
   "cell_type": "code",
   "execution_count": null,
   "metadata": {},
   "outputs": [],
   "source": []
  },
  {
   "cell_type": "code",
   "execution_count": null,
   "metadata": {},
   "outputs": [],
   "source": []
  },
  {
   "cell_type": "code",
   "execution_count": null,
   "metadata": {},
   "outputs": [],
   "source": []
  },
  {
   "cell_type": "code",
   "execution_count": null,
   "metadata": {},
   "outputs": [],
   "source": []
  },
  {
   "cell_type": "code",
   "execution_count": null,
   "metadata": {},
   "outputs": [],
   "source": []
  },
  {
   "cell_type": "code",
   "execution_count": null,
   "metadata": {},
   "outputs": [],
   "source": []
  },
  {
   "cell_type": "code",
   "execution_count": null,
   "metadata": {},
   "outputs": [],
   "source": []
  },
  {
   "cell_type": "code",
   "execution_count": null,
   "metadata": {},
   "outputs": [],
   "source": []
  },
  {
   "cell_type": "code",
   "execution_count": null,
   "metadata": {},
   "outputs": [],
   "source": []
  },
  {
   "cell_type": "code",
   "execution_count": null,
   "metadata": {},
   "outputs": [],
   "source": []
  },
  {
   "cell_type": "code",
   "execution_count": null,
   "metadata": {},
   "outputs": [],
   "source": []
  },
  {
   "cell_type": "code",
   "execution_count": null,
   "metadata": {},
   "outputs": [],
   "source": []
  },
  {
   "cell_type": "code",
   "execution_count": null,
   "metadata": {},
   "outputs": [],
   "source": []
  },
  {
   "cell_type": "code",
   "execution_count": null,
   "metadata": {},
   "outputs": [],
   "source": []
  },
  {
   "cell_type": "code",
   "execution_count": null,
   "metadata": {},
   "outputs": [],
   "source": []
  },
  {
   "cell_type": "code",
   "execution_count": null,
   "metadata": {},
   "outputs": [],
   "source": []
  },
  {
   "cell_type": "code",
   "execution_count": null,
   "metadata": {},
   "outputs": [],
   "source": []
  },
  {
   "cell_type": "code",
   "execution_count": null,
   "metadata": {},
   "outputs": [],
   "source": []
  },
  {
   "cell_type": "code",
   "execution_count": null,
   "metadata": {},
   "outputs": [],
   "source": []
  },
  {
   "cell_type": "code",
   "execution_count": null,
   "metadata": {},
   "outputs": [],
   "source": []
  },
  {
   "cell_type": "code",
   "execution_count": null,
   "metadata": {},
   "outputs": [],
   "source": []
  },
  {
   "cell_type": "code",
   "execution_count": null,
   "metadata": {},
   "outputs": [],
   "source": []
  },
  {
   "cell_type": "code",
   "execution_count": null,
   "metadata": {},
   "outputs": [],
   "source": []
  },
  {
   "cell_type": "code",
   "execution_count": null,
   "metadata": {},
   "outputs": [],
   "source": []
  },
  {
   "cell_type": "code",
   "execution_count": null,
   "metadata": {},
   "outputs": [],
   "source": []
  },
  {
   "cell_type": "code",
   "execution_count": null,
   "metadata": {},
   "outputs": [],
   "source": []
  },
  {
   "cell_type": "code",
   "execution_count": null,
   "metadata": {},
   "outputs": [],
   "source": []
  },
  {
   "cell_type": "code",
   "execution_count": null,
   "metadata": {},
   "outputs": [],
   "source": []
  },
  {
   "cell_type": "code",
   "execution_count": null,
   "metadata": {},
   "outputs": [],
   "source": []
  },
  {
   "cell_type": "code",
   "execution_count": null,
   "metadata": {},
   "outputs": [],
   "source": []
  },
  {
   "cell_type": "code",
   "execution_count": null,
   "metadata": {},
   "outputs": [],
   "source": []
  },
  {
   "cell_type": "code",
   "execution_count": null,
   "metadata": {},
   "outputs": [],
   "source": []
  },
  {
   "cell_type": "code",
   "execution_count": null,
   "metadata": {},
   "outputs": [],
   "source": []
  },
  {
   "cell_type": "code",
   "execution_count": null,
   "metadata": {},
   "outputs": [],
   "source": []
  },
  {
   "cell_type": "code",
   "execution_count": null,
   "metadata": {},
   "outputs": [],
   "source": []
  },
  {
   "cell_type": "code",
   "execution_count": null,
   "metadata": {},
   "outputs": [],
   "source": []
  },
  {
   "cell_type": "code",
   "execution_count": null,
   "metadata": {},
   "outputs": [],
   "source": []
  },
  {
   "cell_type": "code",
   "execution_count": null,
   "metadata": {},
   "outputs": [],
   "source": []
  },
  {
   "cell_type": "code",
   "execution_count": null,
   "metadata": {},
   "outputs": [],
   "source": []
  },
  {
   "cell_type": "code",
   "execution_count": null,
   "metadata": {},
   "outputs": [],
   "source": []
  },
  {
   "cell_type": "code",
   "execution_count": null,
   "metadata": {},
   "outputs": [],
   "source": []
  },
  {
   "cell_type": "code",
   "execution_count": null,
   "metadata": {},
   "outputs": [],
   "source": []
  },
  {
   "cell_type": "code",
   "execution_count": null,
   "metadata": {},
   "outputs": [],
   "source": []
  },
  {
   "cell_type": "code",
   "execution_count": null,
   "metadata": {},
   "outputs": [],
   "source": []
  },
  {
   "cell_type": "code",
   "execution_count": null,
   "metadata": {},
   "outputs": [],
   "source": []
  },
  {
   "cell_type": "code",
   "execution_count": null,
   "metadata": {},
   "outputs": [],
   "source": []
  },
  {
   "cell_type": "code",
   "execution_count": null,
   "metadata": {},
   "outputs": [],
   "source": []
  },
  {
   "cell_type": "code",
   "execution_count": null,
   "metadata": {},
   "outputs": [],
   "source": []
  },
  {
   "cell_type": "code",
   "execution_count": null,
   "metadata": {},
   "outputs": [],
   "source": []
  },
  {
   "cell_type": "code",
   "execution_count": null,
   "metadata": {},
   "outputs": [],
   "source": []
  },
  {
   "cell_type": "code",
   "execution_count": null,
   "metadata": {},
   "outputs": [],
   "source": []
  },
  {
   "cell_type": "code",
   "execution_count": null,
   "metadata": {},
   "outputs": [],
   "source": []
  },
  {
   "cell_type": "code",
   "execution_count": null,
   "metadata": {},
   "outputs": [],
   "source": []
  },
  {
   "cell_type": "code",
   "execution_count": null,
   "metadata": {},
   "outputs": [],
   "source": []
  },
  {
   "cell_type": "code",
   "execution_count": null,
   "metadata": {},
   "outputs": [],
   "source": []
  },
  {
   "cell_type": "code",
   "execution_count": null,
   "metadata": {},
   "outputs": [],
   "source": []
  },
  {
   "cell_type": "code",
   "execution_count": null,
   "metadata": {},
   "outputs": [],
   "source": []
  },
  {
   "cell_type": "code",
   "execution_count": null,
   "metadata": {},
   "outputs": [],
   "source": []
  },
  {
   "cell_type": "code",
   "execution_count": null,
   "metadata": {},
   "outputs": [],
   "source": []
  },
  {
   "cell_type": "code",
   "execution_count": null,
   "metadata": {},
   "outputs": [],
   "source": []
  },
  {
   "cell_type": "code",
   "execution_count": null,
   "metadata": {},
   "outputs": [],
   "source": []
  },
  {
   "cell_type": "code",
   "execution_count": null,
   "metadata": {},
   "outputs": [],
   "source": []
  },
  {
   "cell_type": "code",
   "execution_count": null,
   "metadata": {},
   "outputs": [],
   "source": []
  },
  {
   "cell_type": "code",
   "execution_count": null,
   "metadata": {},
   "outputs": [],
   "source": []
  },
  {
   "cell_type": "code",
   "execution_count": null,
   "metadata": {},
   "outputs": [],
   "source": []
  },
  {
   "cell_type": "code",
   "execution_count": null,
   "metadata": {},
   "outputs": [],
   "source": []
  },
  {
   "cell_type": "code",
   "execution_count": null,
   "metadata": {},
   "outputs": [],
   "source": []
  },
  {
   "cell_type": "code",
   "execution_count": null,
   "metadata": {},
   "outputs": [],
   "source": []
  },
  {
   "cell_type": "code",
   "execution_count": null,
   "metadata": {},
   "outputs": [],
   "source": []
  },
  {
   "cell_type": "code",
   "execution_count": null,
   "metadata": {},
   "outputs": [],
   "source": []
  },
  {
   "cell_type": "code",
   "execution_count": null,
   "metadata": {},
   "outputs": [],
   "source": []
  },
  {
   "cell_type": "code",
   "execution_count": null,
   "metadata": {},
   "outputs": [],
   "source": []
  },
  {
   "cell_type": "code",
   "execution_count": null,
   "metadata": {},
   "outputs": [],
   "source": []
  },
  {
   "cell_type": "code",
   "execution_count": null,
   "metadata": {},
   "outputs": [],
   "source": []
  },
  {
   "cell_type": "code",
   "execution_count": null,
   "metadata": {},
   "outputs": [],
   "source": []
  },
  {
   "cell_type": "code",
   "execution_count": null,
   "metadata": {},
   "outputs": [],
   "source": []
  },
  {
   "cell_type": "code",
   "execution_count": null,
   "metadata": {},
   "outputs": [],
   "source": []
  },
  {
   "cell_type": "code",
   "execution_count": null,
   "metadata": {},
   "outputs": [],
   "source": []
  },
  {
   "cell_type": "code",
   "execution_count": null,
   "metadata": {},
   "outputs": [],
   "source": []
  },
  {
   "cell_type": "code",
   "execution_count": null,
   "metadata": {},
   "outputs": [],
   "source": []
  },
  {
   "cell_type": "code",
   "execution_count": null,
   "metadata": {},
   "outputs": [],
   "source": []
  },
  {
   "cell_type": "code",
   "execution_count": null,
   "metadata": {},
   "outputs": [],
   "source": []
  },
  {
   "cell_type": "code",
   "execution_count": null,
   "metadata": {},
   "outputs": [],
   "source": []
  }
 ],
 "metadata": {
  "kernelspec": {
   "display_name": "R",
   "language": "R",
   "name": "ir"
  },
  "language_info": {
   "codemirror_mode": "r",
   "file_extension": ".r",
   "mimetype": "text/x-r-source",
   "name": "R",
   "pygments_lexer": "r",
   "version": "3.6.1"
  }
 },
 "nbformat": 4,
 "nbformat_minor": 4
}
