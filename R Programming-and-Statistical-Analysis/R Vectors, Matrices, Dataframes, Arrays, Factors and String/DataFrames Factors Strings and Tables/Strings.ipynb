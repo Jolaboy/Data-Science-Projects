{
 "cells": [
  {
   "cell_type": "code",
   "execution_count": 1,
   "metadata": {},
   "outputs": [
    {
     "data": {
      "text/html": [
       "'Strings are usually specified using double quotes'"
      ],
      "text/latex": [
       "'Strings are usually specified using double quotes'"
      ],
      "text/markdown": [
       "'Strings are usually specified using double quotes'"
      ],
      "text/plain": [
       "[1] \"Strings are usually specified using double quotes\""
      ]
     },
     "metadata": {},
     "output_type": "display_data"
    }
   ],
   "source": [
    "some.string <- \"Strings are usually specified using double quotes\"\n",
    "\n",
    "some.string"
   ]
  },
  {
   "cell_type": "code",
   "execution_count": 2,
   "metadata": {},
   "outputs": [
    {
     "data": {
      "text/html": [
       "'Use single quotes to enclose something in \"double quotes\"'"
      ],
      "text/latex": [
       "'Use single quotes to enclose something in \"double quotes\"'"
      ],
      "text/markdown": [
       "'Use single quotes to enclose something in \"double quotes\"'"
      ],
      "text/plain": [
       "[1] \"Use single quotes to enclose something in \\\"double quotes\\\"\""
      ]
     },
     "metadata": {},
     "output_type": "display_data"
    }
   ],
   "source": [
    "another.string <- 'Use single quotes to enclose something in \"double quotes\"'\n",
    "\n",
    "another.string"
   ]
  },
  {
   "cell_type": "code",
   "execution_count": 3,
   "metadata": {},
   "outputs": [
    {
     "data": {
      "text/html": [
       "'character'"
      ],
      "text/latex": [
       "'character'"
      ],
      "text/markdown": [
       "'character'"
      ],
      "text/plain": [
       "[1] \"character\""
      ]
     },
     "metadata": {},
     "output_type": "display_data"
    }
   ],
   "source": [
    "class(some.string)"
   ]
  },
  {
   "cell_type": "code",
   "execution_count": 4,
   "metadata": {},
   "outputs": [
    {
     "data": {
      "text/html": [
       "'character'"
      ],
      "text/latex": [
       "'character'"
      ],
      "text/markdown": [
       "'character'"
      ],
      "text/plain": [
       "[1] \"character\""
      ]
     },
     "metadata": {},
     "output_type": "display_data"
    }
   ],
   "source": [
    "class(another.string)"
   ]
  },
  {
   "cell_type": "code",
   "execution_count": 5,
   "metadata": {},
   "outputs": [],
   "source": [
    "first.name <- \"Harry\"\n",
    "last.name <- \"Potter\""
   ]
  },
  {
   "cell_type": "code",
   "execution_count": 6,
   "metadata": {},
   "outputs": [
    {
     "ename": "ERROR",
     "evalue": "Error in first.name + last.name: non-numeric argument to binary operator\n",
     "output_type": "error",
     "traceback": [
      "Error in first.name + last.name: non-numeric argument to binary operator\nTraceback:\n"
     ]
    }
   ],
   "source": [
    "first.name + last.name"
   ]
  },
  {
   "cell_type": "code",
   "execution_count": 7,
   "metadata": {},
   "outputs": [
    {
     "name": "stdout",
     "output_type": "stream",
     "text": [
      "Harry Potter"
     ]
    }
   ],
   "source": [
    "cat(first.name, last.name)"
   ]
  },
  {
   "cell_type": "code",
   "execution_count": 8,
   "metadata": {},
   "outputs": [
    {
     "data": {
      "text/html": [
       "1"
      ],
      "text/latex": [
       "1"
      ],
      "text/markdown": [
       "1"
      ],
      "text/plain": [
       "[1] 1"
      ]
     },
     "metadata": {},
     "output_type": "display_data"
    }
   ],
   "source": [
    "length(first.name)"
   ]
  },
  {
   "cell_type": "code",
   "execution_count": 9,
   "metadata": {},
   "outputs": [
    {
     "data": {
      "text/html": [
       "5"
      ],
      "text/latex": [
       "5"
      ],
      "text/markdown": [
       "5"
      ],
      "text/plain": [
       "[1] 5"
      ]
     },
     "metadata": {},
     "output_type": "display_data"
    }
   ],
   "source": [
    "nchar(first.name)"
   ]
  },
  {
   "cell_type": "code",
   "execution_count": 10,
   "metadata": {},
   "outputs": [
    {
     "name": "stdout",
     "output_type": "stream",
     "text": [
      "Toyota Camry Corolla"
     ]
    }
   ],
   "source": [
    "cat(\"Toyota\", c(\"Camry\", \"Corolla\"))"
   ]
  },
  {
   "cell_type": "code",
   "execution_count": 11,
   "metadata": {},
   "outputs": [
    {
     "data": {
      "text/html": [
       "<ol class=list-inline>\n",
       "\t<li>'Toyota Camry'</li>\n",
       "\t<li>'Toyota Corolla'</li>\n",
       "</ol>\n"
      ],
      "text/latex": [
       "\\begin{enumerate*}\n",
       "\\item 'Toyota Camry'\n",
       "\\item 'Toyota Corolla'\n",
       "\\end{enumerate*}\n"
      ],
      "text/markdown": [
       "1. 'Toyota Camry'\n",
       "2. 'Toyota Corolla'\n",
       "\n",
       "\n"
      ],
      "text/plain": [
       "[1] \"Toyota Camry\"   \"Toyota Corolla\""
      ]
     },
     "metadata": {},
     "output_type": "display_data"
    }
   ],
   "source": [
    "paste(\"Toyota\", c(\"Camry\", \"Corolla\"))"
   ]
  },
  {
   "cell_type": "code",
   "execution_count": 12,
   "metadata": {},
   "outputs": [
    {
     "data": {
      "text/html": [
       "<ol class=list-inline>\n",
       "\t<li>'Toyota--Camry'</li>\n",
       "\t<li>'Toyota--Corolla'</li>\n",
       "</ol>\n"
      ],
      "text/latex": [
       "\\begin{enumerate*}\n",
       "\\item 'Toyota--Camry'\n",
       "\\item 'Toyota--Corolla'\n",
       "\\end{enumerate*}\n"
      ],
      "text/markdown": [
       "1. 'Toyota--Camry'\n",
       "2. 'Toyota--Corolla'\n",
       "\n",
       "\n"
      ],
      "text/plain": [
       "[1] \"Toyota--Camry\"   \"Toyota--Corolla\""
      ]
     },
     "metadata": {},
     "output_type": "display_data"
    }
   ],
   "source": [
    "paste(\"Toyota\", c(\"Camry\", \"Corolla\"), sep=\"--\")"
   ]
  },
  {
   "cell_type": "code",
   "execution_count": 13,
   "metadata": {},
   "outputs": [
    {
     "data": {
      "text/html": [
       "'Toyota Camry, Toyota Corolla'"
      ],
      "text/latex": [
       "'Toyota Camry, Toyota Corolla'"
      ],
      "text/markdown": [
       "'Toyota Camry, Toyota Corolla'"
      ],
      "text/plain": [
       "[1] \"Toyota Camry, Toyota Corolla\""
      ]
     },
     "metadata": {},
     "output_type": "display_data"
    }
   ],
   "source": [
    "paste(\"Toyota\", c(\"Camry\", \"Corolla\"), collapse=\", \")"
   ]
  },
  {
   "cell_type": "code",
   "execution_count": 14,
   "metadata": {},
   "outputs": [
    {
     "data": {
      "text/html": [
       "'Welcome to the world of R programming!'"
      ],
      "text/latex": [
       "'Welcome to the world of R programming!'"
      ],
      "text/markdown": [
       "'Welcome to the world of R programming!'"
      ],
      "text/plain": [
       "[1] \"Welcome to the world of R programming!\""
      ]
     },
     "metadata": {},
     "output_type": "display_data"
    }
   ],
   "source": [
    "welcome.to.r <- \"Welcome to the world of R programming!\"\n",
    "\n",
    "welcome.to.r"
   ]
  },
  {
   "cell_type": "code",
   "execution_count": 15,
   "metadata": {},
   "outputs": [
    {
     "data": {
      "text/html": [
       "'welcome to the world of r programming!'"
      ],
      "text/latex": [
       "'welcome to the world of r programming!'"
      ],
      "text/markdown": [
       "'welcome to the world of r programming!'"
      ],
      "text/plain": [
       "[1] \"welcome to the world of r programming!\""
      ]
     },
     "metadata": {},
     "output_type": "display_data"
    }
   ],
   "source": [
    "tolower(welcome.to.r)"
   ]
  },
  {
   "cell_type": "code",
   "execution_count": 16,
   "metadata": {},
   "outputs": [
    {
     "data": {
      "text/html": [
       "'WELCOME TO THE WORLD OF R PROGRAMMING!'"
      ],
      "text/latex": [
       "'WELCOME TO THE WORLD OF R PROGRAMMING!'"
      ],
      "text/markdown": [
       "'WELCOME TO THE WORLD OF R PROGRAMMING!'"
      ],
      "text/plain": [
       "[1] \"WELCOME TO THE WORLD OF R PROGRAMMING!\""
      ]
     },
     "metadata": {},
     "output_type": "display_data"
    }
   ],
   "source": [
    "toupper(welcome.to.r)"
   ]
  },
  {
   "cell_type": "code",
   "execution_count": 17,
   "metadata": {},
   "outputs": [
    {
     "data": {
      "text/html": [
       "'Welcome'"
      ],
      "text/latex": [
       "'Welcome'"
      ],
      "text/markdown": [
       "'Welcome'"
      ],
      "text/plain": [
       "[1] \"Welcome\""
      ]
     },
     "metadata": {},
     "output_type": "display_data"
    }
   ],
   "source": [
    "substring(welcome.to.r, 1, 7)"
   ]
  },
  {
   "cell_type": "code",
   "execution_count": 18,
   "metadata": {},
   "outputs": [
    {
     "data": {
      "text/html": [
       "'to the world of R programming!'"
      ],
      "text/latex": [
       "'to the world of R programming!'"
      ],
      "text/markdown": [
       "'to the world of R programming!'"
      ],
      "text/plain": [
       "[1] \"to the world of R programming!\""
      ]
     },
     "metadata": {},
     "output_type": "display_data"
    }
   ],
   "source": [
    "substring(welcome.to.r, 9)"
   ]
  },
  {
   "cell_type": "code",
   "execution_count": 19,
   "metadata": {},
   "outputs": [
    {
     "data": {
      "text/html": [
       "<ol>\n",
       "\t<li><ol class=list-inline>\n",
       "\t<li>'Welcome'</li>\n",
       "\t<li>'to'</li>\n",
       "\t<li>'the'</li>\n",
       "\t<li>'world'</li>\n",
       "\t<li>'of'</li>\n",
       "\t<li>'R'</li>\n",
       "\t<li>'programming!'</li>\n",
       "</ol>\n",
       "</li>\n",
       "</ol>\n"
      ],
      "text/latex": [
       "\\begin{enumerate}\n",
       "\\item \\begin{enumerate*}\n",
       "\\item 'Welcome'\n",
       "\\item 'to'\n",
       "\\item 'the'\n",
       "\\item 'world'\n",
       "\\item 'of'\n",
       "\\item 'R'\n",
       "\\item 'programming!'\n",
       "\\end{enumerate*}\n",
       "\n",
       "\\end{enumerate}\n"
      ],
      "text/markdown": [
       "1. 1. 'Welcome'\n",
       "2. 'to'\n",
       "3. 'the'\n",
       "4. 'world'\n",
       "5. 'of'\n",
       "6. 'R'\n",
       "7. 'programming!'\n",
       "\n",
       "\n",
       "\n",
       "\n",
       "\n"
      ],
      "text/plain": [
       "[[1]]\n",
       "[1] \"Welcome\"      \"to\"           \"the\"          \"world\"        \"of\"          \n",
       "[6] \"R\"            \"programming!\"\n"
      ]
     },
     "metadata": {},
     "output_type": "display_data"
    }
   ],
   "source": [
    "strsplit(welcome.to.r, \" \")"
   ]
  },
  {
   "cell_type": "code",
   "execution_count": 20,
   "metadata": {},
   "outputs": [
    {
     "data": {
      "text/html": [
       "<ol class=list-inline>\n",
       "\t<li>10</li>\n",
       "\t<li>11</li>\n",
       "\t<li>12</li>\n",
       "\t<li>13</li>\n",
       "\t<li>14</li>\n",
       "\t<li>15</li>\n",
       "</ol>\n"
      ],
      "text/latex": [
       "\\begin{enumerate*}\n",
       "\\item 10\n",
       "\\item 11\n",
       "\\item 12\n",
       "\\item 13\n",
       "\\item 14\n",
       "\\item 15\n",
       "\\end{enumerate*}\n"
      ],
      "text/markdown": [
       "1. 10\n",
       "2. 11\n",
       "3. 12\n",
       "4. 13\n",
       "5. 14\n",
       "6. 15\n",
       "\n",
       "\n"
      ],
      "text/plain": [
       "[1] 10 11 12 13 14 15"
      ]
     },
     "metadata": {},
     "output_type": "display_data"
    }
   ],
   "source": [
    "sequence <- 10:15\n",
    "\n",
    "sequence"
   ]
  },
  {
   "cell_type": "code",
   "execution_count": 21,
   "metadata": {},
   "outputs": [
    {
     "data": {
      "text/html": [
       "<ol class=list-inline>\n",
       "\t<li>3.16227766016838</li>\n",
       "\t<li>3.3166247903554</li>\n",
       "\t<li>3.46410161513775</li>\n",
       "\t<li>3.60555127546399</li>\n",
       "\t<li>3.74165738677394</li>\n",
       "\t<li>3.87298334620742</li>\n",
       "</ol>\n"
      ],
      "text/latex": [
       "\\begin{enumerate*}\n",
       "\\item 3.16227766016838\n",
       "\\item 3.3166247903554\n",
       "\\item 3.46410161513775\n",
       "\\item 3.60555127546399\n",
       "\\item 3.74165738677394\n",
       "\\item 3.87298334620742\n",
       "\\end{enumerate*}\n"
      ],
      "text/markdown": [
       "1. 3.16227766016838\n",
       "2. 3.3166247903554\n",
       "3. 3.46410161513775\n",
       "4. 3.60555127546399\n",
       "5. 3.74165738677394\n",
       "6. 3.87298334620742\n",
       "\n",
       "\n"
      ],
      "text/plain": [
       "[1] 3.162278 3.316625 3.464102 3.605551 3.741657 3.872983"
      ]
     },
     "metadata": {},
     "output_type": "display_data"
    }
   ],
   "source": [
    "sqrt.sequence <- sqrt(sequence)\n",
    "\n",
    "sqrt.sequence"
   ]
  },
  {
   "cell_type": "code",
   "execution_count": 22,
   "metadata": {},
   "outputs": [
    {
     "data": {
      "text/html": [
       "<ol class=list-inline>\n",
       "\t<li>'3.162'</li>\n",
       "\t<li>'3.317'</li>\n",
       "\t<li>'3.464'</li>\n",
       "\t<li>'3.606'</li>\n",
       "\t<li>'3.742'</li>\n",
       "\t<li>'3.873'</li>\n",
       "</ol>\n"
      ],
      "text/latex": [
       "\\begin{enumerate*}\n",
       "\\item '3.162'\n",
       "\\item '3.317'\n",
       "\\item '3.464'\n",
       "\\item '3.606'\n",
       "\\item '3.742'\n",
       "\\item '3.873'\n",
       "\\end{enumerate*}\n"
      ],
      "text/markdown": [
       "1. '3.162'\n",
       "2. '3.317'\n",
       "3. '3.464'\n",
       "4. '3.606'\n",
       "5. '3.742'\n",
       "6. '3.873'\n",
       "\n",
       "\n"
      ],
      "text/plain": [
       "[1] \"3.162\" \"3.317\" \"3.464\" \"3.606\" \"3.742\" \"3.873\""
      ]
     },
     "metadata": {},
     "output_type": "display_data"
    }
   ],
   "source": [
    "formatC(sqrt.sequence)"
   ]
  },
  {
   "cell_type": "code",
   "execution_count": 23,
   "metadata": {},
   "outputs": [
    {
     "data": {
      "text/html": [
       "<ol class=list-inline>\n",
       "\t<li>'3.16'</li>\n",
       "\t<li>'3.32'</li>\n",
       "\t<li>'3.46'</li>\n",
       "\t<li>'3.61'</li>\n",
       "\t<li>'3.74'</li>\n",
       "\t<li>'3.87'</li>\n",
       "</ol>\n"
      ],
      "text/latex": [
       "\\begin{enumerate*}\n",
       "\\item '3.16'\n",
       "\\item '3.32'\n",
       "\\item '3.46'\n",
       "\\item '3.61'\n",
       "\\item '3.74'\n",
       "\\item '3.87'\n",
       "\\end{enumerate*}\n"
      ],
      "text/markdown": [
       "1. '3.16'\n",
       "2. '3.32'\n",
       "3. '3.46'\n",
       "4. '3.61'\n",
       "5. '3.74'\n",
       "6. '3.87'\n",
       "\n",
       "\n"
      ],
      "text/plain": [
       "[1] \"3.16\" \"3.32\" \"3.46\" \"3.61\" \"3.74\" \"3.87\""
      ]
     },
     "metadata": {},
     "output_type": "display_data"
    }
   ],
   "source": [
    "formatC(sqrt.sequence, digits=3)"
   ]
  },
  {
   "cell_type": "code",
   "execution_count": 24,
   "metadata": {},
   "outputs": [
    {
     "data": {
      "text/html": [
       "<ol class=list-inline>\n",
       "\t<li><span style=white-space:pre-wrap>'    3.16'</span></li>\n",
       "\t<li><span style=white-space:pre-wrap>'    3.32'</span></li>\n",
       "\t<li><span style=white-space:pre-wrap>'    3.46'</span></li>\n",
       "\t<li><span style=white-space:pre-wrap>'    3.61'</span></li>\n",
       "\t<li><span style=white-space:pre-wrap>'    3.74'</span></li>\n",
       "\t<li><span style=white-space:pre-wrap>'    3.87'</span></li>\n",
       "</ol>\n"
      ],
      "text/latex": [
       "\\begin{enumerate*}\n",
       "\\item '    3.16'\n",
       "\\item '    3.32'\n",
       "\\item '    3.46'\n",
       "\\item '    3.61'\n",
       "\\item '    3.74'\n",
       "\\item '    3.87'\n",
       "\\end{enumerate*}\n"
      ],
      "text/markdown": [
       "1. <span style=white-space:pre-wrap>'    3.16'</span>\n",
       "2. <span style=white-space:pre-wrap>'    3.32'</span>\n",
       "3. <span style=white-space:pre-wrap>'    3.46'</span>\n",
       "4. <span style=white-space:pre-wrap>'    3.61'</span>\n",
       "5. <span style=white-space:pre-wrap>'    3.74'</span>\n",
       "6. <span style=white-space:pre-wrap>'    3.87'</span>\n",
       "\n",
       "\n"
      ],
      "text/plain": [
       "[1] \"    3.16\" \"    3.32\" \"    3.46\" \"    3.61\" \"    3.74\" \"    3.87\""
      ]
     },
     "metadata": {},
     "output_type": "display_data"
    }
   ],
   "source": [
    "formatC(sqrt.sequence, digits=3, width=8)"
   ]
  },
  {
   "cell_type": "code",
   "execution_count": 25,
   "metadata": {},
   "outputs": [
    {
     "data": {
      "text/html": [
       "<ol class=list-inline>\n",
       "\t<li>'3.162e+00'</li>\n",
       "\t<li>'3.317e+00'</li>\n",
       "\t<li>'3.464e+00'</li>\n",
       "\t<li>'3.606e+00'</li>\n",
       "\t<li>'3.742e+00'</li>\n",
       "\t<li>'3.873e+00'</li>\n",
       "</ol>\n"
      ],
      "text/latex": [
       "\\begin{enumerate*}\n",
       "\\item '3.162e+00'\n",
       "\\item '3.317e+00'\n",
       "\\item '3.464e+00'\n",
       "\\item '3.606e+00'\n",
       "\\item '3.742e+00'\n",
       "\\item '3.873e+00'\n",
       "\\end{enumerate*}\n"
      ],
      "text/markdown": [
       "1. '3.162e+00'\n",
       "2. '3.317e+00'\n",
       "3. '3.464e+00'\n",
       "4. '3.606e+00'\n",
       "5. '3.742e+00'\n",
       "6. '3.873e+00'\n",
       "\n",
       "\n"
      ],
      "text/plain": [
       "[1] \"3.162e+00\" \"3.317e+00\" \"3.464e+00\" \"3.606e+00\" \"3.742e+00\" \"3.873e+00\""
      ]
     },
     "metadata": {},
     "output_type": "display_data"
    }
   ],
   "source": [
    "formatC(sqrt.sequence, digits=3, format=\"e\")"
   ]
  },
  {
   "cell_type": "code",
   "execution_count": 26,
   "metadata": {},
   "outputs": [
    {
     "data": {
      "text/html": [
       "<ol class=list-inline>\n",
       "\t<li>'Number: 10 Square root: 3.162278'</li>\n",
       "\t<li>'Number: 11 Square root: 3.316625'</li>\n",
       "\t<li>'Number: 12 Square root: 3.464102'</li>\n",
       "\t<li>'Number: 13 Square root: 3.605551'</li>\n",
       "\t<li>'Number: 14 Square root: 3.741657'</li>\n",
       "\t<li>'Number: 15 Square root: 3.872983'</li>\n",
       "</ol>\n"
      ],
      "text/latex": [
       "\\begin{enumerate*}\n",
       "\\item 'Number: 10 Square root: 3.162278'\n",
       "\\item 'Number: 11 Square root: 3.316625'\n",
       "\\item 'Number: 12 Square root: 3.464102'\n",
       "\\item 'Number: 13 Square root: 3.605551'\n",
       "\\item 'Number: 14 Square root: 3.741657'\n",
       "\\item 'Number: 15 Square root: 3.872983'\n",
       "\\end{enumerate*}\n"
      ],
      "text/markdown": [
       "1. 'Number: 10 Square root: 3.162278'\n",
       "2. 'Number: 11 Square root: 3.316625'\n",
       "3. 'Number: 12 Square root: 3.464102'\n",
       "4. 'Number: 13 Square root: 3.605551'\n",
       "5. 'Number: 14 Square root: 3.741657'\n",
       "6. 'Number: 15 Square root: 3.872983'\n",
       "\n",
       "\n"
      ],
      "text/plain": [
       "[1] \"Number: 10 Square root: 3.162278\" \"Number: 11 Square root: 3.316625\"\n",
       "[3] \"Number: 12 Square root: 3.464102\" \"Number: 13 Square root: 3.605551\"\n",
       "[5] \"Number: 14 Square root: 3.741657\" \"Number: 15 Square root: 3.872983\""
      ]
     },
     "metadata": {},
     "output_type": "display_data"
    }
   ],
   "source": [
    "sprintf(\"%s %d %s %f\", \"Number:\", sequence, \"Square root:\", sqrt.sequence)"
   ]
  },
  {
   "cell_type": "code",
   "execution_count": 27,
   "metadata": {},
   "outputs": [
    {
     "data": {
      "text/html": [
       "<ol class=list-inline>\n",
       "\t<li>'Number: 10 Square root: 3.162'</li>\n",
       "\t<li>'Number: 11 Square root: 3.317'</li>\n",
       "\t<li>'Number: 12 Square root: 3.464'</li>\n",
       "\t<li>'Number: 13 Square root: 3.606'</li>\n",
       "\t<li>'Number: 14 Square root: 3.742'</li>\n",
       "\t<li>'Number: 15 Square root: 3.873'</li>\n",
       "</ol>\n"
      ],
      "text/latex": [
       "\\begin{enumerate*}\n",
       "\\item 'Number: 10 Square root: 3.162'\n",
       "\\item 'Number: 11 Square root: 3.317'\n",
       "\\item 'Number: 12 Square root: 3.464'\n",
       "\\item 'Number: 13 Square root: 3.606'\n",
       "\\item 'Number: 14 Square root: 3.742'\n",
       "\\item 'Number: 15 Square root: 3.873'\n",
       "\\end{enumerate*}\n"
      ],
      "text/markdown": [
       "1. 'Number: 10 Square root: 3.162'\n",
       "2. 'Number: 11 Square root: 3.317'\n",
       "3. 'Number: 12 Square root: 3.464'\n",
       "4. 'Number: 13 Square root: 3.606'\n",
       "5. 'Number: 14 Square root: 3.742'\n",
       "6. 'Number: 15 Square root: 3.873'\n",
       "\n",
       "\n"
      ],
      "text/plain": [
       "[1] \"Number: 10 Square root: 3.162\" \"Number: 11 Square root: 3.317\"\n",
       "[3] \"Number: 12 Square root: 3.464\" \"Number: 13 Square root: 3.606\"\n",
       "[5] \"Number: 14 Square root: 3.742\" \"Number: 15 Square root: 3.873\""
      ]
     },
     "metadata": {},
     "output_type": "display_data"
    }
   ],
   "source": [
    "sprintf(\"%s %d %s %.3f\", \"Number:\", sequence, \"Square root:\", sqrt.sequence)"
   ]
  },
  {
   "cell_type": "code",
   "execution_count": 28,
   "metadata": {},
   "outputs": [
    {
     "data": {
      "text/html": [
       "<ol class=list-inline>\n",
       "\t<li>'Number: 10 Square root: 3.162278e+00'</li>\n",
       "\t<li>'Number: 11 Square root: 3.316625e+00'</li>\n",
       "\t<li>'Number: 12 Square root: 3.464102e+00'</li>\n",
       "\t<li>'Number: 13 Square root: 3.605551e+00'</li>\n",
       "\t<li>'Number: 14 Square root: 3.741657e+00'</li>\n",
       "\t<li>'Number: 15 Square root: 3.872983e+00'</li>\n",
       "</ol>\n"
      ],
      "text/latex": [
       "\\begin{enumerate*}\n",
       "\\item 'Number: 10 Square root: 3.162278e+00'\n",
       "\\item 'Number: 11 Square root: 3.316625e+00'\n",
       "\\item 'Number: 12 Square root: 3.464102e+00'\n",
       "\\item 'Number: 13 Square root: 3.605551e+00'\n",
       "\\item 'Number: 14 Square root: 3.741657e+00'\n",
       "\\item 'Number: 15 Square root: 3.872983e+00'\n",
       "\\end{enumerate*}\n"
      ],
      "text/markdown": [
       "1. 'Number: 10 Square root: 3.162278e+00'\n",
       "2. 'Number: 11 Square root: 3.316625e+00'\n",
       "3. 'Number: 12 Square root: 3.464102e+00'\n",
       "4. 'Number: 13 Square root: 3.605551e+00'\n",
       "5. 'Number: 14 Square root: 3.741657e+00'\n",
       "6. 'Number: 15 Square root: 3.872983e+00'\n",
       "\n",
       "\n"
      ],
      "text/plain": [
       "[1] \"Number: 10 Square root: 3.162278e+00\"\n",
       "[2] \"Number: 11 Square root: 3.316625e+00\"\n",
       "[3] \"Number: 12 Square root: 3.464102e+00\"\n",
       "[4] \"Number: 13 Square root: 3.605551e+00\"\n",
       "[5] \"Number: 14 Square root: 3.741657e+00\"\n",
       "[6] \"Number: 15 Square root: 3.872983e+00\""
      ]
     },
     "metadata": {},
     "output_type": "display_data"
    }
   ],
   "source": [
    "sprintf(\"%s %d %s %e\", \"Number:\", sequence, \"Square root:\", sqrt.sequence)"
   ]
  },
  {
   "cell_type": "code",
   "execution_count": null,
   "metadata": {},
   "outputs": [],
   "source": []
  },
  {
   "cell_type": "code",
   "execution_count": null,
   "metadata": {},
   "outputs": [],
   "source": []
  },
  {
   "cell_type": "code",
   "execution_count": null,
   "metadata": {},
   "outputs": [],
   "source": []
  },
  {
   "cell_type": "code",
   "execution_count": null,
   "metadata": {},
   "outputs": [],
   "source": []
  },
  {
   "cell_type": "code",
   "execution_count": null,
   "metadata": {},
   "outputs": [],
   "source": []
  },
  {
   "cell_type": "code",
   "execution_count": null,
   "metadata": {},
   "outputs": [],
   "source": []
  },
  {
   "cell_type": "code",
   "execution_count": null,
   "metadata": {},
   "outputs": [],
   "source": []
  },
  {
   "cell_type": "code",
   "execution_count": null,
   "metadata": {},
   "outputs": [],
   "source": []
  },
  {
   "cell_type": "code",
   "execution_count": null,
   "metadata": {},
   "outputs": [],
   "source": []
  },
  {
   "cell_type": "code",
   "execution_count": null,
   "metadata": {},
   "outputs": [],
   "source": []
  },
  {
   "cell_type": "code",
   "execution_count": null,
   "metadata": {},
   "outputs": [],
   "source": []
  },
  {
   "cell_type": "code",
   "execution_count": null,
   "metadata": {},
   "outputs": [],
   "source": []
  },
  {
   "cell_type": "code",
   "execution_count": null,
   "metadata": {},
   "outputs": [],
   "source": []
  },
  {
   "cell_type": "code",
   "execution_count": null,
   "metadata": {},
   "outputs": [],
   "source": []
  },
  {
   "cell_type": "code",
   "execution_count": null,
   "metadata": {},
   "outputs": [],
   "source": []
  },
  {
   "cell_type": "code",
   "execution_count": null,
   "metadata": {},
   "outputs": [],
   "source": []
  },
  {
   "cell_type": "code",
   "execution_count": null,
   "metadata": {},
   "outputs": [],
   "source": []
  },
  {
   "cell_type": "code",
   "execution_count": null,
   "metadata": {},
   "outputs": [],
   "source": []
  }
 ],
 "metadata": {
  "kernelspec": {
   "display_name": "R",
   "language": "R",
   "name": "ir"
  },
  "language_info": {
   "codemirror_mode": "r",
   "file_extension": ".r",
   "mimetype": "text/x-r-source",
   "name": "R",
   "pygments_lexer": "r",
   "version": "3.6.1"
  }
 },
 "nbformat": 4,
 "nbformat_minor": 4
}
