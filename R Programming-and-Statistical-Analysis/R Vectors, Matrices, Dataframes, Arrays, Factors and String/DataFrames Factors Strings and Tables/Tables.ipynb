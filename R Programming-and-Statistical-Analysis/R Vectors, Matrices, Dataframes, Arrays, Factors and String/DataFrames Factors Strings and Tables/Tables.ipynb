{
 "cells": [
  {
   "cell_type": "code",
   "execution_count": 1,
   "metadata": {},
   "outputs": [
    {
     "data": {
      "text/html": [
       "<ol class=list-inline>\n",
       "\t<li>'Java'</li>\n",
       "\t<li>'R'</li>\n",
       "\t<li>'SQL'</li>\n",
       "\t<li>'Python'</li>\n",
       "\t<li>'Java'</li>\n",
       "\t<li>'Python'</li>\n",
       "\t<li>'JavaScript'</li>\n",
       "\t<li>'SQL'</li>\n",
       "\t<li>'JavaScript'</li>\n",
       "\t<li>'R'</li>\n",
       "\t<li>'JavaScript'</li>\n",
       "\t<li>'R'</li>\n",
       "\t<li>'Java'</li>\n",
       "\t<li>'Python'</li>\n",
       "\t<li>'Java'</li>\n",
       "\t<li>'R'</li>\n",
       "\t<li>'SQL'</li>\n",
       "</ol>\n"
      ],
      "text/latex": [
       "\\begin{enumerate*}\n",
       "\\item 'Java'\n",
       "\\item 'R'\n",
       "\\item 'SQL'\n",
       "\\item 'Python'\n",
       "\\item 'Java'\n",
       "\\item 'Python'\n",
       "\\item 'JavaScript'\n",
       "\\item 'SQL'\n",
       "\\item 'JavaScript'\n",
       "\\item 'R'\n",
       "\\item 'JavaScript'\n",
       "\\item 'R'\n",
       "\\item 'Java'\n",
       "\\item 'Python'\n",
       "\\item 'Java'\n",
       "\\item 'R'\n",
       "\\item 'SQL'\n",
       "\\end{enumerate*}\n"
      ],
      "text/markdown": [
       "1. 'Java'\n",
       "2. 'R'\n",
       "3. 'SQL'\n",
       "4. 'Python'\n",
       "5. 'Java'\n",
       "6. 'Python'\n",
       "7. 'JavaScript'\n",
       "8. 'SQL'\n",
       "9. 'JavaScript'\n",
       "10. 'R'\n",
       "11. 'JavaScript'\n",
       "12. 'R'\n",
       "13. 'Java'\n",
       "14. 'Python'\n",
       "15. 'Java'\n",
       "16. 'R'\n",
       "17. 'SQL'\n",
       "\n",
       "\n"
      ],
      "text/plain": [
       " [1] \"Java\"       \"R\"          \"SQL\"        \"Python\"     \"Java\"      \n",
       " [6] \"Python\"     \"JavaScript\" \"SQL\"        \"JavaScript\" \"R\"         \n",
       "[11] \"JavaScript\" \"R\"          \"Java\"       \"Python\"     \"Java\"      \n",
       "[16] \"R\"          \"SQL\"       "
      ]
     },
     "metadata": {},
     "output_type": "display_data"
    }
   ],
   "source": [
    "courses <- c(\"Java\", \"R\", \"SQL\", \"Python\", \"Java\", \n",
    "             \"Python\", \"JavaScript\", \"SQL\", \"JavaScript\", \"R\", \n",
    "             \"JavaScript\", \"R\", \"Java\", \"Python\", \"Java\", \"R\", \"SQL\")\n",
    "\n",
    "courses"
   ]
  },
  {
   "cell_type": "code",
   "execution_count": 2,
   "metadata": {},
   "outputs": [
    {
     "data": {
      "text/plain": [
       "courses\n",
       "      Java JavaScript     Python          R        SQL \n",
       "         4          3          3          4          3 "
      ]
     },
     "metadata": {},
     "output_type": "display_data"
    }
   ],
   "source": [
    "courses.table <- table(courses)\n",
    "\n",
    "courses.table"
   ]
  },
  {
   "cell_type": "code",
   "execution_count": 3,
   "metadata": {},
   "outputs": [
    {
     "data": {
      "text/html": [
       "'table'"
      ],
      "text/latex": [
       "'table'"
      ],
      "text/markdown": [
       "'table'"
      ],
      "text/plain": [
       "[1] \"table\""
      ]
     },
     "metadata": {},
     "output_type": "display_data"
    }
   ],
   "source": [
    "class(courses.table)"
   ]
  },
  {
   "cell_type": "code",
   "execution_count": 4,
   "metadata": {},
   "outputs": [
    {
     "data": {
      "text/html": [
       "<ol class=list-inline>\n",
       "\t<li>'m'</li>\n",
       "\t<li>'f'</li>\n",
       "\t<li>'m'</li>\n",
       "\t<li>'m'</li>\n",
       "\t<li>'f'</li>\n",
       "\t<li>'f'</li>\n",
       "\t<li>'m'</li>\n",
       "\t<li>'f'</li>\n",
       "\t<li>'f'</li>\n",
       "\t<li>'f'</li>\n",
       "\t<li>'m'</li>\n",
       "\t<li>'m'</li>\n",
       "\t<li>'f'</li>\n",
       "\t<li>'m'</li>\n",
       "\t<li>'f'</li>\n",
       "\t<li>'f'</li>\n",
       "\t<li>'m'</li>\n",
       "</ol>\n"
      ],
      "text/latex": [
       "\\begin{enumerate*}\n",
       "\\item 'm'\n",
       "\\item 'f'\n",
       "\\item 'm'\n",
       "\\item 'm'\n",
       "\\item 'f'\n",
       "\\item 'f'\n",
       "\\item 'm'\n",
       "\\item 'f'\n",
       "\\item 'f'\n",
       "\\item 'f'\n",
       "\\item 'm'\n",
       "\\item 'm'\n",
       "\\item 'f'\n",
       "\\item 'm'\n",
       "\\item 'f'\n",
       "\\item 'f'\n",
       "\\item 'm'\n",
       "\\end{enumerate*}\n"
      ],
      "text/markdown": [
       "1. 'm'\n",
       "2. 'f'\n",
       "3. 'm'\n",
       "4. 'm'\n",
       "5. 'f'\n",
       "6. 'f'\n",
       "7. 'm'\n",
       "8. 'f'\n",
       "9. 'f'\n",
       "10. 'f'\n",
       "11. 'm'\n",
       "12. 'm'\n",
       "13. 'f'\n",
       "14. 'm'\n",
       "15. 'f'\n",
       "16. 'f'\n",
       "17. 'm'\n",
       "\n",
       "\n"
      ],
      "text/plain": [
       " [1] \"m\" \"f\" \"m\" \"m\" \"f\" \"f\" \"m\" \"f\" \"f\" \"f\" \"m\" \"m\" \"f\" \"m\" \"f\" \"f\" \"m\""
      ]
     },
     "metadata": {},
     "output_type": "display_data"
    }
   ],
   "source": [
    "gender <- c(\"m\", \"f\", \"m\", \"m\", \"f\", \"f\", \"m\", \"f\", \"f\", \n",
    "            \"f\", \"m\", \"m\", \"f\", \"m\", \"f\", \"f\", \"m\")\n",
    "\n",
    "gender"
   ]
  },
  {
   "cell_type": "code",
   "execution_count": 5,
   "metadata": {},
   "outputs": [
    {
     "data": {
      "text/plain": [
       "gender\n",
       "f m \n",
       "9 8 "
      ]
     },
     "metadata": {},
     "output_type": "display_data"
    }
   ],
   "source": [
    "gender.table <- table(gender)\n",
    "\n",
    "gender.table"
   ]
  },
  {
   "cell_type": "code",
   "execution_count": 6,
   "metadata": {},
   "outputs": [
    {
     "data": {
      "text/plain": [
       "            gender\n",
       "courses      f m\n",
       "  Java       3 1\n",
       "  JavaScript 1 2\n",
       "  Python     1 2\n",
       "  R          3 1\n",
       "  SQL        1 2"
      ]
     },
     "metadata": {},
     "output_type": "display_data"
    }
   ],
   "source": [
    "course.gender.table <- table(courses, gender)\n",
    "\n",
    "course.gender.table"
   ]
  },
  {
   "cell_type": "code",
   "execution_count": 7,
   "metadata": {},
   "outputs": [
    {
     "data": {
      "text/html": [
       "<table>\n",
       "<thead><tr><th scope=col>id</th><th scope=col>name</th><th scope=col>department</th><th scope=col>gender</th><th scope=col>type</th><th scope=col>salary</th></tr></thead>\n",
       "<tbody>\n",
       "\t<tr><td>1001            </td><td>Amanda          </td><td>Test Engineering</td><td>F               </td><td>Fulltime        </td><td>135000          </td></tr>\n",
       "\t<tr><td>1002            </td><td>Isaac           </td><td>Test Engineering</td><td>M               </td><td>Fulltime        </td><td> 28000          </td></tr>\n",
       "\t<tr><td>1003            </td><td>Philip          </td><td>Engineering     </td><td>M               </td><td>Contract        </td><td> 40000          </td></tr>\n",
       "\t<tr><td>1004            </td><td>Felicia         </td><td>Engineering     </td><td>F               </td><td>Contract        </td><td>166000          </td></tr>\n",
       "\t<tr><td>1005            </td><td>Jason           </td><td>Sales           </td><td>M               </td><td>Parttime        </td><td>135000          </td></tr>\n",
       "\t<tr><td>1006            </td><td>George          </td><td>HR              </td><td>M               </td><td>Parttime        </td><td> 40000          </td></tr>\n",
       "\t<tr><td>1007            </td><td>Lily            </td><td>Operations      </td><td>F               </td><td>Fulltime        </td><td> 50000          </td></tr>\n",
       "</tbody>\n",
       "</table>\n"
      ],
      "text/latex": [
       "\\begin{tabular}{r|llllll}\n",
       " id & name & department & gender & type & salary\\\\\n",
       "\\hline\n",
       "\t 1001             & Amanda           & Test Engineering & F                & Fulltime         & 135000          \\\\\n",
       "\t 1002             & Isaac            & Test Engineering & M                & Fulltime         &  28000          \\\\\n",
       "\t 1003             & Philip           & Engineering      & M                & Contract         &  40000          \\\\\n",
       "\t 1004             & Felicia          & Engineering      & F                & Contract         & 166000          \\\\\n",
       "\t 1005             & Jason            & Sales            & M                & Parttime         & 135000          \\\\\n",
       "\t 1006             & George           & HR               & M                & Parttime         &  40000          \\\\\n",
       "\t 1007             & Lily             & Operations       & F                & Fulltime         &  50000          \\\\\n",
       "\\end{tabular}\n"
      ],
      "text/markdown": [
       "\n",
       "| id | name | department | gender | type | salary |\n",
       "|---|---|---|---|---|---|\n",
       "| 1001             | Amanda           | Test Engineering | F                | Fulltime         | 135000           |\n",
       "| 1002             | Isaac            | Test Engineering | M                | Fulltime         |  28000           |\n",
       "| 1003             | Philip           | Engineering      | M                | Contract         |  40000           |\n",
       "| 1004             | Felicia          | Engineering      | F                | Contract         | 166000           |\n",
       "| 1005             | Jason            | Sales            | M                | Parttime         | 135000           |\n",
       "| 1006             | George           | HR               | M                | Parttime         |  40000           |\n",
       "| 1007             | Lily             | Operations       | F                | Fulltime         |  50000           |\n",
       "\n"
      ],
      "text/plain": [
       "  id   name    department       gender type     salary\n",
       "1 1001 Amanda  Test Engineering F      Fulltime 135000\n",
       "2 1002 Isaac   Test Engineering M      Fulltime  28000\n",
       "3 1003 Philip  Engineering      M      Contract  40000\n",
       "4 1004 Felicia Engineering      F      Contract 166000\n",
       "5 1005 Jason   Sales            M      Parttime 135000\n",
       "6 1006 George  HR               M      Parttime  40000\n",
       "7 1007 Lily    Operations       F      Fulltime  50000"
      ]
     },
     "metadata": {},
     "output_type": "display_data"
    }
   ],
   "source": [
    "employee.data <- data.frame(id = 1001:1007,\n",
    "                            \n",
    "                            name = c(\"Amanda\", \"Isaac\", \"Philip\", \n",
    "                                     \"Felicia\", \"Jason\", \"George\", \"Lily\"),\n",
    "                            \n",
    "                            department = factor(c(\"Test Engineering\", \"Test Engineering\", \n",
    "                                                  \"Engineering\", \"Engineering\",\n",
    "                                                  \"Sales\", \"HR\", \"Operations\")),\n",
    "                            \n",
    "                            gender = factor(c(\"F\", \"M\", \"M\", \"F\", \"M\", \"M\", \"F\")),\n",
    "                            \n",
    "                            type = factor(c(\"Fulltime\", \"Fulltime\", \"Contract\", \n",
    "                                            \"Contract\", \"Parttime\", \"Parttime\", \"Fulltime\"), \n",
    "                                          levels=c(\"Fulltime\", \"Contract\", \"Parttime\")),\n",
    "                            \n",
    "                            salary = c(135000, 28000, 40000, 166000, 135000, 40000, 50000),\n",
    "                            \n",
    "                            stringsAsFactors = FALSE)\n",
    "\n",
    "employee.data"
   ]
  },
  {
   "cell_type": "code",
   "execution_count": 8,
   "metadata": {},
   "outputs": [
    {
     "data": {
      "text/plain": [
       "                  \n",
       "                   Fulltime Contract Parttime\n",
       "  Engineering             0        2        0\n",
       "  HR                      0        0        1\n",
       "  Operations              1        0        0\n",
       "  Sales                   0        0        1\n",
       "  Test Engineering        2        0        0"
      ]
     },
     "metadata": {},
     "output_type": "display_data"
    }
   ],
   "source": [
    "dept.type.table <- table(employee.data$department, employee.data$type)\n",
    "\n",
    "dept.type.table"
   ]
  },
  {
   "cell_type": "code",
   "execution_count": 9,
   "metadata": {},
   "outputs": [
    {
     "data": {
      "text/plain": [
       "   \n",
       "    Engineering HR Operations Sales Test Engineering\n",
       "  F           1  0          1     0                1\n",
       "  M           1  1          0     1                1"
      ]
     },
     "metadata": {},
     "output_type": "display_data"
    }
   ],
   "source": [
    "gender.dept.table <- table(employee.data$gender, employee.data$department)\n",
    "\n",
    "gender.dept.table"
   ]
  },
  {
   "cell_type": "code",
   "execution_count": 10,
   "metadata": {},
   "outputs": [
    {
     "data": {
      "text/plain": [
       ", ,  = Fulltime\n",
       "\n",
       "   \n",
       "    Engineering HR Operations Sales Test Engineering\n",
       "  F           0  0          1     0                1\n",
       "  M           0  0          0     0                1\n",
       "\n",
       ", ,  = Contract\n",
       "\n",
       "   \n",
       "    Engineering HR Operations Sales Test Engineering\n",
       "  F           1  0          0     0                0\n",
       "  M           1  0          0     0                0\n",
       "\n",
       ", ,  = Parttime\n",
       "\n",
       "   \n",
       "    Engineering HR Operations Sales Test Engineering\n",
       "  F           0  0          0     0                0\n",
       "  M           0  1          0     1                0\n"
      ]
     },
     "metadata": {},
     "output_type": "display_data"
    }
   ],
   "source": [
    "gender.dept.type.table <- table(employee.data$gender, \n",
    "                                employee.data$department,\n",
    "                                employee.data$type)\n",
    "\n",
    "gender.dept.type.table"
   ]
  },
  {
   "cell_type": "code",
   "execution_count": 11,
   "metadata": {},
   "outputs": [
    {
     "data": {
      "text/plain": [
       "   \n",
       "    Fulltime Contract Parttime\n",
       "  F        2        1        0\n",
       "  M        1        1        2"
      ]
     },
     "metadata": {},
     "output_type": "display_data"
    }
   ],
   "source": [
    "gender.type.table <- table(employee.data$gender, employee.data$type)\n",
    "\n",
    "gender.type.table"
   ]
  },
  {
   "cell_type": "code",
   "execution_count": 12,
   "metadata": {},
   "outputs": [
    {
     "data": {
      "text/html": [
       "<table>\n",
       "<thead><tr><th></th><th scope=col>Fulltime</th><th scope=col>Contract</th><th scope=col>Parttime</th><th scope=col>Sum</th></tr></thead>\n",
       "<tbody>\n",
       "\t<tr><th scope=row>F</th><td>2</td><td>1</td><td>0</td><td>3</td></tr>\n",
       "\t<tr><th scope=row>M</th><td>1</td><td>1</td><td>2</td><td>4</td></tr>\n",
       "\t<tr><th scope=row>Sum</th><td>3</td><td>2</td><td>2</td><td>7</td></tr>\n",
       "</tbody>\n",
       "</table>\n"
      ],
      "text/latex": [
       "\\begin{tabular}{r|llll}\n",
       "  & Fulltime & Contract & Parttime & Sum\\\\\n",
       "\\hline\n",
       "\tF & 2 & 1 & 0 & 3\\\\\n",
       "\tM & 1 & 1 & 2 & 4\\\\\n",
       "\tSum & 3 & 2 & 2 & 7\\\\\n",
       "\\end{tabular}\n"
      ],
      "text/markdown": [
       "\n",
       "| <!--/--> | Fulltime | Contract | Parttime | Sum |\n",
       "|---|---|---|---|---|\n",
       "| F | 2 | 1 | 0 | 3 |\n",
       "| M | 1 | 1 | 2 | 4 |\n",
       "| Sum | 3 | 2 | 2 | 7 |\n",
       "\n"
      ],
      "text/plain": [
       "     \n",
       "      Fulltime Contract Parttime Sum\n",
       "  F   2        1        0        3  \n",
       "  M   1        1        2        4  \n",
       "  Sum 3        2        2        7  "
      ]
     },
     "metadata": {},
     "output_type": "display_data"
    }
   ],
   "source": [
    "addmargins(gender.type.table)"
   ]
  },
  {
   "cell_type": "code",
   "execution_count": 13,
   "metadata": {},
   "outputs": [
    {
     "data": {
      "text/plain": [
       "   \n",
       "     Fulltime  Contract  Parttime\n",
       "  F 0.2857143 0.1428571 0.0000000\n",
       "  M 0.1428571 0.1428571 0.2857143"
      ]
     },
     "metadata": {},
     "output_type": "display_data"
    }
   ],
   "source": [
    "prop.table(gender.type.table)"
   ]
  },
  {
   "cell_type": "code",
   "execution_count": null,
   "metadata": {},
   "outputs": [],
   "source": []
  },
  {
   "cell_type": "code",
   "execution_count": null,
   "metadata": {},
   "outputs": [],
   "source": []
  },
  {
   "cell_type": "code",
   "execution_count": null,
   "metadata": {},
   "outputs": [],
   "source": []
  },
  {
   "cell_type": "code",
   "execution_count": null,
   "metadata": {},
   "outputs": [],
   "source": []
  },
  {
   "cell_type": "code",
   "execution_count": null,
   "metadata": {},
   "outputs": [],
   "source": []
  },
  {
   "cell_type": "code",
   "execution_count": null,
   "metadata": {},
   "outputs": [],
   "source": []
  },
  {
   "cell_type": "code",
   "execution_count": null,
   "metadata": {},
   "outputs": [],
   "source": []
  },
  {
   "cell_type": "code",
   "execution_count": null,
   "metadata": {},
   "outputs": [],
   "source": []
  },
  {
   "cell_type": "code",
   "execution_count": null,
   "metadata": {},
   "outputs": [],
   "source": []
  },
  {
   "cell_type": "code",
   "execution_count": null,
   "metadata": {},
   "outputs": [],
   "source": []
  },
  {
   "cell_type": "code",
   "execution_count": null,
   "metadata": {},
   "outputs": [],
   "source": []
  },
  {
   "cell_type": "code",
   "execution_count": null,
   "metadata": {},
   "outputs": [],
   "source": []
  },
  {
   "cell_type": "code",
   "execution_count": null,
   "metadata": {},
   "outputs": [],
   "source": []
  },
  {
   "cell_type": "code",
   "execution_count": null,
   "metadata": {},
   "outputs": [],
   "source": []
  },
  {
   "cell_type": "code",
   "execution_count": null,
   "metadata": {},
   "outputs": [],
   "source": []
  },
  {
   "cell_type": "code",
   "execution_count": null,
   "metadata": {},
   "outputs": [],
   "source": []
  },
  {
   "cell_type": "code",
   "execution_count": null,
   "metadata": {},
   "outputs": [],
   "source": []
  },
  {
   "cell_type": "code",
   "execution_count": null,
   "metadata": {},
   "outputs": [],
   "source": []
  },
  {
   "cell_type": "code",
   "execution_count": null,
   "metadata": {},
   "outputs": [],
   "source": []
  },
  {
   "cell_type": "code",
   "execution_count": null,
   "metadata": {},
   "outputs": [],
   "source": []
  },
  {
   "cell_type": "code",
   "execution_count": null,
   "metadata": {},
   "outputs": [],
   "source": []
  },
  {
   "cell_type": "code",
   "execution_count": null,
   "metadata": {},
   "outputs": [],
   "source": []
  },
  {
   "cell_type": "code",
   "execution_count": null,
   "metadata": {},
   "outputs": [],
   "source": []
  }
 ],
 "metadata": {
  "kernelspec": {
   "display_name": "R",
   "language": "R",
   "name": "ir"
  },
  "language_info": {
   "codemirror_mode": "r",
   "file_extension": ".r",
   "mimetype": "text/x-r-source",
   "name": "R",
   "pygments_lexer": "r",
   "version": "3.6.1"
  }
 },
 "nbformat": 4,
 "nbformat_minor": 4
}
