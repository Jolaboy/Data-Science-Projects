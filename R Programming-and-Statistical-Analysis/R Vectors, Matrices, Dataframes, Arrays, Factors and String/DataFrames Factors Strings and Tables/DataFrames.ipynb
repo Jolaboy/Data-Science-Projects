{
 "cells": [
  {
   "cell_type": "code",
   "execution_count": 1,
   "metadata": {},
   "outputs": [
    {
     "data": {
      "text/html": [],
      "text/latex": [],
      "text/markdown": [],
      "text/plain": [
       "<0 x 0 matrix>"
      ]
     },
     "metadata": {},
     "output_type": "display_data"
    }
   ],
   "source": [
    "empty.dataframe <- data.frame()\n",
    "\n",
    "empty.dataframe"
   ]
  },
  {
   "cell_type": "code",
   "execution_count": 2,
   "metadata": {},
   "outputs": [
    {
     "name": "stdout",
     "output_type": "stream",
     "text": [
      "data frame with 0 columns and 0 rows\n"
     ]
    }
   ],
   "source": [
    "print(empty.dataframe)"
   ]
  },
  {
   "cell_type": "code",
   "execution_count": 3,
   "metadata": {},
   "outputs": [
    {
     "data": {
      "text/html": [
       "'data.frame'"
      ],
      "text/latex": [
       "'data.frame'"
      ],
      "text/markdown": [
       "'data.frame'"
      ],
      "text/plain": [
       "[1] \"data.frame\""
      ]
     },
     "metadata": {},
     "output_type": "display_data"
    }
   ],
   "source": [
    "class(empty.dataframe)"
   ]
  },
  {
   "cell_type": "code",
   "execution_count": 4,
   "metadata": {},
   "outputs": [
    {
     "data": {
      "text/html": [
       "<table>\n",
       "<thead><tr><th scope=col>id</th><th scope=col>name</th><th scope=col>grade</th></tr></thead>\n",
       "<tbody>\n",
       "\t<tr><td>NA</td><td>NA</td><td>NA</td></tr>\n",
       "</tbody>\n",
       "</table>\n"
      ],
      "text/latex": [
       "\\begin{tabular}{r|lll}\n",
       " id & name & grade\\\\\n",
       "\\hline\n",
       "\t NA & NA & NA\\\\\n",
       "\\end{tabular}\n"
      ],
      "text/markdown": [
       "\n",
       "| id | name | grade |\n",
       "|---|---|---|\n",
       "| NA | NA | NA |\n",
       "\n"
      ],
      "text/plain": [
       "  id name grade\n",
       "1 NA NA   NA   "
      ]
     },
     "metadata": {},
     "output_type": "display_data"
    }
   ],
   "source": [
    "students.dataframe <- data.frame(\"id\" = NA, \"name\" = NA, \"grade\" = NA)\n",
    "\n",
    "students.dataframe"
   ]
  },
  {
   "cell_type": "code",
   "execution_count": 5,
   "metadata": {},
   "outputs": [
    {
     "name": "stdout",
     "output_type": "stream",
     "text": [
      "'data.frame':\t1 obs. of  3 variables:\n",
      " $ id   : logi NA\n",
      " $ name : logi NA\n",
      " $ grade: logi NA\n"
     ]
    }
   ],
   "source": [
    "str(students.dataframe)"
   ]
  },
  {
   "cell_type": "code",
   "execution_count": 6,
   "metadata": {},
   "outputs": [
    {
     "data": {
      "text/html": [
       "<table>\n",
       "<thead><tr><th scope=col>ids</th><th scope=col>names</th><th scope=col>grades</th></tr></thead>\n",
       "<tbody>\n",
       "\t<tr><td>1000   </td><td>Lucy   </td><td>3.4    </td></tr>\n",
       "\t<tr><td>1001   </td><td>Desmond</td><td>2.3    </td></tr>\n",
       "\t<tr><td>1002   </td><td>Robert </td><td>3.7    </td></tr>\n",
       "\t<tr><td>1003   </td><td>Joan   </td><td>3.1    </td></tr>\n",
       "\t<tr><td>1004   </td><td>Stacy  </td><td>2.9    </td></tr>\n",
       "\t<tr><td>1005   </td><td>Joe    </td><td>3.2    </td></tr>\n",
       "\t<tr><td>1006   </td><td>Doug   </td><td>3.5    </td></tr>\n",
       "</tbody>\n",
       "</table>\n"
      ],
      "text/latex": [
       "\\begin{tabular}{r|lll}\n",
       " ids & names & grades\\\\\n",
       "\\hline\n",
       "\t 1000    & Lucy    & 3.4    \\\\\n",
       "\t 1001    & Desmond & 2.3    \\\\\n",
       "\t 1002    & Robert  & 3.7    \\\\\n",
       "\t 1003    & Joan    & 3.1    \\\\\n",
       "\t 1004    & Stacy   & 2.9    \\\\\n",
       "\t 1005    & Joe     & 3.2    \\\\\n",
       "\t 1006    & Doug    & 3.5    \\\\\n",
       "\\end{tabular}\n"
      ],
      "text/markdown": [
       "\n",
       "| ids | names | grades |\n",
       "|---|---|---|\n",
       "| 1000    | Lucy    | 3.4     |\n",
       "| 1001    | Desmond | 2.3     |\n",
       "| 1002    | Robert  | 3.7     |\n",
       "| 1003    | Joan    | 3.1     |\n",
       "| 1004    | Stacy   | 2.9     |\n",
       "| 1005    | Joe     | 3.2     |\n",
       "| 1006    | Doug    | 3.5     |\n",
       "\n"
      ],
      "text/plain": [
       "  ids  names   grades\n",
       "1 1000 Lucy    3.4   \n",
       "2 1001 Desmond 2.3   \n",
       "3 1002 Robert  3.7   \n",
       "4 1003 Joan    3.1   \n",
       "5 1004 Stacy   2.9   \n",
       "6 1005 Joe     3.2   \n",
       "7 1006 Doug    3.5   "
      ]
     },
     "metadata": {},
     "output_type": "display_data"
    }
   ],
   "source": [
    "ids <- 1000:1006\n",
    "names <- c(\"Lucy\", \"Desmond\", \"Robert\", \"Joan\", \"Stacy\", \"Joe\", \"Doug\")\n",
    "grades <- c(3.4, 2.3, 3.7, 3.1, 2.9, 3.2, 3.5)\n",
    "\n",
    "students.dataframe <- data.frame(ids, names, grades)\n",
    "\n",
    "students.dataframe"
   ]
  },
  {
   "cell_type": "code",
   "execution_count": 7,
   "metadata": {},
   "outputs": [
    {
     "name": "stdout",
     "output_type": "stream",
     "text": [
      "'data.frame':\t7 obs. of  3 variables:\n",
      " $ ids   : int  1000 1001 1002 1003 1004 1005 1006\n",
      " $ names : Factor w/ 7 levels \"Desmond\",\"Doug\",..: 5 1 6 3 7 4 2\n",
      " $ grades: num  3.4 2.3 3.7 3.1 2.9 3.2 3.5\n"
     ]
    }
   ],
   "source": [
    "str(students.dataframe)"
   ]
  },
  {
   "cell_type": "code",
   "execution_count": 8,
   "metadata": {},
   "outputs": [
    {
     "data": {
      "text/html": [
       "<table>\n",
       "<thead><tr><th scope=col>ids</th><th scope=col>names</th><th scope=col>grades</th></tr></thead>\n",
       "<tbody>\n",
       "\t<tr><td>1000   </td><td>Lucy   </td><td>3.4    </td></tr>\n",
       "\t<tr><td>1001   </td><td>Desmond</td><td>2.3    </td></tr>\n",
       "\t<tr><td>1002   </td><td>Robert </td><td>3.7    </td></tr>\n",
       "\t<tr><td>1003   </td><td>Joan   </td><td>3.1    </td></tr>\n",
       "\t<tr><td>1004   </td><td>Stacy  </td><td>2.9    </td></tr>\n",
       "\t<tr><td>1005   </td><td>Joe    </td><td>3.2    </td></tr>\n",
       "\t<tr><td>1006   </td><td>Doug   </td><td>3.5    </td></tr>\n",
       "</tbody>\n",
       "</table>\n"
      ],
      "text/latex": [
       "\\begin{tabular}{r|lll}\n",
       " ids & names & grades\\\\\n",
       "\\hline\n",
       "\t 1000    & Lucy    & 3.4    \\\\\n",
       "\t 1001    & Desmond & 2.3    \\\\\n",
       "\t 1002    & Robert  & 3.7    \\\\\n",
       "\t 1003    & Joan    & 3.1    \\\\\n",
       "\t 1004    & Stacy   & 2.9    \\\\\n",
       "\t 1005    & Joe     & 3.2    \\\\\n",
       "\t 1006    & Doug    & 3.5    \\\\\n",
       "\\end{tabular}\n"
      ],
      "text/markdown": [
       "\n",
       "| ids | names | grades |\n",
       "|---|---|---|\n",
       "| 1000    | Lucy    | 3.4     |\n",
       "| 1001    | Desmond | 2.3     |\n",
       "| 1002    | Robert  | 3.7     |\n",
       "| 1003    | Joan    | 3.1     |\n",
       "| 1004    | Stacy   | 2.9     |\n",
       "| 1005    | Joe     | 3.2     |\n",
       "| 1006    | Doug    | 3.5     |\n",
       "\n"
      ],
      "text/plain": [
       "  ids  names   grades\n",
       "1 1000 Lucy    3.4   \n",
       "2 1001 Desmond 2.3   \n",
       "3 1002 Robert  3.7   \n",
       "4 1003 Joan    3.1   \n",
       "5 1004 Stacy   2.9   \n",
       "6 1005 Joe     3.2   \n",
       "7 1006 Doug    3.5   "
      ]
     },
     "metadata": {},
     "output_type": "display_data"
    }
   ],
   "source": [
    "students.dataframe <- data.frame(ids, names, grades, stringsAsFactors = FALSE)\n",
    "\n",
    "students.dataframe"
   ]
  },
  {
   "cell_type": "code",
   "execution_count": 9,
   "metadata": {},
   "outputs": [
    {
     "name": "stdout",
     "output_type": "stream",
     "text": [
      "'data.frame':\t7 obs. of  3 variables:\n",
      " $ ids   : int  1000 1001 1002 1003 1004 1005 1006\n",
      " $ names : chr  \"Lucy\" \"Desmond\" \"Robert\" \"Joan\" ...\n",
      " $ grades: num  3.4 2.3 3.7 3.1 2.9 3.2 3.5\n"
     ]
    }
   ],
   "source": [
    "str(students.dataframe)"
   ]
  },
  {
   "cell_type": "code",
   "execution_count": 10,
   "metadata": {},
   "outputs": [
    {
     "data": {
      "text/html": [
       "<table>\n",
       "<thead><tr><th scope=col>ids</th><th scope=col>names</th><th scope=col>grades</th></tr></thead>\n",
       "<tbody>\n",
       "\t<tr><td>1000   </td><td>Lucy   </td><td>3.4    </td></tr>\n",
       "\t<tr><td>1001   </td><td>Desmond</td><td>2.3    </td></tr>\n",
       "\t<tr><td>1002   </td><td>Robert </td><td>3.7    </td></tr>\n",
       "\t<tr><td>1003   </td><td>Joan   </td><td>3.1    </td></tr>\n",
       "\t<tr><td>1004   </td><td>Stacy  </td><td>2.9    </td></tr>\n",
       "\t<tr><td>1005   </td><td>Joe    </td><td>3.2    </td></tr>\n",
       "</tbody>\n",
       "</table>\n"
      ],
      "text/latex": [
       "\\begin{tabular}{r|lll}\n",
       " ids & names & grades\\\\\n",
       "\\hline\n",
       "\t 1000    & Lucy    & 3.4    \\\\\n",
       "\t 1001    & Desmond & 2.3    \\\\\n",
       "\t 1002    & Robert  & 3.7    \\\\\n",
       "\t 1003    & Joan    & 3.1    \\\\\n",
       "\t 1004    & Stacy   & 2.9    \\\\\n",
       "\t 1005    & Joe     & 3.2    \\\\\n",
       "\\end{tabular}\n"
      ],
      "text/markdown": [
       "\n",
       "| ids | names | grades |\n",
       "|---|---|---|\n",
       "| 1000    | Lucy    | 3.4     |\n",
       "| 1001    | Desmond | 2.3     |\n",
       "| 1002    | Robert  | 3.7     |\n",
       "| 1003    | Joan    | 3.1     |\n",
       "| 1004    | Stacy   | 2.9     |\n",
       "| 1005    | Joe     | 3.2     |\n",
       "\n"
      ],
      "text/plain": [
       "  ids  names   grades\n",
       "1 1000 Lucy    3.4   \n",
       "2 1001 Desmond 2.3   \n",
       "3 1002 Robert  3.7   \n",
       "4 1003 Joan    3.1   \n",
       "5 1004 Stacy   2.9   \n",
       "6 1005 Joe     3.2   "
      ]
     },
     "metadata": {},
     "output_type": "display_data"
    }
   ],
   "source": [
    "head(students.dataframe)"
   ]
  },
  {
   "cell_type": "code",
   "execution_count": 11,
   "metadata": {},
   "outputs": [
    {
     "data": {
      "text/html": [
       "<table>\n",
       "<thead><tr><th></th><th scope=col>ids</th><th scope=col>names</th><th scope=col>grades</th></tr></thead>\n",
       "<tbody>\n",
       "\t<tr><th scope=row>2</th><td>1001   </td><td>Desmond</td><td>2.3    </td></tr>\n",
       "\t<tr><th scope=row>3</th><td>1002   </td><td>Robert </td><td>3.7    </td></tr>\n",
       "\t<tr><th scope=row>4</th><td>1003   </td><td>Joan   </td><td>3.1    </td></tr>\n",
       "\t<tr><th scope=row>5</th><td>1004   </td><td>Stacy  </td><td>2.9    </td></tr>\n",
       "\t<tr><th scope=row>6</th><td>1005   </td><td>Joe    </td><td>3.2    </td></tr>\n",
       "\t<tr><th scope=row>7</th><td>1006   </td><td>Doug   </td><td>3.5    </td></tr>\n",
       "</tbody>\n",
       "</table>\n"
      ],
      "text/latex": [
       "\\begin{tabular}{r|lll}\n",
       "  & ids & names & grades\\\\\n",
       "\\hline\n",
       "\t2 & 1001    & Desmond & 2.3    \\\\\n",
       "\t3 & 1002    & Robert  & 3.7    \\\\\n",
       "\t4 & 1003    & Joan    & 3.1    \\\\\n",
       "\t5 & 1004    & Stacy   & 2.9    \\\\\n",
       "\t6 & 1005    & Joe     & 3.2    \\\\\n",
       "\t7 & 1006    & Doug    & 3.5    \\\\\n",
       "\\end{tabular}\n"
      ],
      "text/markdown": [
       "\n",
       "| <!--/--> | ids | names | grades |\n",
       "|---|---|---|---|\n",
       "| 2 | 1001    | Desmond | 2.3     |\n",
       "| 3 | 1002    | Robert  | 3.7     |\n",
       "| 4 | 1003    | Joan    | 3.1     |\n",
       "| 5 | 1004    | Stacy   | 2.9     |\n",
       "| 6 | 1005    | Joe     | 3.2     |\n",
       "| 7 | 1006    | Doug    | 3.5     |\n",
       "\n"
      ],
      "text/plain": [
       "  ids  names   grades\n",
       "2 1001 Desmond 2.3   \n",
       "3 1002 Robert  3.7   \n",
       "4 1003 Joan    3.1   \n",
       "5 1004 Stacy   2.9   \n",
       "6 1005 Joe     3.2   \n",
       "7 1006 Doug    3.5   "
      ]
     },
     "metadata": {},
     "output_type": "display_data"
    }
   ],
   "source": [
    "tail(students.dataframe)"
   ]
  },
  {
   "cell_type": "code",
   "execution_count": 12,
   "metadata": {},
   "outputs": [
    {
     "data": {
      "text/html": [
       "<table>\n",
       "<thead><tr><th scope=col>student.id</th><th scope=col>student.name</th><th scope=col>student.gpa</th></tr></thead>\n",
       "<tbody>\n",
       "\t<tr><td>1000   </td><td>Lucy   </td><td>3.4    </td></tr>\n",
       "\t<tr><td>1001   </td><td>Desmond</td><td>2.3    </td></tr>\n",
       "\t<tr><td>1002   </td><td>Robert </td><td>3.7    </td></tr>\n",
       "\t<tr><td>1003   </td><td>Joan   </td><td>3.1    </td></tr>\n",
       "\t<tr><td>1004   </td><td>Stacy  </td><td>2.9    </td></tr>\n",
       "\t<tr><td>1005   </td><td>Joe    </td><td>3.2    </td></tr>\n",
       "\t<tr><td>1006   </td><td>Doug   </td><td>3.5    </td></tr>\n",
       "</tbody>\n",
       "</table>\n"
      ],
      "text/latex": [
       "\\begin{tabular}{r|lll}\n",
       " student.id & student.name & student.gpa\\\\\n",
       "\\hline\n",
       "\t 1000    & Lucy    & 3.4    \\\\\n",
       "\t 1001    & Desmond & 2.3    \\\\\n",
       "\t 1002    & Robert  & 3.7    \\\\\n",
       "\t 1003    & Joan    & 3.1    \\\\\n",
       "\t 1004    & Stacy   & 2.9    \\\\\n",
       "\t 1005    & Joe     & 3.2    \\\\\n",
       "\t 1006    & Doug    & 3.5    \\\\\n",
       "\\end{tabular}\n"
      ],
      "text/markdown": [
       "\n",
       "| student.id | student.name | student.gpa |\n",
       "|---|---|---|\n",
       "| 1000    | Lucy    | 3.4     |\n",
       "| 1001    | Desmond | 2.3     |\n",
       "| 1002    | Robert  | 3.7     |\n",
       "| 1003    | Joan    | 3.1     |\n",
       "| 1004    | Stacy   | 2.9     |\n",
       "| 1005    | Joe     | 3.2     |\n",
       "| 1006    | Doug    | 3.5     |\n",
       "\n"
      ],
      "text/plain": [
       "  student.id student.name student.gpa\n",
       "1 1000       Lucy         3.4        \n",
       "2 1001       Desmond      2.3        \n",
       "3 1002       Robert       3.7        \n",
       "4 1003       Joan         3.1        \n",
       "5 1004       Stacy        2.9        \n",
       "6 1005       Joe          3.2        \n",
       "7 1006       Doug         3.5        "
      ]
     },
     "metadata": {},
     "output_type": "display_data"
    }
   ],
   "source": [
    "students.dataframe <- data.frame(\"student.id\"=ids, \n",
    "                                 \"student.name\"=names, \n",
    "                                 \"student.gpa\"=grades, \n",
    "                                 stringsAsFactors = FALSE)\n",
    "\n",
    "students.dataframe"
   ]
  },
  {
   "cell_type": "code",
   "execution_count": 13,
   "metadata": {},
   "outputs": [
    {
     "data": {
      "text/html": [
       "<table>\n",
       "<thead><tr><th scope=col>ids</th><th scope=col>names</th><th scope=col>grades</th></tr></thead>\n",
       "<tbody>\n",
       "\t<tr><td>1000   </td><td>Lucy   </td><td>3.4    </td></tr>\n",
       "\t<tr><td>1001   </td><td>Desmond</td><td>2.3    </td></tr>\n",
       "\t<tr><td>1002   </td><td>Robert </td><td>3.7    </td></tr>\n",
       "\t<tr><td>1003   </td><td>Joan   </td><td>3.1    </td></tr>\n",
       "\t<tr><td>1004   </td><td>Stacy  </td><td>2.9    </td></tr>\n",
       "\t<tr><td>1005   </td><td>Joe    </td><td>3.2    </td></tr>\n",
       "\t<tr><td>1006   </td><td>Doug   </td><td>3.5    </td></tr>\n",
       "</tbody>\n",
       "</table>\n"
      ],
      "text/latex": [
       "\\begin{tabular}{r|lll}\n",
       " ids & names & grades\\\\\n",
       "\\hline\n",
       "\t 1000    & Lucy    & 3.4    \\\\\n",
       "\t 1001    & Desmond & 2.3    \\\\\n",
       "\t 1002    & Robert  & 3.7    \\\\\n",
       "\t 1003    & Joan    & 3.1    \\\\\n",
       "\t 1004    & Stacy   & 2.9    \\\\\n",
       "\t 1005    & Joe     & 3.2    \\\\\n",
       "\t 1006    & Doug    & 3.5    \\\\\n",
       "\\end{tabular}\n"
      ],
      "text/markdown": [
       "\n",
       "| ids | names | grades |\n",
       "|---|---|---|\n",
       "| 1000    | Lucy    | 3.4     |\n",
       "| 1001    | Desmond | 2.3     |\n",
       "| 1002    | Robert  | 3.7     |\n",
       "| 1003    | Joan    | 3.1     |\n",
       "| 1004    | Stacy   | 2.9     |\n",
       "| 1005    | Joe     | 3.2     |\n",
       "| 1006    | Doug    | 3.5     |\n",
       "\n"
      ],
      "text/plain": [
       "  ids  names   grades\n",
       "1 1000 Lucy    3.4   \n",
       "2 1001 Desmond 2.3   \n",
       "3 1002 Robert  3.7   \n",
       "4 1003 Joan    3.1   \n",
       "5 1004 Stacy   2.9   \n",
       "6 1005 Joe     3.2   \n",
       "7 1006 Doug    3.5   "
      ]
     },
     "metadata": {},
     "output_type": "display_data"
    }
   ],
   "source": [
    "students.dataframe <- data.frame(ids, names, grades, stringsAsFactors = FALSE)\n",
    "\n",
    "students.dataframe"
   ]
  },
  {
   "cell_type": "code",
   "execution_count": 14,
   "metadata": {},
   "outputs": [
    {
     "data": {
      "text/plain": [
       "      ids          names               grades     \n",
       " Min.   :1000   Length:7           Min.   :2.300  \n",
       " 1st Qu.:1002   Class :character   1st Qu.:3.000  \n",
       " Median :1003   Mode  :character   Median :3.200  \n",
       " Mean   :1003                      Mean   :3.157  \n",
       " 3rd Qu.:1004                      3rd Qu.:3.450  \n",
       " Max.   :1006                      Max.   :3.700  "
      ]
     },
     "metadata": {},
     "output_type": "display_data"
    }
   ],
   "source": [
    "summary(students.dataframe)"
   ]
  },
  {
   "cell_type": "code",
   "execution_count": 15,
   "metadata": {},
   "outputs": [
    {
     "data": {
      "text/html": [
       "<ol class=list-inline>\n",
       "\t<li>'ids'</li>\n",
       "\t<li>'names'</li>\n",
       "\t<li>'grades'</li>\n",
       "</ol>\n"
      ],
      "text/latex": [
       "\\begin{enumerate*}\n",
       "\\item 'ids'\n",
       "\\item 'names'\n",
       "\\item 'grades'\n",
       "\\end{enumerate*}\n"
      ],
      "text/markdown": [
       "1. 'ids'\n",
       "2. 'names'\n",
       "3. 'grades'\n",
       "\n",
       "\n"
      ],
      "text/plain": [
       "[1] \"ids\"    \"names\"  \"grades\""
      ]
     },
     "metadata": {},
     "output_type": "display_data"
    }
   ],
   "source": [
    "names(students.dataframe)"
   ]
  },
  {
   "cell_type": "code",
   "execution_count": 16,
   "metadata": {},
   "outputs": [
    {
     "data": {
      "text/html": [
       "<ol class=list-inline>\n",
       "\t<li>'1'</li>\n",
       "\t<li>'2'</li>\n",
       "\t<li>'3'</li>\n",
       "\t<li>'4'</li>\n",
       "\t<li>'5'</li>\n",
       "\t<li>'6'</li>\n",
       "\t<li>'7'</li>\n",
       "</ol>\n"
      ],
      "text/latex": [
       "\\begin{enumerate*}\n",
       "\\item '1'\n",
       "\\item '2'\n",
       "\\item '3'\n",
       "\\item '4'\n",
       "\\item '5'\n",
       "\\item '6'\n",
       "\\item '7'\n",
       "\\end{enumerate*}\n"
      ],
      "text/markdown": [
       "1. '1'\n",
       "2. '2'\n",
       "3. '3'\n",
       "4. '4'\n",
       "5. '5'\n",
       "6. '6'\n",
       "7. '7'\n",
       "\n",
       "\n"
      ],
      "text/plain": [
       "[1] \"1\" \"2\" \"3\" \"4\" \"5\" \"6\" \"7\""
      ]
     },
     "metadata": {},
     "output_type": "display_data"
    }
   ],
   "source": [
    "rownames(students.dataframe)"
   ]
  },
  {
   "cell_type": "code",
   "execution_count": 17,
   "metadata": {},
   "outputs": [
    {
     "data": {
      "text/html": [
       "<table>\n",
       "<thead><tr><th></th><th scope=col>ids</th><th scope=col>names</th><th scope=col>grades</th></tr></thead>\n",
       "<tbody>\n",
       "\t<tr><th scope=row>A</th><td>1000   </td><td>Lucy   </td><td>3.4    </td></tr>\n",
       "\t<tr><th scope=row>B</th><td>1001   </td><td>Desmond</td><td>2.3    </td></tr>\n",
       "\t<tr><th scope=row>C</th><td>1002   </td><td>Robert </td><td>3.7    </td></tr>\n",
       "\t<tr><th scope=row>D</th><td>1003   </td><td>Joan   </td><td>3.1    </td></tr>\n",
       "\t<tr><th scope=row>E</th><td>1004   </td><td>Stacy  </td><td>2.9    </td></tr>\n",
       "\t<tr><th scope=row>F</th><td>1005   </td><td>Joe    </td><td>3.2    </td></tr>\n",
       "\t<tr><th scope=row>G</th><td>1006   </td><td>Doug   </td><td>3.5    </td></tr>\n",
       "</tbody>\n",
       "</table>\n"
      ],
      "text/latex": [
       "\\begin{tabular}{r|lll}\n",
       "  & ids & names & grades\\\\\n",
       "\\hline\n",
       "\tA & 1000    & Lucy    & 3.4    \\\\\n",
       "\tB & 1001    & Desmond & 2.3    \\\\\n",
       "\tC & 1002    & Robert  & 3.7    \\\\\n",
       "\tD & 1003    & Joan    & 3.1    \\\\\n",
       "\tE & 1004    & Stacy   & 2.9    \\\\\n",
       "\tF & 1005    & Joe     & 3.2    \\\\\n",
       "\tG & 1006    & Doug    & 3.5    \\\\\n",
       "\\end{tabular}\n"
      ],
      "text/markdown": [
       "\n",
       "| <!--/--> | ids | names | grades |\n",
       "|---|---|---|---|\n",
       "| A | 1000    | Lucy    | 3.4     |\n",
       "| B | 1001    | Desmond | 2.3     |\n",
       "| C | 1002    | Robert  | 3.7     |\n",
       "| D | 1003    | Joan    | 3.1     |\n",
       "| E | 1004    | Stacy   | 2.9     |\n",
       "| F | 1005    | Joe     | 3.2     |\n",
       "| G | 1006    | Doug    | 3.5     |\n",
       "\n"
      ],
      "text/plain": [
       "  ids  names   grades\n",
       "A 1000 Lucy    3.4   \n",
       "B 1001 Desmond 2.3   \n",
       "C 1002 Robert  3.7   \n",
       "D 1003 Joan    3.1   \n",
       "E 1004 Stacy   2.9   \n",
       "F 1005 Joe     3.2   \n",
       "G 1006 Doug    3.5   "
      ]
     },
     "metadata": {},
     "output_type": "display_data"
    }
   ],
   "source": [
    "rownames(students.dataframe) <- LETTERS[1:7]\n",
    "\n",
    "students.dataframe"
   ]
  },
  {
   "cell_type": "code",
   "execution_count": 18,
   "metadata": {},
   "outputs": [
    {
     "data": {
      "text/html": [
       "<ol>\n",
       "\t<li><ol class=list-inline>\n",
       "\t<li>'A'</li>\n",
       "\t<li>'B'</li>\n",
       "\t<li>'C'</li>\n",
       "\t<li>'D'</li>\n",
       "\t<li>'E'</li>\n",
       "\t<li>'F'</li>\n",
       "\t<li>'G'</li>\n",
       "</ol>\n",
       "</li>\n",
       "\t<li><ol class=list-inline>\n",
       "\t<li>'ids'</li>\n",
       "\t<li>'names'</li>\n",
       "\t<li>'grades'</li>\n",
       "</ol>\n",
       "</li>\n",
       "</ol>\n"
      ],
      "text/latex": [
       "\\begin{enumerate}\n",
       "\\item \\begin{enumerate*}\n",
       "\\item 'A'\n",
       "\\item 'B'\n",
       "\\item 'C'\n",
       "\\item 'D'\n",
       "\\item 'E'\n",
       "\\item 'F'\n",
       "\\item 'G'\n",
       "\\end{enumerate*}\n",
       "\n",
       "\\item \\begin{enumerate*}\n",
       "\\item 'ids'\n",
       "\\item 'names'\n",
       "\\item 'grades'\n",
       "\\end{enumerate*}\n",
       "\n",
       "\\end{enumerate}\n"
      ],
      "text/markdown": [
       "1. 1. 'A'\n",
       "2. 'B'\n",
       "3. 'C'\n",
       "4. 'D'\n",
       "5. 'E'\n",
       "6. 'F'\n",
       "7. 'G'\n",
       "\n",
       "\n",
       "\n",
       "2. 1. 'ids'\n",
       "2. 'names'\n",
       "3. 'grades'\n",
       "\n",
       "\n",
       "\n",
       "\n",
       "\n"
      ],
      "text/plain": [
       "[[1]]\n",
       "[1] \"A\" \"B\" \"C\" \"D\" \"E\" \"F\" \"G\"\n",
       "\n",
       "[[2]]\n",
       "[1] \"ids\"    \"names\"  \"grades\"\n"
      ]
     },
     "metadata": {},
     "output_type": "display_data"
    }
   ],
   "source": [
    "dimnames(students.dataframe)"
   ]
  },
  {
   "cell_type": "code",
   "execution_count": 19,
   "metadata": {},
   "outputs": [
    {
     "data": {
      "text/html": [
       "3"
      ],
      "text/latex": [
       "3"
      ],
      "text/markdown": [
       "3"
      ],
      "text/plain": [
       "[1] 3"
      ]
     },
     "metadata": {},
     "output_type": "display_data"
    }
   ],
   "source": [
    "length(students.dataframe)"
   ]
  },
  {
   "cell_type": "code",
   "execution_count": 20,
   "metadata": {},
   "outputs": [
    {
     "data": {
      "text/html": [
       "7"
      ],
      "text/latex": [
       "7"
      ],
      "text/markdown": [
       "7"
      ],
      "text/plain": [
       "[1] 7"
      ]
     },
     "metadata": {},
     "output_type": "display_data"
    }
   ],
   "source": [
    "nrow(students.dataframe)"
   ]
  },
  {
   "cell_type": "code",
   "execution_count": 21,
   "metadata": {},
   "outputs": [
    {
     "data": {
      "text/html": [
       "3"
      ],
      "text/latex": [
       "3"
      ],
      "text/markdown": [
       "3"
      ],
      "text/plain": [
       "[1] 3"
      ]
     },
     "metadata": {},
     "output_type": "display_data"
    }
   ],
   "source": [
    "ncol(students.dataframe)"
   ]
  },
  {
   "cell_type": "code",
   "execution_count": 22,
   "metadata": {},
   "outputs": [
    {
     "data": {
      "text/html": [
       "<ol class=list-inline>\n",
       "\t<li>1000</li>\n",
       "\t<li>1001</li>\n",
       "\t<li>1002</li>\n",
       "\t<li>1003</li>\n",
       "\t<li>1004</li>\n",
       "\t<li>1005</li>\n",
       "\t<li>1006</li>\n",
       "</ol>\n"
      ],
      "text/latex": [
       "\\begin{enumerate*}\n",
       "\\item 1000\n",
       "\\item 1001\n",
       "\\item 1002\n",
       "\\item 1003\n",
       "\\item 1004\n",
       "\\item 1005\n",
       "\\item 1006\n",
       "\\end{enumerate*}\n"
      ],
      "text/markdown": [
       "1. 1000\n",
       "2. 1001\n",
       "3. 1002\n",
       "4. 1003\n",
       "5. 1004\n",
       "6. 1005\n",
       "7. 1006\n",
       "\n",
       "\n"
      ],
      "text/plain": [
       "[1] 1000 1001 1002 1003 1004 1005 1006"
      ]
     },
     "metadata": {},
     "output_type": "display_data"
    }
   ],
   "source": [
    "students.dataframe[[1]]"
   ]
  },
  {
   "cell_type": "code",
   "execution_count": 23,
   "metadata": {},
   "outputs": [
    {
     "data": {
      "text/html": [
       "<ol class=list-inline>\n",
       "\t<li>'Lucy'</li>\n",
       "\t<li>'Desmond'</li>\n",
       "\t<li>'Robert'</li>\n",
       "\t<li>'Joan'</li>\n",
       "\t<li>'Stacy'</li>\n",
       "\t<li>'Joe'</li>\n",
       "\t<li>'Doug'</li>\n",
       "</ol>\n"
      ],
      "text/latex": [
       "\\begin{enumerate*}\n",
       "\\item 'Lucy'\n",
       "\\item 'Desmond'\n",
       "\\item 'Robert'\n",
       "\\item 'Joan'\n",
       "\\item 'Stacy'\n",
       "\\item 'Joe'\n",
       "\\item 'Doug'\n",
       "\\end{enumerate*}\n"
      ],
      "text/markdown": [
       "1. 'Lucy'\n",
       "2. 'Desmond'\n",
       "3. 'Robert'\n",
       "4. 'Joan'\n",
       "5. 'Stacy'\n",
       "6. 'Joe'\n",
       "7. 'Doug'\n",
       "\n",
       "\n"
      ],
      "text/plain": [
       "[1] \"Lucy\"    \"Desmond\" \"Robert\"  \"Joan\"    \"Stacy\"   \"Joe\"     \"Doug\"   "
      ]
     },
     "metadata": {},
     "output_type": "display_data"
    }
   ],
   "source": [
    "students.dataframe[[2]]"
   ]
  },
  {
   "cell_type": "code",
   "execution_count": 24,
   "metadata": {},
   "outputs": [
    {
     "data": {
      "text/html": [
       "<ol class=list-inline>\n",
       "\t<li>'Lucy'</li>\n",
       "\t<li>'Desmond'</li>\n",
       "\t<li>'Robert'</li>\n",
       "\t<li>'Joan'</li>\n",
       "\t<li>'Stacy'</li>\n",
       "\t<li>'Joe'</li>\n",
       "\t<li>'Doug'</li>\n",
       "</ol>\n"
      ],
      "text/latex": [
       "\\begin{enumerate*}\n",
       "\\item 'Lucy'\n",
       "\\item 'Desmond'\n",
       "\\item 'Robert'\n",
       "\\item 'Joan'\n",
       "\\item 'Stacy'\n",
       "\\item 'Joe'\n",
       "\\item 'Doug'\n",
       "\\end{enumerate*}\n"
      ],
      "text/markdown": [
       "1. 'Lucy'\n",
       "2. 'Desmond'\n",
       "3. 'Robert'\n",
       "4. 'Joan'\n",
       "5. 'Stacy'\n",
       "6. 'Joe'\n",
       "7. 'Doug'\n",
       "\n",
       "\n"
      ],
      "text/plain": [
       "[1] \"Lucy\"    \"Desmond\" \"Robert\"  \"Joan\"    \"Stacy\"   \"Joe\"     \"Doug\"   "
      ]
     },
     "metadata": {},
     "output_type": "display_data"
    }
   ],
   "source": [
    "students.dataframe$names"
   ]
  },
  {
   "cell_type": "code",
   "execution_count": 25,
   "metadata": {},
   "outputs": [
    {
     "data": {
      "text/html": [
       "<ol class=list-inline>\n",
       "\t<li>3.4</li>\n",
       "\t<li>2.3</li>\n",
       "\t<li>3.7</li>\n",
       "\t<li>3.1</li>\n",
       "\t<li>2.9</li>\n",
       "\t<li>3.2</li>\n",
       "\t<li>3.5</li>\n",
       "</ol>\n"
      ],
      "text/latex": [
       "\\begin{enumerate*}\n",
       "\\item 3.4\n",
       "\\item 2.3\n",
       "\\item 3.7\n",
       "\\item 3.1\n",
       "\\item 2.9\n",
       "\\item 3.2\n",
       "\\item 3.5\n",
       "\\end{enumerate*}\n"
      ],
      "text/markdown": [
       "1. 3.4\n",
       "2. 2.3\n",
       "3. 3.7\n",
       "4. 3.1\n",
       "5. 2.9\n",
       "6. 3.2\n",
       "7. 3.5\n",
       "\n",
       "\n"
      ],
      "text/plain": [
       "[1] 3.4 2.3 3.7 3.1 2.9 3.2 3.5"
      ]
     },
     "metadata": {},
     "output_type": "display_data"
    }
   ],
   "source": [
    "students.dataframe$grades"
   ]
  },
  {
   "cell_type": "code",
   "execution_count": 26,
   "metadata": {},
   "outputs": [
    {
     "data": {
      "text/html": [
       "<ol class=list-inline>\n",
       "\t<li>'Lucy'</li>\n",
       "\t<li>'Desmond'</li>\n",
       "\t<li>'Robert'</li>\n",
       "\t<li>'Joan'</li>\n",
       "\t<li>'Stacy'</li>\n",
       "\t<li>'Joe'</li>\n",
       "\t<li>'Doug'</li>\n",
       "</ol>\n"
      ],
      "text/latex": [
       "\\begin{enumerate*}\n",
       "\\item 'Lucy'\n",
       "\\item 'Desmond'\n",
       "\\item 'Robert'\n",
       "\\item 'Joan'\n",
       "\\item 'Stacy'\n",
       "\\item 'Joe'\n",
       "\\item 'Doug'\n",
       "\\end{enumerate*}\n"
      ],
      "text/markdown": [
       "1. 'Lucy'\n",
       "2. 'Desmond'\n",
       "3. 'Robert'\n",
       "4. 'Joan'\n",
       "5. 'Stacy'\n",
       "6. 'Joe'\n",
       "7. 'Doug'\n",
       "\n",
       "\n"
      ],
      "text/plain": [
       "[1] \"Lucy\"    \"Desmond\" \"Robert\"  \"Joan\"    \"Stacy\"   \"Joe\"     \"Doug\"   "
      ]
     },
     "metadata": {},
     "output_type": "display_data"
    }
   ],
   "source": [
    "students.dataframe[, 2]"
   ]
  },
  {
   "cell_type": "code",
   "execution_count": 27,
   "metadata": {},
   "outputs": [
    {
     "data": {
      "text/html": [
       "<table>\n",
       "<thead><tr><th></th><th scope=col>ids</th><th scope=col>names</th><th scope=col>grades</th></tr></thead>\n",
       "<tbody>\n",
       "\t<tr><th scope=row>C</th><td>1002  </td><td>Robert</td><td>3.7   </td></tr>\n",
       "</tbody>\n",
       "</table>\n"
      ],
      "text/latex": [
       "\\begin{tabular}{r|lll}\n",
       "  & ids & names & grades\\\\\n",
       "\\hline\n",
       "\tC & 1002   & Robert & 3.7   \\\\\n",
       "\\end{tabular}\n"
      ],
      "text/markdown": [
       "\n",
       "| <!--/--> | ids | names | grades |\n",
       "|---|---|---|---|\n",
       "| C | 1002   | Robert | 3.7    |\n",
       "\n"
      ],
      "text/plain": [
       "  ids  names  grades\n",
       "C 1002 Robert 3.7   "
      ]
     },
     "metadata": {},
     "output_type": "display_data"
    }
   ],
   "source": [
    "students.dataframe[3, ]"
   ]
  },
  {
   "cell_type": "code",
   "execution_count": 28,
   "metadata": {},
   "outputs": [
    {
     "data": {
      "text/html": [
       "'Robert'"
      ],
      "text/latex": [
       "'Robert'"
      ],
      "text/markdown": [
       "'Robert'"
      ],
      "text/plain": [
       "[1] \"Robert\""
      ]
     },
     "metadata": {},
     "output_type": "display_data"
    }
   ],
   "source": [
    "students.dataframe[3, 2]"
   ]
  },
  {
   "cell_type": "code",
   "execution_count": 29,
   "metadata": {},
   "outputs": [
    {
     "data": {
      "text/html": [
       "<table>\n",
       "<thead><tr><th></th><th scope=col>names</th><th scope=col>grades</th></tr></thead>\n",
       "<tbody>\n",
       "\t<tr><th scope=row>A</th><td>Lucy   </td><td>3.4    </td></tr>\n",
       "\t<tr><th scope=row>B</th><td>Desmond</td><td>2.3    </td></tr>\n",
       "\t<tr><th scope=row>C</th><td>Robert </td><td>3.7    </td></tr>\n",
       "\t<tr><th scope=row>D</th><td>Joan   </td><td>3.1    </td></tr>\n",
       "\t<tr><th scope=row>E</th><td>Stacy  </td><td>2.9    </td></tr>\n",
       "\t<tr><th scope=row>F</th><td>Joe    </td><td>3.2    </td></tr>\n",
       "\t<tr><th scope=row>G</th><td>Doug   </td><td>3.5    </td></tr>\n",
       "</tbody>\n",
       "</table>\n"
      ],
      "text/latex": [
       "\\begin{tabular}{r|ll}\n",
       "  & names & grades\\\\\n",
       "\\hline\n",
       "\tA & Lucy    & 3.4    \\\\\n",
       "\tB & Desmond & 2.3    \\\\\n",
       "\tC & Robert  & 3.7    \\\\\n",
       "\tD & Joan    & 3.1    \\\\\n",
       "\tE & Stacy   & 2.9    \\\\\n",
       "\tF & Joe     & 3.2    \\\\\n",
       "\tG & Doug    & 3.5    \\\\\n",
       "\\end{tabular}\n"
      ],
      "text/markdown": [
       "\n",
       "| <!--/--> | names | grades |\n",
       "|---|---|---|\n",
       "| A | Lucy    | 3.4     |\n",
       "| B | Desmond | 2.3     |\n",
       "| C | Robert  | 3.7     |\n",
       "| D | Joan    | 3.1     |\n",
       "| E | Stacy   | 2.9     |\n",
       "| F | Joe     | 3.2     |\n",
       "| G | Doug    | 3.5     |\n",
       "\n"
      ],
      "text/plain": [
       "  names   grades\n",
       "A Lucy    3.4   \n",
       "B Desmond 2.3   \n",
       "C Robert  3.7   \n",
       "D Joan    3.1   \n",
       "E Stacy   2.9   \n",
       "F Joe     3.2   \n",
       "G Doug    3.5   "
      ]
     },
     "metadata": {},
     "output_type": "display_data"
    }
   ],
   "source": [
    "students.dataframe[, 2:3]"
   ]
  },
  {
   "cell_type": "code",
   "execution_count": 30,
   "metadata": {},
   "outputs": [
    {
     "data": {
      "text/html": [
       "<table>\n",
       "<thead><tr><th></th><th scope=col>ids</th><th scope=col>names</th><th scope=col>grades</th></tr></thead>\n",
       "<tbody>\n",
       "\t<tr><th scope=row>B</th><td>1001   </td><td>Desmond</td><td>2.3    </td></tr>\n",
       "\t<tr><th scope=row>C</th><td>1002   </td><td>Robert </td><td>3.7    </td></tr>\n",
       "\t<tr><th scope=row>D</th><td>1003   </td><td>Joan   </td><td>3.1    </td></tr>\n",
       "\t<tr><th scope=row>E</th><td>1004   </td><td>Stacy  </td><td>2.9    </td></tr>\n",
       "</tbody>\n",
       "</table>\n"
      ],
      "text/latex": [
       "\\begin{tabular}{r|lll}\n",
       "  & ids & names & grades\\\\\n",
       "\\hline\n",
       "\tB & 1001    & Desmond & 2.3    \\\\\n",
       "\tC & 1002    & Robert  & 3.7    \\\\\n",
       "\tD & 1003    & Joan    & 3.1    \\\\\n",
       "\tE & 1004    & Stacy   & 2.9    \\\\\n",
       "\\end{tabular}\n"
      ],
      "text/markdown": [
       "\n",
       "| <!--/--> | ids | names | grades |\n",
       "|---|---|---|---|\n",
       "| B | 1001    | Desmond | 2.3     |\n",
       "| C | 1002    | Robert  | 3.7     |\n",
       "| D | 1003    | Joan    | 3.1     |\n",
       "| E | 1004    | Stacy   | 2.9     |\n",
       "\n"
      ],
      "text/plain": [
       "  ids  names   grades\n",
       "B 1001 Desmond 2.3   \n",
       "C 1002 Robert  3.7   \n",
       "D 1003 Joan    3.1   \n",
       "E 1004 Stacy   2.9   "
      ]
     },
     "metadata": {},
     "output_type": "display_data"
    }
   ],
   "source": [
    "students.dataframe[2:5,]"
   ]
  },
  {
   "cell_type": "code",
   "execution_count": 31,
   "metadata": {},
   "outputs": [
    {
     "data": {
      "text/html": [
       "<table>\n",
       "<thead><tr><th></th><th scope=col>ids</th><th scope=col>names</th><th scope=col>grades</th></tr></thead>\n",
       "<tbody>\n",
       "\t<tr><th scope=row>B</th><td>1001   </td><td>Desmond</td><td>2.3    </td></tr>\n",
       "\t<tr><th scope=row>E</th><td>1004   </td><td>Stacy  </td><td>2.9    </td></tr>\n",
       "</tbody>\n",
       "</table>\n"
      ],
      "text/latex": [
       "\\begin{tabular}{r|lll}\n",
       "  & ids & names & grades\\\\\n",
       "\\hline\n",
       "\tB & 1001    & Desmond & 2.3    \\\\\n",
       "\tE & 1004    & Stacy   & 2.9    \\\\\n",
       "\\end{tabular}\n"
      ],
      "text/markdown": [
       "\n",
       "| <!--/--> | ids | names | grades |\n",
       "|---|---|---|---|\n",
       "| B | 1001    | Desmond | 2.3     |\n",
       "| E | 1004    | Stacy   | 2.9     |\n",
       "\n"
      ],
      "text/plain": [
       "  ids  names   grades\n",
       "B 1001 Desmond 2.3   \n",
       "E 1004 Stacy   2.9   "
      ]
     },
     "metadata": {},
     "output_type": "display_data"
    }
   ],
   "source": [
    "students.dataframe[c(2, 5),]"
   ]
  },
  {
   "cell_type": "code",
   "execution_count": 32,
   "metadata": {},
   "outputs": [
    {
     "data": {
      "text/html": [
       "<ol class=list-inline>\n",
       "\t<li>'Robert'</li>\n",
       "\t<li>'Joan'</li>\n",
       "\t<li>'Stacy'</li>\n",
       "\t<li>'Joe'</li>\n",
       "</ol>\n"
      ],
      "text/latex": [
       "\\begin{enumerate*}\n",
       "\\item 'Robert'\n",
       "\\item 'Joan'\n",
       "\\item 'Stacy'\n",
       "\\item 'Joe'\n",
       "\\end{enumerate*}\n"
      ],
      "text/markdown": [
       "1. 'Robert'\n",
       "2. 'Joan'\n",
       "3. 'Stacy'\n",
       "4. 'Joe'\n",
       "\n",
       "\n"
      ],
      "text/plain": [
       "[1] \"Robert\" \"Joan\"   \"Stacy\"  \"Joe\"   "
      ]
     },
     "metadata": {},
     "output_type": "display_data"
    }
   ],
   "source": [
    "students.dataframe[3:6, 2]"
   ]
  },
  {
   "cell_type": "code",
   "execution_count": 33,
   "metadata": {},
   "outputs": [
    {
     "data": {
      "text/html": [
       "<table>\n",
       "<thead><tr><th></th><th scope=col>names</th></tr></thead>\n",
       "<tbody>\n",
       "\t<tr><th scope=row>C</th><td>Robert</td></tr>\n",
       "\t<tr><th scope=row>D</th><td>Joan  </td></tr>\n",
       "\t<tr><th scope=row>E</th><td>Stacy </td></tr>\n",
       "\t<tr><th scope=row>F</th><td>Joe   </td></tr>\n",
       "</tbody>\n",
       "</table>\n"
      ],
      "text/latex": [
       "\\begin{tabular}{r|l}\n",
       "  & names\\\\\n",
       "\\hline\n",
       "\tC & Robert\\\\\n",
       "\tD & Joan  \\\\\n",
       "\tE & Stacy \\\\\n",
       "\tF & Joe   \\\\\n",
       "\\end{tabular}\n"
      ],
      "text/markdown": [
       "\n",
       "| <!--/--> | names |\n",
       "|---|---|\n",
       "| C | Robert |\n",
       "| D | Joan   |\n",
       "| E | Stacy  |\n",
       "| F | Joe    |\n",
       "\n"
      ],
      "text/plain": [
       "  names \n",
       "C Robert\n",
       "D Joan  \n",
       "E Stacy \n",
       "F Joe   "
      ]
     },
     "metadata": {},
     "output_type": "display_data"
    }
   ],
   "source": [
    "students.dataframe[3:6, 2, drop=FALSE]"
   ]
  },
  {
   "cell_type": "code",
   "execution_count": 34,
   "metadata": {},
   "outputs": [],
   "source": [
    "employee.data <- data.frame(id = 1001:1007,\n",
    "                            \n",
    "                            name = c(\"Amanda\", \"Isaac\", \"Philip\", \n",
    "                                     \"Felicia\", \"Jason\", \"George\", \"Lily\"),\n",
    "                            \n",
    "                            department = c(\"Test Engineering\", \"Test Engineering\", \n",
    "                                           \"Engineering\", \"Engineering\",\n",
    "                                           \"Sales\", \"HR\", \"Operations\"),\n",
    "                            \n",
    "                            salary = c(135000, 28000, 40000, 166000, 135000, 40000, 50000),\n",
    "                            \n",
    "                            stringsAsFactors = FALSE)"
   ]
  },
  {
   "cell_type": "code",
   "execution_count": 35,
   "metadata": {},
   "outputs": [
    {
     "data": {
      "text/html": [
       "<table>\n",
       "<thead><tr><th scope=col>id</th><th scope=col>name</th><th scope=col>department</th><th scope=col>salary</th></tr></thead>\n",
       "<tbody>\n",
       "\t<tr><td>1001            </td><td>Amanda          </td><td>Test Engineering</td><td>135000          </td></tr>\n",
       "\t<tr><td>1002            </td><td>Isaac           </td><td>Test Engineering</td><td> 28000          </td></tr>\n",
       "\t<tr><td>1003            </td><td>Philip          </td><td>Engineering     </td><td> 40000          </td></tr>\n",
       "\t<tr><td>1004            </td><td>Felicia         </td><td>Engineering     </td><td>166000          </td></tr>\n",
       "\t<tr><td>1005            </td><td>Jason           </td><td>Sales           </td><td>135000          </td></tr>\n",
       "\t<tr><td>1006            </td><td>George          </td><td>HR              </td><td> 40000          </td></tr>\n",
       "\t<tr><td>1007            </td><td>Lily            </td><td>Operations      </td><td> 50000          </td></tr>\n",
       "</tbody>\n",
       "</table>\n"
      ],
      "text/latex": [
       "\\begin{tabular}{r|llll}\n",
       " id & name & department & salary\\\\\n",
       "\\hline\n",
       "\t 1001             & Amanda           & Test Engineering & 135000          \\\\\n",
       "\t 1002             & Isaac            & Test Engineering &  28000          \\\\\n",
       "\t 1003             & Philip           & Engineering      &  40000          \\\\\n",
       "\t 1004             & Felicia          & Engineering      & 166000          \\\\\n",
       "\t 1005             & Jason            & Sales            & 135000          \\\\\n",
       "\t 1006             & George           & HR               &  40000          \\\\\n",
       "\t 1007             & Lily             & Operations       &  50000          \\\\\n",
       "\\end{tabular}\n"
      ],
      "text/markdown": [
       "\n",
       "| id | name | department | salary |\n",
       "|---|---|---|---|\n",
       "| 1001             | Amanda           | Test Engineering | 135000           |\n",
       "| 1002             | Isaac            | Test Engineering |  28000           |\n",
       "| 1003             | Philip           | Engineering      |  40000           |\n",
       "| 1004             | Felicia          | Engineering      | 166000           |\n",
       "| 1005             | Jason            | Sales            | 135000           |\n",
       "| 1006             | George           | HR               |  40000           |\n",
       "| 1007             | Lily             | Operations       |  50000           |\n",
       "\n"
      ],
      "text/plain": [
       "  id   name    department       salary\n",
       "1 1001 Amanda  Test Engineering 135000\n",
       "2 1002 Isaac   Test Engineering  28000\n",
       "3 1003 Philip  Engineering       40000\n",
       "4 1004 Felicia Engineering      166000\n",
       "5 1005 Jason   Sales            135000\n",
       "6 1006 George  HR                40000\n",
       "7 1007 Lily    Operations        50000"
      ]
     },
     "metadata": {},
     "output_type": "display_data"
    }
   ],
   "source": [
    "employee.data"
   ]
  },
  {
   "cell_type": "code",
   "execution_count": 36,
   "metadata": {},
   "outputs": [
    {
     "data": {
      "text/html": [
       "<table>\n",
       "<thead><tr><th></th><th scope=col>id</th><th scope=col>name</th><th scope=col>department</th><th scope=col>salary</th></tr></thead>\n",
       "<tbody>\n",
       "\t<tr><th scope=row>3</th><td>1003       </td><td>Philip     </td><td>Engineering</td><td> 40000     </td></tr>\n",
       "\t<tr><th scope=row>4</th><td>1004       </td><td>Felicia    </td><td>Engineering</td><td>166000     </td></tr>\n",
       "</tbody>\n",
       "</table>\n"
      ],
      "text/latex": [
       "\\begin{tabular}{r|llll}\n",
       "  & id & name & department & salary\\\\\n",
       "\\hline\n",
       "\t3 & 1003        & Philip      & Engineering &  40000     \\\\\n",
       "\t4 & 1004        & Felicia     & Engineering & 166000     \\\\\n",
       "\\end{tabular}\n"
      ],
      "text/markdown": [
       "\n",
       "| <!--/--> | id | name | department | salary |\n",
       "|---|---|---|---|---|\n",
       "| 3 | 1003        | Philip      | Engineering |  40000      |\n",
       "| 4 | 1004        | Felicia     | Engineering | 166000      |\n",
       "\n"
      ],
      "text/plain": [
       "  id   name    department  salary\n",
       "3 1003 Philip  Engineering  40000\n",
       "4 1004 Felicia Engineering 166000"
      ]
     },
     "metadata": {},
     "output_type": "display_data"
    }
   ],
   "source": [
    "engg.employee.data <- employee.data[employee.data$department == \"Engineering\", ]\n",
    "\n",
    "engg.employee.data"
   ]
  },
  {
   "cell_type": "code",
   "execution_count": 37,
   "metadata": {},
   "outputs": [
    {
     "data": {
      "text/html": [
       "<table>\n",
       "<thead><tr><th scope=col>id</th><th scope=col>name</th><th scope=col>department</th><th scope=col>salary</th></tr></thead>\n",
       "<tbody>\n",
       "\t<tr><td>1001            </td><td>Amanda          </td><td>Test Engineering</td><td>135000          </td></tr>\n",
       "\t<tr><td>1002            </td><td>Isaac           </td><td>Test Engineering</td><td> 28000          </td></tr>\n",
       "\t<tr><td>1003            </td><td>Philip          </td><td>Engineering     </td><td> 40000          </td></tr>\n",
       "\t<tr><td>1004            </td><td>Felicia         </td><td>Engineering     </td><td>166000          </td></tr>\n",
       "</tbody>\n",
       "</table>\n"
      ],
      "text/latex": [
       "\\begin{tabular}{r|llll}\n",
       " id & name & department & salary\\\\\n",
       "\\hline\n",
       "\t 1001             & Amanda           & Test Engineering & 135000          \\\\\n",
       "\t 1002             & Isaac            & Test Engineering &  28000          \\\\\n",
       "\t 1003             & Philip           & Engineering      &  40000          \\\\\n",
       "\t 1004             & Felicia          & Engineering      & 166000          \\\\\n",
       "\\end{tabular}\n"
      ],
      "text/markdown": [
       "\n",
       "| id | name | department | salary |\n",
       "|---|---|---|---|\n",
       "| 1001             | Amanda           | Test Engineering | 135000           |\n",
       "| 1002             | Isaac            | Test Engineering |  28000           |\n",
       "| 1003             | Philip           | Engineering      |  40000           |\n",
       "| 1004             | Felicia          | Engineering      | 166000           |\n",
       "\n"
      ],
      "text/plain": [
       "  id   name    department       salary\n",
       "1 1001 Amanda  Test Engineering 135000\n",
       "2 1002 Isaac   Test Engineering  28000\n",
       "3 1003 Philip  Engineering       40000\n",
       "4 1004 Felicia Engineering      166000"
      ]
     },
     "metadata": {},
     "output_type": "display_data"
    }
   ],
   "source": [
    "engg.employee.data <- employee.data[grep(\"Engineering\", employee.data$department), ]\n",
    "\n",
    "engg.employee.data"
   ]
  },
  {
   "cell_type": "code",
   "execution_count": 38,
   "metadata": {},
   "outputs": [
    {
     "data": {
      "text/html": [
       "<table>\n",
       "<thead><tr><th></th><th scope=col>id</th><th scope=col>name</th><th scope=col>department</th><th scope=col>salary</th></tr></thead>\n",
       "<tbody>\n",
       "\t<tr><th scope=row>1</th><td>1001            </td><td>Amanda          </td><td>Test Engineering</td><td>135000          </td></tr>\n",
       "\t<tr><th scope=row>4</th><td>1004            </td><td>Felicia         </td><td>Engineering     </td><td>166000          </td></tr>\n",
       "\t<tr><th scope=row>5</th><td>1005            </td><td>Jason           </td><td>Sales           </td><td>135000          </td></tr>\n",
       "</tbody>\n",
       "</table>\n"
      ],
      "text/latex": [
       "\\begin{tabular}{r|llll}\n",
       "  & id & name & department & salary\\\\\n",
       "\\hline\n",
       "\t1 & 1001             & Amanda           & Test Engineering & 135000          \\\\\n",
       "\t4 & 1004             & Felicia          & Engineering      & 166000          \\\\\n",
       "\t5 & 1005             & Jason            & Sales            & 135000          \\\\\n",
       "\\end{tabular}\n"
      ],
      "text/markdown": [
       "\n",
       "| <!--/--> | id | name | department | salary |\n",
       "|---|---|---|---|---|\n",
       "| 1 | 1001             | Amanda           | Test Engineering | 135000           |\n",
       "| 4 | 1004             | Felicia          | Engineering      | 166000           |\n",
       "| 5 | 1005             | Jason            | Sales            | 135000           |\n",
       "\n"
      ],
      "text/plain": [
       "  id   name    department       salary\n",
       "1 1001 Amanda  Test Engineering 135000\n",
       "4 1004 Felicia Engineering      166000\n",
       "5 1005 Jason   Sales            135000"
      ]
     },
     "metadata": {},
     "output_type": "display_data"
    }
   ],
   "source": [
    "employee.data[employee.data$salary >= 100000, ]"
   ]
  },
  {
   "cell_type": "code",
   "execution_count": 39,
   "metadata": {},
   "outputs": [
    {
     "data": {
      "text/html": [
       "<table>\n",
       "<thead><tr><th></th><th scope=col>id</th><th scope=col>name</th><th scope=col>department</th><th scope=col>salary</th></tr></thead>\n",
       "<tbody>\n",
       "\t<tr><th scope=row>2</th><td>1002            </td><td>Isaac           </td><td>Test Engineering</td><td> 28000          </td></tr>\n",
       "\t<tr><th scope=row>3</th><td>1003            </td><td>Philip          </td><td>Engineering     </td><td> 40000          </td></tr>\n",
       "\t<tr><th scope=row>5</th><td>1005            </td><td>Jason           </td><td>Sales           </td><td>135000          </td></tr>\n",
       "\t<tr><th scope=row>6</th><td>1006            </td><td>George          </td><td>HR              </td><td> 40000          </td></tr>\n",
       "</tbody>\n",
       "</table>\n"
      ],
      "text/latex": [
       "\\begin{tabular}{r|llll}\n",
       "  & id & name & department & salary\\\\\n",
       "\\hline\n",
       "\t2 & 1002             & Isaac            & Test Engineering &  28000          \\\\\n",
       "\t3 & 1003             & Philip           & Engineering      &  40000          \\\\\n",
       "\t5 & 1005             & Jason            & Sales            & 135000          \\\\\n",
       "\t6 & 1006             & George           & HR               &  40000          \\\\\n",
       "\\end{tabular}\n"
      ],
      "text/markdown": [
       "\n",
       "| <!--/--> | id | name | department | salary |\n",
       "|---|---|---|---|---|\n",
       "| 2 | 1002             | Isaac            | Test Engineering |  28000           |\n",
       "| 3 | 1003             | Philip           | Engineering      |  40000           |\n",
       "| 5 | 1005             | Jason            | Sales            | 135000           |\n",
       "| 6 | 1006             | George           | HR               |  40000           |\n",
       "\n"
      ],
      "text/plain": [
       "  id   name   department       salary\n",
       "2 1002 Isaac  Test Engineering  28000\n",
       "3 1003 Philip Engineering       40000\n",
       "5 1005 Jason  Sales            135000\n",
       "6 1006 George HR                40000"
      ]
     },
     "metadata": {},
     "output_type": "display_data"
    }
   ],
   "source": [
    "employee.data[employee.data$salary < 50000 | employee.data$department == \"Sales\", ]"
   ]
  },
  {
   "cell_type": "code",
   "execution_count": 40,
   "metadata": {},
   "outputs": [
    {
     "data": {
      "text/html": [
       "<ol>\n",
       "\t<li>1010</li>\n",
       "\t<li>'Mark'</li>\n",
       "\t<li>'Sales'</li>\n",
       "\t<li>67000</li>\n",
       "</ol>\n"
      ],
      "text/latex": [
       "\\begin{enumerate}\n",
       "\\item 1010\n",
       "\\item 'Mark'\n",
       "\\item 'Sales'\n",
       "\\item 67000\n",
       "\\end{enumerate}\n"
      ],
      "text/markdown": [
       "1. 1010\n",
       "2. 'Mark'\n",
       "3. 'Sales'\n",
       "4. 67000\n",
       "\n",
       "\n"
      ],
      "text/plain": [
       "[[1]]\n",
       "[1] 1010\n",
       "\n",
       "[[2]]\n",
       "[1] \"Mark\"\n",
       "\n",
       "[[3]]\n",
       "[1] \"Sales\"\n",
       "\n",
       "[[4]]\n",
       "[1] 67000\n"
      ]
     },
     "metadata": {},
     "output_type": "display_data"
    }
   ],
   "source": [
    "employee.mark <- list(1010, \"Mark\", \"Sales\", 67000)\n",
    "\n",
    "employee.mark"
   ]
  },
  {
   "cell_type": "code",
   "execution_count": 41,
   "metadata": {},
   "outputs": [
    {
     "data": {
      "text/html": [
       "<table>\n",
       "<thead><tr><th scope=col>id</th><th scope=col>name</th><th scope=col>department</th><th scope=col>salary</th></tr></thead>\n",
       "<tbody>\n",
       "\t<tr><td>1001            </td><td>Amanda          </td><td>Test Engineering</td><td>135000          </td></tr>\n",
       "\t<tr><td>1002            </td><td>Isaac           </td><td>Test Engineering</td><td> 28000          </td></tr>\n",
       "\t<tr><td>1003            </td><td>Philip          </td><td>Engineering     </td><td> 40000          </td></tr>\n",
       "\t<tr><td>1004            </td><td>Felicia         </td><td>Engineering     </td><td>166000          </td></tr>\n",
       "\t<tr><td>1005            </td><td>Jason           </td><td>Sales           </td><td>135000          </td></tr>\n",
       "\t<tr><td>1006            </td><td>George          </td><td>HR              </td><td> 40000          </td></tr>\n",
       "\t<tr><td>1007            </td><td>Lily            </td><td>Operations      </td><td> 50000          </td></tr>\n",
       "\t<tr><td>1010            </td><td>Mark            </td><td>Sales           </td><td> 67000          </td></tr>\n",
       "</tbody>\n",
       "</table>\n"
      ],
      "text/latex": [
       "\\begin{tabular}{r|llll}\n",
       " id & name & department & salary\\\\\n",
       "\\hline\n",
       "\t 1001             & Amanda           & Test Engineering & 135000          \\\\\n",
       "\t 1002             & Isaac            & Test Engineering &  28000          \\\\\n",
       "\t 1003             & Philip           & Engineering      &  40000          \\\\\n",
       "\t 1004             & Felicia          & Engineering      & 166000          \\\\\n",
       "\t 1005             & Jason            & Sales            & 135000          \\\\\n",
       "\t 1006             & George           & HR               &  40000          \\\\\n",
       "\t 1007             & Lily             & Operations       &  50000          \\\\\n",
       "\t 1010             & Mark             & Sales            &  67000          \\\\\n",
       "\\end{tabular}\n"
      ],
      "text/markdown": [
       "\n",
       "| id | name | department | salary |\n",
       "|---|---|---|---|\n",
       "| 1001             | Amanda           | Test Engineering | 135000           |\n",
       "| 1002             | Isaac            | Test Engineering |  28000           |\n",
       "| 1003             | Philip           | Engineering      |  40000           |\n",
       "| 1004             | Felicia          | Engineering      | 166000           |\n",
       "| 1005             | Jason            | Sales            | 135000           |\n",
       "| 1006             | George           | HR               |  40000           |\n",
       "| 1007             | Lily             | Operations       |  50000           |\n",
       "| 1010             | Mark             | Sales            |  67000           |\n",
       "\n"
      ],
      "text/plain": [
       "  id   name    department       salary\n",
       "1 1001 Amanda  Test Engineering 135000\n",
       "2 1002 Isaac   Test Engineering  28000\n",
       "3 1003 Philip  Engineering       40000\n",
       "4 1004 Felicia Engineering      166000\n",
       "5 1005 Jason   Sales            135000\n",
       "6 1006 George  HR                40000\n",
       "7 1007 Lily    Operations        50000\n",
       "8 1010 Mark    Sales             67000"
      ]
     },
     "metadata": {},
     "output_type": "display_data"
    }
   ],
   "source": [
    "employee.data <- rbind(employee.data, employee.mark)\n",
    "\n",
    "employee.data"
   ]
  },
  {
   "cell_type": "code",
   "execution_count": 42,
   "metadata": {},
   "outputs": [
    {
     "data": {
      "text/html": [
       "<table>\n",
       "<thead><tr><th scope=col>id</th><th scope=col>name</th><th scope=col>department</th><th scope=col>salary</th></tr></thead>\n",
       "<tbody>\n",
       "\t<tr><td>1018       </td><td>Donald     </td><td>HR         </td><td>70000      </td></tr>\n",
       "\t<tr><td>1019       </td><td>Chelsea    </td><td>HR         </td><td>86000      </td></tr>\n",
       "\t<tr><td>1020       </td><td>Patrick    </td><td>Engineering</td><td>25000      </td></tr>\n",
       "</tbody>\n",
       "</table>\n"
      ],
      "text/latex": [
       "\\begin{tabular}{r|llll}\n",
       " id & name & department & salary\\\\\n",
       "\\hline\n",
       "\t 1018        & Donald      & HR          & 70000      \\\\\n",
       "\t 1019        & Chelsea     & HR          & 86000      \\\\\n",
       "\t 1020        & Patrick     & Engineering & 25000      \\\\\n",
       "\\end{tabular}\n"
      ],
      "text/markdown": [
       "\n",
       "| id | name | department | salary |\n",
       "|---|---|---|---|\n",
       "| 1018        | Donald      | HR          | 70000       |\n",
       "| 1019        | Chelsea     | HR          | 86000       |\n",
       "| 1020        | Patrick     | Engineering | 25000       |\n",
       "\n"
      ],
      "text/plain": [
       "  id   name    department  salary\n",
       "1 1018 Donald  HR          70000 \n",
       "2 1019 Chelsea HR          86000 \n",
       "3 1020 Patrick Engineering 25000 "
      ]
     },
     "metadata": {},
     "output_type": "display_data"
    }
   ],
   "source": [
    "employees.new <- data.frame(id = 1018:1020,\n",
    "                            name = c(\"Donald\", \"Chelsea\", \"Patrick\"),\n",
    "                            department = c(\"HR\", \"HR\", \"Engineering\"),\n",
    "                            salary = c(70000, 86000, 25000))\n",
    "employees.new"
   ]
  },
  {
   "cell_type": "code",
   "execution_count": 43,
   "metadata": {},
   "outputs": [
    {
     "data": {
      "text/html": [
       "<table>\n",
       "<thead><tr><th scope=col>id</th><th scope=col>name</th><th scope=col>department</th><th scope=col>salary</th></tr></thead>\n",
       "<tbody>\n",
       "\t<tr><td>1001            </td><td>Amanda          </td><td>Test Engineering</td><td>135000          </td></tr>\n",
       "\t<tr><td>1002            </td><td>Isaac           </td><td>Test Engineering</td><td> 28000          </td></tr>\n",
       "\t<tr><td>1003            </td><td>Philip          </td><td>Engineering     </td><td> 40000          </td></tr>\n",
       "\t<tr><td>1004            </td><td>Felicia         </td><td>Engineering     </td><td>166000          </td></tr>\n",
       "\t<tr><td>1005            </td><td>Jason           </td><td>Sales           </td><td>135000          </td></tr>\n",
       "\t<tr><td>1006            </td><td>George          </td><td>HR              </td><td> 40000          </td></tr>\n",
       "\t<tr><td>1007            </td><td>Lily            </td><td>Operations      </td><td> 50000          </td></tr>\n",
       "\t<tr><td>1010            </td><td>Mark            </td><td>Sales           </td><td> 67000          </td></tr>\n",
       "\t<tr><td>1018            </td><td>Donald          </td><td>HR              </td><td> 70000          </td></tr>\n",
       "\t<tr><td>1019            </td><td>Chelsea         </td><td>HR              </td><td> 86000          </td></tr>\n",
       "\t<tr><td>1020            </td><td>Patrick         </td><td>Engineering     </td><td> 25000          </td></tr>\n",
       "</tbody>\n",
       "</table>\n"
      ],
      "text/latex": [
       "\\begin{tabular}{r|llll}\n",
       " id & name & department & salary\\\\\n",
       "\\hline\n",
       "\t 1001             & Amanda           & Test Engineering & 135000          \\\\\n",
       "\t 1002             & Isaac            & Test Engineering &  28000          \\\\\n",
       "\t 1003             & Philip           & Engineering      &  40000          \\\\\n",
       "\t 1004             & Felicia          & Engineering      & 166000          \\\\\n",
       "\t 1005             & Jason            & Sales            & 135000          \\\\\n",
       "\t 1006             & George           & HR               &  40000          \\\\\n",
       "\t 1007             & Lily             & Operations       &  50000          \\\\\n",
       "\t 1010             & Mark             & Sales            &  67000          \\\\\n",
       "\t 1018             & Donald           & HR               &  70000          \\\\\n",
       "\t 1019             & Chelsea          & HR               &  86000          \\\\\n",
       "\t 1020             & Patrick          & Engineering      &  25000          \\\\\n",
       "\\end{tabular}\n"
      ],
      "text/markdown": [
       "\n",
       "| id | name | department | salary |\n",
       "|---|---|---|---|\n",
       "| 1001             | Amanda           | Test Engineering | 135000           |\n",
       "| 1002             | Isaac            | Test Engineering |  28000           |\n",
       "| 1003             | Philip           | Engineering      |  40000           |\n",
       "| 1004             | Felicia          | Engineering      | 166000           |\n",
       "| 1005             | Jason            | Sales            | 135000           |\n",
       "| 1006             | George           | HR               |  40000           |\n",
       "| 1007             | Lily             | Operations       |  50000           |\n",
       "| 1010             | Mark             | Sales            |  67000           |\n",
       "| 1018             | Donald           | HR               |  70000           |\n",
       "| 1019             | Chelsea          | HR               |  86000           |\n",
       "| 1020             | Patrick          | Engineering      |  25000           |\n",
       "\n"
      ],
      "text/plain": [
       "   id   name    department       salary\n",
       "1  1001 Amanda  Test Engineering 135000\n",
       "2  1002 Isaac   Test Engineering  28000\n",
       "3  1003 Philip  Engineering       40000\n",
       "4  1004 Felicia Engineering      166000\n",
       "5  1005 Jason   Sales            135000\n",
       "6  1006 George  HR                40000\n",
       "7  1007 Lily    Operations        50000\n",
       "8  1010 Mark    Sales             67000\n",
       "9  1018 Donald  HR                70000\n",
       "10 1019 Chelsea HR                86000\n",
       "11 1020 Patrick Engineering       25000"
      ]
     },
     "metadata": {},
     "output_type": "display_data"
    }
   ],
   "source": [
    "employee.data <- rbind(employee.data, employees.new)\n",
    "\n",
    "employee.data"
   ]
  },
  {
   "cell_type": "code",
   "execution_count": 44,
   "metadata": {},
   "outputs": [
    {
     "data": {
      "text/html": [
       "<ol class=list-inline>\n",
       "\t<li>'Fulltime'</li>\n",
       "\t<li>'Fulltime'</li>\n",
       "\t<li>'Fulltime'</li>\n",
       "\t<li>'Contract'</li>\n",
       "\t<li>'Contract'</li>\n",
       "\t<li>'Contract'</li>\n",
       "\t<li>'Fulltime'</li>\n",
       "\t<li>'Fulltime'</li>\n",
       "\t<li>'Fulltime'</li>\n",
       "\t<li>'Fulltime'</li>\n",
       "\t<li>'Fulltime'</li>\n",
       "</ol>\n"
      ],
      "text/latex": [
       "\\begin{enumerate*}\n",
       "\\item 'Fulltime'\n",
       "\\item 'Fulltime'\n",
       "\\item 'Fulltime'\n",
       "\\item 'Contract'\n",
       "\\item 'Contract'\n",
       "\\item 'Contract'\n",
       "\\item 'Fulltime'\n",
       "\\item 'Fulltime'\n",
       "\\item 'Fulltime'\n",
       "\\item 'Fulltime'\n",
       "\\item 'Fulltime'\n",
       "\\end{enumerate*}\n"
      ],
      "text/markdown": [
       "1. 'Fulltime'\n",
       "2. 'Fulltime'\n",
       "3. 'Fulltime'\n",
       "4. 'Contract'\n",
       "5. 'Contract'\n",
       "6. 'Contract'\n",
       "7. 'Fulltime'\n",
       "8. 'Fulltime'\n",
       "9. 'Fulltime'\n",
       "10. 'Fulltime'\n",
       "11. 'Fulltime'\n",
       "\n",
       "\n"
      ],
      "text/plain": [
       " [1] \"Fulltime\" \"Fulltime\" \"Fulltime\" \"Contract\" \"Contract\" \"Contract\"\n",
       " [7] \"Fulltime\" \"Fulltime\" \"Fulltime\" \"Fulltime\" \"Fulltime\""
      ]
     },
     "metadata": {},
     "output_type": "display_data"
    }
   ],
   "source": [
    "employee.type <- sample(c(\"Contract\", \"Fulltime\"), size=nrow(employee.data), replace=TRUE)\n",
    "\n",
    "employee.type"
   ]
  },
  {
   "cell_type": "code",
   "execution_count": 45,
   "metadata": {},
   "outputs": [
    {
     "data": {
      "text/html": [
       "<table>\n",
       "<thead><tr><th scope=col>id</th><th scope=col>name</th><th scope=col>department</th><th scope=col>salary</th><th scope=col>type</th></tr></thead>\n",
       "<tbody>\n",
       "\t<tr><td>1001            </td><td>Amanda          </td><td>Test Engineering</td><td>135000          </td><td>Fulltime        </td></tr>\n",
       "\t<tr><td>1002            </td><td>Isaac           </td><td>Test Engineering</td><td> 28000          </td><td>Fulltime        </td></tr>\n",
       "\t<tr><td>1003            </td><td>Philip          </td><td>Engineering     </td><td> 40000          </td><td>Fulltime        </td></tr>\n",
       "\t<tr><td>1004            </td><td>Felicia         </td><td>Engineering     </td><td>166000          </td><td>Contract        </td></tr>\n",
       "\t<tr><td>1005            </td><td>Jason           </td><td>Sales           </td><td>135000          </td><td>Contract        </td></tr>\n",
       "\t<tr><td>1006            </td><td>George          </td><td>HR              </td><td> 40000          </td><td>Contract        </td></tr>\n",
       "\t<tr><td>1007            </td><td>Lily            </td><td>Operations      </td><td> 50000          </td><td>Fulltime        </td></tr>\n",
       "\t<tr><td>1010            </td><td>Mark            </td><td>Sales           </td><td> 67000          </td><td>Fulltime        </td></tr>\n",
       "\t<tr><td>1018            </td><td>Donald          </td><td>HR              </td><td> 70000          </td><td>Fulltime        </td></tr>\n",
       "\t<tr><td>1019            </td><td>Chelsea         </td><td>HR              </td><td> 86000          </td><td>Fulltime        </td></tr>\n",
       "\t<tr><td>1020            </td><td>Patrick         </td><td>Engineering     </td><td> 25000          </td><td>Fulltime        </td></tr>\n",
       "</tbody>\n",
       "</table>\n"
      ],
      "text/latex": [
       "\\begin{tabular}{r|lllll}\n",
       " id & name & department & salary & type\\\\\n",
       "\\hline\n",
       "\t 1001             & Amanda           & Test Engineering & 135000           & Fulltime        \\\\\n",
       "\t 1002             & Isaac            & Test Engineering &  28000           & Fulltime        \\\\\n",
       "\t 1003             & Philip           & Engineering      &  40000           & Fulltime        \\\\\n",
       "\t 1004             & Felicia          & Engineering      & 166000           & Contract        \\\\\n",
       "\t 1005             & Jason            & Sales            & 135000           & Contract        \\\\\n",
       "\t 1006             & George           & HR               &  40000           & Contract        \\\\\n",
       "\t 1007             & Lily             & Operations       &  50000           & Fulltime        \\\\\n",
       "\t 1010             & Mark             & Sales            &  67000           & Fulltime        \\\\\n",
       "\t 1018             & Donald           & HR               &  70000           & Fulltime        \\\\\n",
       "\t 1019             & Chelsea          & HR               &  86000           & Fulltime        \\\\\n",
       "\t 1020             & Patrick          & Engineering      &  25000           & Fulltime        \\\\\n",
       "\\end{tabular}\n"
      ],
      "text/markdown": [
       "\n",
       "| id | name | department | salary | type |\n",
       "|---|---|---|---|---|\n",
       "| 1001             | Amanda           | Test Engineering | 135000           | Fulltime         |\n",
       "| 1002             | Isaac            | Test Engineering |  28000           | Fulltime         |\n",
       "| 1003             | Philip           | Engineering      |  40000           | Fulltime         |\n",
       "| 1004             | Felicia          | Engineering      | 166000           | Contract         |\n",
       "| 1005             | Jason            | Sales            | 135000           | Contract         |\n",
       "| 1006             | George           | HR               |  40000           | Contract         |\n",
       "| 1007             | Lily             | Operations       |  50000           | Fulltime         |\n",
       "| 1010             | Mark             | Sales            |  67000           | Fulltime         |\n",
       "| 1018             | Donald           | HR               |  70000           | Fulltime         |\n",
       "| 1019             | Chelsea          | HR               |  86000           | Fulltime         |\n",
       "| 1020             | Patrick          | Engineering      |  25000           | Fulltime         |\n",
       "\n"
      ],
      "text/plain": [
       "   id   name    department       salary type    \n",
       "1  1001 Amanda  Test Engineering 135000 Fulltime\n",
       "2  1002 Isaac   Test Engineering  28000 Fulltime\n",
       "3  1003 Philip  Engineering       40000 Fulltime\n",
       "4  1004 Felicia Engineering      166000 Contract\n",
       "5  1005 Jason   Sales            135000 Contract\n",
       "6  1006 George  HR                40000 Contract\n",
       "7  1007 Lily    Operations        50000 Fulltime\n",
       "8  1010 Mark    Sales             67000 Fulltime\n",
       "9  1018 Donald  HR                70000 Fulltime\n",
       "10 1019 Chelsea HR                86000 Fulltime\n",
       "11 1020 Patrick Engineering       25000 Fulltime"
      ]
     },
     "metadata": {},
     "output_type": "display_data"
    }
   ],
   "source": [
    "employee.data <- cbind(employee.data, type=employee.type)\n",
    "\n",
    "employee.data"
   ]
  },
  {
   "cell_type": "code",
   "execution_count": 46,
   "metadata": {},
   "outputs": [
    {
     "data": {
      "text/html": [
       "<table>\n",
       "<thead><tr><th scope=col>id</th><th scope=col>name</th><th scope=col>department</th><th scope=col>salary</th><th scope=col>type</th><th scope=col>gender</th></tr></thead>\n",
       "<tbody>\n",
       "\t<tr><td>1001            </td><td>Amanda          </td><td>Test Engineering</td><td>135000          </td><td>Fulltime        </td><td>F               </td></tr>\n",
       "\t<tr><td>1002            </td><td>Isaac           </td><td>Test Engineering</td><td> 28000          </td><td>Fulltime        </td><td>M               </td></tr>\n",
       "\t<tr><td>1003            </td><td>Philip          </td><td>Engineering     </td><td> 40000          </td><td>Fulltime        </td><td>M               </td></tr>\n",
       "\t<tr><td>1004            </td><td>Felicia         </td><td>Engineering     </td><td>166000          </td><td>Contract        </td><td>F               </td></tr>\n",
       "\t<tr><td>1005            </td><td>Jason           </td><td>Sales           </td><td>135000          </td><td>Contract        </td><td>M               </td></tr>\n",
       "\t<tr><td>1006            </td><td>George          </td><td>HR              </td><td> 40000          </td><td>Contract        </td><td>M               </td></tr>\n",
       "\t<tr><td>1007            </td><td>Lily            </td><td>Operations      </td><td> 50000          </td><td>Fulltime        </td><td>F               </td></tr>\n",
       "\t<tr><td>1010            </td><td>Mark            </td><td>Sales           </td><td> 67000          </td><td>Fulltime        </td><td>M               </td></tr>\n",
       "\t<tr><td>1018            </td><td>Donald          </td><td>HR              </td><td> 70000          </td><td>Fulltime        </td><td>M               </td></tr>\n",
       "\t<tr><td>1019            </td><td>Chelsea         </td><td>HR              </td><td> 86000          </td><td>Fulltime        </td><td>M               </td></tr>\n",
       "\t<tr><td>1020            </td><td>Patrick         </td><td>Engineering     </td><td> 25000          </td><td>Fulltime        </td><td>M               </td></tr>\n",
       "</tbody>\n",
       "</table>\n"
      ],
      "text/latex": [
       "\\begin{tabular}{r|llllll}\n",
       " id & name & department & salary & type & gender\\\\\n",
       "\\hline\n",
       "\t 1001             & Amanda           & Test Engineering & 135000           & Fulltime         & F               \\\\\n",
       "\t 1002             & Isaac            & Test Engineering &  28000           & Fulltime         & M               \\\\\n",
       "\t 1003             & Philip           & Engineering      &  40000           & Fulltime         & M               \\\\\n",
       "\t 1004             & Felicia          & Engineering      & 166000           & Contract         & F               \\\\\n",
       "\t 1005             & Jason            & Sales            & 135000           & Contract         & M               \\\\\n",
       "\t 1006             & George           & HR               &  40000           & Contract         & M               \\\\\n",
       "\t 1007             & Lily             & Operations       &  50000           & Fulltime         & F               \\\\\n",
       "\t 1010             & Mark             & Sales            &  67000           & Fulltime         & M               \\\\\n",
       "\t 1018             & Donald           & HR               &  70000           & Fulltime         & M               \\\\\n",
       "\t 1019             & Chelsea          & HR               &  86000           & Fulltime         & M               \\\\\n",
       "\t 1020             & Patrick          & Engineering      &  25000           & Fulltime         & M               \\\\\n",
       "\\end{tabular}\n"
      ],
      "text/markdown": [
       "\n",
       "| id | name | department | salary | type | gender |\n",
       "|---|---|---|---|---|---|\n",
       "| 1001             | Amanda           | Test Engineering | 135000           | Fulltime         | F                |\n",
       "| 1002             | Isaac            | Test Engineering |  28000           | Fulltime         | M                |\n",
       "| 1003             | Philip           | Engineering      |  40000           | Fulltime         | M                |\n",
       "| 1004             | Felicia          | Engineering      | 166000           | Contract         | F                |\n",
       "| 1005             | Jason            | Sales            | 135000           | Contract         | M                |\n",
       "| 1006             | George           | HR               |  40000           | Contract         | M                |\n",
       "| 1007             | Lily             | Operations       |  50000           | Fulltime         | F                |\n",
       "| 1010             | Mark             | Sales            |  67000           | Fulltime         | M                |\n",
       "| 1018             | Donald           | HR               |  70000           | Fulltime         | M                |\n",
       "| 1019             | Chelsea          | HR               |  86000           | Fulltime         | M                |\n",
       "| 1020             | Patrick          | Engineering      |  25000           | Fulltime         | M                |\n",
       "\n"
      ],
      "text/plain": [
       "   id   name    department       salary type     gender\n",
       "1  1001 Amanda  Test Engineering 135000 Fulltime F     \n",
       "2  1002 Isaac   Test Engineering  28000 Fulltime M     \n",
       "3  1003 Philip  Engineering       40000 Fulltime M     \n",
       "4  1004 Felicia Engineering      166000 Contract F     \n",
       "5  1005 Jason   Sales            135000 Contract M     \n",
       "6  1006 George  HR                40000 Contract M     \n",
       "7  1007 Lily    Operations        50000 Fulltime F     \n",
       "8  1010 Mark    Sales             67000 Fulltime M     \n",
       "9  1018 Donald  HR                70000 Fulltime M     \n",
       "10 1019 Chelsea HR                86000 Fulltime M     \n",
       "11 1020 Patrick Engineering       25000 Fulltime M     "
      ]
     },
     "metadata": {},
     "output_type": "display_data"
    }
   ],
   "source": [
    "employee.data$gender <- c(\"F\", \"M\", \"M\", \"F\", \"M\", \"M\", \"F\", \"M\", \"M\", \"M\", \"M\")\n",
    "\n",
    "employee.data"
   ]
  },
  {
   "cell_type": "code",
   "execution_count": 47,
   "metadata": {},
   "outputs": [
    {
     "data": {
      "text/html": [
       "<table>\n",
       "<thead><tr><th scope=col>id</th><th scope=col>name</th><th scope=col>department</th><th scope=col>salary</th><th scope=col>type</th><th scope=col>gender</th><th scope=col>increment</th></tr></thead>\n",
       "<tbody>\n",
       "\t<tr><td>1001            </td><td>Amanda          </td><td>Test Engineering</td><td>135000          </td><td>Fulltime        </td><td>F               </td><td>6750            </td></tr>\n",
       "\t<tr><td>1002            </td><td>Isaac           </td><td>Test Engineering</td><td> 28000          </td><td>Fulltime        </td><td>M               </td><td>1400            </td></tr>\n",
       "\t<tr><td>1003            </td><td>Philip          </td><td>Engineering     </td><td> 40000          </td><td>Fulltime        </td><td>M               </td><td>2000            </td></tr>\n",
       "\t<tr><td>1004            </td><td>Felicia         </td><td>Engineering     </td><td>166000          </td><td>Contract        </td><td>F               </td><td>8300            </td></tr>\n",
       "\t<tr><td>1005            </td><td>Jason           </td><td>Sales           </td><td>135000          </td><td>Contract        </td><td>M               </td><td>6750            </td></tr>\n",
       "\t<tr><td>1006            </td><td>George          </td><td>HR              </td><td> 40000          </td><td>Contract        </td><td>M               </td><td>2000            </td></tr>\n",
       "\t<tr><td>1007            </td><td>Lily            </td><td>Operations      </td><td> 50000          </td><td>Fulltime        </td><td>F               </td><td>2500            </td></tr>\n",
       "\t<tr><td>1010            </td><td>Mark            </td><td>Sales           </td><td> 67000          </td><td>Fulltime        </td><td>M               </td><td>3350            </td></tr>\n",
       "\t<tr><td>1018            </td><td>Donald          </td><td>HR              </td><td> 70000          </td><td>Fulltime        </td><td>M               </td><td>3500            </td></tr>\n",
       "\t<tr><td>1019            </td><td>Chelsea         </td><td>HR              </td><td> 86000          </td><td>Fulltime        </td><td>M               </td><td>4300            </td></tr>\n",
       "\t<tr><td>1020            </td><td>Patrick         </td><td>Engineering     </td><td> 25000          </td><td>Fulltime        </td><td>M               </td><td>1250            </td></tr>\n",
       "</tbody>\n",
       "</table>\n"
      ],
      "text/latex": [
       "\\begin{tabular}{r|lllllll}\n",
       " id & name & department & salary & type & gender & increment\\\\\n",
       "\\hline\n",
       "\t 1001             & Amanda           & Test Engineering & 135000           & Fulltime         & F                & 6750            \\\\\n",
       "\t 1002             & Isaac            & Test Engineering &  28000           & Fulltime         & M                & 1400            \\\\\n",
       "\t 1003             & Philip           & Engineering      &  40000           & Fulltime         & M                & 2000            \\\\\n",
       "\t 1004             & Felicia          & Engineering      & 166000           & Contract         & F                & 8300            \\\\\n",
       "\t 1005             & Jason            & Sales            & 135000           & Contract         & M                & 6750            \\\\\n",
       "\t 1006             & George           & HR               &  40000           & Contract         & M                & 2000            \\\\\n",
       "\t 1007             & Lily             & Operations       &  50000           & Fulltime         & F                & 2500            \\\\\n",
       "\t 1010             & Mark             & Sales            &  67000           & Fulltime         & M                & 3350            \\\\\n",
       "\t 1018             & Donald           & HR               &  70000           & Fulltime         & M                & 3500            \\\\\n",
       "\t 1019             & Chelsea          & HR               &  86000           & Fulltime         & M                & 4300            \\\\\n",
       "\t 1020             & Patrick          & Engineering      &  25000           & Fulltime         & M                & 1250            \\\\\n",
       "\\end{tabular}\n"
      ],
      "text/markdown": [
       "\n",
       "| id | name | department | salary | type | gender | increment |\n",
       "|---|---|---|---|---|---|---|\n",
       "| 1001             | Amanda           | Test Engineering | 135000           | Fulltime         | F                | 6750             |\n",
       "| 1002             | Isaac            | Test Engineering |  28000           | Fulltime         | M                | 1400             |\n",
       "| 1003             | Philip           | Engineering      |  40000           | Fulltime         | M                | 2000             |\n",
       "| 1004             | Felicia          | Engineering      | 166000           | Contract         | F                | 8300             |\n",
       "| 1005             | Jason            | Sales            | 135000           | Contract         | M                | 6750             |\n",
       "| 1006             | George           | HR               |  40000           | Contract         | M                | 2000             |\n",
       "| 1007             | Lily             | Operations       |  50000           | Fulltime         | F                | 2500             |\n",
       "| 1010             | Mark             | Sales            |  67000           | Fulltime         | M                | 3350             |\n",
       "| 1018             | Donald           | HR               |  70000           | Fulltime         | M                | 3500             |\n",
       "| 1019             | Chelsea          | HR               |  86000           | Fulltime         | M                | 4300             |\n",
       "| 1020             | Patrick          | Engineering      |  25000           | Fulltime         | M                | 1250             |\n",
       "\n"
      ],
      "text/plain": [
       "   id   name    department       salary type     gender increment\n",
       "1  1001 Amanda  Test Engineering 135000 Fulltime F      6750     \n",
       "2  1002 Isaac   Test Engineering  28000 Fulltime M      1400     \n",
       "3  1003 Philip  Engineering       40000 Fulltime M      2000     \n",
       "4  1004 Felicia Engineering      166000 Contract F      8300     \n",
       "5  1005 Jason   Sales            135000 Contract M      6750     \n",
       "6  1006 George  HR                40000 Contract M      2000     \n",
       "7  1007 Lily    Operations        50000 Fulltime F      2500     \n",
       "8  1010 Mark    Sales             67000 Fulltime M      3350     \n",
       "9  1018 Donald  HR                70000 Fulltime M      3500     \n",
       "10 1019 Chelsea HR                86000 Fulltime M      4300     \n",
       "11 1020 Patrick Engineering       25000 Fulltime M      1250     "
      ]
     },
     "metadata": {},
     "output_type": "display_data"
    }
   ],
   "source": [
    "employee.data <- cbind(employee.data, increment=employee.data$salary * 0.05)\n",
    "\n",
    "employee.data"
   ]
  },
  {
   "cell_type": "code",
   "execution_count": 48,
   "metadata": {},
   "outputs": [
    {
     "data": {
      "text/html": [
       "<table>\n",
       "<thead><tr><th scope=col>id</th><th scope=col>name</th><th scope=col>department</th><th scope=col>salary</th><th scope=col>type</th><th scope=col>gender</th><th scope=col>increment</th><th scope=col>addl.increment</th></tr></thead>\n",
       "<tbody>\n",
       "\t<tr><td>1001            </td><td>Amanda          </td><td>Test Engineering</td><td>135000          </td><td>Fulltime        </td><td>F               </td><td>6750            </td><td>   0            </td></tr>\n",
       "\t<tr><td>1002            </td><td>Isaac           </td><td>Test Engineering</td><td> 28000          </td><td>Fulltime        </td><td>M               </td><td>1400            </td><td>1540            </td></tr>\n",
       "\t<tr><td>1003            </td><td>Philip          </td><td>Engineering     </td><td> 40000          </td><td>Fulltime        </td><td>M               </td><td>2000            </td><td>2200            </td></tr>\n",
       "\t<tr><td>1004            </td><td>Felicia         </td><td>Engineering     </td><td>166000          </td><td>Contract        </td><td>F               </td><td>8300            </td><td>   0            </td></tr>\n",
       "\t<tr><td>1005            </td><td>Jason           </td><td>Sales           </td><td>135000          </td><td>Contract        </td><td>M               </td><td>6750            </td><td>   0            </td></tr>\n",
       "\t<tr><td>1006            </td><td>George          </td><td>HR              </td><td> 40000          </td><td>Contract        </td><td>M               </td><td>2000            </td><td>2200            </td></tr>\n",
       "\t<tr><td>1007            </td><td>Lily            </td><td>Operations      </td><td> 50000          </td><td>Fulltime        </td><td>F               </td><td>2500            </td><td>   0            </td></tr>\n",
       "\t<tr><td>1010            </td><td>Mark            </td><td>Sales           </td><td> 67000          </td><td>Fulltime        </td><td>M               </td><td>3350            </td><td>   0            </td></tr>\n",
       "\t<tr><td>1018            </td><td>Donald          </td><td>HR              </td><td> 70000          </td><td>Fulltime        </td><td>M               </td><td>3500            </td><td>   0            </td></tr>\n",
       "\t<tr><td>1019            </td><td>Chelsea         </td><td>HR              </td><td> 86000          </td><td>Fulltime        </td><td>M               </td><td>4300            </td><td>   0            </td></tr>\n",
       "\t<tr><td>1020            </td><td>Patrick         </td><td>Engineering     </td><td> 25000          </td><td>Fulltime        </td><td>M               </td><td>1250            </td><td>1375            </td></tr>\n",
       "</tbody>\n",
       "</table>\n"
      ],
      "text/latex": [
       "\\begin{tabular}{r|llllllll}\n",
       " id & name & department & salary & type & gender & increment & addl.increment\\\\\n",
       "\\hline\n",
       "\t 1001             & Amanda           & Test Engineering & 135000           & Fulltime         & F                & 6750             &    0            \\\\\n",
       "\t 1002             & Isaac            & Test Engineering &  28000           & Fulltime         & M                & 1400             & 1540            \\\\\n",
       "\t 1003             & Philip           & Engineering      &  40000           & Fulltime         & M                & 2000             & 2200            \\\\\n",
       "\t 1004             & Felicia          & Engineering      & 166000           & Contract         & F                & 8300             &    0            \\\\\n",
       "\t 1005             & Jason            & Sales            & 135000           & Contract         & M                & 6750             &    0            \\\\\n",
       "\t 1006             & George           & HR               &  40000           & Contract         & M                & 2000             & 2200            \\\\\n",
       "\t 1007             & Lily             & Operations       &  50000           & Fulltime         & F                & 2500             &    0            \\\\\n",
       "\t 1010             & Mark             & Sales            &  67000           & Fulltime         & M                & 3350             &    0            \\\\\n",
       "\t 1018             & Donald           & HR               &  70000           & Fulltime         & M                & 3500             &    0            \\\\\n",
       "\t 1019             & Chelsea          & HR               &  86000           & Fulltime         & M                & 4300             &    0            \\\\\n",
       "\t 1020             & Patrick          & Engineering      &  25000           & Fulltime         & M                & 1250             & 1375            \\\\\n",
       "\\end{tabular}\n"
      ],
      "text/markdown": [
       "\n",
       "| id | name | department | salary | type | gender | increment | addl.increment |\n",
       "|---|---|---|---|---|---|---|---|\n",
       "| 1001             | Amanda           | Test Engineering | 135000           | Fulltime         | F                | 6750             |    0             |\n",
       "| 1002             | Isaac            | Test Engineering |  28000           | Fulltime         | M                | 1400             | 1540             |\n",
       "| 1003             | Philip           | Engineering      |  40000           | Fulltime         | M                | 2000             | 2200             |\n",
       "| 1004             | Felicia          | Engineering      | 166000           | Contract         | F                | 8300             |    0             |\n",
       "| 1005             | Jason            | Sales            | 135000           | Contract         | M                | 6750             |    0             |\n",
       "| 1006             | George           | HR               |  40000           | Contract         | M                | 2000             | 2200             |\n",
       "| 1007             | Lily             | Operations       |  50000           | Fulltime         | F                | 2500             |    0             |\n",
       "| 1010             | Mark             | Sales            |  67000           | Fulltime         | M                | 3350             |    0             |\n",
       "| 1018             | Donald           | HR               |  70000           | Fulltime         | M                | 3500             |    0             |\n",
       "| 1019             | Chelsea          | HR               |  86000           | Fulltime         | M                | 4300             |    0             |\n",
       "| 1020             | Patrick          | Engineering      |  25000           | Fulltime         | M                | 1250             | 1375             |\n",
       "\n"
      ],
      "text/plain": [
       "   id   name    department       salary type     gender increment\n",
       "1  1001 Amanda  Test Engineering 135000 Fulltime F      6750     \n",
       "2  1002 Isaac   Test Engineering  28000 Fulltime M      1400     \n",
       "3  1003 Philip  Engineering       40000 Fulltime M      2000     \n",
       "4  1004 Felicia Engineering      166000 Contract F      8300     \n",
       "5  1005 Jason   Sales            135000 Contract M      6750     \n",
       "6  1006 George  HR                40000 Contract M      2000     \n",
       "7  1007 Lily    Operations        50000 Fulltime F      2500     \n",
       "8  1010 Mark    Sales             67000 Fulltime M      3350     \n",
       "9  1018 Donald  HR                70000 Fulltime M      3500     \n",
       "10 1019 Chelsea HR                86000 Fulltime M      4300     \n",
       "11 1020 Patrick Engineering       25000 Fulltime M      1250     \n",
       "   addl.increment\n",
       "1     0          \n",
       "2  1540          \n",
       "3  2200          \n",
       "4     0          \n",
       "5     0          \n",
       "6  2200          \n",
       "7     0          \n",
       "8     0          \n",
       "9     0          \n",
       "10    0          \n",
       "11 1375          "
      ]
     },
     "metadata": {},
     "output_type": "display_data"
    }
   ],
   "source": [
    "employee.data$addl.increment <- ifelse(employee.data$salary < 50000, \n",
    "                                       employee.data$increment + 0.1 * employee.data$increment, \n",
    "                                       0)\n",
    "\n",
    "employee.data"
   ]
  },
  {
   "cell_type": "code",
   "execution_count": 49,
   "metadata": {},
   "outputs": [
    {
     "data": {
      "text/html": [
       "<table>\n",
       "<thead><tr><th scope=col>id</th><th scope=col>name</th><th scope=col>department</th><th scope=col>salary</th><th scope=col>type</th><th scope=col>gender</th><th scope=col>increment</th><th scope=col>addl.increment</th><th scope=col>new.salary</th></tr></thead>\n",
       "<tbody>\n",
       "\t<tr><td>1001            </td><td>Amanda          </td><td>Test Engineering</td><td>135000          </td><td>Fulltime        </td><td>F               </td><td>6750            </td><td>   0            </td><td>141750          </td></tr>\n",
       "\t<tr><td>1002            </td><td>Isaac           </td><td>Test Engineering</td><td> 28000          </td><td>Fulltime        </td><td>M               </td><td>1400            </td><td>1540            </td><td> 30940          </td></tr>\n",
       "\t<tr><td>1003            </td><td>Philip          </td><td>Engineering     </td><td> 40000          </td><td>Fulltime        </td><td>M               </td><td>2000            </td><td>2200            </td><td> 44200          </td></tr>\n",
       "\t<tr><td>1004            </td><td>Felicia         </td><td>Engineering     </td><td>166000          </td><td>Contract        </td><td>F               </td><td>8300            </td><td>   0            </td><td>174300          </td></tr>\n",
       "\t<tr><td>1005            </td><td>Jason           </td><td>Sales           </td><td>135000          </td><td>Contract        </td><td>M               </td><td>6750            </td><td>   0            </td><td>141750          </td></tr>\n",
       "\t<tr><td>1006            </td><td>George          </td><td>HR              </td><td> 40000          </td><td>Contract        </td><td>M               </td><td>2000            </td><td>2200            </td><td> 44200          </td></tr>\n",
       "\t<tr><td>1007            </td><td>Lily            </td><td>Operations      </td><td> 50000          </td><td>Fulltime        </td><td>F               </td><td>2500            </td><td>   0            </td><td> 52500          </td></tr>\n",
       "\t<tr><td>1010            </td><td>Mark            </td><td>Sales           </td><td> 67000          </td><td>Fulltime        </td><td>M               </td><td>3350            </td><td>   0            </td><td> 70350          </td></tr>\n",
       "\t<tr><td>1018            </td><td>Donald          </td><td>HR              </td><td> 70000          </td><td>Fulltime        </td><td>M               </td><td>3500            </td><td>   0            </td><td> 73500          </td></tr>\n",
       "\t<tr><td>1019            </td><td>Chelsea         </td><td>HR              </td><td> 86000          </td><td>Fulltime        </td><td>M               </td><td>4300            </td><td>   0            </td><td> 90300          </td></tr>\n",
       "\t<tr><td>1020            </td><td>Patrick         </td><td>Engineering     </td><td> 25000          </td><td>Fulltime        </td><td>M               </td><td>1250            </td><td>1375            </td><td> 27625          </td></tr>\n",
       "</tbody>\n",
       "</table>\n"
      ],
      "text/latex": [
       "\\begin{tabular}{r|lllllllll}\n",
       " id & name & department & salary & type & gender & increment & addl.increment & new.salary\\\\\n",
       "\\hline\n",
       "\t 1001             & Amanda           & Test Engineering & 135000           & Fulltime         & F                & 6750             &    0             & 141750          \\\\\n",
       "\t 1002             & Isaac            & Test Engineering &  28000           & Fulltime         & M                & 1400             & 1540             &  30940          \\\\\n",
       "\t 1003             & Philip           & Engineering      &  40000           & Fulltime         & M                & 2000             & 2200             &  44200          \\\\\n",
       "\t 1004             & Felicia          & Engineering      & 166000           & Contract         & F                & 8300             &    0             & 174300          \\\\\n",
       "\t 1005             & Jason            & Sales            & 135000           & Contract         & M                & 6750             &    0             & 141750          \\\\\n",
       "\t 1006             & George           & HR               &  40000           & Contract         & M                & 2000             & 2200             &  44200          \\\\\n",
       "\t 1007             & Lily             & Operations       &  50000           & Fulltime         & F                & 2500             &    0             &  52500          \\\\\n",
       "\t 1010             & Mark             & Sales            &  67000           & Fulltime         & M                & 3350             &    0             &  70350          \\\\\n",
       "\t 1018             & Donald           & HR               &  70000           & Fulltime         & M                & 3500             &    0             &  73500          \\\\\n",
       "\t 1019             & Chelsea          & HR               &  86000           & Fulltime         & M                & 4300             &    0             &  90300          \\\\\n",
       "\t 1020             & Patrick          & Engineering      &  25000           & Fulltime         & M                & 1250             & 1375             &  27625          \\\\\n",
       "\\end{tabular}\n"
      ],
      "text/markdown": [
       "\n",
       "| id | name | department | salary | type | gender | increment | addl.increment | new.salary |\n",
       "|---|---|---|---|---|---|---|---|---|\n",
       "| 1001             | Amanda           | Test Engineering | 135000           | Fulltime         | F                | 6750             |    0             | 141750           |\n",
       "| 1002             | Isaac            | Test Engineering |  28000           | Fulltime         | M                | 1400             | 1540             |  30940           |\n",
       "| 1003             | Philip           | Engineering      |  40000           | Fulltime         | M                | 2000             | 2200             |  44200           |\n",
       "| 1004             | Felicia          | Engineering      | 166000           | Contract         | F                | 8300             |    0             | 174300           |\n",
       "| 1005             | Jason            | Sales            | 135000           | Contract         | M                | 6750             |    0             | 141750           |\n",
       "| 1006             | George           | HR               |  40000           | Contract         | M                | 2000             | 2200             |  44200           |\n",
       "| 1007             | Lily             | Operations       |  50000           | Fulltime         | F                | 2500             |    0             |  52500           |\n",
       "| 1010             | Mark             | Sales            |  67000           | Fulltime         | M                | 3350             |    0             |  70350           |\n",
       "| 1018             | Donald           | HR               |  70000           | Fulltime         | M                | 3500             |    0             |  73500           |\n",
       "| 1019             | Chelsea          | HR               |  86000           | Fulltime         | M                | 4300             |    0             |  90300           |\n",
       "| 1020             | Patrick          | Engineering      |  25000           | Fulltime         | M                | 1250             | 1375             |  27625           |\n",
       "\n"
      ],
      "text/plain": [
       "   id   name    department       salary type     gender increment\n",
       "1  1001 Amanda  Test Engineering 135000 Fulltime F      6750     \n",
       "2  1002 Isaac   Test Engineering  28000 Fulltime M      1400     \n",
       "3  1003 Philip  Engineering       40000 Fulltime M      2000     \n",
       "4  1004 Felicia Engineering      166000 Contract F      8300     \n",
       "5  1005 Jason   Sales            135000 Contract M      6750     \n",
       "6  1006 George  HR                40000 Contract M      2000     \n",
       "7  1007 Lily    Operations        50000 Fulltime F      2500     \n",
       "8  1010 Mark    Sales             67000 Fulltime M      3350     \n",
       "9  1018 Donald  HR                70000 Fulltime M      3500     \n",
       "10 1019 Chelsea HR                86000 Fulltime M      4300     \n",
       "11 1020 Patrick Engineering       25000 Fulltime M      1250     \n",
       "   addl.increment new.salary\n",
       "1     0           141750    \n",
       "2  1540            30940    \n",
       "3  2200            44200    \n",
       "4     0           174300    \n",
       "5     0           141750    \n",
       "6  2200            44200    \n",
       "7     0            52500    \n",
       "8     0            70350    \n",
       "9     0            73500    \n",
       "10    0            90300    \n",
       "11 1375            27625    "
      ]
     },
     "metadata": {},
     "output_type": "display_data"
    }
   ],
   "source": [
    "employee.data$new.salary <- employee.data$salary + employee.data$increment + employee.data$addl.increment\n",
    "\n",
    "employee.data"
   ]
  },
  {
   "cell_type": "code",
   "execution_count": 50,
   "metadata": {},
   "outputs": [
    {
     "data": {
      "text/html": [
       "<table>\n",
       "<thead><tr><th scope=col>id</th><th scope=col>name</th><th scope=col>department</th><th scope=col>salary</th></tr></thead>\n",
       "<tbody>\n",
       "\t<tr><td>1001            </td><td>Amanda          </td><td>Test Engineering</td><td>135000          </td></tr>\n",
       "\t<tr><td>1002            </td><td>Isaac           </td><td>Engineering     </td><td> 28000          </td></tr>\n",
       "\t<tr><td>1003            </td><td>Felicia         </td><td>Sales           </td><td> 40000          </td></tr>\n",
       "\t<tr><td>1004            </td><td>Jason           </td><td>HR              </td><td> 40000          </td></tr>\n",
       "\t<tr><td>1005            </td><td>Lily            </td><td>Operations      </td><td> 50000          </td></tr>\n",
       "</tbody>\n",
       "</table>\n"
      ],
      "text/latex": [
       "\\begin{tabular}{r|llll}\n",
       " id & name & department & salary\\\\\n",
       "\\hline\n",
       "\t 1001             & Amanda           & Test Engineering & 135000          \\\\\n",
       "\t 1002             & Isaac            & Engineering      &  28000          \\\\\n",
       "\t 1003             & Felicia          & Sales            &  40000          \\\\\n",
       "\t 1004             & Jason            & HR               &  40000          \\\\\n",
       "\t 1005             & Lily             & Operations       &  50000          \\\\\n",
       "\\end{tabular}\n"
      ],
      "text/markdown": [
       "\n",
       "| id | name | department | salary |\n",
       "|---|---|---|---|\n",
       "| 1001             | Amanda           | Test Engineering | 135000           |\n",
       "| 1002             | Isaac            | Engineering      |  28000           |\n",
       "| 1003             | Felicia          | Sales            |  40000           |\n",
       "| 1004             | Jason            | HR               |  40000           |\n",
       "| 1005             | Lily             | Operations       |  50000           |\n",
       "\n"
      ],
      "text/plain": [
       "  id   name    department       salary\n",
       "1 1001 Amanda  Test Engineering 135000\n",
       "2 1002 Isaac   Engineering       28000\n",
       "3 1003 Felicia Sales             40000\n",
       "4 1004 Jason   HR                40000\n",
       "5 1005 Lily    Operations        50000"
      ]
     },
     "metadata": {},
     "output_type": "display_data"
    }
   ],
   "source": [
    "employee.professional.data <- data.frame(id = 1001:1005,\n",
    "                            \n",
    "                                         name = c(\"Amanda\", \"Isaac\", \"Felicia\", \"Jason\", \"Lily\"),\n",
    "                            \n",
    "                                         department = c(\"Test Engineering\", \"Engineering\", \n",
    "                                                        \"Sales\", \"HR\", \"Operations\"),\n",
    "                            \n",
    "                                         salary = c(135000, 28000, 40000, 40000, 50000),\n",
    "                            \n",
    "                                         stringsAsFactors = FALSE)\n",
    "\n",
    "employee.professional.data"
   ]
  },
  {
   "cell_type": "code",
   "execution_count": 51,
   "metadata": {},
   "outputs": [
    {
     "data": {
      "text/html": [
       "<table>\n",
       "<thead><tr><th scope=col>id</th><th scope=col>name</th><th scope=col>gender</th></tr></thead>\n",
       "<tbody>\n",
       "\t<tr><td>1002   </td><td>Isaac  </td><td>M      </td></tr>\n",
       "\t<tr><td>1003   </td><td>Felicia</td><td>F      </td></tr>\n",
       "\t<tr><td>1004   </td><td>Jason  </td><td>M      </td></tr>\n",
       "\t<tr><td>1005   </td><td>Lily   </td><td>F      </td></tr>\n",
       "\t<tr><td>1006   </td><td>Joanne </td><td>F      </td></tr>\n",
       "</tbody>\n",
       "</table>\n"
      ],
      "text/latex": [
       "\\begin{tabular}{r|lll}\n",
       " id & name & gender\\\\\n",
       "\\hline\n",
       "\t 1002    & Isaac   & M      \\\\\n",
       "\t 1003    & Felicia & F      \\\\\n",
       "\t 1004    & Jason   & M      \\\\\n",
       "\t 1005    & Lily    & F      \\\\\n",
       "\t 1006    & Joanne  & F      \\\\\n",
       "\\end{tabular}\n"
      ],
      "text/markdown": [
       "\n",
       "| id | name | gender |\n",
       "|---|---|---|\n",
       "| 1002    | Isaac   | M       |\n",
       "| 1003    | Felicia | F       |\n",
       "| 1004    | Jason   | M       |\n",
       "| 1005    | Lily    | F       |\n",
       "| 1006    | Joanne  | F       |\n",
       "\n"
      ],
      "text/plain": [
       "  id   name    gender\n",
       "1 1002 Isaac   M     \n",
       "2 1003 Felicia F     \n",
       "3 1004 Jason   M     \n",
       "4 1005 Lily    F     \n",
       "5 1006 Joanne  F     "
      ]
     },
     "metadata": {},
     "output_type": "display_data"
    }
   ],
   "source": [
    "employee.personal.data <- data.frame(id = 1002:1006,\n",
    "                            \n",
    "                                     name = c(\"Isaac\", \"Felicia\", \"Jason\", \"Lily\", \"Joanne\"),\n",
    "                            \n",
    "                                     gender = c(\"M\", \"F\", \"M\", \"F\", \"F\"),\n",
    "                            \n",
    "                                     stringsAsFactors = FALSE)\n",
    "\n",
    "employee.personal.data"
   ]
  },
  {
   "cell_type": "code",
   "execution_count": 52,
   "metadata": {},
   "outputs": [
    {
     "data": {
      "text/html": [
       "<table>\n",
       "<thead><tr><th scope=col>id</th><th scope=col>name</th><th scope=col>department</th><th scope=col>salary</th><th scope=col>gender</th></tr></thead>\n",
       "<tbody>\n",
       "\t<tr><td>1002       </td><td>Isaac      </td><td>Engineering</td><td>28000      </td><td>M          </td></tr>\n",
       "\t<tr><td>1003       </td><td>Felicia    </td><td>Sales      </td><td>40000      </td><td>F          </td></tr>\n",
       "\t<tr><td>1004       </td><td>Jason      </td><td>HR         </td><td>40000      </td><td>M          </td></tr>\n",
       "\t<tr><td>1005       </td><td>Lily       </td><td>Operations </td><td>50000      </td><td>F          </td></tr>\n",
       "</tbody>\n",
       "</table>\n"
      ],
      "text/latex": [
       "\\begin{tabular}{r|lllll}\n",
       " id & name & department & salary & gender\\\\\n",
       "\\hline\n",
       "\t 1002        & Isaac       & Engineering & 28000       & M          \\\\\n",
       "\t 1003        & Felicia     & Sales       & 40000       & F          \\\\\n",
       "\t 1004        & Jason       & HR          & 40000       & M          \\\\\n",
       "\t 1005        & Lily        & Operations  & 50000       & F          \\\\\n",
       "\\end{tabular}\n"
      ],
      "text/markdown": [
       "\n",
       "| id | name | department | salary | gender |\n",
       "|---|---|---|---|---|\n",
       "| 1002        | Isaac       | Engineering | 28000       | M           |\n",
       "| 1003        | Felicia     | Sales       | 40000       | F           |\n",
       "| 1004        | Jason       | HR          | 40000       | M           |\n",
       "| 1005        | Lily        | Operations  | 50000       | F           |\n",
       "\n"
      ],
      "text/plain": [
       "  id   name    department  salary gender\n",
       "1 1002 Isaac   Engineering 28000  M     \n",
       "2 1003 Felicia Sales       40000  F     \n",
       "3 1004 Jason   HR          40000  M     \n",
       "4 1005 Lily    Operations  50000  F     "
      ]
     },
     "metadata": {},
     "output_type": "display_data"
    }
   ],
   "source": [
    "merge(employee.professional.data, employee.personal.data)"
   ]
  },
  {
   "cell_type": "code",
   "execution_count": 53,
   "metadata": {},
   "outputs": [
    {
     "data": {
      "text/html": [
       "<table>\n",
       "<thead><tr><th scope=col>emp.id</th><th scope=col>first.name</th><th scope=col>gender</th></tr></thead>\n",
       "<tbody>\n",
       "\t<tr><td>1002   </td><td>Isaac  </td><td>M      </td></tr>\n",
       "\t<tr><td>1003   </td><td>Felicia</td><td>F      </td></tr>\n",
       "\t<tr><td>1004   </td><td>Jason  </td><td>M      </td></tr>\n",
       "\t<tr><td>1005   </td><td>Lily   </td><td>F      </td></tr>\n",
       "\t<tr><td>1006   </td><td>Joanne </td><td>F      </td></tr>\n",
       "</tbody>\n",
       "</table>\n"
      ],
      "text/latex": [
       "\\begin{tabular}{r|lll}\n",
       " emp.id & first.name & gender\\\\\n",
       "\\hline\n",
       "\t 1002    & Isaac   & M      \\\\\n",
       "\t 1003    & Felicia & F      \\\\\n",
       "\t 1004    & Jason   & M      \\\\\n",
       "\t 1005    & Lily    & F      \\\\\n",
       "\t 1006    & Joanne  & F      \\\\\n",
       "\\end{tabular}\n"
      ],
      "text/markdown": [
       "\n",
       "| emp.id | first.name | gender |\n",
       "|---|---|---|\n",
       "| 1002    | Isaac   | M       |\n",
       "| 1003    | Felicia | F       |\n",
       "| 1004    | Jason   | M       |\n",
       "| 1005    | Lily    | F       |\n",
       "| 1006    | Joanne  | F       |\n",
       "\n"
      ],
      "text/plain": [
       "  emp.id first.name gender\n",
       "1 1002   Isaac      M     \n",
       "2 1003   Felicia    F     \n",
       "3 1004   Jason      M     \n",
       "4 1005   Lily       F     \n",
       "5 1006   Joanne     F     "
      ]
     },
     "metadata": {},
     "output_type": "display_data"
    }
   ],
   "source": [
    "employee.personal.data <- data.frame(emp.id = 1002:1006,\n",
    "                            \n",
    "                                     first.name = c(\"Isaac\", \"Felicia\", \"Jason\", \"Lily\", \"Joanne\"),\n",
    "                            \n",
    "                                     gender = c(\"M\", \"F\", \"M\", \"F\", \"F\"),\n",
    "                            \n",
    "                                     stringsAsFactors = FALSE)\n",
    "\n",
    "employee.personal.data"
   ]
  },
  {
   "cell_type": "code",
   "execution_count": 54,
   "metadata": {},
   "outputs": [
    {
     "data": {
      "text/html": [
       "<table>\n",
       "<thead><tr><th scope=col>id</th><th scope=col>name</th><th scope=col>department</th><th scope=col>salary</th><th scope=col>emp.id</th><th scope=col>first.name</th><th scope=col>gender</th></tr></thead>\n",
       "<tbody>\n",
       "\t<tr><td>1001            </td><td>Amanda          </td><td>Test Engineering</td><td>135000          </td><td>1002            </td><td>Isaac           </td><td>M               </td></tr>\n",
       "\t<tr><td>1002            </td><td>Isaac           </td><td>Engineering     </td><td> 28000          </td><td>1002            </td><td>Isaac           </td><td>M               </td></tr>\n",
       "\t<tr><td>1003            </td><td>Felicia         </td><td>Sales           </td><td> 40000          </td><td>1002            </td><td>Isaac           </td><td>M               </td></tr>\n",
       "\t<tr><td>1004            </td><td>Jason           </td><td>HR              </td><td> 40000          </td><td>1002            </td><td>Isaac           </td><td>M               </td></tr>\n",
       "\t<tr><td>1005            </td><td>Lily            </td><td>Operations      </td><td> 50000          </td><td>1002            </td><td>Isaac           </td><td>M               </td></tr>\n",
       "\t<tr><td>1001            </td><td>Amanda          </td><td>Test Engineering</td><td>135000          </td><td>1003            </td><td>Felicia         </td><td>F               </td></tr>\n",
       "\t<tr><td>1002            </td><td>Isaac           </td><td>Engineering     </td><td> 28000          </td><td>1003            </td><td>Felicia         </td><td>F               </td></tr>\n",
       "\t<tr><td>1003            </td><td>Felicia         </td><td>Sales           </td><td> 40000          </td><td>1003            </td><td>Felicia         </td><td>F               </td></tr>\n",
       "\t<tr><td>1004            </td><td>Jason           </td><td>HR              </td><td> 40000          </td><td>1003            </td><td>Felicia         </td><td>F               </td></tr>\n",
       "\t<tr><td>1005            </td><td>Lily            </td><td>Operations      </td><td> 50000          </td><td>1003            </td><td>Felicia         </td><td>F               </td></tr>\n",
       "\t<tr><td>1001            </td><td>Amanda          </td><td>Test Engineering</td><td>135000          </td><td>1004            </td><td>Jason           </td><td>M               </td></tr>\n",
       "\t<tr><td>1002            </td><td>Isaac           </td><td>Engineering     </td><td> 28000          </td><td>1004            </td><td>Jason           </td><td>M               </td></tr>\n",
       "\t<tr><td>1003            </td><td>Felicia         </td><td>Sales           </td><td> 40000          </td><td>1004            </td><td>Jason           </td><td>M               </td></tr>\n",
       "\t<tr><td>1004            </td><td>Jason           </td><td>HR              </td><td> 40000          </td><td>1004            </td><td>Jason           </td><td>M               </td></tr>\n",
       "\t<tr><td>1005            </td><td>Lily            </td><td>Operations      </td><td> 50000          </td><td>1004            </td><td>Jason           </td><td>M               </td></tr>\n",
       "\t<tr><td>1001            </td><td>Amanda          </td><td>Test Engineering</td><td>135000          </td><td>1005            </td><td>Lily            </td><td>F               </td></tr>\n",
       "\t<tr><td>1002            </td><td>Isaac           </td><td>Engineering     </td><td> 28000          </td><td>1005            </td><td>Lily            </td><td>F               </td></tr>\n",
       "\t<tr><td>1003            </td><td>Felicia         </td><td>Sales           </td><td> 40000          </td><td>1005            </td><td>Lily            </td><td>F               </td></tr>\n",
       "\t<tr><td>1004            </td><td>Jason           </td><td>HR              </td><td> 40000          </td><td>1005            </td><td>Lily            </td><td>F               </td></tr>\n",
       "\t<tr><td>1005            </td><td>Lily            </td><td>Operations      </td><td> 50000          </td><td>1005            </td><td>Lily            </td><td>F               </td></tr>\n",
       "\t<tr><td>1001            </td><td>Amanda          </td><td>Test Engineering</td><td>135000          </td><td>1006            </td><td>Joanne          </td><td>F               </td></tr>\n",
       "\t<tr><td>1002            </td><td>Isaac           </td><td>Engineering     </td><td> 28000          </td><td>1006            </td><td>Joanne          </td><td>F               </td></tr>\n",
       "\t<tr><td>1003            </td><td>Felicia         </td><td>Sales           </td><td> 40000          </td><td>1006            </td><td>Joanne          </td><td>F               </td></tr>\n",
       "\t<tr><td>1004            </td><td>Jason           </td><td>HR              </td><td> 40000          </td><td>1006            </td><td>Joanne          </td><td>F               </td></tr>\n",
       "\t<tr><td>1005            </td><td>Lily            </td><td>Operations      </td><td> 50000          </td><td>1006            </td><td>Joanne          </td><td>F               </td></tr>\n",
       "</tbody>\n",
       "</table>\n"
      ],
      "text/latex": [
       "\\begin{tabular}{r|lllllll}\n",
       " id & name & department & salary & emp.id & first.name & gender\\\\\n",
       "\\hline\n",
       "\t 1001             & Amanda           & Test Engineering & 135000           & 1002             & Isaac            & M               \\\\\n",
       "\t 1002             & Isaac            & Engineering      &  28000           & 1002             & Isaac            & M               \\\\\n",
       "\t 1003             & Felicia          & Sales            &  40000           & 1002             & Isaac            & M               \\\\\n",
       "\t 1004             & Jason            & HR               &  40000           & 1002             & Isaac            & M               \\\\\n",
       "\t 1005             & Lily             & Operations       &  50000           & 1002             & Isaac            & M               \\\\\n",
       "\t 1001             & Amanda           & Test Engineering & 135000           & 1003             & Felicia          & F               \\\\\n",
       "\t 1002             & Isaac            & Engineering      &  28000           & 1003             & Felicia          & F               \\\\\n",
       "\t 1003             & Felicia          & Sales            &  40000           & 1003             & Felicia          & F               \\\\\n",
       "\t 1004             & Jason            & HR               &  40000           & 1003             & Felicia          & F               \\\\\n",
       "\t 1005             & Lily             & Operations       &  50000           & 1003             & Felicia          & F               \\\\\n",
       "\t 1001             & Amanda           & Test Engineering & 135000           & 1004             & Jason            & M               \\\\\n",
       "\t 1002             & Isaac            & Engineering      &  28000           & 1004             & Jason            & M               \\\\\n",
       "\t 1003             & Felicia          & Sales            &  40000           & 1004             & Jason            & M               \\\\\n",
       "\t 1004             & Jason            & HR               &  40000           & 1004             & Jason            & M               \\\\\n",
       "\t 1005             & Lily             & Operations       &  50000           & 1004             & Jason            & M               \\\\\n",
       "\t 1001             & Amanda           & Test Engineering & 135000           & 1005             & Lily             & F               \\\\\n",
       "\t 1002             & Isaac            & Engineering      &  28000           & 1005             & Lily             & F               \\\\\n",
       "\t 1003             & Felicia          & Sales            &  40000           & 1005             & Lily             & F               \\\\\n",
       "\t 1004             & Jason            & HR               &  40000           & 1005             & Lily             & F               \\\\\n",
       "\t 1005             & Lily             & Operations       &  50000           & 1005             & Lily             & F               \\\\\n",
       "\t 1001             & Amanda           & Test Engineering & 135000           & 1006             & Joanne           & F               \\\\\n",
       "\t 1002             & Isaac            & Engineering      &  28000           & 1006             & Joanne           & F               \\\\\n",
       "\t 1003             & Felicia          & Sales            &  40000           & 1006             & Joanne           & F               \\\\\n",
       "\t 1004             & Jason            & HR               &  40000           & 1006             & Joanne           & F               \\\\\n",
       "\t 1005             & Lily             & Operations       &  50000           & 1006             & Joanne           & F               \\\\\n",
       "\\end{tabular}\n"
      ],
      "text/markdown": [
       "\n",
       "| id | name | department | salary | emp.id | first.name | gender |\n",
       "|---|---|---|---|---|---|---|\n",
       "| 1001             | Amanda           | Test Engineering | 135000           | 1002             | Isaac            | M                |\n",
       "| 1002             | Isaac            | Engineering      |  28000           | 1002             | Isaac            | M                |\n",
       "| 1003             | Felicia          | Sales            |  40000           | 1002             | Isaac            | M                |\n",
       "| 1004             | Jason            | HR               |  40000           | 1002             | Isaac            | M                |\n",
       "| 1005             | Lily             | Operations       |  50000           | 1002             | Isaac            | M                |\n",
       "| 1001             | Amanda           | Test Engineering | 135000           | 1003             | Felicia          | F                |\n",
       "| 1002             | Isaac            | Engineering      |  28000           | 1003             | Felicia          | F                |\n",
       "| 1003             | Felicia          | Sales            |  40000           | 1003             | Felicia          | F                |\n",
       "| 1004             | Jason            | HR               |  40000           | 1003             | Felicia          | F                |\n",
       "| 1005             | Lily             | Operations       |  50000           | 1003             | Felicia          | F                |\n",
       "| 1001             | Amanda           | Test Engineering | 135000           | 1004             | Jason            | M                |\n",
       "| 1002             | Isaac            | Engineering      |  28000           | 1004             | Jason            | M                |\n",
       "| 1003             | Felicia          | Sales            |  40000           | 1004             | Jason            | M                |\n",
       "| 1004             | Jason            | HR               |  40000           | 1004             | Jason            | M                |\n",
       "| 1005             | Lily             | Operations       |  50000           | 1004             | Jason            | M                |\n",
       "| 1001             | Amanda           | Test Engineering | 135000           | 1005             | Lily             | F                |\n",
       "| 1002             | Isaac            | Engineering      |  28000           | 1005             | Lily             | F                |\n",
       "| 1003             | Felicia          | Sales            |  40000           | 1005             | Lily             | F                |\n",
       "| 1004             | Jason            | HR               |  40000           | 1005             | Lily             | F                |\n",
       "| 1005             | Lily             | Operations       |  50000           | 1005             | Lily             | F                |\n",
       "| 1001             | Amanda           | Test Engineering | 135000           | 1006             | Joanne           | F                |\n",
       "| 1002             | Isaac            | Engineering      |  28000           | 1006             | Joanne           | F                |\n",
       "| 1003             | Felicia          | Sales            |  40000           | 1006             | Joanne           | F                |\n",
       "| 1004             | Jason            | HR               |  40000           | 1006             | Joanne           | F                |\n",
       "| 1005             | Lily             | Operations       |  50000           | 1006             | Joanne           | F                |\n",
       "\n"
      ],
      "text/plain": [
       "   id   name    department       salary emp.id first.name gender\n",
       "1  1001 Amanda  Test Engineering 135000 1002   Isaac      M     \n",
       "2  1002 Isaac   Engineering       28000 1002   Isaac      M     \n",
       "3  1003 Felicia Sales             40000 1002   Isaac      M     \n",
       "4  1004 Jason   HR                40000 1002   Isaac      M     \n",
       "5  1005 Lily    Operations        50000 1002   Isaac      M     \n",
       "6  1001 Amanda  Test Engineering 135000 1003   Felicia    F     \n",
       "7  1002 Isaac   Engineering       28000 1003   Felicia    F     \n",
       "8  1003 Felicia Sales             40000 1003   Felicia    F     \n",
       "9  1004 Jason   HR                40000 1003   Felicia    F     \n",
       "10 1005 Lily    Operations        50000 1003   Felicia    F     \n",
       "11 1001 Amanda  Test Engineering 135000 1004   Jason      M     \n",
       "12 1002 Isaac   Engineering       28000 1004   Jason      M     \n",
       "13 1003 Felicia Sales             40000 1004   Jason      M     \n",
       "14 1004 Jason   HR                40000 1004   Jason      M     \n",
       "15 1005 Lily    Operations        50000 1004   Jason      M     \n",
       "16 1001 Amanda  Test Engineering 135000 1005   Lily       F     \n",
       "17 1002 Isaac   Engineering       28000 1005   Lily       F     \n",
       "18 1003 Felicia Sales             40000 1005   Lily       F     \n",
       "19 1004 Jason   HR                40000 1005   Lily       F     \n",
       "20 1005 Lily    Operations        50000 1005   Lily       F     \n",
       "21 1001 Amanda  Test Engineering 135000 1006   Joanne     F     \n",
       "22 1002 Isaac   Engineering       28000 1006   Joanne     F     \n",
       "23 1003 Felicia Sales             40000 1006   Joanne     F     \n",
       "24 1004 Jason   HR                40000 1006   Joanne     F     \n",
       "25 1005 Lily    Operations        50000 1006   Joanne     F     "
      ]
     },
     "metadata": {},
     "output_type": "display_data"
    }
   ],
   "source": [
    "merge(employee.professional.data, employee.personal.data)"
   ]
  },
  {
   "cell_type": "code",
   "execution_count": 55,
   "metadata": {},
   "outputs": [
    {
     "data": {
      "text/html": [
       "<table>\n",
       "<thead><tr><th scope=col>id</th><th scope=col>name</th><th scope=col>department</th><th scope=col>salary</th><th scope=col>first.name</th><th scope=col>gender</th></tr></thead>\n",
       "<tbody>\n",
       "\t<tr><td>1002       </td><td>Isaac      </td><td>Engineering</td><td>28000      </td><td>Isaac      </td><td>M          </td></tr>\n",
       "\t<tr><td>1003       </td><td>Felicia    </td><td>Sales      </td><td>40000      </td><td>Felicia    </td><td>F          </td></tr>\n",
       "\t<tr><td>1004       </td><td>Jason      </td><td>HR         </td><td>40000      </td><td>Jason      </td><td>M          </td></tr>\n",
       "\t<tr><td>1005       </td><td>Lily       </td><td>Operations </td><td>50000      </td><td>Lily       </td><td>F          </td></tr>\n",
       "</tbody>\n",
       "</table>\n"
      ],
      "text/latex": [
       "\\begin{tabular}{r|llllll}\n",
       " id & name & department & salary & first.name & gender\\\\\n",
       "\\hline\n",
       "\t 1002        & Isaac       & Engineering & 28000       & Isaac       & M          \\\\\n",
       "\t 1003        & Felicia     & Sales       & 40000       & Felicia     & F          \\\\\n",
       "\t 1004        & Jason       & HR          & 40000       & Jason       & M          \\\\\n",
       "\t 1005        & Lily        & Operations  & 50000       & Lily        & F          \\\\\n",
       "\\end{tabular}\n"
      ],
      "text/markdown": [
       "\n",
       "| id | name | department | salary | first.name | gender |\n",
       "|---|---|---|---|---|---|\n",
       "| 1002        | Isaac       | Engineering | 28000       | Isaac       | M           |\n",
       "| 1003        | Felicia     | Sales       | 40000       | Felicia     | F           |\n",
       "| 1004        | Jason       | HR          | 40000       | Jason       | M           |\n",
       "| 1005        | Lily        | Operations  | 50000       | Lily        | F           |\n",
       "\n"
      ],
      "text/plain": [
       "  id   name    department  salary first.name gender\n",
       "1 1002 Isaac   Engineering 28000  Isaac      M     \n",
       "2 1003 Felicia Sales       40000  Felicia    F     \n",
       "3 1004 Jason   HR          40000  Jason      M     \n",
       "4 1005 Lily    Operations  50000  Lily       F     "
      ]
     },
     "metadata": {},
     "output_type": "display_data"
    }
   ],
   "source": [
    "merge(employee.professional.data, employee.personal.data, \n",
    "      by.x=\"id\", by.y=\"emp.id\")"
   ]
  },
  {
   "cell_type": "code",
   "execution_count": null,
   "metadata": {},
   "outputs": [],
   "source": []
  },
  {
   "cell_type": "code",
   "execution_count": null,
   "metadata": {},
   "outputs": [],
   "source": []
  },
  {
   "cell_type": "code",
   "execution_count": null,
   "metadata": {},
   "outputs": [],
   "source": []
  },
  {
   "cell_type": "code",
   "execution_count": null,
   "metadata": {},
   "outputs": [],
   "source": []
  },
  {
   "cell_type": "code",
   "execution_count": null,
   "metadata": {},
   "outputs": [],
   "source": []
  },
  {
   "cell_type": "code",
   "execution_count": null,
   "metadata": {},
   "outputs": [],
   "source": []
  },
  {
   "cell_type": "code",
   "execution_count": null,
   "metadata": {},
   "outputs": [],
   "source": []
  },
  {
   "cell_type": "code",
   "execution_count": null,
   "metadata": {},
   "outputs": [],
   "source": []
  },
  {
   "cell_type": "code",
   "execution_count": null,
   "metadata": {},
   "outputs": [],
   "source": []
  },
  {
   "cell_type": "code",
   "execution_count": null,
   "metadata": {},
   "outputs": [],
   "source": []
  },
  {
   "cell_type": "code",
   "execution_count": null,
   "metadata": {},
   "outputs": [],
   "source": []
  },
  {
   "cell_type": "code",
   "execution_count": null,
   "metadata": {},
   "outputs": [],
   "source": []
  },
  {
   "cell_type": "code",
   "execution_count": null,
   "metadata": {},
   "outputs": [],
   "source": []
  },
  {
   "cell_type": "code",
   "execution_count": null,
   "metadata": {},
   "outputs": [],
   "source": []
  },
  {
   "cell_type": "code",
   "execution_count": null,
   "metadata": {},
   "outputs": [],
   "source": []
  },
  {
   "cell_type": "code",
   "execution_count": null,
   "metadata": {},
   "outputs": [],
   "source": []
  },
  {
   "cell_type": "code",
   "execution_count": null,
   "metadata": {},
   "outputs": [],
   "source": []
  },
  {
   "cell_type": "code",
   "execution_count": null,
   "metadata": {},
   "outputs": [],
   "source": []
  },
  {
   "cell_type": "code",
   "execution_count": null,
   "metadata": {},
   "outputs": [],
   "source": []
  },
  {
   "cell_type": "code",
   "execution_count": null,
   "metadata": {},
   "outputs": [],
   "source": []
  },
  {
   "cell_type": "code",
   "execution_count": null,
   "metadata": {},
   "outputs": [],
   "source": []
  },
  {
   "cell_type": "code",
   "execution_count": null,
   "metadata": {},
   "outputs": [],
   "source": []
  },
  {
   "cell_type": "code",
   "execution_count": null,
   "metadata": {},
   "outputs": [],
   "source": []
  },
  {
   "cell_type": "code",
   "execution_count": null,
   "metadata": {},
   "outputs": [],
   "source": []
  },
  {
   "cell_type": "code",
   "execution_count": null,
   "metadata": {},
   "outputs": [],
   "source": []
  },
  {
   "cell_type": "code",
   "execution_count": null,
   "metadata": {},
   "outputs": [],
   "source": []
  },
  {
   "cell_type": "code",
   "execution_count": null,
   "metadata": {},
   "outputs": [],
   "source": []
  },
  {
   "cell_type": "code",
   "execution_count": null,
   "metadata": {},
   "outputs": [],
   "source": []
  },
  {
   "cell_type": "code",
   "execution_count": null,
   "metadata": {},
   "outputs": [],
   "source": []
  },
  {
   "cell_type": "code",
   "execution_count": null,
   "metadata": {},
   "outputs": [],
   "source": []
  },
  {
   "cell_type": "code",
   "execution_count": null,
   "metadata": {},
   "outputs": [],
   "source": []
  },
  {
   "cell_type": "code",
   "execution_count": null,
   "metadata": {},
   "outputs": [],
   "source": []
  },
  {
   "cell_type": "code",
   "execution_count": null,
   "metadata": {},
   "outputs": [],
   "source": []
  },
  {
   "cell_type": "code",
   "execution_count": null,
   "metadata": {},
   "outputs": [],
   "source": []
  },
  {
   "cell_type": "code",
   "execution_count": null,
   "metadata": {},
   "outputs": [],
   "source": []
  },
  {
   "cell_type": "code",
   "execution_count": null,
   "metadata": {},
   "outputs": [],
   "source": []
  },
  {
   "cell_type": "code",
   "execution_count": null,
   "metadata": {},
   "outputs": [],
   "source": []
  },
  {
   "cell_type": "code",
   "execution_count": null,
   "metadata": {},
   "outputs": [],
   "source": []
  },
  {
   "cell_type": "code",
   "execution_count": null,
   "metadata": {},
   "outputs": [],
   "source": []
  },
  {
   "cell_type": "code",
   "execution_count": null,
   "metadata": {},
   "outputs": [],
   "source": []
  },
  {
   "cell_type": "code",
   "execution_count": null,
   "metadata": {},
   "outputs": [],
   "source": []
  },
  {
   "cell_type": "code",
   "execution_count": null,
   "metadata": {},
   "outputs": [],
   "source": []
  },
  {
   "cell_type": "code",
   "execution_count": null,
   "metadata": {},
   "outputs": [],
   "source": []
  },
  {
   "cell_type": "code",
   "execution_count": null,
   "metadata": {},
   "outputs": [],
   "source": []
  },
  {
   "cell_type": "code",
   "execution_count": null,
   "metadata": {},
   "outputs": [],
   "source": []
  },
  {
   "cell_type": "code",
   "execution_count": null,
   "metadata": {},
   "outputs": [],
   "source": []
  },
  {
   "cell_type": "code",
   "execution_count": null,
   "metadata": {},
   "outputs": [],
   "source": []
  },
  {
   "cell_type": "code",
   "execution_count": null,
   "metadata": {},
   "outputs": [],
   "source": []
  },
  {
   "cell_type": "code",
   "execution_count": null,
   "metadata": {},
   "outputs": [],
   "source": []
  },
  {
   "cell_type": "code",
   "execution_count": null,
   "metadata": {},
   "outputs": [],
   "source": []
  },
  {
   "cell_type": "code",
   "execution_count": null,
   "metadata": {},
   "outputs": [],
   "source": []
  },
  {
   "cell_type": "code",
   "execution_count": null,
   "metadata": {},
   "outputs": [],
   "source": []
  },
  {
   "cell_type": "code",
   "execution_count": null,
   "metadata": {},
   "outputs": [],
   "source": []
  },
  {
   "cell_type": "code",
   "execution_count": null,
   "metadata": {},
   "outputs": [],
   "source": []
  },
  {
   "cell_type": "code",
   "execution_count": null,
   "metadata": {},
   "outputs": [],
   "source": []
  },
  {
   "cell_type": "code",
   "execution_count": null,
   "metadata": {},
   "outputs": [],
   "source": []
  },
  {
   "cell_type": "code",
   "execution_count": null,
   "metadata": {},
   "outputs": [],
   "source": []
  },
  {
   "cell_type": "code",
   "execution_count": null,
   "metadata": {},
   "outputs": [],
   "source": []
  },
  {
   "cell_type": "code",
   "execution_count": null,
   "metadata": {},
   "outputs": [],
   "source": []
  },
  {
   "cell_type": "code",
   "execution_count": null,
   "metadata": {},
   "outputs": [],
   "source": []
  }
 ],
 "metadata": {
  "kernelspec": {
   "display_name": "R",
   "language": "R",
   "name": "ir"
  },
  "language_info": {
   "codemirror_mode": "r",
   "file_extension": ".r",
   "mimetype": "text/x-r-source",
   "name": "R",
   "pygments_lexer": "r",
   "version": "3.6.1"
  }
 },
 "nbformat": 4,
 "nbformat_minor": 4
}
