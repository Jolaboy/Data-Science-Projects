{
 "cells": [
  {
   "cell_type": "code",
   "execution_count": 1,
   "metadata": {},
   "outputs": [
    {
     "data": {
      "text/html": [
       "<ol>\n",
       "\t<li>10</li>\n",
       "\t<li>11</li>\n",
       "\t<li>12</li>\n",
       "\t<li>13</li>\n",
       "\t<li>14</li>\n",
       "</ol>\n"
      ],
      "text/latex": [
       "\\begin{enumerate}\n",
       "\\item 10\n",
       "\\item 11\n",
       "\\item 12\n",
       "\\item 13\n",
       "\\item 14\n",
       "\\end{enumerate}\n"
      ],
      "text/markdown": [
       "1. 10\n",
       "2. 11\n",
       "3. 12\n",
       "4. 13\n",
       "5. 14\n",
       "\n",
       "\n"
      ],
      "text/plain": [
       "[[1]]\n",
       "[1] 10\n",
       "\n",
       "[[2]]\n",
       "[1] 11\n",
       "\n",
       "[[3]]\n",
       "[1] 12\n",
       "\n",
       "[[4]]\n",
       "[1] 13\n",
       "\n",
       "[[5]]\n",
       "[1] 14\n"
      ]
     },
     "metadata": {},
     "output_type": "display_data"
    }
   ],
   "source": [
    "num.list <- list(10, 11, 12, 13, 14)\n",
    "\n",
    "num.list"
   ]
  },
  {
   "cell_type": "code",
   "execution_count": 2,
   "metadata": {},
   "outputs": [
    {
     "data": {
      "text/html": [
       "'list'"
      ],
      "text/latex": [
       "'list'"
      ],
      "text/markdown": [
       "'list'"
      ],
      "text/plain": [
       "[1] \"list\""
      ]
     },
     "metadata": {},
     "output_type": "display_data"
    }
   ],
   "source": [
    "class(num.list)"
   ]
  },
  {
   "cell_type": "code",
   "execution_count": 3,
   "metadata": {},
   "outputs": [
    {
     "data": {
      "text/html": [
       "TRUE"
      ],
      "text/latex": [
       "TRUE"
      ],
      "text/markdown": [
       "TRUE"
      ],
      "text/plain": [
       "[1] TRUE"
      ]
     },
     "metadata": {},
     "output_type": "display_data"
    }
   ],
   "source": [
    "is.list(num.list)"
   ]
  },
  {
   "cell_type": "code",
   "execution_count": 4,
   "metadata": {},
   "outputs": [
    {
     "data": {
      "text/html": [
       "TRUE"
      ],
      "text/latex": [
       "TRUE"
      ],
      "text/markdown": [
       "TRUE"
      ],
      "text/plain": [
       "[1] TRUE"
      ]
     },
     "metadata": {},
     "output_type": "display_data"
    }
   ],
   "source": [
    "is.vector(num.list)"
   ]
  },
  {
   "cell_type": "code",
   "execution_count": 5,
   "metadata": {},
   "outputs": [
    {
     "data": {
      "text/html": [
       "<ol>\n",
       "\t<li>12345</li>\n",
       "\t<li>'Claudia'</li>\n",
       "\t<li>'Computer Science'</li>\n",
       "\t<li>TRUE</li>\n",
       "</ol>\n"
      ],
      "text/latex": [
       "\\begin{enumerate}\n",
       "\\item 12345\n",
       "\\item 'Claudia'\n",
       "\\item 'Computer Science'\n",
       "\\item TRUE\n",
       "\\end{enumerate}\n"
      ],
      "text/markdown": [
       "1. 12345\n",
       "2. 'Claudia'\n",
       "3. 'Computer Science'\n",
       "4. TRUE\n",
       "\n",
       "\n"
      ],
      "text/plain": [
       "[[1]]\n",
       "[1] 12345\n",
       "\n",
       "[[2]]\n",
       "[1] \"Claudia\"\n",
       "\n",
       "[[3]]\n",
       "[1] \"Computer Science\"\n",
       "\n",
       "[[4]]\n",
       "[1] TRUE\n"
      ]
     },
     "metadata": {},
     "output_type": "display_data"
    }
   ],
   "source": [
    "student.list <- list(12345, \"Claudia\", \"Computer Science\", TRUE)\n",
    "\n",
    "student.list"
   ]
  },
  {
   "cell_type": "code",
   "execution_count": 6,
   "metadata": {},
   "outputs": [
    {
     "data": {
      "text/html": [
       "<ol>\n",
       "\t<li>'Claudia'</li>\n",
       "</ol>\n"
      ],
      "text/latex": [
       "\\begin{enumerate}\n",
       "\\item 'Claudia'\n",
       "\\end{enumerate}\n"
      ],
      "text/markdown": [
       "1. 'Claudia'\n",
       "\n",
       "\n"
      ],
      "text/plain": [
       "[[1]]\n",
       "[1] \"Claudia\"\n"
      ]
     },
     "metadata": {},
     "output_type": "display_data"
    }
   ],
   "source": [
    "student.list[2]"
   ]
  },
  {
   "cell_type": "code",
   "execution_count": 7,
   "metadata": {},
   "outputs": [
    {
     "data": {
      "text/html": [
       "'list'"
      ],
      "text/latex": [
       "'list'"
      ],
      "text/markdown": [
       "'list'"
      ],
      "text/plain": [
       "[1] \"list\""
      ]
     },
     "metadata": {},
     "output_type": "display_data"
    }
   ],
   "source": [
    "class(student.list[2])"
   ]
  },
  {
   "cell_type": "code",
   "execution_count": 8,
   "metadata": {},
   "outputs": [
    {
     "data": {
      "text/html": [
       "<ol>\n",
       "\t<li>12345</li>\n",
       "\t<li>'Claudia'</li>\n",
       "\t<li>'Computer Science'</li>\n",
       "</ol>\n"
      ],
      "text/latex": [
       "\\begin{enumerate}\n",
       "\\item 12345\n",
       "\\item 'Claudia'\n",
       "\\item 'Computer Science'\n",
       "\\end{enumerate}\n"
      ],
      "text/markdown": [
       "1. 12345\n",
       "2. 'Claudia'\n",
       "3. 'Computer Science'\n",
       "\n",
       "\n"
      ],
      "text/plain": [
       "[[1]]\n",
       "[1] 12345\n",
       "\n",
       "[[2]]\n",
       "[1] \"Claudia\"\n",
       "\n",
       "[[3]]\n",
       "[1] \"Computer Science\"\n"
      ]
     },
     "metadata": {},
     "output_type": "display_data"
    }
   ],
   "source": [
    "student.list[1:3]"
   ]
  },
  {
   "cell_type": "code",
   "execution_count": 9,
   "metadata": {},
   "outputs": [
    {
     "data": {
      "text/html": [
       "12345"
      ],
      "text/latex": [
       "12345"
      ],
      "text/markdown": [
       "12345"
      ],
      "text/plain": [
       "[1] 12345"
      ]
     },
     "metadata": {},
     "output_type": "display_data"
    }
   ],
   "source": [
    "student.list[[1]]"
   ]
  },
  {
   "cell_type": "code",
   "execution_count": 10,
   "metadata": {},
   "outputs": [
    {
     "data": {
      "text/html": [
       "'Claudia'"
      ],
      "text/latex": [
       "'Claudia'"
      ],
      "text/markdown": [
       "'Claudia'"
      ],
      "text/plain": [
       "[1] \"Claudia\""
      ]
     },
     "metadata": {},
     "output_type": "display_data"
    }
   ],
   "source": [
    "student.list[[2]]"
   ]
  },
  {
   "cell_type": "code",
   "execution_count": 11,
   "metadata": {},
   "outputs": [
    {
     "data": {
      "text/html": [
       "'character'"
      ],
      "text/latex": [
       "'character'"
      ],
      "text/markdown": [
       "'character'"
      ],
      "text/plain": [
       "[1] \"character\""
      ]
     },
     "metadata": {},
     "output_type": "display_data"
    }
   ],
   "source": [
    "class(student.list[[2]])"
   ]
  },
  {
   "cell_type": "code",
   "execution_count": 12,
   "metadata": {},
   "outputs": [
    {
     "data": {
      "text/html": [
       "<dl>\n",
       "\t<dt>$id</dt>\n",
       "\t\t<dd>12345</dd>\n",
       "\t<dt>$name</dt>\n",
       "\t\t<dd>'Claudia'</dd>\n",
       "\t<dt>$major</dt>\n",
       "\t\t<dd>'Computer Science'</dd>\n",
       "\t<dt>$enrolled</dt>\n",
       "\t\t<dd>TRUE</dd>\n",
       "</dl>\n"
      ],
      "text/latex": [
       "\\begin{description}\n",
       "\\item[\\$id] 12345\n",
       "\\item[\\$name] 'Claudia'\n",
       "\\item[\\$major] 'Computer Science'\n",
       "\\item[\\$enrolled] TRUE\n",
       "\\end{description}\n"
      ],
      "text/markdown": [
       "$id\n",
       ":   12345\n",
       "$name\n",
       ":   'Claudia'\n",
       "$major\n",
       ":   'Computer Science'\n",
       "$enrolled\n",
       ":   TRUE\n",
       "\n",
       "\n"
      ],
      "text/plain": [
       "$id\n",
       "[1] 12345\n",
       "\n",
       "$name\n",
       "[1] \"Claudia\"\n",
       "\n",
       "$major\n",
       "[1] \"Computer Science\"\n",
       "\n",
       "$enrolled\n",
       "[1] TRUE\n"
      ]
     },
     "metadata": {},
     "output_type": "display_data"
    }
   ],
   "source": [
    "claudia.list <- list(id=12345, name=\"Claudia\", major=\"Computer Science\", enrolled=TRUE)\n",
    "\n",
    "claudia.list"
   ]
  },
  {
   "cell_type": "code",
   "execution_count": 13,
   "metadata": {},
   "outputs": [
    {
     "data": {
      "text/html": [
       "12345"
      ],
      "text/latex": [
       "12345"
      ],
      "text/markdown": [
       "12345"
      ],
      "text/plain": [
       "[1] 12345"
      ]
     },
     "metadata": {},
     "output_type": "display_data"
    }
   ],
   "source": [
    "claudia.list$id"
   ]
  },
  {
   "cell_type": "code",
   "execution_count": 14,
   "metadata": {},
   "outputs": [
    {
     "data": {
      "text/html": [
       "'Claudia'"
      ],
      "text/latex": [
       "'Claudia'"
      ],
      "text/markdown": [
       "'Claudia'"
      ],
      "text/plain": [
       "[1] \"Claudia\""
      ]
     },
     "metadata": {},
     "output_type": "display_data"
    }
   ],
   "source": [
    "claudia.list$name"
   ]
  },
  {
   "cell_type": "code",
   "execution_count": 15,
   "metadata": {},
   "outputs": [
    {
     "data": {
      "text/html": [
       "'Computer Science'"
      ],
      "text/latex": [
       "'Computer Science'"
      ],
      "text/markdown": [
       "'Computer Science'"
      ],
      "text/plain": [
       "[1] \"Computer Science\""
      ]
     },
     "metadata": {},
     "output_type": "display_data"
    }
   ],
   "source": [
    "claudia.list[[\"major\"]]"
   ]
  },
  {
   "cell_type": "code",
   "execution_count": 16,
   "metadata": {},
   "outputs": [
    {
     "data": {
      "text/html": [
       "TRUE"
      ],
      "text/latex": [
       "TRUE"
      ],
      "text/markdown": [
       "TRUE"
      ],
      "text/plain": [
       "[1] TRUE"
      ]
     },
     "metadata": {},
     "output_type": "display_data"
    }
   ],
   "source": [
    "claudia.list[[\"enrolled\"]]"
   ]
  },
  {
   "cell_type": "code",
   "execution_count": 17,
   "metadata": {},
   "outputs": [
    {
     "data": {
      "text/html": [
       "<strong>$major</strong> = 'Computer Science'"
      ],
      "text/latex": [
       "\\textbf{\\$major} = 'Computer Science'"
      ],
      "text/markdown": [
       "**$major** = 'Computer Science'"
      ],
      "text/plain": [
       "$major\n",
       "[1] \"Computer Science\"\n"
      ]
     },
     "metadata": {},
     "output_type": "display_data"
    }
   ],
   "source": [
    "claudia.list[\"major\"]"
   ]
  },
  {
   "cell_type": "code",
   "execution_count": 18,
   "metadata": {},
   "outputs": [
    {
     "data": {
      "text/html": [
       "<strong>$enrolled</strong> = TRUE"
      ],
      "text/latex": [
       "\\textbf{\\$enrolled} = TRUE"
      ],
      "text/markdown": [
       "**$enrolled** = TRUE"
      ],
      "text/plain": [
       "$enrolled\n",
       "[1] TRUE\n"
      ]
     },
     "metadata": {},
     "output_type": "display_data"
    }
   ],
   "source": [
    "claudia.list[\"enrolled\"]"
   ]
  },
  {
   "cell_type": "code",
   "execution_count": 19,
   "metadata": {},
   "outputs": [
    {
     "data": {
      "text/html": [
       "12345"
      ],
      "text/latex": [
       "12345"
      ],
      "text/markdown": [
       "12345"
      ],
      "text/plain": [
       "[1] 12345"
      ]
     },
     "metadata": {},
     "output_type": "display_data"
    }
   ],
   "source": [
    "claudia.list[[1]]"
   ]
  },
  {
   "cell_type": "code",
   "execution_count": 20,
   "metadata": {},
   "outputs": [
    {
     "data": {
      "text/html": [
       "<ol>\n",
       "</ol>\n"
      ],
      "text/latex": [
       "\\begin{enumerate}\n",
       "\\end{enumerate}\n"
      ],
      "text/markdown": [
       "\n",
       "\n"
      ],
      "text/plain": [
       "list()"
      ]
     },
     "metadata": {},
     "output_type": "display_data"
    }
   ],
   "source": [
    "james.list <- vector(mode=\"list\")\n",
    "\n",
    "james.list"
   ]
  },
  {
   "cell_type": "code",
   "execution_count": 21,
   "metadata": {},
   "outputs": [
    {
     "data": {
      "text/html": [
       "<dl>\n",
       "\t<dt>$id</dt>\n",
       "\t\t<dd>12098</dd>\n",
       "\t<dt>$name</dt>\n",
       "\t\t<dd>'James'</dd>\n",
       "\t<dt>$major</dt>\n",
       "\t\t<dd>'Chemistry'</dd>\n",
       "\t<dt>$enrolled</dt>\n",
       "\t\t<dd>FALSE</dd>\n",
       "</dl>\n"
      ],
      "text/latex": [
       "\\begin{description}\n",
       "\\item[\\$id] 12098\n",
       "\\item[\\$name] 'James'\n",
       "\\item[\\$major] 'Chemistry'\n",
       "\\item[\\$enrolled] FALSE\n",
       "\\end{description}\n"
      ],
      "text/markdown": [
       "$id\n",
       ":   12098\n",
       "$name\n",
       ":   'James'\n",
       "$major\n",
       ":   'Chemistry'\n",
       "$enrolled\n",
       ":   FALSE\n",
       "\n",
       "\n"
      ],
      "text/plain": [
       "$id\n",
       "[1] 12098\n",
       "\n",
       "$name\n",
       "[1] \"James\"\n",
       "\n",
       "$major\n",
       "[1] \"Chemistry\"\n",
       "\n",
       "$enrolled\n",
       "[1] FALSE\n"
      ]
     },
     "metadata": {},
     "output_type": "display_data"
    }
   ],
   "source": [
    "james.list$id <- 12098\n",
    "james.list[[\"name\"]] <- \"James\"\n",
    "james.list$major <- \"Chemistry\"\n",
    "james.list$enrolled <- FALSE\n",
    "\n",
    "james.list"
   ]
  },
  {
   "cell_type": "code",
   "execution_count": 22,
   "metadata": {},
   "outputs": [
    {
     "data": {
      "text/html": [
       "<dl>\n",
       "\t<dt>$id</dt>\n",
       "\t\t<dd>12098</dd>\n",
       "\t<dt>$name</dt>\n",
       "\t\t<dd>'James'</dd>\n",
       "\t<dt>$major</dt>\n",
       "\t\t<dd>'Chemistry'</dd>\n",
       "\t<dt>$enrolled</dt>\n",
       "\t\t<dd>FALSE</dd>\n",
       "\t<dt>$clubs</dt>\n",
       "\t\t<dd>'Chess'</dd>\n",
       "\t<dt>[[6]]</dt>\n",
       "\t\t<dd>'Economics'</dd>\n",
       "</dl>\n"
      ],
      "text/latex": [
       "\\begin{description}\n",
       "\\item[\\$id] 12098\n",
       "\\item[\\$name] 'James'\n",
       "\\item[\\$major] 'Chemistry'\n",
       "\\item[\\$enrolled] FALSE\n",
       "\\item[\\$clubs] 'Chess'\n",
       "\\item[{[[6]]}] 'Economics'\n",
       "\\end{description}\n"
      ],
      "text/markdown": [
       "$id\n",
       ":   12098\n",
       "$name\n",
       ":   'James'\n",
       "$major\n",
       ":   'Chemistry'\n",
       "$enrolled\n",
       ":   FALSE\n",
       "$clubs\n",
       ":   'Chess'\n",
       "[[6]]\n",
       ":   'Economics'\n",
       "\n",
       "\n"
      ],
      "text/plain": [
       "$id\n",
       "[1] 12098\n",
       "\n",
       "$name\n",
       "[1] \"James\"\n",
       "\n",
       "$major\n",
       "[1] \"Chemistry\"\n",
       "\n",
       "$enrolled\n",
       "[1] FALSE\n",
       "\n",
       "$clubs\n",
       "[1] \"Chess\"\n",
       "\n",
       "[[6]]\n",
       "[1] \"Economics\"\n"
      ]
     },
     "metadata": {},
     "output_type": "display_data"
    }
   ],
   "source": [
    "james.list$clubs <- \"Chess\"\n",
    "\n",
    "james.list[[6]] <- \"Economics\"\n",
    "\n",
    "james.list"
   ]
  },
  {
   "cell_type": "code",
   "execution_count": 23,
   "metadata": {},
   "outputs": [
    {
     "data": {
      "text/html": [
       "'Chess'"
      ],
      "text/latex": [
       "'Chess'"
      ],
      "text/markdown": [
       "'Chess'"
      ],
      "text/plain": [
       "[1] \"Chess\""
      ]
     },
     "metadata": {},
     "output_type": "display_data"
    }
   ],
   "source": [
    "james.list$clubs"
   ]
  },
  {
   "cell_type": "code",
   "execution_count": 24,
   "metadata": {},
   "outputs": [
    {
     "data": {
      "text/html": [
       "'Economics'"
      ],
      "text/latex": [
       "'Economics'"
      ],
      "text/markdown": [
       "'Economics'"
      ],
      "text/plain": [
       "[1] \"Economics\""
      ]
     },
     "metadata": {},
     "output_type": "display_data"
    }
   ],
   "source": [
    "james.list[[6]]"
   ]
  },
  {
   "cell_type": "code",
   "execution_count": 25,
   "metadata": {},
   "outputs": [
    {
     "data": {
      "text/html": [
       "<dl>\n",
       "\t<dt>$id</dt>\n",
       "\t\t<dd>12098</dd>\n",
       "\t<dt>$name</dt>\n",
       "\t\t<dd>'James'</dd>\n",
       "\t<dt>$major</dt>\n",
       "\t\t<dd>'Chemistry'</dd>\n",
       "\t<dt>$enrolled</dt>\n",
       "\t\t<dd>FALSE</dd>\n",
       "\t<dt>$clubs</dt>\n",
       "\t\t<dd>'Chess'</dd>\n",
       "\t<dt>[[6]]</dt>\n",
       "\t\t<dd>'Economics'</dd>\n",
       "</dl>\n"
      ],
      "text/latex": [
       "\\begin{description}\n",
       "\\item[\\$id] 12098\n",
       "\\item[\\$name] 'James'\n",
       "\\item[\\$major] 'Chemistry'\n",
       "\\item[\\$enrolled] FALSE\n",
       "\\item[\\$clubs] 'Chess'\n",
       "\\item[{[[6]]}] 'Economics'\n",
       "\\end{description}\n"
      ],
      "text/markdown": [
       "$id\n",
       ":   12098\n",
       "$name\n",
       ":   'James'\n",
       "$major\n",
       ":   'Chemistry'\n",
       "$enrolled\n",
       ":   FALSE\n",
       "$clubs\n",
       ":   'Chess'\n",
       "[[6]]\n",
       ":   'Economics'\n",
       "\n",
       "\n"
      ],
      "text/plain": [
       "$id\n",
       "[1] 12098\n",
       "\n",
       "$name\n",
       "[1] \"James\"\n",
       "\n",
       "$major\n",
       "[1] \"Chemistry\"\n",
       "\n",
       "$enrolled\n",
       "[1] FALSE\n",
       "\n",
       "$clubs\n",
       "[1] \"Chess\"\n",
       "\n",
       "[[6]]\n",
       "[1] \"Economics\"\n"
      ]
     },
     "metadata": {},
     "output_type": "display_data"
    }
   ],
   "source": [
    "james.list"
   ]
  },
  {
   "cell_type": "code",
   "execution_count": 26,
   "metadata": {},
   "outputs": [
    {
     "data": {
      "text/html": [
       "<dl>\n",
       "\t<dt>$id</dt>\n",
       "\t\t<dd>12098</dd>\n",
       "\t<dt>$name</dt>\n",
       "\t\t<dd>'James'</dd>\n",
       "\t<dt>$major</dt>\n",
       "\t\t<dd>'Chemistry'</dd>\n",
       "\t<dt>$enrolled</dt>\n",
       "\t\t<dd>FALSE</dd>\n",
       "\t<dt>$clubs</dt>\n",
       "\t\t<dd>'Chess'</dd>\n",
       "</dl>\n"
      ],
      "text/latex": [
       "\\begin{description}\n",
       "\\item[\\$id] 12098\n",
       "\\item[\\$name] 'James'\n",
       "\\item[\\$major] 'Chemistry'\n",
       "\\item[\\$enrolled] FALSE\n",
       "\\item[\\$clubs] 'Chess'\n",
       "\\end{description}\n"
      ],
      "text/markdown": [
       "$id\n",
       ":   12098\n",
       "$name\n",
       ":   'James'\n",
       "$major\n",
       ":   'Chemistry'\n",
       "$enrolled\n",
       ":   FALSE\n",
       "$clubs\n",
       ":   'Chess'\n",
       "\n",
       "\n"
      ],
      "text/plain": [
       "$id\n",
       "[1] 12098\n",
       "\n",
       "$name\n",
       "[1] \"James\"\n",
       "\n",
       "$major\n",
       "[1] \"Chemistry\"\n",
       "\n",
       "$enrolled\n",
       "[1] FALSE\n",
       "\n",
       "$clubs\n",
       "[1] \"Chess\"\n"
      ]
     },
     "metadata": {},
     "output_type": "display_data"
    }
   ],
   "source": [
    "james.list[[6]] <- NULL\n",
    "\n",
    "james.list"
   ]
  },
  {
   "cell_type": "code",
   "execution_count": 27,
   "metadata": {},
   "outputs": [
    {
     "data": {
      "text/html": [
       "<dl>\n",
       "\t<dt>$name</dt>\n",
       "\t\t<dd>'James'</dd>\n",
       "\t<dt>$major</dt>\n",
       "\t\t<dd>'Chemistry'</dd>\n",
       "\t<dt>$enrolled</dt>\n",
       "\t\t<dd>FALSE</dd>\n",
       "\t<dt>$clubs</dt>\n",
       "\t\t<dd>'Chess'</dd>\n",
       "</dl>\n"
      ],
      "text/latex": [
       "\\begin{description}\n",
       "\\item[\\$name] 'James'\n",
       "\\item[\\$major] 'Chemistry'\n",
       "\\item[\\$enrolled] FALSE\n",
       "\\item[\\$clubs] 'Chess'\n",
       "\\end{description}\n"
      ],
      "text/markdown": [
       "$name\n",
       ":   'James'\n",
       "$major\n",
       ":   'Chemistry'\n",
       "$enrolled\n",
       ":   FALSE\n",
       "$clubs\n",
       ":   'Chess'\n",
       "\n",
       "\n"
      ],
      "text/plain": [
       "$name\n",
       "[1] \"James\"\n",
       "\n",
       "$major\n",
       "[1] \"Chemistry\"\n",
       "\n",
       "$enrolled\n",
       "[1] FALSE\n",
       "\n",
       "$clubs\n",
       "[1] \"Chess\"\n"
      ]
     },
     "metadata": {},
     "output_type": "display_data"
    }
   ],
   "source": [
    "james.list$id <- NULL\n",
    "\n",
    "james.list"
   ]
  },
  {
   "cell_type": "code",
   "execution_count": 28,
   "metadata": {},
   "outputs": [
    {
     "data": {
      "text/html": [
       "<dl>\n",
       "\t<dt>$name</dt>\n",
       "\t\t<dd>'James'</dd>\n",
       "\t<dt>$major</dt>\n",
       "\t\t<dd>'Chemistry'</dd>\n",
       "\t<dt>$enrolled</dt>\n",
       "\t\t<dd>FALSE</dd>\n",
       "\t<dt>$clubs</dt>\n",
       "\t\t<dd>'Toastmasters'</dd>\n",
       "</dl>\n"
      ],
      "text/latex": [
       "\\begin{description}\n",
       "\\item[\\$name] 'James'\n",
       "\\item[\\$major] 'Chemistry'\n",
       "\\item[\\$enrolled] FALSE\n",
       "\\item[\\$clubs] 'Toastmasters'\n",
       "\\end{description}\n"
      ],
      "text/markdown": [
       "$name\n",
       ":   'James'\n",
       "$major\n",
       ":   'Chemistry'\n",
       "$enrolled\n",
       ":   FALSE\n",
       "$clubs\n",
       ":   'Toastmasters'\n",
       "\n",
       "\n"
      ],
      "text/plain": [
       "$name\n",
       "[1] \"James\"\n",
       "\n",
       "$major\n",
       "[1] \"Chemistry\"\n",
       "\n",
       "$enrolled\n",
       "[1] FALSE\n",
       "\n",
       "$clubs\n",
       "[1] \"Toastmasters\"\n"
      ]
     },
     "metadata": {},
     "output_type": "display_data"
    }
   ],
   "source": [
    "james.list$clubs <- \"Toastmasters\"\n",
    "\n",
    "james.list"
   ]
  },
  {
   "cell_type": "code",
   "execution_count": 29,
   "metadata": {},
   "outputs": [
    {
     "data": {
      "text/html": [
       "'James'"
      ],
      "text/latex": [
       "'James'"
      ],
      "text/markdown": [
       "'James'"
      ],
      "text/plain": [
       "[1] \"James\""
      ]
     },
     "metadata": {},
     "output_type": "display_data"
    }
   ],
   "source": [
    "james.list[[1]]"
   ]
  },
  {
   "cell_type": "code",
   "execution_count": 30,
   "metadata": {},
   "outputs": [
    {
     "data": {
      "text/html": [
       "<dl>\n",
       "\t<dt>$minor</dt>\n",
       "\t\t<dd>'Economics'</dd>\n",
       "\t<dt>$graduation.year</dt>\n",
       "\t\t<dd>'2023'</dd>\n",
       "</dl>\n"
      ],
      "text/latex": [
       "\\begin{description}\n",
       "\\item[\\$minor] 'Economics'\n",
       "\\item[\\$graduation.year] '2023'\n",
       "\\end{description}\n"
      ],
      "text/markdown": [
       "$minor\n",
       ":   'Economics'\n",
       "$graduation.year\n",
       ":   '2023'\n",
       "\n",
       "\n"
      ],
      "text/plain": [
       "$minor\n",
       "[1] \"Economics\"\n",
       "\n",
       "$graduation.year\n",
       "[1] \"2023\"\n"
      ]
     },
     "metadata": {},
     "output_type": "display_data"
    }
   ],
   "source": [
    "james.additional.list <- list(minor=\"Economics\", graduation.year=\"2023\")\n",
    "\n",
    "james.additional.list"
   ]
  },
  {
   "cell_type": "code",
   "execution_count": 31,
   "metadata": {},
   "outputs": [
    {
     "data": {
      "text/html": [
       "<dl>\n",
       "\t<dt>$name</dt>\n",
       "\t\t<dd>'James'</dd>\n",
       "\t<dt>$major</dt>\n",
       "\t\t<dd>'Chemistry'</dd>\n",
       "\t<dt>$enrolled</dt>\n",
       "\t\t<dd>FALSE</dd>\n",
       "\t<dt>$clubs</dt>\n",
       "\t\t<dd>'Toastmasters'</dd>\n",
       "\t<dt>$minor</dt>\n",
       "\t\t<dd>'Economics'</dd>\n",
       "\t<dt>$graduation.year</dt>\n",
       "\t\t<dd>'2023'</dd>\n",
       "</dl>\n"
      ],
      "text/latex": [
       "\\begin{description}\n",
       "\\item[\\$name] 'James'\n",
       "\\item[\\$major] 'Chemistry'\n",
       "\\item[\\$enrolled] FALSE\n",
       "\\item[\\$clubs] 'Toastmasters'\n",
       "\\item[\\$minor] 'Economics'\n",
       "\\item[\\$graduation.year] '2023'\n",
       "\\end{description}\n"
      ],
      "text/markdown": [
       "$name\n",
       ":   'James'\n",
       "$major\n",
       ":   'Chemistry'\n",
       "$enrolled\n",
       ":   FALSE\n",
       "$clubs\n",
       ":   'Toastmasters'\n",
       "$minor\n",
       ":   'Economics'\n",
       "$graduation.year\n",
       ":   '2023'\n",
       "\n",
       "\n"
      ],
      "text/plain": [
       "$name\n",
       "[1] \"James\"\n",
       "\n",
       "$major\n",
       "[1] \"Chemistry\"\n",
       "\n",
       "$enrolled\n",
       "[1] FALSE\n",
       "\n",
       "$clubs\n",
       "[1] \"Toastmasters\"\n",
       "\n",
       "$minor\n",
       "[1] \"Economics\"\n",
       "\n",
       "$graduation.year\n",
       "[1] \"2023\"\n"
      ]
     },
     "metadata": {},
     "output_type": "display_data"
    }
   ],
   "source": [
    "james.list <- c(james.list, james.additional.list)\n",
    "\n",
    "james.list"
   ]
  },
  {
   "cell_type": "code",
   "execution_count": 32,
   "metadata": {},
   "outputs": [
    {
     "data": {
      "text/html": [
       "6"
      ],
      "text/latex": [
       "6"
      ],
      "text/markdown": [
       "6"
      ],
      "text/plain": [
       "[1] 6"
      ]
     },
     "metadata": {},
     "output_type": "display_data"
    }
   ],
   "source": [
    "length(james.list)"
   ]
  },
  {
   "cell_type": "code",
   "execution_count": 33,
   "metadata": {},
   "outputs": [
    {
     "data": {
      "text/html": [
       "<ol class=list-inline>\n",
       "\t<li>'name'</li>\n",
       "\t<li>'major'</li>\n",
       "\t<li>'enrolled'</li>\n",
       "\t<li>'clubs'</li>\n",
       "\t<li>'minor'</li>\n",
       "\t<li>'graduation.year'</li>\n",
       "</ol>\n"
      ],
      "text/latex": [
       "\\begin{enumerate*}\n",
       "\\item 'name'\n",
       "\\item 'major'\n",
       "\\item 'enrolled'\n",
       "\\item 'clubs'\n",
       "\\item 'minor'\n",
       "\\item 'graduation.year'\n",
       "\\end{enumerate*}\n"
      ],
      "text/markdown": [
       "1. 'name'\n",
       "2. 'major'\n",
       "3. 'enrolled'\n",
       "4. 'clubs'\n",
       "5. 'minor'\n",
       "6. 'graduation.year'\n",
       "\n",
       "\n"
      ],
      "text/plain": [
       "[1] \"name\"            \"major\"           \"enrolled\"        \"clubs\"          \n",
       "[5] \"minor\"           \"graduation.year\""
      ]
     },
     "metadata": {},
     "output_type": "display_data"
    }
   ],
   "source": [
    "names <- names(james.list)\n",
    "\n",
    "names"
   ]
  },
  {
   "cell_type": "code",
   "execution_count": 34,
   "metadata": {},
   "outputs": [
    {
     "data": {
      "text/html": [
       "<ol class=list-inline>\n",
       "\t<li>'id'</li>\n",
       "\t<li>'name'</li>\n",
       "\t<li>'major'</li>\n",
       "\t<li>'enrolled'</li>\n",
       "</ol>\n"
      ],
      "text/latex": [
       "\\begin{enumerate*}\n",
       "\\item 'id'\n",
       "\\item 'name'\n",
       "\\item 'major'\n",
       "\\item 'enrolled'\n",
       "\\end{enumerate*}\n"
      ],
      "text/markdown": [
       "1. 'id'\n",
       "2. 'name'\n",
       "3. 'major'\n",
       "4. 'enrolled'\n",
       "\n",
       "\n"
      ],
      "text/plain": [
       "[1] \"id\"       \"name\"     \"major\"    \"enrolled\""
      ]
     },
     "metadata": {},
     "output_type": "display_data"
    }
   ],
   "source": [
    "names(claudia.list)"
   ]
  },
  {
   "cell_type": "code",
   "execution_count": 35,
   "metadata": {},
   "outputs": [
    {
     "data": {
      "text/html": [
       "<dl class=dl-horizontal>\n",
       "\t<dt>name</dt>\n",
       "\t\t<dd>'James'</dd>\n",
       "\t<dt>major</dt>\n",
       "\t\t<dd>'Chemistry'</dd>\n",
       "\t<dt>enrolled</dt>\n",
       "\t\t<dd>'FALSE'</dd>\n",
       "\t<dt>clubs</dt>\n",
       "\t\t<dd>'Toastmasters'</dd>\n",
       "\t<dt>minor</dt>\n",
       "\t\t<dd>'Economics'</dd>\n",
       "\t<dt>graduation.year</dt>\n",
       "\t\t<dd>'2023'</dd>\n",
       "</dl>\n"
      ],
      "text/latex": [
       "\\begin{description*}\n",
       "\\item[name] 'James'\n",
       "\\item[major] 'Chemistry'\n",
       "\\item[enrolled] 'FALSE'\n",
       "\\item[clubs] 'Toastmasters'\n",
       "\\item[minor] 'Economics'\n",
       "\\item[graduation.year] '2023'\n",
       "\\end{description*}\n"
      ],
      "text/markdown": [
       "name\n",
       ":   'James'major\n",
       ":   'Chemistry'enrolled\n",
       ":   'FALSE'clubs\n",
       ":   'Toastmasters'minor\n",
       ":   'Economics'graduation.year\n",
       ":   '2023'\n",
       "\n"
      ],
      "text/plain": [
       "           name           major        enrolled           clubs           minor \n",
       "        \"James\"     \"Chemistry\"         \"FALSE\"  \"Toastmasters\"     \"Economics\" \n",
       "graduation.year \n",
       "         \"2023\" "
      ]
     },
     "metadata": {},
     "output_type": "display_data"
    }
   ],
   "source": [
    "values <- unlist(james.list)\n",
    "\n",
    "values"
   ]
  },
  {
   "cell_type": "code",
   "execution_count": 36,
   "metadata": {},
   "outputs": [
    {
     "data": {
      "text/html": [
       "'character'"
      ],
      "text/latex": [
       "'character'"
      ],
      "text/markdown": [
       "'character'"
      ],
      "text/plain": [
       "[1] \"character\""
      ]
     },
     "metadata": {},
     "output_type": "display_data"
    }
   ],
   "source": [
    "class(values)"
   ]
  },
  {
   "cell_type": "code",
   "execution_count": 37,
   "metadata": {},
   "outputs": [
    {
     "data": {
      "text/html": [
       "<ol>\n",
       "\t<li>12345</li>\n",
       "\t<li>'Claudia'</li>\n",
       "\t<li>'Computer Science'</li>\n",
       "\t<li>TRUE</li>\n",
       "</ol>\n"
      ],
      "text/latex": [
       "\\begin{enumerate}\n",
       "\\item 12345\n",
       "\\item 'Claudia'\n",
       "\\item 'Computer Science'\n",
       "\\item TRUE\n",
       "\\end{enumerate}\n"
      ],
      "text/markdown": [
       "1. 12345\n",
       "2. 'Claudia'\n",
       "3. 'Computer Science'\n",
       "4. TRUE\n",
       "\n",
       "\n"
      ],
      "text/plain": [
       "[[1]]\n",
       "[1] 12345\n",
       "\n",
       "[[2]]\n",
       "[1] \"Claudia\"\n",
       "\n",
       "[[3]]\n",
       "[1] \"Computer Science\"\n",
       "\n",
       "[[4]]\n",
       "[1] TRUE\n"
      ]
     },
     "metadata": {},
     "output_type": "display_data"
    }
   ],
   "source": [
    "unnamed.claudia.list <- unname(claudia.list)\n",
    "\n",
    "unnamed.claudia.list"
   ]
  },
  {
   "cell_type": "code",
   "execution_count": 38,
   "metadata": {},
   "outputs": [
    {
     "data": {
      "text/html": [
       "<dl>\n",
       "\t<dt>$id</dt>\n",
       "\t\t<dd>12345</dd>\n",
       "\t<dt>$name</dt>\n",
       "\t\t<dd>'Claudia'</dd>\n",
       "\t<dt>$major</dt>\n",
       "\t\t<dd>'Computer Science'</dd>\n",
       "\t<dt>$enrolled</dt>\n",
       "\t\t<dd>TRUE</dd>\n",
       "</dl>\n"
      ],
      "text/latex": [
       "\\begin{description}\n",
       "\\item[\\$id] 12345\n",
       "\\item[\\$name] 'Claudia'\n",
       "\\item[\\$major] 'Computer Science'\n",
       "\\item[\\$enrolled] TRUE\n",
       "\\end{description}\n"
      ],
      "text/markdown": [
       "$id\n",
       ":   12345\n",
       "$name\n",
       ":   'Claudia'\n",
       "$major\n",
       ":   'Computer Science'\n",
       "$enrolled\n",
       ":   TRUE\n",
       "\n",
       "\n"
      ],
      "text/plain": [
       "$id\n",
       "[1] 12345\n",
       "\n",
       "$name\n",
       "[1] \"Claudia\"\n",
       "\n",
       "$major\n",
       "[1] \"Computer Science\"\n",
       "\n",
       "$enrolled\n",
       "[1] TRUE\n"
      ]
     },
     "metadata": {},
     "output_type": "display_data"
    }
   ],
   "source": [
    "claudia.list"
   ]
  },
  {
   "cell_type": "code",
   "execution_count": 39,
   "metadata": {},
   "outputs": [
    {
     "data": {
      "text/html": [
       "<dl>\n",
       "\t<dt>$ids</dt>\n",
       "\t\t<dd><ol>\n",
       "\t<li><ol class=list-inline>\n",
       "\t<li>101</li>\n",
       "\t<li>102</li>\n",
       "\t<li>103</li>\n",
       "\t<li>104</li>\n",
       "\t<li>105</li>\n",
       "\t<li>106</li>\n",
       "\t<li>107</li>\n",
       "</ol>\n",
       "</li>\n",
       "</ol>\n",
       "</dd>\n",
       "\t<dt>$courses</dt>\n",
       "\t\t<dd><ol>\n",
       "\t<li>'R'</li>\n",
       "\t<li>'Python'</li>\n",
       "\t<li>'Java'</li>\n",
       "\t<li>'C++'</li>\n",
       "</ol>\n",
       "</dd>\n",
       "</dl>\n"
      ],
      "text/latex": [
       "\\begin{description}\n",
       "\\item[\\$ids] \\begin{enumerate}\n",
       "\\item \\begin{enumerate*}\n",
       "\\item 101\n",
       "\\item 102\n",
       "\\item 103\n",
       "\\item 104\n",
       "\\item 105\n",
       "\\item 106\n",
       "\\item 107\n",
       "\\end{enumerate*}\n",
       "\n",
       "\\end{enumerate}\n",
       "\n",
       "\\item[\\$courses] \\begin{enumerate}\n",
       "\\item 'R'\n",
       "\\item 'Python'\n",
       "\\item 'Java'\n",
       "\\item 'C++'\n",
       "\\end{enumerate}\n",
       "\n",
       "\\end{description}\n"
      ],
      "text/markdown": [
       "$ids\n",
       ":   1. 1. 101\n",
       "2. 102\n",
       "3. 103\n",
       "4. 104\n",
       "5. 105\n",
       "6. 106\n",
       "7. 107\n",
       "\n",
       "\n",
       "\n",
       "\n",
       "\n",
       "\n",
       "$courses\n",
       ":   1. 'R'\n",
       "2. 'Python'\n",
       "3. 'Java'\n",
       "4. 'C++'\n",
       "\n",
       "\n",
       "\n",
       "\n",
       "\n"
      ],
      "text/plain": [
       "$ids\n",
       "$ids[[1]]\n",
       "[1] 101 102 103 104 105 106 107\n",
       "\n",
       "\n",
       "$courses\n",
       "$courses[[1]]\n",
       "[1] \"R\"\n",
       "\n",
       "$courses[[2]]\n",
       "[1] \"Python\"\n",
       "\n",
       "$courses[[3]]\n",
       "[1] \"Java\"\n",
       "\n",
       "$courses[[4]]\n",
       "[1] \"C++\"\n",
       "\n"
      ]
     },
     "metadata": {},
     "output_type": "display_data"
    }
   ],
   "source": [
    "course.list <- list(\"ids\" = list(101:107), \n",
    "                    \"courses\" = list(\"R\", \"Python\", \"Java\", \"C++\"))\n",
    "\n",
    "course.list"
   ]
  },
  {
   "cell_type": "code",
   "execution_count": 40,
   "metadata": {},
   "outputs": [
    {
     "data": {
      "text/html": [
       "<dl>\n",
       "\t<dt>$ids</dt>\n",
       "\t\t<dd><ol>\n",
       "\t<li><ol class=list-inline>\n",
       "\t<li>101</li>\n",
       "\t<li>102</li>\n",
       "\t<li>103</li>\n",
       "\t<li>104</li>\n",
       "\t<li>105</li>\n",
       "\t<li>106</li>\n",
       "\t<li>107</li>\n",
       "</ol>\n",
       "</li>\n",
       "</ol>\n",
       "</dd>\n",
       "\t<dt>$courses</dt>\n",
       "\t\t<dd><ol>\n",
       "\t<li>'R'</li>\n",
       "\t<li>'Python'</li>\n",
       "\t<li>'Java'</li>\n",
       "\t<li>'C++'</li>\n",
       "</ol>\n",
       "</dd>\n",
       "\t<dt>$available</dt>\n",
       "\t\t<dd><ol>\n",
       "\t<li>TRUE</li>\n",
       "\t<li>TRUE</li>\n",
       "\t<li>FALSE</li>\n",
       "\t<li>FALSE</li>\n",
       "</ol>\n",
       "</dd>\n",
       "</dl>\n"
      ],
      "text/latex": [
       "\\begin{description}\n",
       "\\item[\\$ids] \\begin{enumerate}\n",
       "\\item \\begin{enumerate*}\n",
       "\\item 101\n",
       "\\item 102\n",
       "\\item 103\n",
       "\\item 104\n",
       "\\item 105\n",
       "\\item 106\n",
       "\\item 107\n",
       "\\end{enumerate*}\n",
       "\n",
       "\\end{enumerate}\n",
       "\n",
       "\\item[\\$courses] \\begin{enumerate}\n",
       "\\item 'R'\n",
       "\\item 'Python'\n",
       "\\item 'Java'\n",
       "\\item 'C++'\n",
       "\\end{enumerate}\n",
       "\n",
       "\\item[\\$available] \\begin{enumerate}\n",
       "\\item TRUE\n",
       "\\item TRUE\n",
       "\\item FALSE\n",
       "\\item FALSE\n",
       "\\end{enumerate}\n",
       "\n",
       "\\end{description}\n"
      ],
      "text/markdown": [
       "$ids\n",
       ":   1. 1. 101\n",
       "2. 102\n",
       "3. 103\n",
       "4. 104\n",
       "5. 105\n",
       "6. 106\n",
       "7. 107\n",
       "\n",
       "\n",
       "\n",
       "\n",
       "\n",
       "\n",
       "$courses\n",
       ":   1. 'R'\n",
       "2. 'Python'\n",
       "3. 'Java'\n",
       "4. 'C++'\n",
       "\n",
       "\n",
       "\n",
       "$available\n",
       ":   1. TRUE\n",
       "2. TRUE\n",
       "3. FALSE\n",
       "4. FALSE\n",
       "\n",
       "\n",
       "\n",
       "\n",
       "\n"
      ],
      "text/plain": [
       "$ids\n",
       "$ids[[1]]\n",
       "[1] 101 102 103 104 105 106 107\n",
       "\n",
       "\n",
       "$courses\n",
       "$courses[[1]]\n",
       "[1] \"R\"\n",
       "\n",
       "$courses[[2]]\n",
       "[1] \"Python\"\n",
       "\n",
       "$courses[[3]]\n",
       "[1] \"Java\"\n",
       "\n",
       "$courses[[4]]\n",
       "[1] \"C++\"\n",
       "\n",
       "\n",
       "$available\n",
       "$available[[1]]\n",
       "[1] TRUE\n",
       "\n",
       "$available[[2]]\n",
       "[1] TRUE\n",
       "\n",
       "$available[[3]]\n",
       "[1] FALSE\n",
       "\n",
       "$available[[4]]\n",
       "[1] FALSE\n",
       "\n"
      ]
     },
     "metadata": {},
     "output_type": "display_data"
    }
   ],
   "source": [
    "course.list$available <- list(TRUE, TRUE, FALSE, FALSE)\n",
    "\n",
    "course.list"
   ]
  },
  {
   "cell_type": "code",
   "execution_count": 41,
   "metadata": {},
   "outputs": [
    {
     "data": {
      "text/html": [
       "<ol>\n",
       "\t<li><ol class=list-inline>\n",
       "\t<li>1</li>\n",
       "\t<li>2</li>\n",
       "\t<li>3</li>\n",
       "\t<li>4</li>\n",
       "\t<li>5</li>\n",
       "\t<li>6</li>\n",
       "</ol>\n",
       "</li>\n",
       "</ol>\n"
      ],
      "text/latex": [
       "\\begin{enumerate}\n",
       "\\item \\begin{enumerate*}\n",
       "\\item 1\n",
       "\\item 2\n",
       "\\item 3\n",
       "\\item 4\n",
       "\\item 5\n",
       "\\item 6\n",
       "\\end{enumerate*}\n",
       "\n",
       "\\end{enumerate}\n"
      ],
      "text/markdown": [
       "1. 1. 1\n",
       "2. 2\n",
       "3. 3\n",
       "4. 4\n",
       "5. 5\n",
       "6. 6\n",
       "\n",
       "\n",
       "\n",
       "\n",
       "\n"
      ],
      "text/plain": [
       "[[1]]\n",
       "[1] 1 2 3 4 5 6\n"
      ]
     },
     "metadata": {},
     "output_type": "display_data"
    }
   ],
   "source": [
    "some.list <- list(1:6)\n",
    "\n",
    "some.list"
   ]
  },
  {
   "cell_type": "code",
   "execution_count": 42,
   "metadata": {},
   "outputs": [
    {
     "data": {
      "text/html": [
       "FALSE"
      ],
      "text/latex": [
       "FALSE"
      ],
      "text/markdown": [
       "FALSE"
      ],
      "text/plain": [
       "[1] FALSE"
      ]
     },
     "metadata": {},
     "output_type": "display_data"
    }
   ],
   "source": [
    "is.atomic(some.list)"
   ]
  },
  {
   "cell_type": "code",
   "execution_count": 43,
   "metadata": {},
   "outputs": [
    {
     "data": {
      "text/html": [
       "TRUE"
      ],
      "text/latex": [
       "TRUE"
      ],
      "text/markdown": [
       "TRUE"
      ],
      "text/plain": [
       "[1] TRUE"
      ]
     },
     "metadata": {},
     "output_type": "display_data"
    }
   ],
   "source": [
    "is.recursive(some.list)"
   ]
  },
  {
   "cell_type": "code",
   "execution_count": 44,
   "metadata": {},
   "outputs": [
    {
     "data": {
      "text/html": [
       "<ol class=list-inline>\n",
       "\t<li>1</li>\n",
       "\t<li>2</li>\n",
       "\t<li>3</li>\n",
       "\t<li>4</li>\n",
       "\t<li>5</li>\n",
       "\t<li>6</li>\n",
       "</ol>\n"
      ],
      "text/latex": [
       "\\begin{enumerate*}\n",
       "\\item 1\n",
       "\\item 2\n",
       "\\item 3\n",
       "\\item 4\n",
       "\\item 5\n",
       "\\item 6\n",
       "\\end{enumerate*}\n"
      ],
      "text/markdown": [
       "1. 1\n",
       "2. 2\n",
       "3. 3\n",
       "4. 4\n",
       "5. 5\n",
       "6. 6\n",
       "\n",
       "\n"
      ],
      "text/plain": [
       "[1] 1 2 3 4 5 6"
      ]
     },
     "metadata": {},
     "output_type": "display_data"
    }
   ],
   "source": [
    "some.vector <- 1:6\n",
    "\n",
    "some.vector"
   ]
  },
  {
   "cell_type": "code",
   "execution_count": 45,
   "metadata": {},
   "outputs": [
    {
     "data": {
      "text/html": [
       "TRUE"
      ],
      "text/latex": [
       "TRUE"
      ],
      "text/markdown": [
       "TRUE"
      ],
      "text/plain": [
       "[1] TRUE"
      ]
     },
     "metadata": {},
     "output_type": "display_data"
    }
   ],
   "source": [
    "is.atomic(some.vector)"
   ]
  },
  {
   "cell_type": "code",
   "execution_count": 46,
   "metadata": {},
   "outputs": [
    {
     "data": {
      "text/html": [
       "FALSE"
      ],
      "text/latex": [
       "FALSE"
      ],
      "text/markdown": [
       "FALSE"
      ],
      "text/plain": [
       "[1] FALSE"
      ]
     },
     "metadata": {},
     "output_type": "display_data"
    }
   ],
   "source": [
    "is.recursive(some.vector)"
   ]
  },
  {
   "cell_type": "code",
   "execution_count": null,
   "metadata": {},
   "outputs": [],
   "source": []
  },
  {
   "cell_type": "code",
   "execution_count": null,
   "metadata": {},
   "outputs": [],
   "source": []
  },
  {
   "cell_type": "code",
   "execution_count": null,
   "metadata": {},
   "outputs": [],
   "source": []
  },
  {
   "cell_type": "code",
   "execution_count": null,
   "metadata": {},
   "outputs": [],
   "source": []
  },
  {
   "cell_type": "code",
   "execution_count": null,
   "metadata": {},
   "outputs": [],
   "source": []
  },
  {
   "cell_type": "code",
   "execution_count": null,
   "metadata": {},
   "outputs": [],
   "source": []
  },
  {
   "cell_type": "code",
   "execution_count": null,
   "metadata": {},
   "outputs": [],
   "source": []
  },
  {
   "cell_type": "code",
   "execution_count": null,
   "metadata": {},
   "outputs": [],
   "source": []
  },
  {
   "cell_type": "code",
   "execution_count": null,
   "metadata": {},
   "outputs": [],
   "source": []
  },
  {
   "cell_type": "code",
   "execution_count": null,
   "metadata": {},
   "outputs": [],
   "source": []
  },
  {
   "cell_type": "code",
   "execution_count": null,
   "metadata": {},
   "outputs": [],
   "source": []
  },
  {
   "cell_type": "code",
   "execution_count": null,
   "metadata": {},
   "outputs": [],
   "source": []
  },
  {
   "cell_type": "code",
   "execution_count": null,
   "metadata": {},
   "outputs": [],
   "source": []
  },
  {
   "cell_type": "code",
   "execution_count": null,
   "metadata": {},
   "outputs": [],
   "source": []
  },
  {
   "cell_type": "code",
   "execution_count": null,
   "metadata": {},
   "outputs": [],
   "source": []
  },
  {
   "cell_type": "code",
   "execution_count": null,
   "metadata": {},
   "outputs": [],
   "source": []
  },
  {
   "cell_type": "code",
   "execution_count": null,
   "metadata": {},
   "outputs": [],
   "source": []
  },
  {
   "cell_type": "code",
   "execution_count": null,
   "metadata": {},
   "outputs": [],
   "source": []
  },
  {
   "cell_type": "code",
   "execution_count": null,
   "metadata": {},
   "outputs": [],
   "source": []
  },
  {
   "cell_type": "code",
   "execution_count": null,
   "metadata": {},
   "outputs": [],
   "source": []
  }
 ],
 "metadata": {
  "kernelspec": {
   "display_name": "R",
   "language": "R",
   "name": "ir"
  },
  "language_info": {
   "codemirror_mode": "r",
   "file_extension": ".r",
   "mimetype": "text/x-r-source",
   "name": "R",
   "pygments_lexer": "r",
   "version": "3.6.1"
  }
 },
 "nbformat": 4,
 "nbformat_minor": 4
}
